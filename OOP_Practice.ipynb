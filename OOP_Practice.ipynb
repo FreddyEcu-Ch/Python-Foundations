{
 "cells": [
  {
   "cell_type": "markdown",
   "id": "b12793f1-fe01-46c8-b074-6f002143f6d6",
   "metadata": {},
   "source": [
    "# **OOP in Python**\n",
    "\n",
    "**Instructor:** Freddy Carrión Maldonado."
   ]
  },
  {
   "cell_type": "markdown",
   "id": "1e222668-02d4-4099-9d9b-293f01dd8f18",
   "metadata": {},
   "source": [
    "## **1. Classes and Objects**"
   ]
  },
  {
   "cell_type": "code",
   "execution_count": 58,
   "id": "5faed01b-309e-45b3-be9d-c62ef38f094e",
   "metadata": {},
   "outputs": [
    {
     "data": {
      "text/plain": [
       "<__main__.Employee at 0x28dbf41d420>"
      ]
     },
     "execution_count": 58,
     "metadata": {},
     "output_type": "execute_result"
    }
   ],
   "source": [
    "class Employee:\n",
    "    def __init__(self, name, last_name, salary):\n",
    "        self.name = name\n",
    "        self.last_name = last_name\n",
    "        self.salary = salary\n",
    "        \n",
    "    def get_full_name(self):\n",
    "        return f\"{self.name} {self.last_name}\"\n",
    "    \n",
    "    def raise_salary(self, percentage):\n",
    "        self.salary = self.salary * (100 + percentage) / 100\n",
    "        \n",
    "    def add_bonus(self, amount):\n",
    "        self.salary = self.salary + amount\n",
    "        \n",
    "e1 = Employee(\"Freddy\", \"Carrion\", 1900)\n",
    "e1"
   ]
  },
  {
   "cell_type": "code",
   "execution_count": 59,
   "id": "c35e4119-9d49-4f47-8d57-658c814542ca",
   "metadata": {},
   "outputs": [
    {
     "name": "stdout",
     "output_type": "stream",
     "text": [
      "Freddy Carrion\n"
     ]
    }
   ],
   "source": [
    "print(e1.get_full_name())"
   ]
  },
  {
   "cell_type": "code",
   "execution_count": 60,
   "id": "e3a9a960-8f8d-446e-a4dd-1321b4d09cc6",
   "metadata": {},
   "outputs": [
    {
     "name": "stdout",
     "output_type": "stream",
     "text": [
      " USD 2228.0\n"
     ]
    }
   ],
   "source": [
    "e1.raise_salary(12)\n",
    "\n",
    "e1.add_bonus(100)\n",
    "print(f\" USD {e1.salary}\")"
   ]
  },
  {
   "cell_type": "code",
   "execution_count": 62,
   "id": "7776ab34-15b2-43b9-b082-56f2b92f9d97",
   "metadata": {},
   "outputs": [
    {
     "name": "stdout",
     "output_type": "stream",
     "text": [
      "Headphones, $49.99\n",
      "Monitor speaker, $150.0\n",
      "Soundcard, $78.5\n"
     ]
    }
   ],
   "source": [
    "class Product:\n",
    "    def __init__(self, product_id, name, price):\n",
    "        self.product_id = product_id\n",
    "        self.name = name\n",
    "        self.price = price\n",
    "        \n",
    "    def __str__(self):\n",
    "        return f\"{self.name}, ${self.price}\"\n",
    "\n",
    "    def __repr__(self):\n",
    "        return f\"{self.name} ({self.product_id})\"\n",
    "\n",
    "products = [\n",
    "    Product(1, \"Headphones\", 49.99),\n",
    "    Product(2, \"Monitor speaker\", 150.0),\n",
    "    Product(3, \"Soundcard\", 78.5),\n",
    "]\n",
    "\n",
    "for p in products:\n",
    "    print(p)"
   ]
  },
  {
   "cell_type": "markdown",
   "id": "47c4d938-54c4-465c-b324-1e92793617fd",
   "metadata": {},
   "source": [
    "## **2. Inheritance**\n",
    "\n",
    "In this example, there are two inheritaded classes.\n",
    "\n",
    "- Abstract class."
   ]
  },
  {
   "cell_type": "code",
   "execution_count": 71,
   "id": "d9f1b2db-8def-4f69-b96d-4f31903c4e48",
   "metadata": {},
   "outputs": [
    {
     "name": "stdout",
     "output_type": "stream",
     "text": [
      "Manager Nia, salary $2100\n",
      "Employee Freddy, salary $1900\n",
      "Programmer Luis, salary $1000\n"
     ]
    }
   ],
   "source": [
    "from abc import ABC\n",
    "\n",
    "class Employee(ABC):\n",
    "    def __init__(self, name, salary):\n",
    "        self.name =  name\n",
    "        self.salary = salary\n",
    "        \n",
    "    def get_info(self):\n",
    "        return f\"Employee {self.name}, salary ${self.salary}\"\n",
    "    \n",
    "class Manager(Employee):\n",
    "    def get_info(self):\n",
    "        return f\"Manager {self.name}, salary ${self.salary}\"\n",
    "    \n",
    "class Programmer(Employee):\n",
    "    def get_info(self):\n",
    "        return f\"Programmer {self.name}, salary ${self.salary}\"\n",
    "\n",
    "employess = [Manager(\"Nia\", 2100), Employee(\"Freddy\", 1900),\n",
    "            Programmer(\"Luis\", 1000)]\n",
    "\n",
    "for e in employess:\n",
    "    print(e.get_info())"
   ]
  },
  {
   "cell_type": "markdown",
   "id": "45d26a0f-c611-422c-9046-8f30e8c91de0",
   "metadata": {},
   "source": [
    "## **3. Extending Methods**"
   ]
  },
  {
   "cell_type": "code",
   "execution_count": 87,
   "id": "baef2dc1-044a-422d-81f3-8ac60600619f",
   "metadata": {},
   "outputs": [
    {
     "name": "stdout",
     "output_type": "stream",
     "text": [
      "Rendering circle at x:30, y:40.\n",
      "Rendering rectangle at x:100, y:20.\n"
     ]
    }
   ],
   "source": [
    "class Shape:\n",
    "    def __init__(self, x, y):\n",
    "        self.x = x\n",
    "        self.y = y\n",
    "\n",
    "class Circle(Shape):\n",
    "    def __init__(self, x, y, radius):\n",
    "        super().__init__(x, y)\n",
    "        self.radius = radius\n",
    "\n",
    "    def render(self):\n",
    "        return f\"Rendering circle at x:{self.x}, y:{self.y}.\"\n",
    "\n",
    "class Rectangle(Shape):\n",
    "    def __init__(self, x, y, width, height):\n",
    "        super().__init__(x, y)\n",
    "        self.width = width\n",
    "        self.height = height\n",
    "\n",
    "    def render(self):\n",
    "        return f\"Rendering rectangle at x:{self.x}, y:{self.y}.\"\n",
    "\n",
    "    \n",
    "shapes = [Circle(30, 40, 15), Rectangle(100, 20, 40, 20)]\n",
    "\n",
    "for s in shapes:\n",
    "    print(s.render())"
   ]
  },
  {
   "cell_type": "markdown",
   "id": "af7f7cb3-5589-4335-a4ac-c39209eaae90",
   "metadata": {},
   "source": [
    "## **4. Polimorphism**"
   ]
  },
  {
   "cell_type": "code",
   "execution_count": 89,
   "id": "1017fd67-12a7-46bc-af5b-7c150cb81f19",
   "metadata": {},
   "outputs": [
    {
     "name": "stdout",
     "output_type": "stream",
     "text": [
      "Circle geometry\n",
      "Rectangel geometry\n"
     ]
    }
   ],
   "source": [
    "class Circle:\n",
    "    def render(self):\n",
    "        return \"Circle geometry\"\n",
    "\n",
    "class Rectangle:\n",
    "    def render(self):\n",
    "        return \"Rectangel geometry\"\n",
    "\n",
    "shapes = [Circle(), Rectangle()]\n",
    "\n",
    "for s in shapes:\n",
    "    print(s.render())"
   ]
  },
  {
   "cell_type": "code",
   "execution_count": 95,
   "id": "f577561a-2713-4d7c-b44d-1b90b096bf45",
   "metadata": {},
   "outputs": [
    {
     "name": "stdout",
     "output_type": "stream",
     "text": [
      "CFD\n",
      "===\n",
      "\n",
      "This is the best way of doing simulation of fluids flow by using NS Equations.\n",
      "\n",
      "FURTHERMORE, CFD COULD BE WORK WITH DL.\n"
     ]
    }
   ],
   "source": [
    "class Text:\n",
    "    def __init__(self, text):\n",
    "        self.text = text\n",
    "        \n",
    "class Header(Text):\n",
    "    def format(self):\n",
    "        return f\"{self.text}\\n{'=' * len(self.text)}\"\n",
    "    \n",
    "class Paragraph(Text):\n",
    "    def format(self):\n",
    "        return f\"\\n{self.text}\"\n",
    "    \n",
    "class UpercaseParagraph(Text):\n",
    "    def format(self):\n",
    "        return f\"\\n{self.text.upper()}\"\n",
    "    \n",
    "document = [Header(\"CFD\"),\n",
    "            Paragraph(\"This is the best way of doing simulation of fluids flow by using NS Equations.\"),\n",
    "           UpercaseParagraph(\"Furthermore, CFD could be work with DL.\")]\n",
    "\n",
    "for d in document:\n",
    "    print(d.format())"
   ]
  },
  {
   "cell_type": "markdown",
   "id": "a2b542e2-3328-49cb-988a-934369b4d657",
   "metadata": {},
   "source": [
    "## **5. Encapsulation**\n",
    "\n",
    "Here is everything related to private and public class's members."
   ]
  },
  {
   "cell_type": "code",
   "execution_count": 113,
   "id": "083e9d87-462e-47e4-bb00-789ad4d04446",
   "metadata": {},
   "outputs": [
    {
     "ename": "AttributeError",
     "evalue": "'Employee' object has no attribute '__salary'",
     "output_type": "error",
     "traceback": [
      "\u001b[1;31m---------------------------------------------------------------------------\u001b[0m",
      "\u001b[1;31mAttributeError\u001b[0m                            Traceback (most recent call last)",
      "Cell \u001b[1;32mIn[113], line 10\u001b[0m\n\u001b[0;32m      7\u001b[0m         \u001b[38;5;28;01mreturn\u001b[39;00m \u001b[38;5;124mf\u001b[39m\u001b[38;5;124m\"\u001b[39m\u001b[38;5;132;01m{\u001b[39;00m\u001b[38;5;28mself\u001b[39m\u001b[38;5;241m.\u001b[39m_name\u001b[38;5;132;01m}\u001b[39;00m\u001b[38;5;124m, $\u001b[39m\u001b[38;5;132;01m{\u001b[39;00m\u001b[38;5;28mself\u001b[39m\u001b[38;5;241m.\u001b[39m_salary\u001b[38;5;132;01m}\u001b[39;00m\u001b[38;5;124m\"\u001b[39m\n\u001b[0;32m      9\u001b[0m e \u001b[38;5;241m=\u001b[39m Employee(\u001b[38;5;124m\"\u001b[39m\u001b[38;5;124mTapia\u001b[39m\u001b[38;5;124m\"\u001b[39m, \u001b[38;5;241m1800\u001b[39m)\n\u001b[1;32m---> 10\u001b[0m e\u001b[38;5;241m.\u001b[39m__salary \u001b[38;5;241m+\u001b[39m\u001b[38;5;241m=\u001b[39m \u001b[38;5;241m1000\u001b[39m\n\u001b[0;32m     11\u001b[0m \u001b[38;5;28mprint\u001b[39m(e\u001b[38;5;241m.\u001b[39mget_info())\n",
      "\u001b[1;31mAttributeError\u001b[0m: 'Employee' object has no attribute '__salary'"
     ]
    }
   ],
   "source": [
    "class Employee:\n",
    "    def __init__(self, name, salary):\n",
    "        self.__name = name\n",
    "        self.__salary = salary\n",
    "\n",
    "    def get_info(self):\n",
    "        return f\"{self._name}, ${self._salary}\"\n",
    "\n",
    "e = Employee(\"Tapia\", 1800)\n",
    "e.__salary += 1000\n",
    "print(e.get_info())"
   ]
  },
  {
   "cell_type": "code",
   "execution_count": 116,
   "id": "13f753b6-58ce-4208-8457-e94fde526aa7",
   "metadata": {},
   "outputs": [
    {
     "name": "stdout",
     "output_type": "stream",
     "text": [
      "Freddy Carrion\n",
      "25080.0\n"
     ]
    }
   ],
   "source": [
    "class Employee:\n",
    "    def __init__(self, first_name, last_name, salary):\n",
    "        self._first_name = first_name\n",
    "        self._last_name = last_name\n",
    "        self._salary = salary\n",
    "\n",
    "    def get_full_name(self):\n",
    "        return f\"{self._first_name} {self._last_name}\"\n",
    "    \n",
    "    def raise_salary(self, percentage):\n",
    "        self._salary = self._salary * (100 + percentage) / 100\n",
    "        \n",
    "    def get_year_salary(self):\n",
    "        return self._salary * 12\n",
    "    \n",
    "e = Employee(\"Freddy\", \"Carrion\", 1900)\n",
    "\n",
    "e.raise_salary(10)\n",
    "print(e.get_full_name())\n",
    "print(e.get_year_salary())"
   ]
  },
  {
   "cell_type": "markdown",
   "id": "f490389a-8482-451e-a150-18ff83703325",
   "metadata": {},
   "source": [
    "## **5.1 Properties**"
   ]
  },
  {
   "cell_type": "code",
   "execution_count": 117,
   "id": "3b2d1b73-a0d4-4192-a9a6-7a55b376873d",
   "metadata": {},
   "outputs": [
    {
     "name": "stdout",
     "output_type": "stream",
     "text": [
      "2000\n"
     ]
    }
   ],
   "source": [
    "class Employee:\n",
    "    def __init__(self, name):\n",
    "        self._name = name\n",
    "        self._salary = None\n",
    "\n",
    "    def get_salary(self): # getter\n",
    "        return self._salary\n",
    "\n",
    "    def set_salary(self, value): # setter\n",
    "        self._salary = value\n",
    "\n",
    "e = Employee(\"Vera\")\n",
    "e.set_salary(2000)\n",
    "print(e.get_salary())"
   ]
  },
  {
   "cell_type": "code",
   "execution_count": 205,
   "id": "ff393580-01b0-4819-b613-76b34f3de984",
   "metadata": {},
   "outputs": [
    {
     "name": "stdout",
     "output_type": "stream",
     "text": [
      "Salary: USD 3000\n"
     ]
    }
   ],
   "source": [
    "class Employee:\n",
    "    def __init__(self, name: str):\n",
    "        self._name = name\n",
    "        self._salary = None\n",
    "\n",
    "    @property    \n",
    "    def salary(self) -> float: # getter\n",
    "        return f\"Salary: USD {self._salary}\"\n",
    "\n",
    "    @salary.setter\n",
    "    def salary(self, value: float) -> None: # setter\n",
    "        if value > 5000:\n",
    "            raise ValueError(\"Maximum salary is 5000\")\n",
    "        self._salary = value\n",
    "\n",
    "e = Employee(\"Vera\")\n",
    "e.salary = 3000\n",
    "print(e.salary)"
   ]
  },
  {
   "cell_type": "code",
   "execution_count": 190,
   "id": "99810b94-b313-4293-bb49-1c5411898bfa",
   "metadata": {},
   "outputs": [
    {
     "name": "stdout",
     "output_type": "stream",
     "text": [
      "1600.0 BFPD\n",
      "\n",
      "Well:Auc1\n",
      "Oil Rate:1000 BPD\n"
     ]
    }
   ],
   "source": [
    "class Well:\n",
    "    def __init__(self, well_name: str, oil_rate: float):\n",
    "        self.well_name = well_name\n",
    "        self.oil_rate = oil_rate\n",
    "        self._fluid_rate = None\n",
    "        \n",
    "    @property\n",
    "    def fluid_rate(self) -> str:\n",
    "        return f\"{self._fluid_rate} BFPD\"\n",
    "    \n",
    "    @fluid_rate.setter\n",
    "    def fluid_rate(self, water_cut: float) -> None:\n",
    "        self._fluid_rate = self.oil_rate + (self.oil_rate * water_cut) / 100\n",
    "        \n",
    "    def get_well_info(self) -> str:\n",
    "        return f\"Well:{self.well_name}\\nOil Rate:{self.oil_rate} BPD\"\n",
    "        \n",
    "well = Well(\"Auc1\", 1000)\n",
    "well.fluid_rate = 60\n",
    "print(well.fluid_rate)\n",
    "print()\n",
    "print(well.get_well_info())"
   ]
  },
  {
   "cell_type": "code",
   "execution_count": 148,
   "id": "82dad139-8686-438f-848c-9c3ba99da534",
   "metadata": {},
   "outputs": [
    {
     "name": "stdout",
     "output_type": "stream",
     "text": [
      "Well:Auc2\n",
      "Oil Rate:2000 BPD\n",
      "Well:Tor3\n",
      "Oil Rate:250 BPD\n",
      "<class 'list'>\n",
      "<class '__main__.Well'>\n"
     ]
    }
   ],
   "source": [
    "wells = [Well(\"Auc2\", 2000), Well(\"Tor3\", 250)]\n",
    "\n",
    "for w in wells:\n",
    "    print(w.get_well_info())\n",
    "    \n",
    "print(type(wells))\n",
    "print(type(well))"
   ]
  },
  {
   "cell_type": "code",
   "execution_count": 259,
   "id": "197344cf-405f-477f-bde5-508e3095226d",
   "metadata": {},
   "outputs": [
    {
     "name": "stdout",
     "output_type": "stream",
     "text": [
      "Fluid production is: None BFPD\n",
      "\n",
      "Oil Reservoir:Tena\n",
      "Oiip: 200000 Bbls\n",
      "<class '__main__.Reservoir'>\n"
     ]
    }
   ],
   "source": [
    "class Reservoir:\n",
    "    def __init__(self, name: str, well: str, oiip: float):\n",
    "        self.name = name\n",
    "        self.well = well\n",
    "        self.oiip = oiip\n",
    "        self._fluid_prod = None\n",
    "        \n",
    "    def info_res(self) -> str:\n",
    "        return f\"Oil Reservoir:{self.name}\\nOiip: {self.oiip} Bbls\"\n",
    "    \n",
    "    @property\n",
    "    def fluid_prop(self) -> str: # getter\n",
    "        return f\"Fluid production is: {self._fluid_prod} BFPD\"\n",
    "    \n",
    "    @fluid_prop.setter\n",
    "    def fluid_prop(self, prod: float) -> None:  # setter\n",
    "        if prod > 10000:\n",
    "            raise ValueError(\"Maximum fluid production is 10000 BFPD\") \n",
    "            \n",
    "        self._fluid_prod = prod\n",
    "        \n",
    "res = Reservoir(\"Tena\", \"IS-3\", 200000)\n",
    "\n",
    "res.fluid_prod = 5235\n",
    "print(res.fluid_prop)\n",
    "print()\n",
    "print(res.info_res())\n",
    "\n",
    "print(type(res))"
   ]
  },
  {
   "cell_type": "code",
   "execution_count": 237,
   "id": "063eaef4-6583-4df9-9c69-56ecd8481c8b",
   "metadata": {},
   "outputs": [
    {
     "name": "stdout",
     "output_type": "stream",
     "text": [
      "Temperature: 20oC\n",
      "Temperature: 68.0oF\n",
      "\n",
      "Temperature: 35.0oC\n",
      "Temperature: 95.0oF\n",
      "<class '__main__.Thermostat'>\n"
     ]
    }
   ],
   "source": [
    "class Thermostat:\n",
    "    \"\"\"_temperature stores temperature in degrees celsius \"\"\"\n",
    "    \n",
    "    def __init__(self):\n",
    "        self._temperature = None\n",
    "    \n",
    "    @property\n",
    "    def temperature_celcius(self) -> str:\n",
    "        return f\"Temperature: {self._temperature}oC\"\n",
    "        \n",
    "    @temperature_celcius.setter\n",
    "    def temperature_celcius(self, value: float) -> None:\n",
    "        self._temperature = value\n",
    "        \n",
    "    @property\n",
    "    def temperature_farenheit(self) -> str:\n",
    "        return f\"Temperature: {self._temperature * 9 / 5 + 32}oF\"\n",
    "        \n",
    "    @temperature_farenheit.setter\n",
    "    def temperature_farenheit(self, value: float) -> None:\n",
    "        self._temperature = (value - 32) * 5 / 9\n",
    "        \n",
    "thermostat = Thermostat()\n",
    "\n",
    "thermostat.temperature_celcius = 20\n",
    "print(thermostat.temperature_celcius)\n",
    "print(thermostat.temperature_farenheit)\n",
    "\n",
    "print()\n",
    "\n",
    "thermostat.temperature_farenheit = 95\n",
    "print(thermostat.temperature_celcius)\n",
    "print(thermostat.temperature_farenheit)\n",
    "print(type(thermostat))"
   ]
  },
  {
   "cell_type": "code",
   "execution_count": 260,
   "id": "f24257d3-4fbd-475b-9045-4e9a561a17dc",
   "metadata": {},
   "outputs": [
    {
     "name": "stdout",
     "output_type": "stream",
     "text": [
      "Pressure: 100 Pa\n",
      "Pressure: 0.015 Psi\n",
      "\n",
      "Pressure: 689476.0 Pa\n",
      "Pressure: 100.000 Psi\n",
      "\n",
      "Length Units\n",
      "\n",
      "Length: 10.00 m\n",
      "Length: 32.808 ft\n",
      "\n",
      "Length: 9.14 m\n",
      "Length: 30.000 ft\n",
      "<class '__main__.Thermostat'>\n"
     ]
    }
   ],
   "source": [
    "class ConversionUnits:\n",
    "    def __init__(self):\n",
    "        self._pressure = None\n",
    "        self._length = None\n",
    "        \n",
    "    @property\n",
    "    def pressure_pa(self) -> str:\n",
    "        return f\"Pressure: {self._pressure} Pa\"\n",
    "    \n",
    "    @pressure_pa.setter\n",
    "    def pressure_pa(self, value: float) -> None:\n",
    "        self._pressure = value\n",
    "        \n",
    "    @property\n",
    "    def pressure_psi(self) -> str:\n",
    "        return f\"Pressure: {self._pressure / 6894.76:.3f} Psi\"\n",
    "    \n",
    "    @pressure_psi.setter\n",
    "    def pressure_psi(self, value: float) -> None:\n",
    "        self._pressure = value * 6894.76\n",
    "        \n",
    "    @property\n",
    "    def length_m(self) -> str:\n",
    "        return f\"Length: {self._length:.2f} m\"\n",
    "    \n",
    "    @length_m.setter\n",
    "    def length_m(self, value: float) -> None:\n",
    "        self._length = value\n",
    "        \n",
    "    @property\n",
    "    def length_ft(self):\n",
    "        return f\"Length: {self._length / 0.3048:.3f} ft\"\n",
    "    \n",
    "    @length_ft.setter\n",
    "    def length_ft(self, value: float) -> None:\n",
    "        self._length = value * 0.3048\n",
    "        \n",
    "        \n",
    "pressure = ConversionUnits()\n",
    "\n",
    "pressure.pressure_pa = 100\n",
    "print(pressure.pressure_pa)\n",
    "print(pressure.pressure_psi)\n",
    "\n",
    "print()\n",
    "\n",
    "pressure.pressure_psi = 100\n",
    "print(pressure.pressure_pa)\n",
    "print(pressure.pressure_psi)\n",
    "\n",
    "print()\n",
    "print(\"Length Units\")\n",
    "print() \n",
    "\n",
    "length = ConversionUnits()\n",
    "\n",
    "length.length_m = 10\n",
    "print(length.length_m)\n",
    "print(length.length_ft)\n",
    "\n",
    "print()\n",
    "\n",
    "length.length_ft = 30\n",
    "print(length.length_m)\n",
    "print(length.length_ft)\n",
    "print(type(thermostat))"
   ]
  },
  {
   "cell_type": "code",
   "execution_count": null,
   "id": "3b12bcc6-9a09-4b38-8bd9-ff44398ae360",
   "metadata": {},
   "outputs": [],
   "source": []
  },
  {
   "cell_type": "markdown",
   "id": "32148913-8dd4-4cc6-b3b8-b94497ba0a3b",
   "metadata": {},
   "source": [
    "## **6. Classes in Python**"
   ]
  },
  {
   "cell_type": "code",
   "execution_count": null,
   "id": "f97cab1c-052b-42a4-ac13-8f9ce871afa1",
   "metadata": {},
   "outputs": [],
   "source": []
  }
 ],
 "metadata": {
  "kernelspec": {
   "display_name": "Python 3 (ipykernel)",
   "language": "python",
   "name": "python3"
  },
  "language_info": {
   "codemirror_mode": {
    "name": "ipython",
    "version": 3
   },
   "file_extension": ".py",
   "mimetype": "text/x-python",
   "name": "python",
   "nbconvert_exporter": "python",
   "pygments_lexer": "ipython3",
   "version": "3.10.12"
  }
 },
 "nbformat": 4,
 "nbformat_minor": 5
}
