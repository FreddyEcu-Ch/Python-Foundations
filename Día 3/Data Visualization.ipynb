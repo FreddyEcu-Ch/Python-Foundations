{
 "cells": [
  {
   "cell_type": "markdown",
   "metadata": {
    "cell_id": "9945cf9469494ea7a5d9b2e5e633d97b",
    "deepnote_cell_type": "markdown"
   },
   "source": [
    "# **Day 3 - Plots**"
   ]
  },
  {
   "cell_type": "markdown",
   "metadata": {
    "cell_id": "9d88f3dfa1d3426d9875e9a36d5de9e2",
    "deepnote_cell_type": "markdown"
   },
   "source": [
    "## Contents\n",
    "\n",
    "- **Part 1 - Plots with Matplotlib (60 min)**\n",
    "    - 1.1. Matplotlib Introduction\n",
    "    - 1.2. Matplotlib Plotting\n",
    "    - 1.3. Matplotlib Object Hierarchy\n",
    "    - 1.4. Matplotlib Subplot\n",
    "    - 1.5. Plots Examples\n",
    "\n",
    "- **Part 2 - Plots with Seaborn (45 min)** \n",
    "    - 2.1. Seaborn Introduction\n",
    "    - 2.2. Styling Plots\n",
    "    - 2.3. Multiple Plots\n",
    "    - 2.4. Plots Examples"
   ]
  },
  {
   "cell_type": "markdown",
   "metadata": {
    "cell_id": "4fdafa6a3b76474b9ba8bcc7ffbc45e0",
    "deepnote_cell_type": "markdown"
   },
   "source": [
    "# Import Python Libraries\n",
    "\n",
    "**NumPy:** (https://numpy.org/)\n",
    "- introduces objects for multidimensional arrays and matrices, as well as functions that allow to easily perform advanced mathematical and statistical operations on those objects.\n",
    "- Provides vectorization of mathematical operations on arrays and matrices which significantly improves the performance\n",
    "- many other python libraries are built on NumPy.\n",
    "\n",
    "**Pandas:** (https://pandas.pydata.org/)\n",
    "- Adds data structures and tools designed to work with table-like data.\n",
    "- Provides tools for data manipulation: reshaping, merging, sorting, slicing, aggregation etc.\n",
    "- Allows handling missing data.\n",
    "\n",
    "**Matplotlib:** (https://matplotlib.org/)\n",
    "- Matplotlib is a low level graph plotting library in python that serves as a visualization utility.\n",
    "- Matplotlib is open source and we can use it freely.\n",
    "- It was mostly written in python, a few segments are written in C, Objective-C and Javascript for Platform compatibility.\n",
    "\n",
    "**Seaborn:** (https://seaborn.pydata.org/)\n",
    "- Seaborn is a Python data visualization library based on matplotlib.\n",
    "- It provides a high-level interface for drawing attractive and informative statistical graphics.\n",
    "\n",
    "**Plotly:** (https://plotly.com/)\n",
    "- The plotly Python library is an interactive, open-source plotting library that supports over 40 unique chart types covering a wide range of statistical, financial, geographic, scientific, and 3-dimensional use-cases.\n",
    "- Built on top of the Plotly JavaScript library (plotly.js), plotly enables Python users to create beautiful interactive web-based visualizations that can be displayed in Jupyter notebooks, saved to standalone HTML files, or served as part of pure Python-built web applications using Dash. "
   ]
  },
  {
   "cell_type": "code",
   "execution_count": null,
   "metadata": {
    "cell_id": "02ac84fcac4446ddaca061cf2634bf9c",
    "deepnote_cell_type": "code",
    "deepnote_to_be_reexecuted": false,
    "execution_millis": 1387,
    "execution_start": 1681861450904,
    "source_hash": "23a5651e"
   },
   "outputs": [],
   "source": [
    "import numpy as np\n",
    "import pandas as pd\n",
    "import matplotlib.pyplot as plt\n",
    "from matplotlib.ticker import (MultipleLocator, AutoMinorLocator)\n",
    "import seaborn as sns\n",
    "import plotly.express as px"
   ]
  },
  {
   "cell_type": "markdown",
   "metadata": {
    "cell_id": "5e34cda053b949518f3414cbd19e3058",
    "deepnote_cell_type": "markdown"
   },
   "source": [
    "## 1.1 Matplotlib Introduction\n",
    "\n",
    "Most of the Matplotlib utilities lies under the **pyplot submodule**, and are usually imported under the **plt** alias.\n",
    "\n",
    "![img1](Recursos/Matplotlib_Anatomy.png)\n",
    "\n",
    "*Figure 1. Matplotlib Anatomy*"
   ]
  },
  {
   "cell_type": "markdown",
   "metadata": {
    "cell_id": "f1a7119307d643508767763e02e363c0",
    "deepnote_cell_type": "markdown"
   },
   "source": [
    "## 1.2. Matplotlib Plotting\n",
    "\n",
    "The **plot() function** is used to draw points (markers) in a diagram. By default, the plot() function draws a line from point to point.\n",
    "\n",
    "- The function takes parameters for specifying points in the diagram.\n",
    "\n",
    "- Parameter 1 is an array containing the points on the x-axis.\n",
    "\n",
    "- Parameter 2 is an array containing the points on the y-axis.\n",
    "\n",
    "- If we need to plot a line from (1, 3) to (8, 10), we have to pass two arrays [1, 8] and [3, 10] to the plot function.\n"
   ]
  },
  {
   "cell_type": "code",
   "execution_count": null,
   "metadata": {
    "cell_id": "21585787f536417ea6bb70a0111c2536",
    "deepnote_cell_type": "code",
    "deepnote_to_be_reexecuted": false,
    "execution_millis": 309,
    "execution_start": 1681861452296,
    "source_hash": "914eca51"
   },
   "outputs": [],
   "source": [
    "# Draw a line in a diagram from position (1, 3) to position (8, 10)\n",
    "\n",
    "x = np.array([1, 8])\n",
    "y = np.array([3, 10])\n",
    "\n",
    "plt.plot(x, y)\n",
    "plt.show()"
   ]
  },
  {
   "cell_type": "code",
   "execution_count": null,
   "metadata": {
    "cell_id": "2a2a5858ad124eb89156ae4995ba1ad9",
    "deepnote_cell_type": "code",
    "deepnote_to_be_reexecuted": false,
    "execution_millis": 227,
    "execution_start": 1681861452618,
    "source_hash": "78dfd871"
   },
   "outputs": [],
   "source": [
    "# Add labels, markers, color, and style and title\n",
    "\n",
    "x = np.array([1, 8])\n",
    "y = np.array([3, 10])\n",
    "\n",
    "plt.plot(x, y, marker=\"o\", ms=5, c='g', ls=\"-.\")\n",
    "plt.title(\"First plot\")\n",
    "plt.xlabel(\"Position x\")\n",
    "plt.ylabel(\"Position y\")\n",
    "plt.show()"
   ]
  },
  {
   "cell_type": "code",
   "execution_count": null,
   "metadata": {
    "cell_id": "f85f091aadfe4bfd80035ea23f320779",
    "deepnote_cell_type": "code",
    "deepnote_to_be_reexecuted": false,
    "execution_millis": 269,
    "execution_start": 1681861452927,
    "source_hash": "77e0cbd9"
   },
   "outputs": [],
   "source": [
    "# Set font properties for title and labels\n",
    "\n",
    "x = np.array([1, 8])\n",
    "y = np.array([3, 10])\n",
    "\n",
    "font1 = {'family':'serif','color':'blue','size':20}\n",
    "font2 = {'family':'serif','color':'darkred','size':15}\n",
    "\n",
    "plt.plot(x, y, marker=\"o\", ms=5, c='g', ls=\"-.\")\n",
    "plt.title(\"First plot\", fontdict = font1)\n",
    "plt.xlabel(\"Position x\", fontdict = font2)\n",
    "plt.ylabel(\"Position y\", fontdict = font2)\n",
    "plt.show()"
   ]
  },
  {
   "cell_type": "code",
   "execution_count": null,
   "metadata": {
    "cell_id": "7af677c5ae6c4c9fb8f4dd629234c304",
    "deepnote_cell_type": "code",
    "deepnote_to_be_reexecuted": false,
    "execution_millis": 141,
    "execution_start": 1681861453172,
    "source_hash": "b88eccae"
   },
   "outputs": [],
   "source": [
    "# Add gridlines\n",
    "\n",
    "plt.plot(x, y, marker=\"o\", ms=5, c='g', ls=\"-.\")\n",
    "plt.title(\"First plot\", fontdict = font1)\n",
    "plt.xlabel(\"Position x\", fontdict = font2)\n",
    "plt.ylabel(\"Position y\", fontdict = font2)\n",
    "plt.grid()\n",
    "plt.show()"
   ]
  },
  {
   "cell_type": "markdown",
   "metadata": {
    "cell_id": "d2ac689892994f168164ce554d9bd742",
    "deepnote_cell_type": "markdown"
   },
   "source": [
    "## 1.3. Matplotlib Object Hierarchy\n",
    "\n",
    "A matplotlib object is a tree-like structure of matplotlib objects which build a \"hierarchy\". The top of the tree-like structure of matplotlib objects is the figure object. A figure can be seen as the container which contains one or more plots. The plots are called axes in matplotlib jargon. Axes is the plural of the word \"axis\", which gives us a misleading idea. We can think about \"axes\" as a synonym for the word \"plot\". The following diagram shows a figure with one axes:\n",
    "\n",
    "---\n",
    "![img3](Recursos/matplotlib_hierarchy.png)\n",
    "*Figure 2. Matplotlib object hierarchy*"
   ]
  },
  {
   "cell_type": "code",
   "execution_count": null,
   "metadata": {
    "cell_id": "ca8346537b9f40978d6c05d79b49ce26",
    "deepnote_cell_type": "code",
    "deepnote_to_be_reexecuted": false,
    "execution_millis": 310,
    "execution_start": 1681861453371,
    "source_hash": "8f751199"
   },
   "outputs": [],
   "source": [
    "# Generate Figure and Axes \n",
    "\n",
    "# Insert data\n",
    "days = np.arange(1, 9)\n",
    "celsius_min = np.array([19.6, 24.1, 26.7, 28.3, 27.5, 30.5, 32.8, 33.1])\n",
    "celsius_max = np.array([24.8, 28.9, 31.3, 33.0, 34.9, 35.6, 38.4, 39.2])\n",
    "\n",
    "# Define objecs\n",
    "fig, ax = plt.subplots()\n",
    "\n",
    "# Make plots\n",
    "ax.plot(days, celsius_min)\n",
    "ax.plot(days, celsius_min, \"oy\")\n",
    "ax.plot(days, celsius_max)\n",
    "ax.plot(days, celsius_max, \"or\")\n",
    "\n",
    "# Set labels and title\n",
    "ax.set(xlabel='Day',\n",
    "       ylabel='Temperature in Celsius',\n",
    "       title='Temperature Graph')\n",
    "\n",
    "# Fill area\n",
    "ax.fill_between(days, celsius_min, celsius_max, color='r', alpha=.1)\n",
    "\n",
    "plt.show()"
   ]
  },
  {
   "cell_type": "markdown",
   "metadata": {
    "cell_id": "8ade1dc733f94e3ca1757300777f5f9c",
    "deepnote_cell_type": "markdown"
   },
   "source": [
    "## 1.4. Matplotlib Subplot\n",
    "\n",
    "With the **subplots()** function you can draw multiple plots in one figure:"
   ]
  },
  {
   "cell_type": "code",
   "execution_count": null,
   "metadata": {
    "cell_id": "71b533f1ada24d77b66586d5e5df2b4d",
    "deepnote_cell_type": "code",
    "deepnote_to_be_reexecuted": false,
    "execution_millis": 244,
    "execution_start": 1681861453670,
    "source_hash": "ff39b62a"
   },
   "outputs": [],
   "source": [
    "# Draw two plots\n",
    "\n",
    "#plot 1:\n",
    "x = np.array([0, 1, 2, 3])\n",
    "y = np.array([3, 8, 1, 10])\n",
    "\n",
    "fig, ax = plt.subplots(1, 2, figsize=(15, 6))\n",
    "ax[0].plot(x,y)\n",
    "ax[0].set_title(\"Plot 1\")\n",
    "\n",
    "#plot 2:\n",
    "x = np.array([0, 1, 2, 3])\n",
    "y = np.array([10, 20, 30, 40])\n",
    "\n",
    "ax[1].plot(x,y)\n",
    "ax[1].set_title(\"Plot 2\")\n",
    "\n",
    "plt.suptitle(\"Plots\")\n",
    "plt.show()"
   ]
  },
  {
   "cell_type": "code",
   "execution_count": null,
   "metadata": {
    "cell_id": "f5ec4f256c2b44ac90db50616c1aade9",
    "deepnote_cell_type": "code",
    "deepnote_to_be_reexecuted": false,
    "execution_millis": 513,
    "execution_start": 1681861453918,
    "source_hash": "b7013ef6"
   },
   "outputs": [],
   "source": [
    "# Draw 6 plots using a for loop\n",
    "\n",
    "rows, cols = 2, 3\n",
    "fig, ax = plt.subplots(rows, cols,\n",
    "                       sharex='col', \n",
    "                       sharey='row')\n",
    "\n",
    "for row in range(rows):\n",
    "    for col in range(cols):\n",
    "        ax[row, col].text(0.5, 0.5, \n",
    "                          str((row, col)),\n",
    "                          color=\"green\",\n",
    "                          fontsize=18, \n",
    "                          ha='center')\n",
    "\n",
    "plt.show()"
   ]
  },
  {
   "cell_type": "markdown",
   "metadata": {
    "cell_id": "9ccd33838e834486ba2ecfc6a28a485f",
    "deepnote_cell_type": "markdown"
   },
   "source": [
    "## 1.5. Main Plots"
   ]
  },
  {
   "cell_type": "markdown",
   "metadata": {
    "cell_id": "406a54a984ff4385a6d3b060e25e4db4",
    "deepnote_cell_type": "markdown"
   },
   "source": [
    "### 1.5.1. Scatter Plots\n",
    "\n",
    "With Pyplot, you can use the **scatter()** function to draw a scatter plot."
   ]
  },
  {
   "cell_type": "code",
   "execution_count": null,
   "metadata": {
    "cell_id": "23a3685dd6934af1a5e24714ea99f2e6",
    "deepnote_cell_type": "code",
    "deepnote_to_be_reexecuted": false,
    "execution_millis": 98,
    "execution_start": 1681861454435,
    "source_hash": "17f06277"
   },
   "outputs": [],
   "source": [
    "# Import CO2 emissions dataset\n",
    "\n",
    "df_emi = pd.read_csv(\"Datos/CO2_Emi.csv\")\n",
    "df_emi = df_emi.loc[df_emi[\"Year\"] > 1900]\n",
    "df_emi.head()"
   ]
  },
  {
   "cell_type": "code",
   "execution_count": null,
   "metadata": {
    "cell_id": "2f491f0401d84d08a6c0b99c25637881",
    "deepnote_cell_type": "code",
    "deepnote_to_be_reexecuted": false,
    "execution_millis": 296,
    "execution_start": 1681861454537,
    "source_hash": "dca5a8c8"
   },
   "outputs": [],
   "source": [
    "# plot a scatter plot\n",
    "\n",
    "fig, ax =  plt.subplots()\n",
    "ax.scatter(df_emi[\"Year\"], df_emi[\"Coal\"], c=\"r\", alpha=0.25)\n",
    "\n",
    "# Set labels\n",
    "ax.set_xlabel(\"Year\")\n",
    "ax.set_ylabel(\"CO2 Emissions from Coal (Mt)\")\n",
    "plt.show()"
   ]
  },
  {
   "cell_type": "code",
   "execution_count": null,
   "metadata": {
    "cell_id": "e1f4d4e01c414d6cbfbc892ceb8e1641",
    "deepnote_cell_type": "code",
    "deepnote_to_be_reexecuted": false,
    "execution_millis": 21,
    "execution_start": 1681861454834,
    "source_hash": "f6bdb9c"
   },
   "outputs": [],
   "source": [
    "# Group data by year\n",
    "\n",
    "df_emi1 = df_emi.groupby([\"Year\"])[[\"Oil\", \"Gas\", \"Coal\"]].mean().reset_index()\n",
    "df_emi1"
   ]
  },
  {
   "cell_type": "code",
   "execution_count": null,
   "metadata": {
    "cell_id": "d5ed39d6eaa5431cad94b9b7e50002a2",
    "deepnote_cell_type": "code",
    "deepnote_to_be_reexecuted": false,
    "execution_millis": 343,
    "execution_start": 1681861454903,
    "source_hash": "ee7f33a8"
   },
   "outputs": [],
   "source": [
    "# plot a scatter plot with data grouped by year\n",
    "\n",
    "fig, ax =  plt.subplots()\n",
    "ax.scatter(df_emi1[\"Year\"], df_emi1[\"Coal\"], c=\"r\", alpha=0.25)\n",
    "\n",
    "# Set labels\n",
    "ax.set_xlabel(\"Year\")\n",
    "ax.set_ylabel(\"CO2 Emissions from Coal (Mt)\")\n",
    "plt.show()"
   ]
  },
  {
   "cell_type": "markdown",
   "metadata": {
    "cell_id": "acc0ef9db66e4b82b06bf842679c4a4b",
    "deepnote_cell_type": "markdown"
   },
   "source": [
    "### 1.5.2. Line Plots"
   ]
  },
  {
   "cell_type": "code",
   "execution_count": null,
   "metadata": {
    "cell_id": "14beb613077f47838e65eaeed010c9dd",
    "deepnote_cell_type": "code",
    "deepnote_to_be_reexecuted": false,
    "execution_millis": 197,
    "execution_start": 1681861455183,
    "source_hash": "50d72ba2"
   },
   "outputs": [],
   "source": [
    "# plot a Line plot\n",
    "\n",
    "fig, ax =  plt.subplots()\n",
    "ax.plot(df_emi1[\"Year\"], df_emi1[\"Coal\"], c=\"crimson\", alpha=0.5)\n",
    "\n",
    "# Set labels\n",
    "ax.set_xlabel(\"Year\")\n",
    "ax.set_ylabel(\"CO2 Emissions from Coal (Mt)\")\n",
    "\n",
    "# Add a vertical line in 1950\n",
    "ax.axvline(x=1950, c=\"k\", ls=\"--\")\n",
    "\n",
    "# Fill with different colors around the year 1950\n",
    "ax.fill_between(df_emi1[\"Year\"][df_emi1[\"Year\"]<=1950],\n",
    "                 df_emi1[\"Coal\"][df_emi1[\"Year\"]<=1950], 0, alpha=0.5, color=\"orange\")\n",
    "ax.fill_between(df_emi1[\"Year\"][df_emi1[\"Year\"]>=1950],\n",
    "                 df_emi1[\"Coal\"][df_emi1[\"Year\"]>=1950], 0, alpha=0.5, color=\"red\")\n",
    "\n",
    "# Add text around 1950\n",
    "ax.text(1902, 40, \"First industrial revolution\", style=\"italic\")\n",
    "ax.text(1960, 40, \"Second industrial revolution\", weight=\"bold\")\n",
    "\n",
    "plt.show()"
   ]
  },
  {
   "cell_type": "code",
   "execution_count": null,
   "metadata": {
    "cell_id": "41105e7b52cb4de3b5dfee8a8f91f702",
    "deepnote_cell_type": "code",
    "deepnote_to_be_reexecuted": false,
    "execution_millis": 244,
    "execution_start": 1681861455400,
    "source_hash": "2c764684"
   },
   "outputs": [],
   "source": [
    "# PLot multiple line plots from various industries\n",
    "\n",
    "fig, ax =  plt.subplots()\n",
    "\n",
    "# Set line plots with colors and labels\n",
    "ax.plot(df_emi1[\"Year\"], df_emi1[\"Coal\"], c=\"crimson\", label=\"Coal\")\n",
    "ax.plot(df_emi1[\"Year\"], df_emi1[\"Oil\"], c=\"g\", label=\"Oil\")\n",
    "ax.plot(df_emi1[\"Year\"], df_emi1[\"Gas\"], c=\"orange\", label=\"Gas\")\n",
    "\n",
    "# Set labels\n",
    "ax.set_xlabel(\"Year\")\n",
    "ax.set_ylabel(\"CO2 Emissions from Coal (Mt)\")\n",
    "\n",
    "# Set legend\n",
    "ax.legend(loc=\"upper center\")\n",
    "\n",
    "plt.show()"
   ]
  },
  {
   "cell_type": "code",
   "execution_count": null,
   "metadata": {
    "cell_id": "428a0971e82f49fd8671efd089e4f5db",
    "deepnote_cell_type": "code",
    "deepnote_to_be_reexecuted": false,
    "execution_millis": 343,
    "execution_start": 1681861455648,
    "source_hash": "ba2c7396"
   },
   "outputs": [],
   "source": [
    "# Group data by countries from South America\n",
    "\n",
    "# List of countries\n",
    "South_america = [\"Argentina\", \"Bolivia\", \"Brazil\", \"Chile\", \"Colombia\", \"Ecuador\",\n",
    "                \"Paraguay\", \"Peru\", \"Uruguay\", \"Venezuela\"]\n",
    "\n",
    "df_emi2 = df_emi.groupby(\"Country\")[[\"Oil\", \"Gas\", \"Coal\"]].mean().reset_index()\n",
    "df_emi2 = df_emi2.loc[df_emi2[\"Country\"].isin(South_america)]\n",
    "display(df_emi2.head())\n",
    "\n",
    "# Plot lines plots with data gropued by countries from South America\n",
    "fig, ax =  plt.subplots()\n",
    "\n",
    "ax.plot(df_emi2[\"Country\"], df_emi2[\"Coal\"], c=\"crimson\", label=\"Coal\", marker=\"o\")\n",
    "ax.plot(df_emi2[\"Country\"], df_emi2[\"Oil\"], c=\"g\", label=\"Oil\", marker=\"^\")\n",
    "ax.plot(df_emi2[\"Country\"], df_emi2[\"Gas\"], c=\"orange\", label=\"Gas\", marker=\"*\")\n",
    "\n",
    "# Set labels names\n",
    "ax.set_xlabel(\"\")\n",
    "ax.set_ylabel(\"CO2 Emissions from Coal (Mt)\")\n",
    "\n",
    "# Rotate xticks\n",
    "#ax.set_xticklabels([\"Argentina\", \"Ecuador\", \"Chile\"], rotation=45)\n",
    "ax.tick_params(axis=\"x\", rotation=45)\n",
    "\n",
    "# Add legends\n",
    "ax.legend(loc=\"upper right\")\n",
    "\n",
    "# Hide two spines\n",
    "ax.spines[[\"top\", \"right\"]].set_visible(False)\n",
    "\n",
    "# Set minor ticks to 5\n",
    "ax.yaxis.set_minor_locator(AutoMinorLocator(5))\n",
    "\n",
    "# Write an annotation\n",
    "ax.annotate(\"Max CO2 Emissions\", xy=(2, df_emi2[\"Oil\"].max()),\n",
    "                                 xytext=(0.3, df_emi2[\"Oil\"].max() + 10),\n",
    "                                  arrowprops=dict(facecolor='black',\n",
    "                                   shrink=0.05))\n",
    "plt.show()"
   ]
  },
  {
   "cell_type": "markdown",
   "metadata": {
    "cell_id": "f6df96538a884035bbec88e0502e8ac4",
    "deepnote_cell_type": "markdown"
   },
   "source": [
    "### 1.5.3. Bars Plots\n",
    "\n",
    "With Pyplot, you can use the **bar()** function to draw bar graphs:"
   ]
  },
  {
   "cell_type": "code",
   "execution_count": null,
   "metadata": {
    "cell_id": "fd72d5d6a78142da8a882e77d9847111",
    "deepnote_cell_type": "code",
    "deepnote_to_be_reexecuted": false,
    "execution_millis": 427,
    "execution_start": 1681861455994,
    "source_hash": "b545a6a5"
   },
   "outputs": [],
   "source": [
    "# Plot a bar plot with data grouped by Countries from South America\n",
    "\n",
    "fig, ax = plt.subplots()\n",
    "\n",
    "ax.bar(df_emi2[\"Country\"], df_emi2[\"Oil\"], color=\"g\", label=\"Oil\")\n",
    "ax.bar(df_emi2[\"Country\"], df_emi2[\"Gas\"], color=\"orange\", label=\"Gas\")\n",
    "ax.bar(df_emi2[\"Country\"], df_emi2[\"Coal\"], color=\"crimson\", label=\"Coal\")\n",
    "\n",
    "# Set labels\n",
    "ax.set_ylabel(\"CO2 Emissions (Mt)\")\n",
    "\n",
    "# Set Legends\n",
    "ax.legend(loc=\"upper right\")\n",
    "\n",
    "# Set ticks\n",
    "ax.tick_params(axis=\"x\", rotation=45)\n",
    "\n",
    "# Set minor ticks to 5\n",
    "ax.yaxis.set_minor_locator(AutoMinorLocator(5))\n",
    "\n",
    "plt.show()"
   ]
  },
  {
   "cell_type": "markdown",
   "metadata": {
    "cell_id": "21cf0456e2384d18b8d8e3f4355084aa",
    "deepnote_cell_type": "markdown"
   },
   "source": [
    "### 1.5.4. Histograms\n",
    "\n",
    "In Matplotlib, we use the **hist()** function to create histograms. The hist() function will use an array of numbers to create a histogram, the array is sent into the function as an argument."
   ]
  },
  {
   "cell_type": "code",
   "execution_count": null,
   "metadata": {
    "cell_id": "6a24087285ae4904b417f30651a53b2e",
    "deepnote_cell_type": "code",
    "deepnote_to_be_reexecuted": false,
    "execution_millis": 200,
    "execution_start": 1681861456432,
    "source_hash": "d2690d5d"
   },
   "outputs": [],
   "source": [
    "# Creat and histogram to see the distribution of CO2  emissions of any industry\n",
    "\n",
    "fig, ax = plt.subplots()\n",
    "\n",
    "ax.hist(df_emi1[\"Oil\"], bins=10, color=\"g\")\n",
    "\n",
    "# Set labels\n",
    "ax.set_xlabel(\"CO2 Emissions from Oil industry (Mt)\")\n",
    "\n",
    "\n",
    "plt.show()"
   ]
  },
  {
   "cell_type": "markdown",
   "metadata": {
    "cell_id": "06d0de4a0d6e4874a77dadfdd3cc963c",
    "deepnote_cell_type": "markdown"
   },
   "source": [
    "# Test Part 1"
   ]
  },
  {
   "cell_type": "markdown",
   "metadata": {
    "cell_id": "c9997791c19349a783c675da29388eff",
    "deepnote_cell_type": "markdown"
   },
   "source": [
    "# Part 2. Plots with Seaborn"
   ]
  },
  {
   "cell_type": "markdown",
   "metadata": {
    "cell_id": "b81afb3a7790475cb01a60bd113d7ba6",
    "deepnote_cell_type": "markdown"
   },
   "source": [
    "## 2.1. Seaborn Introduction\n",
    "\n",
    "**Seaborn** is a library mostly used for statistical plotting in Python. It is built on top of Matplotlib and provides beautiful default styles and color palettes to make statistical plots more attractive."
   ]
  },
  {
   "cell_type": "markdown",
   "metadata": {
    "cell_id": "a2cc0e17be8d4c8ab9fda5daa233f798",
    "deepnote_cell_type": "markdown"
   },
   "source": [
    "## 2.2. Seaborn Plotting"
   ]
  },
  {
   "cell_type": "code",
   "execution_count": null,
   "metadata": {
    "cell_id": "339b6120f59f4a14a276f0f966375fa5",
    "deepnote_cell_type": "code",
    "deepnote_to_be_reexecuted": false,
    "execution_millis": 872,
    "execution_start": 1681861456632,
    "source_hash": "e07bd5cb"
   },
   "outputs": [],
   "source": [
    "# make a seaborn plot\n",
    "\n",
    "# loading dataset \n",
    "data = sns.load_dataset(\"iris\") \n",
    "  \n",
    "# draw lineplot \n",
    "sns.lineplot(x=\"sepal_length\", y=\"sepal_width\", data=data)"
   ]
  },
  {
   "cell_type": "code",
   "execution_count": null,
   "metadata": {
    "cell_id": "89283f8f8d7f41ed878c097f6a6d927c",
    "deepnote_cell_type": "code",
    "deepnote_to_be_reexecuted": false,
    "execution_millis": 1195,
    "execution_start": 1681861457644,
    "source_hash": "e8196168"
   },
   "outputs": [],
   "source": [
    "# Using seaborn with matplotlib\n",
    "\n",
    "# loading dataset \n",
    "data = sns.load_dataset(\"iris\") \n",
    "  \n",
    "# draw lineplot \n",
    "sns.lineplot(x=\"sepal_length\", y=\"sepal_width\", data=data) \n",
    "  \n",
    "# setting the title using Matplotlib\n",
    "plt.title('Title using Matplotlib Function')\n",
    "  \n",
    "plt.show()"
   ]
  },
  {
   "cell_type": "markdown",
   "metadata": {
    "cell_id": "a9756ec315334e83b7a037bfcdc8033d",
    "deepnote_cell_type": "markdown"
   },
   "source": [
    "**set_style()** method is used to set the aesthetic of the plot. It means it affects things like the color of the axes, whether the grid is active or not, or other aesthetic elements. There are five themes available in Seaborn.\n",
    "\n",
    "- darkgrid\n",
    "- whitegrid\n",
    "- dark\n",
    "- white\n",
    "- ticks"
   ]
  },
  {
   "cell_type": "code",
   "execution_count": null,
   "metadata": {
    "cell_id": "89f280533a5f4250b01aa519911257a3",
    "deepnote_cell_type": "code",
    "deepnote_to_be_reexecuted": false,
    "execution_millis": 214,
    "execution_start": 1681861458838,
    "source_hash": "ddc9913c"
   },
   "outputs": [],
   "source": [
    "# loading dataset \n",
    "data = sns.load_dataset(\"iris\") \n",
    "  \n",
    "# draw lineplot \n",
    "sns.lineplot(x=\"sepal_length\", y=\"sepal_width\", data=data) \n",
    "  \n",
    "# changing the theme to dark\n",
    "#sns.set_style(\"darkgrid\")\n",
    "plt.show()"
   ]
  },
  {
   "cell_type": "markdown",
   "metadata": {
    "cell_id": "a24d67725d6a4d14b0a3d8409fafa75b",
    "deepnote_cell_type": "markdown"
   },
   "source": [
    "## 2.3. Multiple Plots\n",
    "\n",
    "Seaborn also provides some functions for plotting multiple plots by using the **FacetGrid()** method"
   ]
  },
  {
   "cell_type": "code",
   "execution_count": null,
   "metadata": {
    "cell_id": "5e2cb775521d4046b3091fcc2b430488",
    "deepnote_cell_type": "code",
    "deepnote_to_be_reexecuted": false,
    "execution_millis": 572,
    "execution_start": 1681861459055,
    "source_hash": "f6aed038"
   },
   "outputs": [],
   "source": [
    "# make subplots\n",
    "\n",
    "# loading dataset\n",
    "data = sns.load_dataset(\"iris\")\n",
    "  \n",
    "plot = sns.FacetGrid(data, col=\"species\")\n",
    "plot.map(plt.plot, \"sepal_width\")\n",
    "  \n",
    "plt.show()"
   ]
  },
  {
   "cell_type": "markdown",
   "metadata": {
    "cell_id": "b1d1b02cc0d14ba59d160ab59f29213e",
    "deepnote_cell_type": "markdown"
   },
   "source": [
    "## 2.4. Main Plots"
   ]
  },
  {
   "cell_type": "markdown",
   "metadata": {
    "cell_id": "2b60ffd4aa0446d7b491b50429cbce8d",
    "deepnote_cell_type": "markdown"
   },
   "source": [
    "### 2.4.1. Bar Plots\n",
    "\n",
    "To use this plot we choose a categorical column for the x axis and a numerical column for the y axis and we see that it creates a plot taking a mean per categorical column. It can be created using the **barplot()** method."
   ]
  },
  {
   "cell_type": "code",
   "execution_count": null,
   "metadata": {
    "cell_id": "9c9b568a6ddb4fb7a0946886b103441d",
    "deepnote_cell_type": "code",
    "deepnote_to_be_reexecuted": false,
    "execution_millis": 304,
    "execution_start": 1681863730476,
    "source_hash": "4d47b36d"
   },
   "outputs": [],
   "source": [
    "# Plot a bar plot of emissions by country\n",
    "\n",
    "fig, ax = plt.subplots()\n",
    "\n",
    "sns.barplot(x=\"Country\", y=\"Coal\", data=df_emi2, color=\"blue\", ax = ax)\n",
    "sns.barplot(x=\"Country\", y=\"Oil\", data=df_emi2, color=\"green\", ax = ax)\n",
    "sns.barplot(x=\"Country\", y=\"Gas\", data=df_emi2, color=\"orange\", ax = ax)\n",
    "\n",
    "# Set labels\n",
    "ax.set_xlabel(\"\")\n",
    "ax.set_ylabel(\"CO$_2$ emissions (Mt)\")\n",
    "# Rorate x lables\n",
    "ax.tick_params(axis=\"x\", rotation=45)\n",
    "\n",
    "plt.show()"
   ]
  },
  {
   "cell_type": "markdown",
   "metadata": {
    "cell_id": "a0c6bc7b8dc140caa90ec5e135bdeb56",
    "deepnote_cell_type": "markdown"
   },
   "source": [
    "### 2.4.2. Box Plots\n",
    "\n",
    "A boxplot is sometimes known as the box and whisker plot.It shows the distribution of the quantitative data that represents the comparisons between variables. boxplot shows the quartiles of the dataset while the whiskers extend to show the rest of the distribution i.e. the dots indicating the presence of outliers. It is created using the **boxplot()** method."
   ]
  },
  {
   "cell_type": "code",
   "execution_count": null,
   "metadata": {
    "cell_id": "174560eacc98446d8e76abef55f95db1",
    "deepnote_cell_type": "code",
    "deepnote_table_loading": false,
    "deepnote_table_state": {
     "filters": [],
     "pageIndex": 0,
     "pageSize": 10,
     "sortBy": []
    },
    "deepnote_to_be_reexecuted": false,
    "execution_millis": 83,
    "execution_start": 1681861459934,
    "source_hash": "d39ef2f8"
   },
   "outputs": [],
   "source": [
    "# Filter data for South American countries\n",
    "south_america = [\"Argentina\", \"Bolivia\", \"Brazil\", \"Chile\", \"Colombia\", \"Ecuador\", \"Paraguay\", \"Peru\", \"Uruguay\", \"Venezuela\"]\n",
    "df_sa = df_emi[df_emi[\"Country\"].isin(south_america)]\n",
    "df_sa.head()"
   ]
  },
  {
   "cell_type": "code",
   "execution_count": null,
   "metadata": {
    "cell_id": "867e5606b4b84b329d353f456f7874e3",
    "deepnote_cell_type": "code",
    "deepnote_to_be_reexecuted": false,
    "execution_millis": 357,
    "execution_start": 1681863349386,
    "source_hash": "cc496045"
   },
   "outputs": [],
   "source": [
    "# Make a box plot of CO2 emissions from oil industry of South american countries\n",
    "\n",
    "fig, ax = plt.subplots(figsize=(12,6))\n",
    "\n",
    "sns.boxplot(x=\"Country\", y=\"Oil\", data=df_sa, ax=ax)\n",
    "ax.tick_params(axis=\"x\", rotation=45)\n",
    "\n",
    "plt.show()"
   ]
  },
  {
   "cell_type": "code",
   "execution_count": null,
   "metadata": {
    "cell_id": "3e897d77030340d4b18c8ad8965ff650",
    "deepnote_cell_type": "code",
    "deepnote_to_be_reexecuted": false,
    "execution_millis": 0,
    "execution_start": 1681863176974,
    "source_hash": "f5aeba0c"
   },
   "outputs": [],
   "source": [
    "# Order countries by CO2 emissions in a descendet order \n",
    "\n",
    "order_oil = df_sa.sort_values(by=\"Oil\", ascending=False)[\"Country\"].unique()\n",
    "order_oil"
   ]
  },
  {
   "cell_type": "code",
   "execution_count": null,
   "metadata": {
    "cell_id": "bcce5651b1a9418fbdcbbcca8cc668a8",
    "deepnote_cell_type": "code",
    "deepnote_to_be_reexecuted": false,
    "execution_millis": 327,
    "execution_start": 1681863596619,
    "source_hash": "557bf839"
   },
   "outputs": [],
   "source": [
    "# Make a box plot of CO2 emissions from oil industry of South american countries in a descendent order\n",
    "\n",
    "fig, ax = plt.subplots(figsize=(12,6))\n",
    "\n",
    "sns.boxplot(x=\"Country\", y=\"Oil\", data=df_sa, order = order_oil, ax=ax)\n",
    "\n",
    "# Rotate x labels\n",
    "ax.tick_params(axis=\"x\", rotation=45)\n",
    "\n",
    "# Set labels\n",
    "ax.set_xlabel(\"\")\n",
    "ax.set_ylabel(\"CO$_2$ Emissions from oil industry (Mt)\")\n",
    "\n",
    "plt.show()"
   ]
  },
  {
   "cell_type": "code",
   "execution_count": null,
   "metadata": {
    "cell_id": "07b3f50216c848c4b9ab475c766bcaa3",
    "deepnote_cell_type": "code",
    "deepnote_to_be_reexecuted": false,
    "execution_millis": 806,
    "execution_start": 1681863765295,
    "source_hash": "980c31e1"
   },
   "outputs": [],
   "source": [
    "# Plot a box plot of CO2 emissions from oil, gas, and coal industris from countries of South America\n",
    "\n",
    "indus = [\"Oil\", \"Gas\", \"Coal\"]\n",
    "\n",
    "fig, ax = plt.subplots(len(indus), 1, figsize=(8, 10))\n",
    "\n",
    "# Create the box plots\n",
    "for axes, ind in zip(ax, indus):\n",
    "    sns.boxplot(x=\"Country\", y=ind, data=df_sa,\n",
    "                 order = df_sa.sort_values(by=ind, ascending=False)[\"Country\"].unique(), ax=axes)\n",
    "\n",
    "# Set labels and title\n",
    "    axes.set_xlabel(\"\")\n",
    "    axes.set_ylabel(\"CO$_2$ Emissions of {} industry (Mt)\".format(ind))\n",
    "\n",
    "# Rotate x-axis labels\n",
    "    axes.tick_params(axis=\"x\", rotation=45)\n",
    "\n",
    "# Set title \n",
    "fig.suptitle(\"CO$_2$ Emissions by South American Countries\")\n",
    "# Show the plot\n",
    "plt.tight_layout()"
   ]
  },
  {
   "cell_type": "markdown",
   "metadata": {
    "cell_id": "cd1eb9d5d2b44b3bbfd701848a3a88bd",
    "deepnote_cell_type": "markdown"
   },
   "source": [
    "### 2.4.3. Pair Plots\n",
    "\n",
    "Pairplot represents pairwise relation across the entire dataframe and supports an additional argument called hue for categorical separation. What it does basically is create a jointplot between every possible numerical column and takes a while if the dataframe is really huge. It is plotted using the **pairplot()** method."
   ]
  },
  {
   "cell_type": "code",
   "execution_count": null,
   "metadata": {
    "cell_id": "1d6f384f8334437bac04084624ab9851",
    "deepnote_cell_type": "code",
    "deepnote_to_be_reexecuted": false,
    "execution_millis": 28779,
    "execution_start": 1681861461252,
    "source_hash": "62127e4"
   },
   "outputs": [],
   "source": [
    "# Make a pair plot of CO2 Emissions from sout american countries\n",
    "\n",
    "sns.pairplot(df_sa, hue=\"Country\")\n",
    "plt.show()"
   ]
  },
  {
   "cell_type": "markdown",
   "metadata": {
    "cell_id": "a6401ca5e1234fca995b52057dfd1ed7",
    "deepnote_cell_type": "markdown"
   },
   "source": [
    "### 2.4.4. Heatmaps\n",
    "\n",
    "Heatmap is defined as a graphical representation of data using colors to visualize the value of the matrix. In this, to represent more common values or higher activities brighter colors basically reddish colors are used and to represent less common or activity values, darker colors are preferred. it can be plotted using the **heatmap()** function."
   ]
  },
  {
   "cell_type": "code",
   "execution_count": null,
   "metadata": {
    "cell_id": "e4926899d6d24af4b7b975e0261c4be3",
    "deepnote_cell_type": "code",
    "deepnote_to_be_reexecuted": false,
    "execution_millis": 878,
    "execution_start": 1681861490020,
    "source_hash": "ec3d3ee3"
   },
   "outputs": [],
   "source": [
    "# Make a heatmap to show the correlations of numerical variables\n",
    "\n",
    "fig, ax = plt.subplots(figsize=(12, 6))\n",
    "cor = df_sa.corr()\n",
    "\n",
    "sns.heatmap(cor, cmap='RdYlGn', annot=True, linewidths=0.01, linecolor='black', square=True, ax=ax)\n",
    "plt.show()"
   ]
  }
 ],
 "metadata": {
  "deepnote": {},
  "deepnote_execution_queue": [],
  "deepnote_full_width": false,
  "deepnote_notebook_id": "7e630a66fc694d87aa3a5671b5d8cb9b",
  "deepnote_persisted_session": {
   "createdAt": "2023-04-19T00:45:15.726Z"
  },
  "kernelspec": {
   "display_name": "Python 3 (ipykernel)",
   "language": "python",
   "name": "python3"
  },
  "language_info": {
   "codemirror_mode": {
    "name": "ipython",
    "version": 3
   },
   "file_extension": ".py",
   "mimetype": "text/x-python",
   "name": "python",
   "nbconvert_exporter": "python",
   "pygments_lexer": "ipython3",
   "version": "3.10.6"
  }
 },
 "nbformat": 4,
 "nbformat_minor": 4
}
