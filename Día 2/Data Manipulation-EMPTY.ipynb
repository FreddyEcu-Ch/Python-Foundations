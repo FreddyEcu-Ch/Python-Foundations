{
 "cells": [
  {
   "cell_type": "markdown",
   "metadata": {
    "cell_id": "e9c259d9356a45a9a21fdb904ac7dc89",
    "deepnote_cell_type": "markdown"
   },
   "source": [
    "# **Day 2 - Data Manipulation**"
   ]
  },
  {
   "cell_type": "markdown",
   "metadata": {
    "cell_id": "49e1156a255f4637a4a5a6bb3a3f0f58",
    "deepnote_cell_type": "markdown"
   },
   "source": [
    "## Contents\n",
    "\n",
    "- **Part 1 - Numpy (45 min)**\n",
    "    - 1.0. Lists and Numpy\n",
    "    - 1.1. 1D arrays\n",
    "    - 1.2. 2D arrays\n",
    "    - 1.3. Basic Statistic\n",
    "- **Part 2 - Pandas (75 min)**\n",
    "    - 2.1. Dataframes Methods and Attributes\n",
    "    - 2.2. Import Data\n",
    "    - 2.3. Explore Dataframes\n",
    "    - 2.4. Dataframe groupby Method\n",
    "    - 2.5. Dataframe: Filtering\n",
    "    - 2.6. Dataframe: Slicing\n",
    "    - 2.7. Sorting Dataframes\n",
    "    - 2.8. Handling Missing Values\n",
    "    - 2.9. Merge Dataframes\n",
    "- **Test (15 min)**"
   ]
  },
  {
   "cell_type": "markdown",
   "metadata": {
    "cell_id": "40bfe24f307844eabe53e59350825ad0",
    "deepnote_cell_type": "markdown"
   },
   "source": [
    "# Import Python Libraries"
   ]
  },
  {
   "cell_type": "markdown",
   "metadata": {
    "cell_id": "a61e6071ce604553a17c4c3b0ce5201f",
    "deepnote_cell_type": "markdown"
   },
   "source": [
    "**NumPy:** (https://numpy.org/)\n",
    "- introduces objects for multidimensional arrays and matrices, as well as functions that allow to easily perform advanced mathematical and statistical operations on those objects.\n",
    "- Provides vectorization of mathematical operations on arrays and matrices which significantly improves the performance\n",
    "- many other python libraries are built on NumPy.\n",
    "\n",
    "**Pandas:** (https://pandas.pydata.org/)\n",
    "- Adds data structures and tools designed to work with table-like data.\n",
    "- Provides tools for data manipulation: reshaping, merging, sorting, slicing, aggregation etc.\n",
    "- Allows handling missing data.\n",
    "\n",
    "**SQLAlchemy:** (https://www.sqlalchemy.org/)"
   ]
  },
  {
   "cell_type": "code",
   "execution_count": 1,
   "metadata": {
    "cell_id": "ca235c78885a4a2badfc8ef9913672a5",
    "deepnote_cell_type": "code",
    "deepnote_to_be_reexecuted": false,
    "execution_millis": 157,
    "execution_start": 1681998656049,
    "source_hash": "6c17717f"
   },
   "outputs": [],
   "source": [
    "import numpy as np  # import numpy library under the name or alias np\n",
    "import pandas as pd  # import pandas library under the name or alias pd\n",
    "from sqlalchemy import create_engine  # import a module of sqlalchemy library"
   ]
  },
  {
   "cell_type": "markdown",
   "metadata": {
    "cell_id": "2ad17140abe7480ba8445159a5e79681",
    "deepnote_cell_type": "markdown"
   },
   "source": [
    "# Part 1. Numpy"
   ]
  },
  {
   "cell_type": "markdown",
   "metadata": {
    "cell_id": "94c8858af801472ca285624b64d36f29",
    "deepnote_cell_type": "markdown"
   },
   "source": [
    "## 1.0 Lists and Numpy"
   ]
  },
  {
   "cell_type": "markdown",
   "metadata": {
    "cell_id": "a51ebc11addf49c9ab933ad19a568b08",
    "deepnote_cell_type": "markdown"
   },
   "source": [
    "Lists are:\n",
    "- Collection of values\n",
    "- Hold different types of data\n",
    "- Can be changed, added or moved\n",
    "- Used for basic mathematical operations and Data Science"
   ]
  },
  {
   "cell_type": "code",
   "execution_count": 2,
   "metadata": {
    "cell_id": "49fc881eac9d4634bbd9432650cb6d7d",
    "deepnote_cell_type": "code",
    "deepnote_to_be_reexecuted": false,
    "execution_millis": 5,
    "execution_start": 1681998656214,
    "source_hash": "b620f1a"
   },
   "outputs": [
    {
     "name": "stdout",
     "output_type": "stream",
     "text": [
      "[1.73, 1.68, 1.71, 1.89, 1.79]\n",
      "<class 'list'>\n"
     ]
    }
   ],
   "source": [
    "height = [1.73, 1.68, 1.71, 1.89, 1.79]\n",
    "print(height)\n",
    "print(type(height))"
   ]
  },
  {
   "cell_type": "code",
   "execution_count": 3,
   "metadata": {
    "cell_id": "021abaa6b5534c9290884490aa39faa6",
    "deepnote_cell_type": "code",
    "deepnote_to_be_reexecuted": false,
    "execution_millis": 8,
    "execution_start": 1681998656220,
    "source_hash": "3973725a"
   },
   "outputs": [
    {
     "name": "stdout",
     "output_type": "stream",
     "text": [
      "[65.4, 59.2, 63.6, 88.4, 68.7]\n",
      "<class 'list'>\n"
     ]
    }
   ],
   "source": [
    "weight = [65.4, 59.2,63.6, 88.4, 68.7]\n",
    "print(weight)\n",
    "print(type(weight))"
   ]
  },
  {
   "cell_type": "markdown",
   "metadata": {
    "cell_id": "133a0a861c374ec5b4ab9487d1295720",
    "deepnote_cell_type": "markdown"
   },
   "source": [
    "### What is numpy?\n",
    "NumPy is the fundamental package for scientific computing in Python. It stands for 'Numerical Python'. It is a library consisting of multidimensional array objects and a collection of routines for processing of array.\n",
    "\n",
    "by using NumPy, a developer can perform the following operations:\n",
    "- Mathematical and logical operations on arrays.\n",
    "- Fourier transforms and routines for shape manipulation.\n",
    "- Operations related to linear algebra. NumPy has in-built functions for linear algebra and random number generation\n",
    "\n",
    "Has the special features of:\n",
    "- Can contain only a single data type\n",
    "- Use less space in memory\n",
    "- Calculations over entire arrays\n",
    "- Easy and fast\n",
    "\n",
    "**NumPy** is often used along with packages like **SciPy** (Scientific Python) and **Mat−plotlib** (plotting library). This combination is widely used as a replacement for MatLab, a popular platform for technical computing. However, Python alternative to MatLab is now seen as a more modern and complete programming language.\n",
    "It is open source, which is an added advantage of NumPy."
   ]
  },
  {
   "cell_type": "markdown",
   "metadata": {
    "cell_id": "d90b4a0a64c5409caca7de1c1908c0b6",
    "deepnote_cell_type": "markdown"
   },
   "source": [
    "![Picture title](Recursos/Numpy.png)"
   ]
  },
  {
   "cell_type": "markdown",
   "metadata": {
    "cell_id": "ed5c5956b930490093ebd215fe4ffef7",
    "deepnote_cell_type": "markdown"
   },
   "source": [
    "## 1.1. 1D arrays\n",
    "### Numpy array creation\n",
    "Like lists, arrays are collections of items, but of the same type (e.g., all numbers or all strings). To create and use arrays in Python, you need use the previously imported library `numpy`.\n"
   ]
  },
  {
   "cell_type": "code",
   "execution_count": 5,
   "metadata": {
    "cell_id": "d594b8ce5254485f8987e6311dbcb148",
    "deepnote_cell_type": "code",
    "deepnote_to_be_reexecuted": false,
    "execution_millis": 8,
    "execution_start": 1681998656234,
    "source_hash": "52b11dbc"
   },
   "outputs": [
    {
     "name": "stdout",
     "output_type": "stream",
     "text": [
      "[ -10   30   60   90  120  150 -100]\n"
     ]
    }
   ],
   "source": [
    "# Create an array from scratch\n",
    "my_array = np.array([-10, 30, 60, 90, 120, 150, -100])\n",
    "print(my_array)"
   ]
  },
  {
   "cell_type": "code",
   "execution_count": 6,
   "metadata": {
    "cell_id": "af73e02d94394e5494426c83b4cb00d6",
    "deepnote_cell_type": "code",
    "deepnote_to_be_reexecuted": false,
    "execution_millis": 0,
    "execution_start": 1681998656243,
    "source_hash": "7af280b1"
   },
   "outputs": [
    {
     "name": "stdout",
     "output_type": "stream",
     "text": [
      "Alternative 1: [ 1  2  3  4  5  6  7  8  9 10]\n",
      "Alternative 2: [[0.83131076 0.04359541 0.22171181 0.57828331]\n",
      " [0.17080531 0.4333413  0.11809281 0.21314899]]\n"
     ]
    }
   ],
   "source": [
    "# Alternative options to create arrays from scratch\n",
    "# Create an 1D array of integers from one to ten using arange\n",
    "print('Alternative 1:', np.arange(1, 11))\n",
    "\n",
    "# Create a 2x4 array with numbers between (0,1) using random\n",
    "print('Alternative 2:', np.random.random((2, 4)))"
   ]
  },
  {
   "cell_type": "code",
   "execution_count": 96,
   "metadata": {
    "cell_id": "4a7a8960228547c4adfff52c34e1886a",
    "deepnote_cell_type": "code",
    "deepnote_to_be_reexecuted": false,
    "execution_millis": 0,
    "execution_start": 1681998814374,
    "source_hash": "5f2be4fa"
   },
   "outputs": [
    {
     "name": "stdout",
     "output_type": "stream",
     "text": [
      "<class 'numpy.ndarray'> [1.73 1.68 1.71 1.89 1.79]\n",
      "<class 'numpy.ndarray'> [65.4 59.2 63.6 88.4 68.7]\n"
     ]
    },
    {
     "data": {
      "text/plain": [
       "array([1.73, 1.68, 1.71, 1.89, 1.79])"
      ]
     },
     "execution_count": 96,
     "metadata": {},
     "output_type": "execute_result"
    }
   ],
   "source": [
    "# Transform the lists height and weight into numpy arrays\n",
    "np_height = np.array(height)\n",
    "print(type(np_height),np_height)\n",
    "np_weight = np.array(weight)\n",
    "print(type(np_weight), np_weight)\n",
    "np_height"
   ]
  },
  {
   "cell_type": "code",
   "execution_count": 10,
   "metadata": {
    "cell_id": "364140b183bd445db47ab37025023b12",
    "deepnote_cell_type": "code",
    "deepnote_to_be_reexecuted": false,
    "execution_millis": 5,
    "execution_start": 1681998657438,
    "source_hash": "64585ba0"
   },
   "outputs": [
    {
     "data": {
      "text/plain": [
       "array(['1.0', 'is', 'True'], dtype='<U32')"
      ]
     },
     "execution_count": 10,
     "metadata": {},
     "output_type": "execute_result"
    }
   ],
   "source": [
    "# Numpy: remarks\n",
    "np.array([1.0, \"is\", True])\n",
    "# Numpy arrays: contain only one type"
   ]
  },
  {
   "cell_type": "markdown",
   "metadata": {
    "cell_id": "0083c70639634395ae4ceb206ac93742",
    "deepnote_cell_type": "markdown"
   },
   "source": [
    "### Subsetting and modifiying 1D Numpy arrays"
   ]
  },
  {
   "cell_type": "code",
   "execution_count": 4,
   "metadata": {
    "cell_id": "903fdff795254d21ae727d9ef8640af9",
    "deepnote_cell_type": "code",
    "deepnote_to_be_reexecuted": false,
    "execution_millis": 13,
    "execution_start": 1681998656228,
    "source_hash": "81b12742"
   },
   "outputs": [],
   "source": [
    "# the following code will give an error\n",
    "#bmi = weight / height ** 2\n",
    "\n",
    "#How to solve it: Using numpy\n"
   ]
  },
  {
   "cell_type": "code",
   "execution_count": 97,
   "metadata": {
    "cell_id": "f5f1715024e848f9b957a8ed8e18c434",
    "deepnote_cell_type": "code",
    "deepnote_to_be_reexecuted": false,
    "execution_millis": 1,
    "execution_start": 1681998859180,
    "source_hash": "d2c5c594"
   },
   "outputs": [
    {
     "data": {
      "text/plain": [
       "array([21.85171573, 20.97505669, 21.75028214, 24.7473475 , 21.44127836])"
      ]
     },
     "execution_count": 97,
     "metadata": {},
     "output_type": "execute_result"
    }
   ],
   "source": [
    "bmi = np_weight / np_height ** 2\n",
    "#bmi = np.array([21.85171573, 20.97505669, 21.75028214, 24.7473475 , 21.44127836])\n",
    "bmi"
   ]
  },
  {
   "cell_type": "code",
   "execution_count": 12,
   "metadata": {
    "cell_id": "8db997dd76234836a9892e6f690d3c71",
    "deepnote_cell_type": "code",
    "deepnote_to_be_reexecuted": false,
    "execution_millis": 8,
    "execution_start": 1681998657477,
    "source_hash": "c198b5d2"
   },
   "outputs": [
    {
     "data": {
      "text/plain": [
       "21.44127836209856"
      ]
     },
     "execution_count": 12,
     "metadata": {},
     "output_type": "execute_result"
    }
   ],
   "source": [
    "# Subsetting\n",
    "# obtain the last element\n",
    "bmi[-1]"
   ]
  },
  {
   "cell_type": "code",
   "execution_count": 13,
   "metadata": {
    "cell_id": "d3921daed61340d28ad61cfb2345d473",
    "deepnote_cell_type": "code",
    "deepnote_to_be_reexecuted": false,
    "execution_millis": 8,
    "execution_start": 1681998657504,
    "source_hash": "fd9626f9"
   },
   "outputs": [
    {
     "data": {
      "text/plain": [
       "array([ True, False,  True,  True,  True])"
      ]
     },
     "execution_count": 13,
     "metadata": {},
     "output_type": "execute_result"
    }
   ],
   "source": [
    "#identify the values greather than 21\n"
   ]
  },
  {
   "cell_type": "code",
   "execution_count": 14,
   "metadata": {
    "cell_id": "8a98db4a09534677ae85f6ec7a4e9dbb",
    "deepnote_cell_type": "code",
    "deepnote_to_be_reexecuted": false,
    "execution_millis": 2,
    "execution_start": 1681998657513,
    "source_hash": "7b37ab20"
   },
   "outputs": [
    {
     "data": {
      "text/plain": [
       "array([21.85171573, 21.75028214, 24.7473475 , 21.44127836])"
      ]
     },
     "execution_count": 14,
     "metadata": {},
     "output_type": "execute_result"
    }
   ],
   "source": [
    "# create the list bmiplus with the elements whose values greather than 21\n",
    "\n",
    "bmiplus\n"
   ]
  },
  {
   "cell_type": "code",
   "execution_count": 15,
   "metadata": {
    "cell_id": "4cc6ad55cbbf452d9f9389f2639f5eb0",
    "deepnote_cell_type": "code",
    "deepnote_to_be_reexecuted": false,
    "execution_millis": 12,
    "execution_start": 1681998657519,
    "source_hash": "6a9641d9"
   },
   "outputs": [
    {
     "name": "stdout",
     "output_type": "stream",
     "text": [
      "[ -10   30   60   90  120  150 -100]\n",
      "[  0  30  60  90 120 150 180]\n"
     ]
    }
   ],
   "source": [
    "print(my_array)\n",
    "my_array[0] = 0 # modify first element\n",
    "my_array[-1] = 180 # modify last element\n",
    "print(my_array)"
   ]
  },
  {
   "cell_type": "code",
   "execution_count": 16,
   "metadata": {
    "cell_id": "1bbd8d46eb704468824efa25e97fd306",
    "deepnote_cell_type": "code",
    "deepnote_to_be_reexecuted": false,
    "execution_millis": 17,
    "execution_start": 1681998657526,
    "source_hash": "da90ba90"
   },
   "outputs": [
    {
     "name": "stdout",
     "output_type": "stream",
     "text": [
      "[  0  30  60  90 120 150 180 240 270 300 330 360]\n"
     ]
    }
   ],
   "source": [
    "my_array = np.(my_array,[240, 270, 300, 330, 360]) # append elements\n",
    "print(my_array)"
   ]
  },
  {
   "cell_type": "code",
   "execution_count": 17,
   "metadata": {
    "cell_id": "c703ac652fcd4038acea5182ee5cde82",
    "deepnote_cell_type": "code",
    "deepnote_to_be_reexecuted": false,
    "execution_millis": 4,
    "execution_start": 1681998657540,
    "source_hash": "e8b43477"
   },
   "outputs": [
    {
     "name": "stdout",
     "output_type": "stream",
     "text": [
      "[  0  30  60  90 120 150 180 210 240 270 300 330 360]\n"
     ]
    }
   ],
   "source": [
    "my_array = np.(my_array,7,210) # insert element at index 7\n",
    "print(my_array) "
   ]
  },
  {
   "cell_type": "code",
   "execution_count": 18,
   "metadata": {
    "cell_id": "7032c19b763e4be8b3f4cd7f5269066a",
    "deepnote_cell_type": "code",
    "deepnote_to_be_reexecuted": false,
    "execution_millis": 5,
    "execution_start": 1681998657544,
    "source_hash": "965481f4"
   },
   "outputs": [
    {
     "name": "stdout",
     "output_type": "stream",
     "text": [
      "[  0  30  60  90 120 150 180 210 240 270 300 330]\n"
     ]
    }
   ],
   "source": [
    "my_array = np.(my_array,-1) # delete last element\n",
    "print(my_array)"
   ]
  },
  {
   "cell_type": "markdown",
   "metadata": {
    "cell_id": "1c9983bcf198473fb30329a8b94a23a6",
    "deepnote_cell_type": "markdown"
   },
   "source": [
    "### Operations with 1D arrays"
   ]
  },
  {
   "cell_type": "code",
   "execution_count": 98,
   "metadata": {
    "cell_id": "0c0e2c922ad64ee5aba1048a5a7f2006",
    "deepnote_cell_type": "code",
    "deepnote_to_be_reexecuted": false,
    "execution_millis": 0,
    "execution_start": 1681999209760,
    "source_hash": "6171cee3"
   },
   "outputs": [
    {
     "name": "stdout",
     "output_type": "stream",
     "text": [
      "number of elements in array = 12\n"
     ]
    }
   ],
   "source": [
    "print('number of elements in array =', my_array.shape[0]) # the [0] retrieves element 0 of shape"
   ]
  },
  {
   "cell_type": "code",
   "execution_count": 99,
   "metadata": {
    "cell_id": "aae5236b33c34736b6222d4da1139f38",
    "deepnote_cell_type": "code",
    "deepnote_to_be_reexecuted": false,
    "execution_millis": 34,
    "execution_start": 1681999213226,
    "source_hash": "3bbd11da"
   },
   "outputs": [
    {
     "name": "stdout",
     "output_type": "stream",
     "text": [
      "number of elements in array = 12\n"
     ]
    }
   ],
   "source": [
    "print('number of elements in array =', my_array.size) # print the number of elements in array"
   ]
  },
  {
   "cell_type": "code",
   "execution_count": 23,
   "metadata": {
    "cell_id": "2b7b14d7a11049a4bcd65f4edcb050f5",
    "deepnote_cell_type": "code",
    "deepnote_to_be_reexecuted": false,
    "execution_millis": 2,
    "execution_start": 1681998657592,
    "source_hash": "43675ac"
   },
   "outputs": [
    {
     "name": "stdout",
     "output_type": "stream",
     "text": [
      "[1.73, 1.68, 1.71, 1.89, 1.79]\n",
      "[1.73, 1.68, 1.71, 1.89, 1.79, 1.73, 1.68, 1.71, 1.89, 1.79]\n",
      "[1.73 1.68 1.71 1.89 1.79]\n",
      "[3.46 3.36 3.42 3.78 3.58]\n"
     ]
    }
   ],
   "source": [
    "# Different types: different bevabour\n",
    "print(height)\n",
    "print(height + height) \n",
    "print(np_height)\n",
    "print(np_height+np_height)"
   ]
  },
  {
   "cell_type": "markdown",
   "metadata": {
    "cell_id": "a82f2ca5ac584b699d99e7d42a810606",
    "deepnote_cell_type": "markdown"
   },
   "source": [
    "## 1.2. 2D arrays"
   ]
  },
  {
   "cell_type": "code",
   "execution_count": 24,
   "metadata": {
    "cell_id": "71e367a92dfd48febccf7a95ac82a831",
    "deepnote_cell_type": "code",
    "deepnote_to_be_reexecuted": false,
    "execution_millis": 2,
    "execution_start": 1681998657600,
    "source_hash": "a1013ce6"
   },
   "outputs": [
    {
     "data": {
      "text/plain": [
       "array([[ 1.73,  1.68,  1.71,  1.89,  1.79],\n",
       "       [65.4 , 59.2 , 63.6 , 88.4 , 68.7 ]])"
      ]
     },
     "execution_count": 24,
     "metadata": {},
     "output_type": "execute_result"
    }
   ],
   "source": [
    "# create a 2D array \n",
    "np_2d = np.array([[1.73, 1.68, 1.71, 1.89, 1.79],\n",
    "[65.4, 59.2, 63.6, 88.4, 68.7]])\n",
    "np_2d"
   ]
  },
  {
   "cell_type": "markdown",
   "metadata": {
    "cell_id": "405ba041728a4e5eadaea19e890c0cec",
    "deepnote_cell_type": "markdown"
   },
   "source": [
    "### Subsetting and modifiying 2D Numpy arrays"
   ]
  },
  {
   "cell_type": "code",
   "execution_count": 100,
   "metadata": {
    "cell_id": "b8e09d40616f4a88b6b6660e176b593a",
    "deepnote_cell_type": "code",
    "deepnote_to_be_reexecuted": false,
    "execution_millis": 132,
    "execution_start": 1681999374900,
    "source_hash": "7588c024"
   },
   "outputs": [
    {
     "name": "stdout",
     "output_type": "stream",
     "text": [
      "\n"
     ]
    }
   ],
   "source": [
    "# use the method shape for np_2d\n",
    "print() #complete the code to print the array shape"
   ]
  },
  {
   "cell_type": "markdown",
   "metadata": {
    "cell_id": "4fdd9fcc662049dcab8955f00e57889f",
    "deepnote_cell_type": "markdown"
   },
   "source": [
    "![Picture title](Recursos/2Darray.png)"
   ]
  },
  {
   "cell_type": "code",
   "execution_count": 26,
   "metadata": {
    "cell_id": "f19ed8c6082642d09af82de0ad4557c1",
    "deepnote_cell_type": "code",
    "deepnote_to_be_reexecuted": false,
    "execution_millis": 2,
    "execution_start": 1681998657614,
    "source_hash": "52505037"
   },
   "outputs": [
    {
     "data": {
      "text/plain": [
       "array([1.73, 1.68, 1.71, 1.89, 1.79])"
      ]
     },
     "execution_count": 26,
     "metadata": {},
     "output_type": "execute_result"
    }
   ],
   "source": [
    "#get the first row of the array\n",
    "np_2d[0]"
   ]
  },
  {
   "cell_type": "code",
   "execution_count": 27,
   "metadata": {
    "cell_id": "66578c10c9bb41a3b014b3705b4bf87a",
    "deepnote_cell_type": "code",
    "deepnote_to_be_reexecuted": false,
    "execution_millis": 21,
    "execution_start": 1681998657619,
    "source_hash": "33817be4"
   },
   "outputs": [
    {
     "data": {
      "text/plain": [
       "1.89"
      ]
     },
     "execution_count": 27,
     "metadata": {},
     "output_type": "execute_result"
    }
   ],
   "source": [
    "# get the fourth element of the first row\n",
    "np_2d[0,3]"
   ]
  },
  {
   "cell_type": "code",
   "execution_count": 28,
   "metadata": {
    "cell_id": "a9b1f6c1947f42be92d2e08f11a019d2",
    "deepnote_cell_type": "code",
    "deepnote_to_be_reexecuted": false,
    "execution_millis": 4,
    "execution_start": 1681998657705,
    "source_hash": "83ca065f"
   },
   "outputs": [
    {
     "data": {
      "text/plain": [
       "array([[ 1.73,  1.68,  1.71],\n",
       "       [65.4 , 59.2 , 63.6 ]])"
      ]
     },
     "execution_count": 28,
     "metadata": {},
     "output_type": "execute_result"
    }
   ],
   "source": [
    "# get from bot rows the first three elements\n",
    "np_2d[:,0:3 ]"
   ]
  },
  {
   "cell_type": "markdown",
   "metadata": {
    "cell_id": "6e594830c1cb43a79635528ef6b896dd",
    "deepnote_cell_type": "markdown"
   },
   "source": [
    "![Picture title](Recursos/SinFunction.png)"
   ]
  },
  {
   "cell_type": "code",
   "execution_count": 102,
   "metadata": {
    "cell_id": "2c036437b0364599884445451443a5a2",
    "deepnote_cell_type": "code",
    "deepnote_to_be_reexecuted": false,
    "execution_millis": 1,
    "execution_start": 1681999513589,
    "source_hash": "fec637f5"
   },
   "outputs": [
    {
     "name": "stdout",
     "output_type": "stream",
     "text": [
      "[ 0.    0.5   0.87  1.    0.87  0.5   0.   -0.5  -0.87 -1.   -0.87 -0.5 ]\n"
     ]
    }
   ],
   "source": [
    "my_sines = np.sin(np.radians(my_array)) # compute the sine of the elements in my_array\n",
    "print(np.round(my_sines,2)) # print the array with just two decimal places"
   ]
  },
  {
   "cell_type": "code",
   "execution_count": 30,
   "metadata": {
    "cell_id": "81e2b3cda1774d5bad6c1640e0300eee",
    "deepnote_cell_type": "code",
    "deepnote_to_be_reexecuted": false,
    "execution_millis": 23,
    "execution_start": 1681998657706,
    "source_hash": "28d24957"
   },
   "outputs": [
    {
     "name": "stdout",
     "output_type": "stream",
     "text": [
      "[[1 2 3]\n",
      " [4 5 6]\n",
      " [7 8 9]]\n"
     ]
    }
   ],
   "source": [
    "# create a 3 x 3 array\n",
    "array_a = np.array([[1, 2, 3], [4, 5, 6], [7, 8, 9]])\n",
    "print(array_a)"
   ]
  },
  {
   "cell_type": "code",
   "execution_count": 104,
   "metadata": {
    "cell_id": "5ff33ed858e04528be8f273648d00bc3",
    "deepnote_cell_type": "code",
    "deepnote_to_be_reexecuted": false,
    "execution_millis": 29,
    "execution_start": 1681999575563,
    "source_hash": "9d90b091"
   },
   "outputs": [
    {
     "data": {
      "text/plain": [
       "array([[ 6,  7,  8],\n",
       "       [ 9, 10, 11],\n",
       "       [12, 13, 14]])"
      ]
     },
     "execution_count": 104,
     "metadata": {},
     "output_type": "execute_result"
    }
   ],
   "source": [
    "# array plus scalar\n"
   ]
  },
  {
   "cell_type": "code",
   "execution_count": 105,
   "metadata": {
    "cell_id": "2f7fadbc11e1447999abf7757440fe1d",
    "deepnote_cell_type": "code",
    "deepnote_to_be_reexecuted": false,
    "execution_millis": 3,
    "execution_start": 1681999616657,
    "source_hash": "f872b988"
   },
   "outputs": [
    {
     "name": "stdout",
     "output_type": "stream",
     "text": [
      "[[ 2  4  6]\n",
      " [ 8 10 12]\n",
      " [14 16 18]]\n",
      "\n",
      "[[0.5 1.  1.5]\n",
      " [2.  2.5 3. ]\n",
      " [3.5 4.  4.5]]\n",
      "\n",
      "[[ 1  4  9]\n",
      " [16 25 36]\n",
      " [49 64 81]]\n"
     ]
    }
   ],
   "source": [
    "print(array_a * 2) # array times scalar\n",
    "print()\n",
    "print(array_a / 2) # array divided by scalar\n",
    "print()\n",
    "print(array_a ** 2) # array elevated to the scalar"
   ]
  },
  {
   "cell_type": "code",
   "execution_count": 33,
   "metadata": {
    "cell_id": "ab4b226cd04244f5a207c56d4ad0c459",
    "deepnote_cell_type": "code",
    "deepnote_to_be_reexecuted": false,
    "execution_millis": 13,
    "execution_start": 1681998657718,
    "source_hash": "2fb36c51"
   },
   "outputs": [
    {
     "name": "stdout",
     "output_type": "stream",
     "text": [
      "[[10 10 10]\n",
      " [10 10 10]\n",
      " [10 10 10]]\n"
     ]
    }
   ],
   "source": [
    "# Create another 3 x 3 array\n",
    "array_b = np.array([[9, 8, 7], [6, 5, 4], [3, 2, 1]])\n",
    "\n",
    "print() # element-wise sum the two arrays"
   ]
  },
  {
   "cell_type": "markdown",
   "metadata": {
    "cell_id": "bf2d200796354552b35bb1f8a1d7849f",
    "deepnote_cell_type": "markdown"
   },
   "source": [
    "### Comparison operators and Boolean arrays\n",
    "\n",
    "Comparison operators also work on arrays. Suppose we have two arrays with the months of the year, and precipitation values in mm. Suppose we'd like to know the months with precipitation higher than 100 mm and their precipitation values. We can do the following:"
   ]
  },
  {
   "cell_type": "code",
   "execution_count": 36,
   "metadata": {
    "cell_id": "ed636d63767c4d74a4da8c3c8ed226e0",
    "deepnote_cell_type": "code",
    "deepnote_to_be_reexecuted": false,
    "execution_millis": 257,
    "execution_start": 1681998657745,
    "source_hash": "dbcd2865"
   },
   "outputs": [
    {
     "name": "stdout",
     "output_type": "stream",
     "text": [
      "[ True False  True False False False False False False  True  True  True] \n",
      "\n",
      "Months with precipitation > 100 mm: ['January' 'March' 'October' 'November' 'December']\n",
      "Values of precipitation in these months: [142 114 109 165 137]\n",
      "Months with precipitation = 100 mm: ['February' 'April' 'May' 'June' 'July' 'August' 'September']\n",
      "Values of precipitation in these months: [89 74 53 38 13 25 43]\n"
     ]
    }
   ],
   "source": [
    "months = np.array(['January', 'February', 'March', 'April', 'May', 'June', \n",
    "                   'July', 'August', 'September', 'October', 'November', 'December']) # array of months\n",
    "precip = np.array([142, 89, 114, 74, 53, 38, 13, 25, 43, 109, 165, 137]) # monthly precipitation values in mm\n",
    "\n",
    "high_precip = precip > 100 # Boolean array for monthly precipitation values more than 100 mm\n",
    "low_precip = precip < 100\n",
    "\n",
    "print(high_precip, '\\n') # print Boolean array\n",
    "\n",
    "print('Months with precipitation > 100 mm:', months[high_precip]) # print months with precipitation > 100 mm\n",
    "print('Values of precipitation in these months:', precip[high_precip]) # print these months precipitation values\n",
    "\n",
    "print('Months with precipitation = 100 mm:', months[low_precip]) # print months with precipitation < 100 mm\n",
    "print('Values of precipitation in these months:', precip[low_precip]) # print these months precipitation values"
   ]
  },
  {
   "cell_type": "markdown",
   "metadata": {
    "cell_id": "8a7e4b35c67e4934bf99477bc6373a54",
    "deepnote_cell_type": "markdown"
   },
   "source": [
    "## 1.3. Basic Statistics"
   ]
  },
  {
   "cell_type": "code",
   "execution_count": 37,
   "metadata": {
    "cell_id": "34e572db56e641ba8769cd8ba16a3316",
    "deepnote_cell_type": "code",
    "deepnote_to_be_reexecuted": false,
    "execution_millis": 97,
    "execution_start": 1681998657905,
    "source_hash": "1e8114e5"
   },
   "outputs": [
    {
     "data": {
      "text/plain": [
       "array([[ 2.01, 58.74],\n",
       "       [ 1.89, 60.26],\n",
       "       [ 1.54, 81.07],\n",
       "       [ 1.6 , 47.65],\n",
       "       [ 1.6 , 50.87],\n",
       "       [ 2.06, 70.43],\n",
       "       [ 1.34, 62.5 ],\n",
       "       [ 1.95, 47.95],\n",
       "       [ 1.74, 67.7 ],\n",
       "       [ 1.96, 75.16],\n",
       "       [ 1.82, 57.07],\n",
       "       [ 1.99, 42.65],\n",
       "       [ 1.6 , 53.46],\n",
       "       [ 1.32, 60.79],\n",
       "       [ 2.03, 53.69],\n",
       "       [ 1.83, 61.  ],\n",
       "       [ 1.58, 61.5 ],\n",
       "       [ 1.54, 47.68],\n",
       "       [ 1.71, 59.04],\n",
       "       [ 2.05, 56.19],\n",
       "       [ 1.83, 28.78],\n",
       "       [ 1.74, 44.57],\n",
       "       [ 1.95, 73.78],\n",
       "       [ 1.57, 37.69],\n",
       "       [ 1.76, 59.59],\n",
       "       [ 1.86, 55.92],\n",
       "       [ 1.82, 80.8 ],\n",
       "       [ 1.97, 72.9 ],\n",
       "       [ 1.58, 34.19],\n",
       "       [ 1.49, 61.61],\n",
       "       [ 1.81, 44.51],\n",
       "       [ 1.63, 47.74],\n",
       "       [ 1.96, 45.87],\n",
       "       [ 1.89, 52.28],\n",
       "       [ 1.37, 53.71],\n",
       "       [ 1.25, 50.37],\n",
       "       [ 1.78, 50.33],\n",
       "       [ 1.95, 48.  ],\n",
       "       [ 1.82, 70.64],\n",
       "       [ 2.  , 37.  ],\n",
       "       [ 1.71, 45.06],\n",
       "       [ 1.95, 75.76],\n",
       "       [ 1.8 , 35.07],\n",
       "       [ 1.73, 56.99],\n",
       "       [ 1.6 , 57.11],\n",
       "       [ 1.68, 45.66],\n",
       "       [ 1.77, 74.59],\n",
       "       [ 2.01, 24.19],\n",
       "       [ 1.94, 47.6 ],\n",
       "       [ 1.7 , 54.87],\n",
       "       [ 1.65, 63.55],\n",
       "       [ 1.96, 75.92],\n",
       "       [ 1.96, 61.89],\n",
       "       [ 1.65, 81.6 ],\n",
       "       [ 1.79, 46.42],\n",
       "       [ 1.87, 68.95],\n",
       "       [ 1.65, 60.11],\n",
       "       [ 1.42, 48.15],\n",
       "       [ 1.61, 54.  ],\n",
       "       [ 1.86, 48.18],\n",
       "       [ 1.66, 43.76],\n",
       "       [ 1.68, 87.21],\n",
       "       [ 1.74, 51.68],\n",
       "       [ 2.12, 44.69],\n",
       "       [ 1.78, 45.36],\n",
       "       [ 1.8 , 84.98],\n",
       "       [ 1.9 , 62.8 ],\n",
       "       [ 1.74, 49.26],\n",
       "       [ 1.71, 62.  ],\n",
       "       [ 1.8 , 53.69],\n",
       "       [ 1.76, 61.19],\n",
       "       [ 1.69, 50.38],\n",
       "       [ 2.12, 60.76],\n",
       "       [ 1.64, 38.12],\n",
       "       [ 2.05, 54.91],\n",
       "       [ 2.02, 44.01],\n",
       "       [ 1.94, 62.7 ],\n",
       "       [ 1.5 , 63.65],\n",
       "       [ 1.83, 69.7 ],\n",
       "       [ 1.93, 51.61],\n",
       "       [ 1.66, 83.3 ],\n",
       "       [ 1.78, 62.07],\n",
       "       [ 1.3 , 53.79],\n",
       "       [ 1.9 , 69.7 ],\n",
       "       [ 1.56, 72.78],\n",
       "       [ 1.94, 89.37],\n",
       "       [ 1.63, 66.19],\n",
       "       [ 2.14, 78.43],\n",
       "       [ 1.55, 55.79],\n",
       "       [ 1.81, 69.27],\n",
       "       [ 1.53, 66.78],\n",
       "       [ 1.7 , 74.31],\n",
       "       [ 1.64, 53.29],\n",
       "       [ 1.71, 49.42],\n",
       "       [ 1.66, 65.22],\n",
       "       [ 1.93, 83.79],\n",
       "       [ 1.43, 85.79],\n",
       "       [ 1.39, 54.15],\n",
       "       [ 1.46, 70.78],\n",
       "       [ 1.92, 40.45],\n",
       "       [ 1.68, 33.81],\n",
       "       [ 1.88, 49.93],\n",
       "       [ 2.13, 69.03],\n",
       "       [ 1.78, 41.81],\n",
       "       [ 1.87, 68.32],\n",
       "       [ 1.87, 55.74],\n",
       "       [ 1.84, 55.  ],\n",
       "       [ 1.66, 41.39],\n",
       "       [ 1.55, 78.74],\n",
       "       [ 1.74, 85.3 ],\n",
       "       [ 1.95, 65.13],\n",
       "       [ 1.51, 60.73],\n",
       "       [ 1.98, 45.88],\n",
       "       [ 1.32, 75.18],\n",
       "       [ 1.29, 76.37],\n",
       "       [ 1.67, 62.14],\n",
       "       [ 1.49, 59.21],\n",
       "       [ 1.78, 58.91],\n",
       "       [ 1.67, 54.79],\n",
       "       [ 1.54, 46.13],\n",
       "       [ 1.62, 89.77],\n",
       "       [ 1.86, 62.56],\n",
       "       [ 1.7 , 66.25],\n",
       "       [ 2.15, 65.22],\n",
       "       [ 1.37, 60.86],\n",
       "       [ 1.75, 34.64],\n",
       "       [ 1.74, 50.36],\n",
       "       [ 1.95, 56.18],\n",
       "       [ 1.9 , 67.61],\n",
       "       [ 1.79, 72.73],\n",
       "       [ 1.77, 55.48],\n",
       "       [ 1.91, 55.91],\n",
       "       [ 1.72, 46.94],\n",
       "       [ 1.6 , 63.25],\n",
       "       [ 1.82, 66.03],\n",
       "       [ 2.14, 72.14],\n",
       "       [ 1.86, 62.23],\n",
       "       [ 1.81, 39.  ],\n",
       "       [ 1.69, 56.72],\n",
       "       [ 1.68, 86.52],\n",
       "       [ 1.88, 74.34],\n",
       "       [ 1.74, 62.77],\n",
       "       [ 1.73, 66.45],\n",
       "       [ 1.63, 68.48],\n",
       "       [ 1.83, 47.95],\n",
       "       [ 1.77, 84.87],\n",
       "       [ 1.61, 55.41],\n",
       "       [ 1.43, 59.74],\n",
       "       [ 1.84, 36.39],\n",
       "       [ 1.61, 62.01],\n",
       "       [ 1.61, 37.46],\n",
       "       [ 1.84, 63.1 ],\n",
       "       [ 1.71, 33.96],\n",
       "       [ 1.59, 61.74],\n",
       "       [ 1.7 , 41.62],\n",
       "       [ 1.77, 47.98],\n",
       "       [ 1.76, 79.07],\n",
       "       [ 1.6 , 72.51],\n",
       "       [ 1.72, 67.7 ],\n",
       "       [ 1.77, 77.25],\n",
       "       [ 1.58, 55.04],\n",
       "       [ 1.76, 75.46],\n",
       "       [ 1.38, 36.71],\n",
       "       [ 1.82, 57.1 ],\n",
       "       [ 1.64, 57.  ],\n",
       "       [ 1.53, 87.54],\n",
       "       [ 1.74, 59.66],\n",
       "       [ 1.78, 62.9 ],\n",
       "       [ 1.7 , 78.54],\n",
       "       [ 2.33, 59.25],\n",
       "       [ 1.63, 61.87],\n",
       "       [ 1.22, 65.02],\n",
       "       [ 1.93, 50.78],\n",
       "       [ 1.91, 65.61],\n",
       "       [ 1.93, 66.22],\n",
       "       [ 1.59, 53.35],\n",
       "       [ 1.6 , 46.39],\n",
       "       [ 1.75, 42.01],\n",
       "       [ 1.87, 68.02],\n",
       "       [ 1.68, 65.4 ],\n",
       "       [ 2.07, 60.14],\n",
       "       [ 1.56, 41.97],\n",
       "       [ 1.72, 73.23],\n",
       "       [ 1.76, 67.03],\n",
       "       [ 1.95, 70.16],\n",
       "       [ 1.59, 73.46],\n",
       "       [ 1.27, 42.82],\n",
       "       [ 1.56, 64.52],\n",
       "       [ 1.91, 44.88],\n",
       "       [ 1.5 , 52.47],\n",
       "       [ 1.48, 40.73],\n",
       "       [ 1.96, 92.52],\n",
       "       [ 1.81, 80.85],\n",
       "       [ 1.9 , 64.52],\n",
       "       [ 1.75, 30.44],\n",
       "       [ 1.45, 40.57],\n",
       "       [ 1.93, 51.98],\n",
       "       [ 1.81, 79.55],\n",
       "       [ 1.82, 69.19],\n",
       "       [ 1.52, 80.2 ]])"
      ]
     },
     "execution_count": 37,
     "metadata": {},
     "output_type": "execute_result"
    }
   ],
   "source": [
    "#Create random data\n",
    "# np.ramdom.norma(distribution mean, distribution standar deviation, number of samples)\n",
    "rd_height = np.round(np.random.normal(1.75, 0.20, 200), 2)\n",
    "rd_weight = np.round(np.random.normal(60.32, 15, 200), 2)\n",
    "np_city = np.column_stack((rd_height, rd_weight))\n",
    "np_city"
   ]
  },
  {
   "cell_type": "code",
   "execution_count": 38,
   "metadata": {
    "cell_id": "7ed373e2dfb6498aaf727451c8f5580a",
    "deepnote_cell_type": "code",
    "deepnote_to_be_reexecuted": false,
    "execution_millis": 151,
    "execution_start": 1681998657908,
    "source_hash": "c6409847"
   },
   "outputs": [
    {
     "name": "stdout",
     "output_type": "stream",
     "text": [
      "[ 1.74205 59.4416 ]\n",
      "1.7420499999999999\n",
      "59.4416\n"
     ]
    }
   ],
   "source": [
    "# Get the mean of height\n",
    "#Using basic operations\n",
    "mean = np_city.sum(axis=0)/200 #/np_city.size\n",
    "print(mean)\n",
    "\n",
    "#using mean function\n",
    "print(np.mean(np_city[:,0]))\n",
    "print(np.mean(np_city[:,1]))"
   ]
  },
  {
   "cell_type": "code",
   "execution_count": 39,
   "metadata": {
    "cell_id": "860f84798cac44efb0a830213812d79a",
    "deepnote_cell_type": "code",
    "deepnote_to_be_reexecuted": false,
    "execution_millis": 119,
    "execution_start": 1681998657941,
    "source_hash": "76def722"
   },
   "outputs": [
    {
     "data": {
      "text/plain": [
       "1.75"
      ]
     },
     "execution_count": 39,
     "metadata": {},
     "output_type": "execute_result"
    }
   ],
   "source": [
    "# Get the median of height\n",
    "np.median(np_city[:,0])\n",
    "# Get the standard deviation\n",
    "np.std(np_city[:,0])"
   ]
  },
  {
   "cell_type": "code",
   "execution_count": 42,
   "metadata": {
    "cell_id": "a174dbbeb65648bfb7fea1f6702d1bb8",
    "deepnote_cell_type": "code",
    "deepnote_to_be_reexecuted": false,
    "execution_millis": 166,
    "execution_start": 1681998658059,
    "source_hash": "dbb69faa"
   },
   "outputs": [
    {
     "data": {
      "text/plain": [
       "array([[2, 4, 4],\n",
       "       [0, 2, 4],\n",
       "       [2, 4, 2],\n",
       "       [3, 1, 3],\n",
       "       [5, 3, 2]])"
      ]
     },
     "execution_count": 42,
     "metadata": {},
     "output_type": "execute_result"
    }
   ],
   "source": [
    "teachers_publications= np.array([[2,4,4],[0,2,4],[2,4,2],[3,1,3],[5,3,2]])\n",
    "teachers_publications"
   ]
  },
  {
   "cell_type": "code",
   "execution_count": 43,
   "metadata": {
    "cell_id": "3c1e134b9c3b407ba44c27b6b860613a",
    "deepnote_cell_type": "code",
    "deepnote_to_be_reexecuted": false,
    "execution_millis": 41,
    "execution_start": 1681998658224,
    "source_hash": "56ea4ccc"
   },
   "outputs": [
    {
     "name": "stdout",
     "output_type": "stream",
     "text": [
      "[12 14 15]\n",
      "[10  6  8  7 10]\n",
      "0\n",
      "5\n",
      "[2 0 2 1 2]\n",
      "[4 4 4 3 5]\n"
     ]
    }
   ],
   "source": [
    "print(teachers_publications.sum(axis=0)) # cumulative publications by teacher\n",
    "print(teachers_publications.sum(axis=1)) # cumulative publications by year\n",
    "\n",
    "print(teachers_publications.min(axis=1)) # minimun number in the array by year\n",
    "print(teachers_publications.max(axis=1)) # maximun number in the array by year\n",
    "\n",
    "print(teachers_publications.min()) # minimun number in the array\n",
    "print(teachers_publications.max()) # maximun number in the array"
   ]
  },
  {
   "cell_type": "markdown",
   "metadata": {
    "cell_id": "ff330f1ed88746b9aa42961dbcde5902",
    "deepnote_cell_type": "markdown"
   },
   "source": [
    "# Part 2. Pandas"
   ]
  },
  {
   "cell_type": "markdown",
   "metadata": {
    "cell_id": "6b6686d5da584366b3e4de8bd0e424a7",
    "deepnote_cell_type": "markdown"
   },
   "source": [
    "## 2.1. Dataframes Methods and Attributes\n",
    "\n",
    "Python objects have attributes and methods.\n",
    "**Methods:** Unlike attributes, python methods have parenthesis.\n",
    "\n",
    "To Insert a table with the main Pandas methods "
   ]
  },
  {
   "cell_type": "markdown",
   "metadata": {
    "cell_id": "157fa230cbf44d738eb591c5413cad5b",
    "deepnote_cell_type": "markdown"
   },
   "source": [
    "## 2.2. Import and Read Data\n",
    "\n",
    "- Import data from:\n",
    "    - CSV\n",
    "    - XLSX\n",
    "    - SQL"
   ]
  },
  {
   "cell_type": "markdown",
   "metadata": {
    "cell_id": "02af927de42845c08e116b79dd311598",
    "deepnote_cell_type": "markdown"
   },
   "source": [
    "### 2.2.1. Import a CSV File\n",
    "To import a csv file, we use the *read_csv* pandas's method."
   ]
  },
  {
   "cell_type": "code",
   "execution_count": 44,
   "metadata": {
    "cell_id": "a103d8ff705248ac87cfe2e176d49f62",
    "deepnote_cell_type": "code",
    "deepnote_to_be_reexecuted": false,
    "execution_millis": 62,
    "execution_start": 1681998658225,
    "source_hash": "25b28d19"
   },
   "outputs": [
    {
     "data": {
      "application/vnd.deepnote.dataframe.v3+json": {
       "column_count": 11,
       "columns": [
        {
         "dtype": "object",
         "name": "Country",
         "stats": {
          "categories": [
           {
            "count": 272,
            "name": "Afghanistan"
           },
           {
            "count": 272,
            "name": "Albania"
           },
           {
            "count": 62560,
            "name": "230 others"
           }
          ],
          "nan_count": 0,
          "unique_count": 232
         }
        },
        {
         "dtype": "object",
         "name": "ISO 3166-1 alpha-3"
        },
        {
         "dtype": "int64",
         "name": "Year"
        },
        {
         "dtype": "float64",
         "name": "Total"
        },
        {
         "dtype": "float64",
         "name": "Coal"
        },
        {
         "dtype": "float64",
         "name": "Oil"
        },
        {
         "dtype": "float64",
         "name": "Gas"
        },
        {
         "dtype": "float64",
         "name": "Cement"
        },
        {
         "dtype": "float64",
         "name": "Flaring"
        },
        {
         "dtype": "float64",
         "name": "Other"
        },
        {
         "dtype": "float64",
         "name": "Per Capita"
        },
        {
         "dtype": "int64",
         "name": "_deepnote_index_column"
        }
       ],
       "row_count": 63104,
       "rows": [
        {
         "Cement": "nan",
         "Coal": "nan",
         "Country": "Afghanistan",
         "Flaring": "nan",
         "Gas": "nan",
         "ISO 3166-1 alpha-3": "AFG",
         "Oil": "nan",
         "Other": "nan",
         "Per Capita": "nan",
         "Total": "0.0",
         "Year": "1750",
         "_deepnote_index_column": "0"
        },
        {
         "Cement": "nan",
         "Coal": "nan",
         "Country": "Afghanistan",
         "Flaring": "nan",
         "Gas": "nan",
         "ISO 3166-1 alpha-3": "AFG",
         "Oil": "nan",
         "Other": "nan",
         "Per Capita": "nan",
         "Total": "0.0",
         "Year": "1751",
         "_deepnote_index_column": "1"
        },
        {
         "Cement": "nan",
         "Coal": "nan",
         "Country": "Afghanistan",
         "Flaring": "nan",
         "Gas": "nan",
         "ISO 3166-1 alpha-3": "AFG",
         "Oil": "nan",
         "Other": "nan",
         "Per Capita": "nan",
         "Total": "0.0",
         "Year": "1752",
         "_deepnote_index_column": "2"
        },
        {
         "Cement": "nan",
         "Coal": "nan",
         "Country": "Afghanistan",
         "Flaring": "nan",
         "Gas": "nan",
         "ISO 3166-1 alpha-3": "AFG",
         "Oil": "nan",
         "Other": "nan",
         "Per Capita": "nan",
         "Total": "0.0",
         "Year": "1753",
         "_deepnote_index_column": "3"
        },
        {
         "Cement": "nan",
         "Coal": "nan",
         "Country": "Afghanistan",
         "Flaring": "nan",
         "Gas": "nan",
         "ISO 3166-1 alpha-3": "AFG",
         "Oil": "nan",
         "Other": "nan",
         "Per Capita": "nan",
         "Total": "0.0",
         "Year": "1754",
         "_deepnote_index_column": "4"
        },
        {
         "Cement": "nan",
         "Coal": "nan",
         "Country": "Afghanistan",
         "Flaring": "nan",
         "Gas": "nan",
         "ISO 3166-1 alpha-3": "AFG",
         "Oil": "nan",
         "Other": "nan",
         "Per Capita": "nan",
         "Total": "0.0",
         "Year": "1755",
         "_deepnote_index_column": "5"
        },
        {
         "Cement": "nan",
         "Coal": "nan",
         "Country": "Afghanistan",
         "Flaring": "nan",
         "Gas": "nan",
         "ISO 3166-1 alpha-3": "AFG",
         "Oil": "nan",
         "Other": "nan",
         "Per Capita": "nan",
         "Total": "0.0",
         "Year": "1756",
         "_deepnote_index_column": "6"
        },
        {
         "Cement": "nan",
         "Coal": "nan",
         "Country": "Afghanistan",
         "Flaring": "nan",
         "Gas": "nan",
         "ISO 3166-1 alpha-3": "AFG",
         "Oil": "nan",
         "Other": "nan",
         "Per Capita": "nan",
         "Total": "0.0",
         "Year": "1757",
         "_deepnote_index_column": "7"
        },
        {
         "Cement": "nan",
         "Coal": "nan",
         "Country": "Afghanistan",
         "Flaring": "nan",
         "Gas": "nan",
         "ISO 3166-1 alpha-3": "AFG",
         "Oil": "nan",
         "Other": "nan",
         "Per Capita": "nan",
         "Total": "0.0",
         "Year": "1758",
         "_deepnote_index_column": "8"
        },
        {
         "Cement": "nan",
         "Coal": "nan",
         "Country": "Afghanistan",
         "Flaring": "nan",
         "Gas": "nan",
         "ISO 3166-1 alpha-3": "AFG",
         "Oil": "nan",
         "Other": "nan",
         "Per Capita": "nan",
         "Total": "0.0",
         "Year": "1759",
         "_deepnote_index_column": "9"
        }
       ]
      },
      "text/html": [
       "<div>\n",
       "<style scoped>\n",
       "    .dataframe tbody tr th:only-of-type {\n",
       "        vertical-align: middle;\n",
       "    }\n",
       "\n",
       "    .dataframe tbody tr th {\n",
       "        vertical-align: top;\n",
       "    }\n",
       "\n",
       "    .dataframe thead th {\n",
       "        text-align: right;\n",
       "    }\n",
       "</style>\n",
       "<table border=\"1\" class=\"dataframe\">\n",
       "  <thead>\n",
       "    <tr style=\"text-align: right;\">\n",
       "      <th></th>\n",
       "      <th>Country</th>\n",
       "      <th>ISO 3166-1 alpha-3</th>\n",
       "      <th>Year</th>\n",
       "      <th>Total</th>\n",
       "      <th>Coal</th>\n",
       "      <th>Oil</th>\n",
       "      <th>Gas</th>\n",
       "      <th>Cement</th>\n",
       "      <th>Flaring</th>\n",
       "      <th>Other</th>\n",
       "      <th>Per Capita</th>\n",
       "    </tr>\n",
       "  </thead>\n",
       "  <tbody>\n",
       "    <tr>\n",
       "      <th>0</th>\n",
       "      <td>Afghanistan</td>\n",
       "      <td>AFG</td>\n",
       "      <td>1750</td>\n",
       "      <td>0.000000</td>\n",
       "      <td>NaN</td>\n",
       "      <td>NaN</td>\n",
       "      <td>NaN</td>\n",
       "      <td>NaN</td>\n",
       "      <td>NaN</td>\n",
       "      <td>NaN</td>\n",
       "      <td>NaN</td>\n",
       "    </tr>\n",
       "    <tr>\n",
       "      <th>1</th>\n",
       "      <td>Afghanistan</td>\n",
       "      <td>AFG</td>\n",
       "      <td>1751</td>\n",
       "      <td>0.000000</td>\n",
       "      <td>NaN</td>\n",
       "      <td>NaN</td>\n",
       "      <td>NaN</td>\n",
       "      <td>NaN</td>\n",
       "      <td>NaN</td>\n",
       "      <td>NaN</td>\n",
       "      <td>NaN</td>\n",
       "    </tr>\n",
       "    <tr>\n",
       "      <th>2</th>\n",
       "      <td>Afghanistan</td>\n",
       "      <td>AFG</td>\n",
       "      <td>1752</td>\n",
       "      <td>0.000000</td>\n",
       "      <td>NaN</td>\n",
       "      <td>NaN</td>\n",
       "      <td>NaN</td>\n",
       "      <td>NaN</td>\n",
       "      <td>NaN</td>\n",
       "      <td>NaN</td>\n",
       "      <td>NaN</td>\n",
       "    </tr>\n",
       "    <tr>\n",
       "      <th>3</th>\n",
       "      <td>Afghanistan</td>\n",
       "      <td>AFG</td>\n",
       "      <td>1753</td>\n",
       "      <td>0.000000</td>\n",
       "      <td>NaN</td>\n",
       "      <td>NaN</td>\n",
       "      <td>NaN</td>\n",
       "      <td>NaN</td>\n",
       "      <td>NaN</td>\n",
       "      <td>NaN</td>\n",
       "      <td>NaN</td>\n",
       "    </tr>\n",
       "    <tr>\n",
       "      <th>4</th>\n",
       "      <td>Afghanistan</td>\n",
       "      <td>AFG</td>\n",
       "      <td>1754</td>\n",
       "      <td>0.000000</td>\n",
       "      <td>NaN</td>\n",
       "      <td>NaN</td>\n",
       "      <td>NaN</td>\n",
       "      <td>NaN</td>\n",
       "      <td>NaN</td>\n",
       "      <td>NaN</td>\n",
       "      <td>NaN</td>\n",
       "    </tr>\n",
       "    <tr>\n",
       "      <th>...</th>\n",
       "      <td>...</td>\n",
       "      <td>...</td>\n",
       "      <td>...</td>\n",
       "      <td>...</td>\n",
       "      <td>...</td>\n",
       "      <td>...</td>\n",
       "      <td>...</td>\n",
       "      <td>...</td>\n",
       "      <td>...</td>\n",
       "      <td>...</td>\n",
       "      <td>...</td>\n",
       "    </tr>\n",
       "    <tr>\n",
       "      <th>63099</th>\n",
       "      <td>Global</td>\n",
       "      <td>WLD</td>\n",
       "      <td>2017</td>\n",
       "      <td>36096.739276</td>\n",
       "      <td>14506.973805</td>\n",
       "      <td>12242.627935</td>\n",
       "      <td>7144.928128</td>\n",
       "      <td>1507.923185</td>\n",
       "      <td>391.992176</td>\n",
       "      <td>302.294047</td>\n",
       "      <td>4.749682</td>\n",
       "    </tr>\n",
       "    <tr>\n",
       "      <th>63100</th>\n",
       "      <td>Global</td>\n",
       "      <td>WLD</td>\n",
       "      <td>2018</td>\n",
       "      <td>36826.506600</td>\n",
       "      <td>14746.830688</td>\n",
       "      <td>12266.016285</td>\n",
       "      <td>7529.846784</td>\n",
       "      <td>1569.218392</td>\n",
       "      <td>412.115746</td>\n",
       "      <td>302.478706</td>\n",
       "      <td>4.792753</td>\n",
       "    </tr>\n",
       "    <tr>\n",
       "      <th>63101</th>\n",
       "      <td>Global</td>\n",
       "      <td>WLD</td>\n",
       "      <td>2019</td>\n",
       "      <td>37082.558969</td>\n",
       "      <td>14725.978025</td>\n",
       "      <td>12345.653374</td>\n",
       "      <td>7647.528220</td>\n",
       "      <td>1617.506786</td>\n",
       "      <td>439.253991</td>\n",
       "      <td>306.638573</td>\n",
       "      <td>4.775633</td>\n",
       "    </tr>\n",
       "    <tr>\n",
       "      <th>63102</th>\n",
       "      <td>Global</td>\n",
       "      <td>WLD</td>\n",
       "      <td>2020</td>\n",
       "      <td>35264.085734</td>\n",
       "      <td>14174.564010</td>\n",
       "      <td>11191.808551</td>\n",
       "      <td>7556.290283</td>\n",
       "      <td>1637.537532</td>\n",
       "      <td>407.583673</td>\n",
       "      <td>296.301685</td>\n",
       "      <td>4.497423</td>\n",
       "    </tr>\n",
       "    <tr>\n",
       "      <th>63103</th>\n",
       "      <td>Global</td>\n",
       "      <td>WLD</td>\n",
       "      <td>2021</td>\n",
       "      <td>37123.850352</td>\n",
       "      <td>14979.598083</td>\n",
       "      <td>11837.159116</td>\n",
       "      <td>7921.829472</td>\n",
       "      <td>1672.592372</td>\n",
       "      <td>416.525563</td>\n",
       "      <td>296.145746</td>\n",
       "      <td>4.693699</td>\n",
       "    </tr>\n",
       "  </tbody>\n",
       "</table>\n",
       "<p>63104 rows × 11 columns</p>\n",
       "</div>"
      ],
      "text/plain": [
       "           Country ISO 3166-1 alpha-3  Year         Total          Coal  \\\n",
       "0      Afghanistan                AFG  1750      0.000000           NaN   \n",
       "1      Afghanistan                AFG  1751      0.000000           NaN   \n",
       "2      Afghanistan                AFG  1752      0.000000           NaN   \n",
       "3      Afghanistan                AFG  1753      0.000000           NaN   \n",
       "4      Afghanistan                AFG  1754      0.000000           NaN   \n",
       "...            ...                ...   ...           ...           ...   \n",
       "63099       Global                WLD  2017  36096.739276  14506.973805   \n",
       "63100       Global                WLD  2018  36826.506600  14746.830688   \n",
       "63101       Global                WLD  2019  37082.558969  14725.978025   \n",
       "63102       Global                WLD  2020  35264.085734  14174.564010   \n",
       "63103       Global                WLD  2021  37123.850352  14979.598083   \n",
       "\n",
       "                Oil          Gas       Cement     Flaring       Other  \\\n",
       "0               NaN          NaN          NaN         NaN         NaN   \n",
       "1               NaN          NaN          NaN         NaN         NaN   \n",
       "2               NaN          NaN          NaN         NaN         NaN   \n",
       "3               NaN          NaN          NaN         NaN         NaN   \n",
       "4               NaN          NaN          NaN         NaN         NaN   \n",
       "...             ...          ...          ...         ...         ...   \n",
       "63099  12242.627935  7144.928128  1507.923185  391.992176  302.294047   \n",
       "63100  12266.016285  7529.846784  1569.218392  412.115746  302.478706   \n",
       "63101  12345.653374  7647.528220  1617.506786  439.253991  306.638573   \n",
       "63102  11191.808551  7556.290283  1637.537532  407.583673  296.301685   \n",
       "63103  11837.159116  7921.829472  1672.592372  416.525563  296.145746   \n",
       "\n",
       "       Per Capita  \n",
       "0             NaN  \n",
       "1             NaN  \n",
       "2             NaN  \n",
       "3             NaN  \n",
       "4             NaN  \n",
       "...           ...  \n",
       "63099    4.749682  \n",
       "63100    4.792753  \n",
       "63101    4.775633  \n",
       "63102    4.497423  \n",
       "63103    4.693699  \n",
       "\n",
       "[63104 rows x 11 columns]"
      ]
     },
     "execution_count": 44,
     "metadata": {},
     "output_type": "execute_result"
    }
   ],
   "source": [
    "# Import and read a csv file\n"
   ]
  },
  {
   "cell_type": "markdown",
   "metadata": {
    "cell_id": "59cdbc263daf4a6ab9352cefb9a4bbe3",
    "deepnote_cell_type": "markdown"
   },
   "source": [
    "### 2.2.2. Import a xlsx File\n",
    "To import a xlsx file, we use the *read_excel* method."
   ]
  },
  {
   "cell_type": "code",
   "execution_count": 45,
   "metadata": {
    "cell_id": "e670f3640b574e3ca2d9bbeecb52f8ad",
    "deepnote_cell_type": "code",
    "deepnote_to_be_reexecuted": false,
    "execution_millis": 3454,
    "execution_start": 1681998658264,
    "source_hash": "e7737c4e"
   },
   "outputs": [
    {
     "name": "stdout",
     "output_type": "stream",
     "text": [
      "Collecting openpyxl\n",
      "  Downloading openpyxl-3.1.2-py2.py3-none-any.whl (249 kB)\n",
      "\u001b[2K     \u001b[90m━━━━━━━━━━━━━━━━━━━━━━━━━━━━━━━━━━━━━━\u001b[0m \u001b[32m250.0/250.0 KB\u001b[0m \u001b[31m29.7 MB/s\u001b[0m eta \u001b[36m0:00:00\u001b[0m\n",
      "\u001b[?25hCollecting et-xmlfile\n",
      "  Downloading et_xmlfile-1.1.0-py3-none-any.whl (4.7 kB)\n",
      "Installing collected packages: et-xmlfile, openpyxl\n",
      "Successfully installed et-xmlfile-1.1.0 openpyxl-3.1.2\n",
      "\u001b[33mWARNING: You are using pip version 22.0.4; however, version 23.1 is available.\n",
      "You should consider upgrading via the '/root/venv/bin/python -m pip install --upgrade pip' command.\u001b[0m\u001b[33m\n",
      "\u001b[0m"
     ]
    }
   ],
   "source": [
    "# Convert csv file to xlsx file\n",
    "!pip install openpyxl\n",
    "#df1.to_excel(\"Datos/CO2Emissions.xlsx\")"
   ]
  },
  {
   "cell_type": "code",
   "execution_count": 46,
   "metadata": {
    "cell_id": "c5a3eb6dd3e84c4aa79092b79d73691a",
    "deepnote_cell_type": "code",
    "deepnote_to_be_reexecuted": false,
    "execution_millis": 13291,
    "execution_start": 1681998661720,
    "source_hash": "76fd7101"
   },
   "outputs": [
    {
     "data": {
      "application/vnd.deepnote.dataframe.v3+json": {
       "column_count": 12,
       "columns": [
        {
         "dtype": "int64",
         "name": "Unnamed: 0",
         "stats": {
          "histogram": [
           {
            "bin_end": 6310.3,
            "bin_start": 0,
            "count": 6311
           },
           {
            "bin_end": 12620.6,
            "bin_start": 6310.3,
            "count": 6310
           },
           {
            "bin_end": 18930.9,
            "bin_start": 12620.6,
            "count": 6310
           },
           {
            "bin_end": 25241.2,
            "bin_start": 18930.9,
            "count": 6311
           },
           {
            "bin_end": 31551.5,
            "bin_start": 25241.2,
            "count": 6310
           },
           {
            "bin_end": 37861.8,
            "bin_start": 31551.5,
            "count": 6310
           },
           {
            "bin_end": 44172.1,
            "bin_start": 37861.8,
            "count": 6311
           },
           {
            "bin_end": 50482.4,
            "bin_start": 44172.1,
            "count": 6310
           },
           {
            "bin_end": 56792.700000000004,
            "bin_start": 50482.4,
            "count": 6310
           },
           {
            "bin_end": 63103,
            "bin_start": 56792.700000000004,
            "count": 6311
           }
          ],
          "max": "63103",
          "min": "0",
          "nan_count": 0,
          "unique_count": 63104
         }
        },
        {
         "dtype": "object",
         "name": "Country"
        },
        {
         "dtype": "object",
         "name": "ISO 3166-1 alpha-3"
        },
        {
         "dtype": "int64",
         "name": "Year"
        },
        {
         "dtype": "float64",
         "name": "Total"
        },
        {
         "dtype": "float64",
         "name": "Coal"
        },
        {
         "dtype": "float64",
         "name": "Oil"
        },
        {
         "dtype": "float64",
         "name": "Gas"
        },
        {
         "dtype": "float64",
         "name": "Cement"
        },
        {
         "dtype": "float64",
         "name": "Flaring"
        },
        {
         "dtype": "float64",
         "name": "Other"
        },
        {
         "dtype": "float64",
         "name": "Per Capita"
        },
        {
         "dtype": "int64",
         "name": "_deepnote_index_column"
        }
       ],
       "row_count": 63104,
       "rows": [
        {
         "Cement": "nan",
         "Coal": "nan",
         "Country": "Afghanistan",
         "Flaring": "nan",
         "Gas": "nan",
         "ISO 3166-1 alpha-3": "AFG",
         "Oil": "nan",
         "Other": "nan",
         "Per Capita": "nan",
         "Total": "0.0",
         "Unnamed: 0": "0",
         "Year": "1750",
         "_deepnote_index_column": "0"
        },
        {
         "Cement": "nan",
         "Coal": "nan",
         "Country": "Afghanistan",
         "Flaring": "nan",
         "Gas": "nan",
         "ISO 3166-1 alpha-3": "AFG",
         "Oil": "nan",
         "Other": "nan",
         "Per Capita": "nan",
         "Total": "0.0",
         "Unnamed: 0": "1",
         "Year": "1751",
         "_deepnote_index_column": "1"
        },
        {
         "Cement": "nan",
         "Coal": "nan",
         "Country": "Afghanistan",
         "Flaring": "nan",
         "Gas": "nan",
         "ISO 3166-1 alpha-3": "AFG",
         "Oil": "nan",
         "Other": "nan",
         "Per Capita": "nan",
         "Total": "0.0",
         "Unnamed: 0": "2",
         "Year": "1752",
         "_deepnote_index_column": "2"
        },
        {
         "Cement": "nan",
         "Coal": "nan",
         "Country": "Afghanistan",
         "Flaring": "nan",
         "Gas": "nan",
         "ISO 3166-1 alpha-3": "AFG",
         "Oil": "nan",
         "Other": "nan",
         "Per Capita": "nan",
         "Total": "0.0",
         "Unnamed: 0": "3",
         "Year": "1753",
         "_deepnote_index_column": "3"
        },
        {
         "Cement": "nan",
         "Coal": "nan",
         "Country": "Afghanistan",
         "Flaring": "nan",
         "Gas": "nan",
         "ISO 3166-1 alpha-3": "AFG",
         "Oil": "nan",
         "Other": "nan",
         "Per Capita": "nan",
         "Total": "0.0",
         "Unnamed: 0": "4",
         "Year": "1754",
         "_deepnote_index_column": "4"
        },
        {
         "Cement": "nan",
         "Coal": "nan",
         "Country": "Afghanistan",
         "Flaring": "nan",
         "Gas": "nan",
         "ISO 3166-1 alpha-3": "AFG",
         "Oil": "nan",
         "Other": "nan",
         "Per Capita": "nan",
         "Total": "0.0",
         "Unnamed: 0": "5",
         "Year": "1755",
         "_deepnote_index_column": "5"
        },
        {
         "Cement": "nan",
         "Coal": "nan",
         "Country": "Afghanistan",
         "Flaring": "nan",
         "Gas": "nan",
         "ISO 3166-1 alpha-3": "AFG",
         "Oil": "nan",
         "Other": "nan",
         "Per Capita": "nan",
         "Total": "0.0",
         "Unnamed: 0": "6",
         "Year": "1756",
         "_deepnote_index_column": "6"
        },
        {
         "Cement": "nan",
         "Coal": "nan",
         "Country": "Afghanistan",
         "Flaring": "nan",
         "Gas": "nan",
         "ISO 3166-1 alpha-3": "AFG",
         "Oil": "nan",
         "Other": "nan",
         "Per Capita": "nan",
         "Total": "0.0",
         "Unnamed: 0": "7",
         "Year": "1757",
         "_deepnote_index_column": "7"
        },
        {
         "Cement": "nan",
         "Coal": "nan",
         "Country": "Afghanistan",
         "Flaring": "nan",
         "Gas": "nan",
         "ISO 3166-1 alpha-3": "AFG",
         "Oil": "nan",
         "Other": "nan",
         "Per Capita": "nan",
         "Total": "0.0",
         "Unnamed: 0": "8",
         "Year": "1758",
         "_deepnote_index_column": "8"
        },
        {
         "Cement": "nan",
         "Coal": "nan",
         "Country": "Afghanistan",
         "Flaring": "nan",
         "Gas": "nan",
         "ISO 3166-1 alpha-3": "AFG",
         "Oil": "nan",
         "Other": "nan",
         "Per Capita": "nan",
         "Total": "0.0",
         "Unnamed: 0": "9",
         "Year": "1759",
         "_deepnote_index_column": "9"
        }
       ]
      },
      "text/html": [
       "<div>\n",
       "<style scoped>\n",
       "    .dataframe tbody tr th:only-of-type {\n",
       "        vertical-align: middle;\n",
       "    }\n",
       "\n",
       "    .dataframe tbody tr th {\n",
       "        vertical-align: top;\n",
       "    }\n",
       "\n",
       "    .dataframe thead th {\n",
       "        text-align: right;\n",
       "    }\n",
       "</style>\n",
       "<table border=\"1\" class=\"dataframe\">\n",
       "  <thead>\n",
       "    <tr style=\"text-align: right;\">\n",
       "      <th></th>\n",
       "      <th>Unnamed: 0</th>\n",
       "      <th>Country</th>\n",
       "      <th>ISO 3166-1 alpha-3</th>\n",
       "      <th>Year</th>\n",
       "      <th>Total</th>\n",
       "      <th>Coal</th>\n",
       "      <th>Oil</th>\n",
       "      <th>Gas</th>\n",
       "      <th>Cement</th>\n",
       "      <th>Flaring</th>\n",
       "      <th>Other</th>\n",
       "      <th>Per Capita</th>\n",
       "    </tr>\n",
       "  </thead>\n",
       "  <tbody>\n",
       "    <tr>\n",
       "      <th>0</th>\n",
       "      <td>0</td>\n",
       "      <td>Afghanistan</td>\n",
       "      <td>AFG</td>\n",
       "      <td>1750</td>\n",
       "      <td>0.000000</td>\n",
       "      <td>NaN</td>\n",
       "      <td>NaN</td>\n",
       "      <td>NaN</td>\n",
       "      <td>NaN</td>\n",
       "      <td>NaN</td>\n",
       "      <td>NaN</td>\n",
       "      <td>NaN</td>\n",
       "    </tr>\n",
       "    <tr>\n",
       "      <th>1</th>\n",
       "      <td>1</td>\n",
       "      <td>Afghanistan</td>\n",
       "      <td>AFG</td>\n",
       "      <td>1751</td>\n",
       "      <td>0.000000</td>\n",
       "      <td>NaN</td>\n",
       "      <td>NaN</td>\n",
       "      <td>NaN</td>\n",
       "      <td>NaN</td>\n",
       "      <td>NaN</td>\n",
       "      <td>NaN</td>\n",
       "      <td>NaN</td>\n",
       "    </tr>\n",
       "    <tr>\n",
       "      <th>2</th>\n",
       "      <td>2</td>\n",
       "      <td>Afghanistan</td>\n",
       "      <td>AFG</td>\n",
       "      <td>1752</td>\n",
       "      <td>0.000000</td>\n",
       "      <td>NaN</td>\n",
       "      <td>NaN</td>\n",
       "      <td>NaN</td>\n",
       "      <td>NaN</td>\n",
       "      <td>NaN</td>\n",
       "      <td>NaN</td>\n",
       "      <td>NaN</td>\n",
       "    </tr>\n",
       "    <tr>\n",
       "      <th>3</th>\n",
       "      <td>3</td>\n",
       "      <td>Afghanistan</td>\n",
       "      <td>AFG</td>\n",
       "      <td>1753</td>\n",
       "      <td>0.000000</td>\n",
       "      <td>NaN</td>\n",
       "      <td>NaN</td>\n",
       "      <td>NaN</td>\n",
       "      <td>NaN</td>\n",
       "      <td>NaN</td>\n",
       "      <td>NaN</td>\n",
       "      <td>NaN</td>\n",
       "    </tr>\n",
       "    <tr>\n",
       "      <th>4</th>\n",
       "      <td>4</td>\n",
       "      <td>Afghanistan</td>\n",
       "      <td>AFG</td>\n",
       "      <td>1754</td>\n",
       "      <td>0.000000</td>\n",
       "      <td>NaN</td>\n",
       "      <td>NaN</td>\n",
       "      <td>NaN</td>\n",
       "      <td>NaN</td>\n",
       "      <td>NaN</td>\n",
       "      <td>NaN</td>\n",
       "      <td>NaN</td>\n",
       "    </tr>\n",
       "    <tr>\n",
       "      <th>...</th>\n",
       "      <td>...</td>\n",
       "      <td>...</td>\n",
       "      <td>...</td>\n",
       "      <td>...</td>\n",
       "      <td>...</td>\n",
       "      <td>...</td>\n",
       "      <td>...</td>\n",
       "      <td>...</td>\n",
       "      <td>...</td>\n",
       "      <td>...</td>\n",
       "      <td>...</td>\n",
       "      <td>...</td>\n",
       "    </tr>\n",
       "    <tr>\n",
       "      <th>63099</th>\n",
       "      <td>63099</td>\n",
       "      <td>Global</td>\n",
       "      <td>WLD</td>\n",
       "      <td>2017</td>\n",
       "      <td>36096.739276</td>\n",
       "      <td>14506.973805</td>\n",
       "      <td>12242.627935</td>\n",
       "      <td>7144.928128</td>\n",
       "      <td>1507.923185</td>\n",
       "      <td>391.992176</td>\n",
       "      <td>302.294047</td>\n",
       "      <td>4.749682</td>\n",
       "    </tr>\n",
       "    <tr>\n",
       "      <th>63100</th>\n",
       "      <td>63100</td>\n",
       "      <td>Global</td>\n",
       "      <td>WLD</td>\n",
       "      <td>2018</td>\n",
       "      <td>36826.506600</td>\n",
       "      <td>14746.830688</td>\n",
       "      <td>12266.016285</td>\n",
       "      <td>7529.846784</td>\n",
       "      <td>1569.218392</td>\n",
       "      <td>412.115746</td>\n",
       "      <td>302.478706</td>\n",
       "      <td>4.792753</td>\n",
       "    </tr>\n",
       "    <tr>\n",
       "      <th>63101</th>\n",
       "      <td>63101</td>\n",
       "      <td>Global</td>\n",
       "      <td>WLD</td>\n",
       "      <td>2019</td>\n",
       "      <td>37082.558969</td>\n",
       "      <td>14725.978025</td>\n",
       "      <td>12345.653374</td>\n",
       "      <td>7647.528220</td>\n",
       "      <td>1617.506786</td>\n",
       "      <td>439.253991</td>\n",
       "      <td>306.638573</td>\n",
       "      <td>4.775633</td>\n",
       "    </tr>\n",
       "    <tr>\n",
       "      <th>63102</th>\n",
       "      <td>63102</td>\n",
       "      <td>Global</td>\n",
       "      <td>WLD</td>\n",
       "      <td>2020</td>\n",
       "      <td>35264.085734</td>\n",
       "      <td>14174.564010</td>\n",
       "      <td>11191.808551</td>\n",
       "      <td>7556.290283</td>\n",
       "      <td>1637.537532</td>\n",
       "      <td>407.583673</td>\n",
       "      <td>296.301685</td>\n",
       "      <td>4.497423</td>\n",
       "    </tr>\n",
       "    <tr>\n",
       "      <th>63103</th>\n",
       "      <td>63103</td>\n",
       "      <td>Global</td>\n",
       "      <td>WLD</td>\n",
       "      <td>2021</td>\n",
       "      <td>37123.850352</td>\n",
       "      <td>14979.598083</td>\n",
       "      <td>11837.159116</td>\n",
       "      <td>7921.829472</td>\n",
       "      <td>1672.592372</td>\n",
       "      <td>416.525563</td>\n",
       "      <td>296.145746</td>\n",
       "      <td>4.693699</td>\n",
       "    </tr>\n",
       "  </tbody>\n",
       "</table>\n",
       "<p>63104 rows × 12 columns</p>\n",
       "</div>"
      ],
      "text/plain": [
       "       Unnamed: 0      Country ISO 3166-1 alpha-3  Year         Total  \\\n",
       "0               0  Afghanistan                AFG  1750      0.000000   \n",
       "1               1  Afghanistan                AFG  1751      0.000000   \n",
       "2               2  Afghanistan                AFG  1752      0.000000   \n",
       "3               3  Afghanistan                AFG  1753      0.000000   \n",
       "4               4  Afghanistan                AFG  1754      0.000000   \n",
       "...           ...          ...                ...   ...           ...   \n",
       "63099       63099       Global                WLD  2017  36096.739276   \n",
       "63100       63100       Global                WLD  2018  36826.506600   \n",
       "63101       63101       Global                WLD  2019  37082.558969   \n",
       "63102       63102       Global                WLD  2020  35264.085734   \n",
       "63103       63103       Global                WLD  2021  37123.850352   \n",
       "\n",
       "               Coal           Oil          Gas       Cement     Flaring  \\\n",
       "0               NaN           NaN          NaN          NaN         NaN   \n",
       "1               NaN           NaN          NaN          NaN         NaN   \n",
       "2               NaN           NaN          NaN          NaN         NaN   \n",
       "3               NaN           NaN          NaN          NaN         NaN   \n",
       "4               NaN           NaN          NaN          NaN         NaN   \n",
       "...             ...           ...          ...          ...         ...   \n",
       "63099  14506.973805  12242.627935  7144.928128  1507.923185  391.992176   \n",
       "63100  14746.830688  12266.016285  7529.846784  1569.218392  412.115746   \n",
       "63101  14725.978025  12345.653374  7647.528220  1617.506786  439.253991   \n",
       "63102  14174.564010  11191.808551  7556.290283  1637.537532  407.583673   \n",
       "63103  14979.598083  11837.159116  7921.829472  1672.592372  416.525563   \n",
       "\n",
       "            Other  Per Capita  \n",
       "0             NaN         NaN  \n",
       "1             NaN         NaN  \n",
       "2             NaN         NaN  \n",
       "3             NaN         NaN  \n",
       "4             NaN         NaN  \n",
       "...           ...         ...  \n",
       "63099  302.294047    4.749682  \n",
       "63100  302.478706    4.792753  \n",
       "63101  306.638573    4.775633  \n",
       "63102  296.301685    4.497423  \n",
       "63103  296.145746    4.693699  \n",
       "\n",
       "[63104 rows x 12 columns]"
      ]
     },
     "execution_count": 46,
     "metadata": {},
     "output_type": "execute_result"
    }
   ],
   "source": [
    "# Import and read a xlsx file\n"
   ]
  },
  {
   "cell_type": "markdown",
   "metadata": {
    "cell_id": "66fe2964b9604eb38eb35dde1def2312",
    "deepnote_cell_type": "markdown"
   },
   "source": [
    "### 2.2.3. Import Data from Database\n",
    "To import tables from a database, we should use the **sqlaclhemy library** by calling its *create_engine* module.Then, we can use the *read_sql_query* pandas's method.\n",
    "\n",
    "**SQLiteStudio:** https://sqlitestudio.pl/"
   ]
  },
  {
   "cell_type": "code",
   "execution_count": 47,
   "metadata": {
    "cell_id": "e0986b9ab9b74348a277be91c5d2cfd2",
    "deepnote_cell_type": "code",
    "deepnote_to_be_reexecuted": false,
    "execution_millis": 708,
    "execution_start": 1681998675054,
    "source_hash": "4af74524"
   },
   "outputs": [
    {
     "data": {
      "application/vnd.deepnote.dataframe.v3+json": {
       "column_count": 11,
       "columns": [
        {
         "dtype": "object",
         "name": "Country",
         "stats": {
          "categories": [
           {
            "count": 5,
            "name": "Afghanistan"
           }
          ],
          "nan_count": 0,
          "unique_count": 1
         }
        },
        {
         "dtype": "object",
         "name": "ISO 3166-1 alpha-3",
         "stats": {
          "categories": [
           {
            "count": 5,
            "name": "AFG"
           }
          ],
          "nan_count": 0,
          "unique_count": 1
         }
        },
        {
         "dtype": "object",
         "name": "Year",
         "stats": {
          "categories": [
           {
            "count": 1,
            "name": "1750"
           },
           {
            "count": 1,
            "name": "1751"
           },
           {
            "count": 3,
            "name": "3 others"
           }
          ],
          "nan_count": 0,
          "unique_count": 5
         }
        },
        {
         "dtype": "object",
         "name": "Total",
         "stats": {
          "categories": [
           {
            "count": 5,
            "name": "0"
           }
          ],
          "nan_count": 0,
          "unique_count": 1
         }
        },
        {
         "dtype": "object",
         "name": "Coal",
         "stats": {
          "categories": [
           {
            "count": 5,
            "name": ""
           }
          ],
          "nan_count": 0,
          "unique_count": 1
         }
        },
        {
         "dtype": "object",
         "name": "Oil",
         "stats": {
          "categories": [
           {
            "count": 5,
            "name": ""
           }
          ],
          "nan_count": 0,
          "unique_count": 1
         }
        },
        {
         "dtype": "object",
         "name": "Gas",
         "stats": {
          "categories": [
           {
            "count": 5,
            "name": ""
           }
          ],
          "nan_count": 0,
          "unique_count": 1
         }
        },
        {
         "dtype": "object",
         "name": "Cement",
         "stats": {
          "categories": [
           {
            "count": 5,
            "name": ""
           }
          ],
          "nan_count": 0,
          "unique_count": 1
         }
        },
        {
         "dtype": "object",
         "name": "Flaring",
         "stats": {
          "categories": [
           {
            "count": 5,
            "name": ""
           }
          ],
          "nan_count": 0,
          "unique_count": 1
         }
        },
        {
         "dtype": "object",
         "name": "Other",
         "stats": {
          "categories": [
           {
            "count": 5,
            "name": ""
           }
          ],
          "nan_count": 0,
          "unique_count": 1
         }
        },
        {
         "dtype": "object",
         "name": "Per Capita",
         "stats": {
          "categories": [
           {
            "count": 5,
            "name": ""
           }
          ],
          "nan_count": 0,
          "unique_count": 1
         }
        },
        {
         "dtype": "int64",
         "name": "_deepnote_index_column"
        }
       ],
       "row_count": 5,
       "rows": [
        {
         "Cement": "",
         "Coal": "",
         "Country": "Afghanistan",
         "Flaring": "",
         "Gas": "",
         "ISO 3166-1 alpha-3": "AFG",
         "Oil": "",
         "Other": "",
         "Per Capita": "",
         "Total": "0",
         "Year": "1750",
         "_deepnote_index_column": "0"
        },
        {
         "Cement": "",
         "Coal": "",
         "Country": "Afghanistan",
         "Flaring": "",
         "Gas": "",
         "ISO 3166-1 alpha-3": "AFG",
         "Oil": "",
         "Other": "",
         "Per Capita": "",
         "Total": "0",
         "Year": "1751",
         "_deepnote_index_column": "1"
        },
        {
         "Cement": "",
         "Coal": "",
         "Country": "Afghanistan",
         "Flaring": "",
         "Gas": "",
         "ISO 3166-1 alpha-3": "AFG",
         "Oil": "",
         "Other": "",
         "Per Capita": "",
         "Total": "0",
         "Year": "1752",
         "_deepnote_index_column": "2"
        },
        {
         "Cement": "",
         "Coal": "",
         "Country": "Afghanistan",
         "Flaring": "",
         "Gas": "",
         "ISO 3166-1 alpha-3": "AFG",
         "Oil": "",
         "Other": "",
         "Per Capita": "",
         "Total": "0",
         "Year": "1753",
         "_deepnote_index_column": "3"
        },
        {
         "Cement": "",
         "Coal": "",
         "Country": "Afghanistan",
         "Flaring": "",
         "Gas": "",
         "ISO 3166-1 alpha-3": "AFG",
         "Oil": "",
         "Other": "",
         "Per Capita": "",
         "Total": "0",
         "Year": "1754",
         "_deepnote_index_column": "4"
        }
       ]
      },
      "text/html": [
       "<div>\n",
       "<style scoped>\n",
       "    .dataframe tbody tr th:only-of-type {\n",
       "        vertical-align: middle;\n",
       "    }\n",
       "\n",
       "    .dataframe tbody tr th {\n",
       "        vertical-align: top;\n",
       "    }\n",
       "\n",
       "    .dataframe thead th {\n",
       "        text-align: right;\n",
       "    }\n",
       "</style>\n",
       "<table border=\"1\" class=\"dataframe\">\n",
       "  <thead>\n",
       "    <tr style=\"text-align: right;\">\n",
       "      <th></th>\n",
       "      <th>Country</th>\n",
       "      <th>ISO 3166-1 alpha-3</th>\n",
       "      <th>Year</th>\n",
       "      <th>Total</th>\n",
       "      <th>Coal</th>\n",
       "      <th>Oil</th>\n",
       "      <th>Gas</th>\n",
       "      <th>Cement</th>\n",
       "      <th>Flaring</th>\n",
       "      <th>Other</th>\n",
       "      <th>Per Capita</th>\n",
       "    </tr>\n",
       "  </thead>\n",
       "  <tbody>\n",
       "    <tr>\n",
       "      <th>0</th>\n",
       "      <td>Afghanistan</td>\n",
       "      <td>AFG</td>\n",
       "      <td>1750</td>\n",
       "      <td>0</td>\n",
       "      <td></td>\n",
       "      <td></td>\n",
       "      <td></td>\n",
       "      <td></td>\n",
       "      <td></td>\n",
       "      <td></td>\n",
       "      <td></td>\n",
       "    </tr>\n",
       "    <tr>\n",
       "      <th>1</th>\n",
       "      <td>Afghanistan</td>\n",
       "      <td>AFG</td>\n",
       "      <td>1751</td>\n",
       "      <td>0</td>\n",
       "      <td></td>\n",
       "      <td></td>\n",
       "      <td></td>\n",
       "      <td></td>\n",
       "      <td></td>\n",
       "      <td></td>\n",
       "      <td></td>\n",
       "    </tr>\n",
       "    <tr>\n",
       "      <th>2</th>\n",
       "      <td>Afghanistan</td>\n",
       "      <td>AFG</td>\n",
       "      <td>1752</td>\n",
       "      <td>0</td>\n",
       "      <td></td>\n",
       "      <td></td>\n",
       "      <td></td>\n",
       "      <td></td>\n",
       "      <td></td>\n",
       "      <td></td>\n",
       "      <td></td>\n",
       "    </tr>\n",
       "    <tr>\n",
       "      <th>3</th>\n",
       "      <td>Afghanistan</td>\n",
       "      <td>AFG</td>\n",
       "      <td>1753</td>\n",
       "      <td>0</td>\n",
       "      <td></td>\n",
       "      <td></td>\n",
       "      <td></td>\n",
       "      <td></td>\n",
       "      <td></td>\n",
       "      <td></td>\n",
       "      <td></td>\n",
       "    </tr>\n",
       "    <tr>\n",
       "      <th>4</th>\n",
       "      <td>Afghanistan</td>\n",
       "      <td>AFG</td>\n",
       "      <td>1754</td>\n",
       "      <td>0</td>\n",
       "      <td></td>\n",
       "      <td></td>\n",
       "      <td></td>\n",
       "      <td></td>\n",
       "      <td></td>\n",
       "      <td></td>\n",
       "      <td></td>\n",
       "    </tr>\n",
       "  </tbody>\n",
       "</table>\n",
       "</div>"
      ],
      "text/plain": [
       "       Country ISO 3166-1 alpha-3  Year Total Coal Oil Gas Cement Flaring  \\\n",
       "0  Afghanistan                AFG  1750     0                               \n",
       "1  Afghanistan                AFG  1751     0                               \n",
       "2  Afghanistan                AFG  1752     0                               \n",
       "3  Afghanistan                AFG  1753     0                               \n",
       "4  Afghanistan                AFG  1754     0                               \n",
       "\n",
       "  Other Per Capita  \n",
       "0                   \n",
       "1                   \n",
       "2                   \n",
       "3                   \n",
       "4                   "
      ]
     },
     "execution_count": 47,
     "metadata": {},
     "output_type": "execute_result"
    }
   ],
   "source": [
    "# Import tables from a SQL Database\n",
    "\n",
    "# Create a engine\n",
    "engine=create_engine('sqlite:///Datos/CO2Emissions.db')\n"
   ]
  },
  {
   "cell_type": "markdown",
   "metadata": {
    "cell_id": "20869f3f696c4eecacfec2dddd59263d",
    "deepnote_cell_type": "markdown"
   },
   "source": [
    "## 2.3. Explore Dataframes\n",
    "\n",
    "- head method (To explore first 5 rows)\n",
    "- dtypes attribute (To check data types)\n",
    "- Other attributes: columns, ndim, size, shape, values\n",
    "- Other methods: info(), describe(), median(), mean(), std(), max(), min()"
   ]
  },
  {
   "cell_type": "code",
   "execution_count": 48,
   "metadata": {
    "cell_id": "4092edc39c814c0ea21cf9fc20061b7e",
    "deepnote_cell_type": "code",
    "deepnote_to_be_reexecuted": false,
    "execution_millis": 13,
    "execution_start": 1681998675796,
    "source_hash": "5d2dd288"
   },
   "outputs": [
    {
     "data": {
      "application/vnd.deepnote.dataframe.v3+json": {
       "column_count": 11,
       "columns": [
        {
         "dtype": "object",
         "name": "Country",
         "stats": {
          "categories": [
           {
            "count": 5,
            "name": "Afghanistan"
           }
          ],
          "nan_count": 0,
          "unique_count": 1
         }
        },
        {
         "dtype": "object",
         "name": "ISO 3166-1 alpha-3",
         "stats": {
          "categories": [
           {
            "count": 5,
            "name": "AFG"
           }
          ],
          "nan_count": 0,
          "unique_count": 1
         }
        },
        {
         "dtype": "int64",
         "name": "Year",
         "stats": {
          "histogram": [
           {
            "bin_end": 1750.4,
            "bin_start": 1750,
            "count": 1
           },
           {
            "bin_end": 1750.8,
            "bin_start": 1750.4,
            "count": 0
           },
           {
            "bin_end": 1751.2,
            "bin_start": 1750.8,
            "count": 1
           },
           {
            "bin_end": 1751.6,
            "bin_start": 1751.2,
            "count": 0
           },
           {
            "bin_end": 1752,
            "bin_start": 1751.6,
            "count": 0
           },
           {
            "bin_end": 1752.4,
            "bin_start": 1752,
            "count": 1
           },
           {
            "bin_end": 1752.8,
            "bin_start": 1752.4,
            "count": 0
           },
           {
            "bin_end": 1753.2,
            "bin_start": 1752.8,
            "count": 1
           },
           {
            "bin_end": 1753.6,
            "bin_start": 1753.2,
            "count": 0
           },
           {
            "bin_end": 1754,
            "bin_start": 1753.6,
            "count": 1
           }
          ],
          "max": "1754",
          "min": "1750",
          "nan_count": 0,
          "unique_count": 5
         }
        },
        {
         "dtype": "float64",
         "name": "Total",
         "stats": {
          "histogram": [
           {
            "bin_end": -0.4,
            "bin_start": -0.5,
            "count": 0
           },
           {
            "bin_end": -0.3,
            "bin_start": -0.4,
            "count": 0
           },
           {
            "bin_end": -0.19999999999999996,
            "bin_start": -0.3,
            "count": 0
           },
           {
            "bin_end": -0.09999999999999998,
            "bin_start": -0.19999999999999996,
            "count": 0
           },
           {
            "bin_end": 0,
            "bin_start": -0.09999999999999998,
            "count": 0
           },
           {
            "bin_end": 0.10000000000000009,
            "bin_start": 0,
            "count": 5
           },
           {
            "bin_end": 0.20000000000000007,
            "bin_start": 0.10000000000000009,
            "count": 0
           },
           {
            "bin_end": 0.30000000000000004,
            "bin_start": 0.20000000000000007,
            "count": 0
           },
           {
            "bin_end": 0.4,
            "bin_start": 0.30000000000000004,
            "count": 0
           },
           {
            "bin_end": 0.5,
            "bin_start": 0.4,
            "count": 0
           }
          ],
          "max": "0.0",
          "min": "0.0",
          "nan_count": 0,
          "unique_count": 1
         }
        },
        {
         "dtype": "float64",
         "name": "Coal",
         "stats": {
          "histogram": [
           {
            "bin_end": 0.1,
            "bin_start": 0,
            "count": 0
           },
           {
            "bin_end": 0.2,
            "bin_start": 0.1,
            "count": 0
           },
           {
            "bin_end": 0.30000000000000004,
            "bin_start": 0.2,
            "count": 0
           },
           {
            "bin_end": 0.4,
            "bin_start": 0.30000000000000004,
            "count": 0
           },
           {
            "bin_end": 0.5,
            "bin_start": 0.4,
            "count": 0
           },
           {
            "bin_end": 0.6000000000000001,
            "bin_start": 0.5,
            "count": 0
           },
           {
            "bin_end": 0.7000000000000001,
            "bin_start": 0.6000000000000001,
            "count": 0
           },
           {
            "bin_end": 0.8,
            "bin_start": 0.7000000000000001,
            "count": 0
           },
           {
            "bin_end": 0.9,
            "bin_start": 0.8,
            "count": 0
           },
           {
            "bin_end": 1,
            "bin_start": 0.9,
            "count": 0
           }
          ],
          "max": null,
          "min": null,
          "nan_count": 5,
          "unique_count": 0
         }
        },
        {
         "dtype": "float64",
         "name": "Oil",
         "stats": {
          "histogram": [
           {
            "bin_end": 0.1,
            "bin_start": 0,
            "count": 0
           },
           {
            "bin_end": 0.2,
            "bin_start": 0.1,
            "count": 0
           },
           {
            "bin_end": 0.30000000000000004,
            "bin_start": 0.2,
            "count": 0
           },
           {
            "bin_end": 0.4,
            "bin_start": 0.30000000000000004,
            "count": 0
           },
           {
            "bin_end": 0.5,
            "bin_start": 0.4,
            "count": 0
           },
           {
            "bin_end": 0.6000000000000001,
            "bin_start": 0.5,
            "count": 0
           },
           {
            "bin_end": 0.7000000000000001,
            "bin_start": 0.6000000000000001,
            "count": 0
           },
           {
            "bin_end": 0.8,
            "bin_start": 0.7000000000000001,
            "count": 0
           },
           {
            "bin_end": 0.9,
            "bin_start": 0.8,
            "count": 0
           },
           {
            "bin_end": 1,
            "bin_start": 0.9,
            "count": 0
           }
          ],
          "max": null,
          "min": null,
          "nan_count": 5,
          "unique_count": 0
         }
        },
        {
         "dtype": "float64",
         "name": "Gas",
         "stats": {
          "histogram": [
           {
            "bin_end": 0.1,
            "bin_start": 0,
            "count": 0
           },
           {
            "bin_end": 0.2,
            "bin_start": 0.1,
            "count": 0
           },
           {
            "bin_end": 0.30000000000000004,
            "bin_start": 0.2,
            "count": 0
           },
           {
            "bin_end": 0.4,
            "bin_start": 0.30000000000000004,
            "count": 0
           },
           {
            "bin_end": 0.5,
            "bin_start": 0.4,
            "count": 0
           },
           {
            "bin_end": 0.6000000000000001,
            "bin_start": 0.5,
            "count": 0
           },
           {
            "bin_end": 0.7000000000000001,
            "bin_start": 0.6000000000000001,
            "count": 0
           },
           {
            "bin_end": 0.8,
            "bin_start": 0.7000000000000001,
            "count": 0
           },
           {
            "bin_end": 0.9,
            "bin_start": 0.8,
            "count": 0
           },
           {
            "bin_end": 1,
            "bin_start": 0.9,
            "count": 0
           }
          ],
          "max": null,
          "min": null,
          "nan_count": 5,
          "unique_count": 0
         }
        },
        {
         "dtype": "float64",
         "name": "Cement",
         "stats": {
          "histogram": [
           {
            "bin_end": 0.1,
            "bin_start": 0,
            "count": 0
           },
           {
            "bin_end": 0.2,
            "bin_start": 0.1,
            "count": 0
           },
           {
            "bin_end": 0.30000000000000004,
            "bin_start": 0.2,
            "count": 0
           },
           {
            "bin_end": 0.4,
            "bin_start": 0.30000000000000004,
            "count": 0
           },
           {
            "bin_end": 0.5,
            "bin_start": 0.4,
            "count": 0
           },
           {
            "bin_end": 0.6000000000000001,
            "bin_start": 0.5,
            "count": 0
           },
           {
            "bin_end": 0.7000000000000001,
            "bin_start": 0.6000000000000001,
            "count": 0
           },
           {
            "bin_end": 0.8,
            "bin_start": 0.7000000000000001,
            "count": 0
           },
           {
            "bin_end": 0.9,
            "bin_start": 0.8,
            "count": 0
           },
           {
            "bin_end": 1,
            "bin_start": 0.9,
            "count": 0
           }
          ],
          "max": null,
          "min": null,
          "nan_count": 5,
          "unique_count": 0
         }
        },
        {
         "dtype": "float64",
         "name": "Flaring",
         "stats": {
          "histogram": [
           {
            "bin_end": 0.1,
            "bin_start": 0,
            "count": 0
           },
           {
            "bin_end": 0.2,
            "bin_start": 0.1,
            "count": 0
           },
           {
            "bin_end": 0.30000000000000004,
            "bin_start": 0.2,
            "count": 0
           },
           {
            "bin_end": 0.4,
            "bin_start": 0.30000000000000004,
            "count": 0
           },
           {
            "bin_end": 0.5,
            "bin_start": 0.4,
            "count": 0
           },
           {
            "bin_end": 0.6000000000000001,
            "bin_start": 0.5,
            "count": 0
           },
           {
            "bin_end": 0.7000000000000001,
            "bin_start": 0.6000000000000001,
            "count": 0
           },
           {
            "bin_end": 0.8,
            "bin_start": 0.7000000000000001,
            "count": 0
           },
           {
            "bin_end": 0.9,
            "bin_start": 0.8,
            "count": 0
           },
           {
            "bin_end": 1,
            "bin_start": 0.9,
            "count": 0
           }
          ],
          "max": null,
          "min": null,
          "nan_count": 5,
          "unique_count": 0
         }
        },
        {
         "dtype": "float64",
         "name": "Other",
         "stats": {
          "histogram": [
           {
            "bin_end": 0.1,
            "bin_start": 0,
            "count": 0
           },
           {
            "bin_end": 0.2,
            "bin_start": 0.1,
            "count": 0
           },
           {
            "bin_end": 0.30000000000000004,
            "bin_start": 0.2,
            "count": 0
           },
           {
            "bin_end": 0.4,
            "bin_start": 0.30000000000000004,
            "count": 0
           },
           {
            "bin_end": 0.5,
            "bin_start": 0.4,
            "count": 0
           },
           {
            "bin_end": 0.6000000000000001,
            "bin_start": 0.5,
            "count": 0
           },
           {
            "bin_end": 0.7000000000000001,
            "bin_start": 0.6000000000000001,
            "count": 0
           },
           {
            "bin_end": 0.8,
            "bin_start": 0.7000000000000001,
            "count": 0
           },
           {
            "bin_end": 0.9,
            "bin_start": 0.8,
            "count": 0
           },
           {
            "bin_end": 1,
            "bin_start": 0.9,
            "count": 0
           }
          ],
          "max": null,
          "min": null,
          "nan_count": 5,
          "unique_count": 0
         }
        },
        {
         "dtype": "float64",
         "name": "Per Capita",
         "stats": {
          "histogram": [
           {
            "bin_end": 0.1,
            "bin_start": 0,
            "count": 0
           },
           {
            "bin_end": 0.2,
            "bin_start": 0.1,
            "count": 0
           },
           {
            "bin_end": 0.30000000000000004,
            "bin_start": 0.2,
            "count": 0
           },
           {
            "bin_end": 0.4,
            "bin_start": 0.30000000000000004,
            "count": 0
           },
           {
            "bin_end": 0.5,
            "bin_start": 0.4,
            "count": 0
           },
           {
            "bin_end": 0.6000000000000001,
            "bin_start": 0.5,
            "count": 0
           },
           {
            "bin_end": 0.7000000000000001,
            "bin_start": 0.6000000000000001,
            "count": 0
           },
           {
            "bin_end": 0.8,
            "bin_start": 0.7000000000000001,
            "count": 0
           },
           {
            "bin_end": 0.9,
            "bin_start": 0.8,
            "count": 0
           },
           {
            "bin_end": 1,
            "bin_start": 0.9,
            "count": 0
           }
          ],
          "max": null,
          "min": null,
          "nan_count": 5,
          "unique_count": 0
         }
        },
        {
         "dtype": "int64",
         "name": "_deepnote_index_column"
        }
       ],
       "row_count": 5,
       "rows": [
        {
         "Cement": "nan",
         "Coal": "nan",
         "Country": "Afghanistan",
         "Flaring": "nan",
         "Gas": "nan",
         "ISO 3166-1 alpha-3": "AFG",
         "Oil": "nan",
         "Other": "nan",
         "Per Capita": "nan",
         "Total": "0.0",
         "Year": "1750",
         "_deepnote_index_column": "0"
        },
        {
         "Cement": "nan",
         "Coal": "nan",
         "Country": "Afghanistan",
         "Flaring": "nan",
         "Gas": "nan",
         "ISO 3166-1 alpha-3": "AFG",
         "Oil": "nan",
         "Other": "nan",
         "Per Capita": "nan",
         "Total": "0.0",
         "Year": "1751",
         "_deepnote_index_column": "1"
        },
        {
         "Cement": "nan",
         "Coal": "nan",
         "Country": "Afghanistan",
         "Flaring": "nan",
         "Gas": "nan",
         "ISO 3166-1 alpha-3": "AFG",
         "Oil": "nan",
         "Other": "nan",
         "Per Capita": "nan",
         "Total": "0.0",
         "Year": "1752",
         "_deepnote_index_column": "2"
        },
        {
         "Cement": "nan",
         "Coal": "nan",
         "Country": "Afghanistan",
         "Flaring": "nan",
         "Gas": "nan",
         "ISO 3166-1 alpha-3": "AFG",
         "Oil": "nan",
         "Other": "nan",
         "Per Capita": "nan",
         "Total": "0.0",
         "Year": "1753",
         "_deepnote_index_column": "3"
        },
        {
         "Cement": "nan",
         "Coal": "nan",
         "Country": "Afghanistan",
         "Flaring": "nan",
         "Gas": "nan",
         "ISO 3166-1 alpha-3": "AFG",
         "Oil": "nan",
         "Other": "nan",
         "Per Capita": "nan",
         "Total": "0.0",
         "Year": "1754",
         "_deepnote_index_column": "4"
        }
       ]
      },
      "text/html": [
       "<div>\n",
       "<style scoped>\n",
       "    .dataframe tbody tr th:only-of-type {\n",
       "        vertical-align: middle;\n",
       "    }\n",
       "\n",
       "    .dataframe tbody tr th {\n",
       "        vertical-align: top;\n",
       "    }\n",
       "\n",
       "    .dataframe thead th {\n",
       "        text-align: right;\n",
       "    }\n",
       "</style>\n",
       "<table border=\"1\" class=\"dataframe\">\n",
       "  <thead>\n",
       "    <tr style=\"text-align: right;\">\n",
       "      <th></th>\n",
       "      <th>Country</th>\n",
       "      <th>ISO 3166-1 alpha-3</th>\n",
       "      <th>Year</th>\n",
       "      <th>Total</th>\n",
       "      <th>Coal</th>\n",
       "      <th>Oil</th>\n",
       "      <th>Gas</th>\n",
       "      <th>Cement</th>\n",
       "      <th>Flaring</th>\n",
       "      <th>Other</th>\n",
       "      <th>Per Capita</th>\n",
       "    </tr>\n",
       "  </thead>\n",
       "  <tbody>\n",
       "    <tr>\n",
       "      <th>0</th>\n",
       "      <td>Afghanistan</td>\n",
       "      <td>AFG</td>\n",
       "      <td>1750</td>\n",
       "      <td>0.0</td>\n",
       "      <td>NaN</td>\n",
       "      <td>NaN</td>\n",
       "      <td>NaN</td>\n",
       "      <td>NaN</td>\n",
       "      <td>NaN</td>\n",
       "      <td>NaN</td>\n",
       "      <td>NaN</td>\n",
       "    </tr>\n",
       "    <tr>\n",
       "      <th>1</th>\n",
       "      <td>Afghanistan</td>\n",
       "      <td>AFG</td>\n",
       "      <td>1751</td>\n",
       "      <td>0.0</td>\n",
       "      <td>NaN</td>\n",
       "      <td>NaN</td>\n",
       "      <td>NaN</td>\n",
       "      <td>NaN</td>\n",
       "      <td>NaN</td>\n",
       "      <td>NaN</td>\n",
       "      <td>NaN</td>\n",
       "    </tr>\n",
       "    <tr>\n",
       "      <th>2</th>\n",
       "      <td>Afghanistan</td>\n",
       "      <td>AFG</td>\n",
       "      <td>1752</td>\n",
       "      <td>0.0</td>\n",
       "      <td>NaN</td>\n",
       "      <td>NaN</td>\n",
       "      <td>NaN</td>\n",
       "      <td>NaN</td>\n",
       "      <td>NaN</td>\n",
       "      <td>NaN</td>\n",
       "      <td>NaN</td>\n",
       "    </tr>\n",
       "    <tr>\n",
       "      <th>3</th>\n",
       "      <td>Afghanistan</td>\n",
       "      <td>AFG</td>\n",
       "      <td>1753</td>\n",
       "      <td>0.0</td>\n",
       "      <td>NaN</td>\n",
       "      <td>NaN</td>\n",
       "      <td>NaN</td>\n",
       "      <td>NaN</td>\n",
       "      <td>NaN</td>\n",
       "      <td>NaN</td>\n",
       "      <td>NaN</td>\n",
       "    </tr>\n",
       "    <tr>\n",
       "      <th>4</th>\n",
       "      <td>Afghanistan</td>\n",
       "      <td>AFG</td>\n",
       "      <td>1754</td>\n",
       "      <td>0.0</td>\n",
       "      <td>NaN</td>\n",
       "      <td>NaN</td>\n",
       "      <td>NaN</td>\n",
       "      <td>NaN</td>\n",
       "      <td>NaN</td>\n",
       "      <td>NaN</td>\n",
       "      <td>NaN</td>\n",
       "    </tr>\n",
       "  </tbody>\n",
       "</table>\n",
       "</div>"
      ],
      "text/plain": [
       "       Country ISO 3166-1 alpha-3  Year  Total  Coal  Oil  Gas  Cement  \\\n",
       "0  Afghanistan                AFG  1750    0.0   NaN  NaN  NaN     NaN   \n",
       "1  Afghanistan                AFG  1751    0.0   NaN  NaN  NaN     NaN   \n",
       "2  Afghanistan                AFG  1752    0.0   NaN  NaN  NaN     NaN   \n",
       "3  Afghanistan                AFG  1753    0.0   NaN  NaN  NaN     NaN   \n",
       "4  Afghanistan                AFG  1754    0.0   NaN  NaN  NaN     NaN   \n",
       "\n",
       "   Flaring  Other  Per Capita  \n",
       "0      NaN    NaN         NaN  \n",
       "1      NaN    NaN         NaN  \n",
       "2      NaN    NaN         NaN  \n",
       "3      NaN    NaN         NaN  \n",
       "4      NaN    NaN         NaN  "
      ]
     },
     "execution_count": 48,
     "metadata": {},
     "output_type": "execute_result"
    }
   ],
   "source": [
    "# List first 5 records\n"
   ]
  },
  {
   "cell_type": "code",
   "execution_count": 49,
   "metadata": {
    "cell_id": "bc393a2c28b84987861f51d923587fb1",
    "deepnote_cell_type": "code",
    "deepnote_to_be_reexecuted": false,
    "execution_millis": 1,
    "execution_start": 1681998675815,
    "source_hash": "78dd4f13"
   },
   "outputs": [
    {
     "data": {
      "text/plain": [
       "Country                object\n",
       "ISO 3166-1 alpha-3     object\n",
       "Year                    int64\n",
       "Total                 float64\n",
       "Coal                  float64\n",
       "Oil                   float64\n",
       "Gas                   float64\n",
       "Cement                float64\n",
       "Flaring               float64\n",
       "Other                 float64\n",
       "Per Capita            float64\n",
       "dtype: object"
      ]
     },
     "execution_count": 49,
     "metadata": {},
     "output_type": "execute_result"
    }
   ],
   "source": [
    "# Check types for all columns\n",
    "df1.dtypes"
   ]
  },
  {
   "cell_type": "code",
   "execution_count": 50,
   "metadata": {
    "cell_id": "879d74c4918946edbc5dc48e46ddbd85",
    "deepnote_cell_type": "code",
    "deepnote_to_be_reexecuted": false,
    "execution_millis": 8,
    "execution_start": 1681998675823,
    "source_hash": "ce08639a"
   },
   "outputs": [
    {
     "data": {
      "text/plain": [
       "Index(['Country', 'ISO 3166-1 alpha-3', 'Year', 'Total', 'Coal', 'Oil', 'Gas',\n",
       "       'Cement', 'Flaring', 'Other', 'Per Capita'],\n",
       "      dtype='object')"
      ]
     },
     "execution_count": 50,
     "metadata": {},
     "output_type": "execute_result"
    }
   ],
   "source": [
    "# Show column names\n"
   ]
  },
  {
   "cell_type": "code",
   "execution_count": 51,
   "metadata": {
    "cell_id": "d5490110bda84b60bd0c3d1972c73fd2",
    "deepnote_cell_type": "code",
    "deepnote_to_be_reexecuted": false,
    "execution_millis": 2,
    "execution_start": 1681998675831,
    "source_hash": "9ccf53b5"
   },
   "outputs": [
    {
     "data": {
      "text/plain": [
       "(63104, 11)"
      ]
     },
     "execution_count": 51,
     "metadata": {},
     "output_type": "execute_result"
    }
   ],
   "source": [
    "# Show dimension of dataframe\n"
   ]
  },
  {
   "cell_type": "code",
   "execution_count": 52,
   "metadata": {
    "cell_id": "4097ec8e19214a2d9970280e15eb3ef1",
    "deepnote_cell_type": "code",
    "deepnote_to_be_reexecuted": false,
    "execution_millis": 39,
    "execution_start": 1681998675831,
    "source_hash": "f52afd27"
   },
   "outputs": [
    {
     "name": "stdout",
     "output_type": "stream",
     "text": [
      "<class 'pandas.core.frame.DataFrame'>\n",
      "RangeIndex: 63104 entries, 0 to 63103\n",
      "Data columns (total 11 columns):\n",
      " #   Column              Non-Null Count  Dtype  \n",
      "---  ------              --------------  -----  \n",
      " 0   Country             63104 non-null  object \n",
      " 1   ISO 3166-1 alpha-3  61472 non-null  object \n",
      " 2   Year                63104 non-null  int64  \n",
      " 3   Total               62904 non-null  float64\n",
      " 4   Coal                21744 non-null  float64\n",
      " 5   Oil                 21717 non-null  float64\n",
      " 6   Gas                 21618 non-null  float64\n",
      " 7   Cement              20814 non-null  float64\n",
      " 8   Flaring             21550 non-null  float64\n",
      " 9   Other               1620 non-null   float64\n",
      " 10  Per Capita          18974 non-null  float64\n",
      "dtypes: float64(8), int64(1), object(2)\n",
      "memory usage: 5.3+ MB\n"
     ]
    }
   ],
   "source": [
    "# Show summary of each column\n"
   ]
  },
  {
   "cell_type": "code",
   "execution_count": 53,
   "metadata": {
    "cell_id": "adff49aedd34436da93aead9bcf6e241",
    "deepnote_cell_type": "code",
    "deepnote_to_be_reexecuted": false,
    "execution_millis": 12,
    "execution_start": 1681998675911,
    "source_hash": "5a8aa6d2"
   },
   "outputs": [
    {
     "data": {
      "application/vnd.deepnote.dataframe.v3+json": {
       "column_count": 9,
       "columns": [
        {
         "dtype": "float64",
         "name": "Year",
         "stats": {
          "histogram": [
           {
            "bin_end": 6381.067755292746,
            "bin_start": 78.51972810305136,
            "count": 7
           },
           {
            "bin_end": 12683.61578248244,
            "bin_start": 6381.067755292746,
            "count": 0
           },
           {
            "bin_end": 18986.163809672136,
            "bin_start": 12683.61578248244,
            "count": 0
           },
           {
            "bin_end": 25288.711836861832,
            "bin_start": 18986.163809672136,
            "count": 0
           },
           {
            "bin_end": 31591.259864051528,
            "bin_start": 25288.711836861832,
            "count": 0
           },
           {
            "bin_end": 37893.80789124122,
            "bin_start": 31591.259864051528,
            "count": 0
           },
           {
            "bin_end": 44196.35591843091,
            "bin_start": 37893.80789124122,
            "count": 0
           },
           {
            "bin_end": 50498.90394562061,
            "bin_start": 44196.35591843091,
            "count": 0
           },
           {
            "bin_end": 56801.451972810304,
            "bin_start": 50498.90394562061,
            "count": 0
           },
           {
            "bin_end": 63104,
            "bin_start": 56801.451972810304,
            "count": 1
           }
          ],
          "max": "63104.0",
          "min": "78.51972810305136",
          "nan_count": 0,
          "unique_count": 7
         }
        },
        {
         "dtype": "float64",
         "name": "Total",
         "stats": {
          "histogram": [
           {
            "bin_end": 6290.4,
            "bin_start": 0,
            "count": 6
           },
           {
            "bin_end": 12580.8,
            "bin_start": 6290.4,
            "count": 0
           },
           {
            "bin_end": 18871.199999999997,
            "bin_start": 12580.8,
            "count": 0
           },
           {
            "bin_end": 25161.6,
            "bin_start": 18871.199999999997,
            "count": 0
           },
           {
            "bin_end": 31452,
            "bin_start": 25161.6,
            "count": 0
           },
           {
            "bin_end": 37742.399999999994,
            "bin_start": 31452,
            "count": 1
           },
           {
            "bin_end": 44032.799999999996,
            "bin_start": 37742.399999999994,
            "count": 0
           },
           {
            "bin_end": 50323.2,
            "bin_start": 44032.799999999996,
            "count": 0
           },
           {
            "bin_end": 56613.6,
            "bin_start": 50323.2,
            "count": 0
           },
           {
            "bin_end": 62904,
            "bin_start": 56613.6,
            "count": 1
           }
          ],
          "max": "62904.0",
          "min": "0.0",
          "nan_count": 0,
          "unique_count": 6
         }
        },
        {
         "dtype": "float64",
         "name": "Coal",
         "stats": {
          "histogram": [
           {
            "bin_end": 2174.4,
            "bin_start": 0,
            "count": 6
           },
           {
            "bin_end": 4348.8,
            "bin_start": 2174.4,
            "count": 0
           },
           {
            "bin_end": 6523.200000000001,
            "bin_start": 4348.8,
            "count": 0
           },
           {
            "bin_end": 8697.6,
            "bin_start": 6523.200000000001,
            "count": 0
           },
           {
            "bin_end": 10872,
            "bin_start": 8697.6,
            "count": 0
           },
           {
            "bin_end": 13046.400000000001,
            "bin_start": 10872,
            "count": 0
           },
           {
            "bin_end": 15220.800000000001,
            "bin_start": 13046.400000000001,
            "count": 1
           },
           {
            "bin_end": 17395.2,
            "bin_start": 15220.800000000001,
            "count": 0
           },
           {
            "bin_end": 19569.600000000002,
            "bin_start": 17395.2,
            "count": 0
           },
           {
            "bin_end": 21744,
            "bin_start": 19569.600000000002,
            "count": 1
           }
          ],
          "max": "21744.0",
          "min": "0.0",
          "nan_count": 0,
          "unique_count": 7
         }
        },
        {
         "dtype": "float64",
         "name": "Oil",
         "stats": {
          "histogram": [
           {
            "bin_end": 2171.7,
            "bin_start": 0,
            "count": 6
           },
           {
            "bin_end": 4343.4,
            "bin_start": 2171.7,
            "count": 0
           },
           {
            "bin_end": 6515.099999999999,
            "bin_start": 4343.4,
            "count": 0
           },
           {
            "bin_end": 8686.8,
            "bin_start": 6515.099999999999,
            "count": 0
           },
           {
            "bin_end": 10858.5,
            "bin_start": 8686.8,
            "count": 0
           },
           {
            "bin_end": 13030.199999999999,
            "bin_start": 10858.5,
            "count": 1
           },
           {
            "bin_end": 15201.899999999998,
            "bin_start": 13030.199999999999,
            "count": 0
           },
           {
            "bin_end": 17373.6,
            "bin_start": 15201.899999999998,
            "count": 0
           },
           {
            "bin_end": 19545.3,
            "bin_start": 17373.6,
            "count": 0
           },
           {
            "bin_end": 21717,
            "bin_start": 19545.3,
            "count": 1
           }
          ],
          "max": "21717.0",
          "min": "0.0",
          "nan_count": 0,
          "unique_count": 8
         }
        },
        {
         "dtype": "float64",
         "name": "Gas",
         "stats": {
          "histogram": [
           {
            "bin_end": 2161.8,
            "bin_start": 0,
            "count": 6
           },
           {
            "bin_end": 4323.6,
            "bin_start": 2161.8,
            "count": 0
           },
           {
            "bin_end": 6485.400000000001,
            "bin_start": 4323.6,
            "count": 0
           },
           {
            "bin_end": 8647.2,
            "bin_start": 6485.400000000001,
            "count": 1
           },
           {
            "bin_end": 10809,
            "bin_start": 8647.2,
            "count": 0
           },
           {
            "bin_end": 12970.800000000001,
            "bin_start": 10809,
            "count": 0
           },
           {
            "bin_end": 15132.600000000002,
            "bin_start": 12970.800000000001,
            "count": 0
           },
           {
            "bin_end": 17294.4,
            "bin_start": 15132.600000000002,
            "count": 0
           },
           {
            "bin_end": 19456.2,
            "bin_start": 17294.4,
            "count": 0
           },
           {
            "bin_end": 21618,
            "bin_start": 19456.2,
            "count": 1
           }
          ],
          "max": "21618.0",
          "min": "0.0",
          "nan_count": 0,
          "unique_count": 6
         }
        },
        {
         "dtype": "float64",
         "name": "Cement",
         "stats": {
          "histogram": [
           {
            "bin_end": 2081.4,
            "bin_start": 0,
            "count": 7
           },
           {
            "bin_end": 4162.8,
            "bin_start": 2081.4,
            "count": 0
           },
           {
            "bin_end": 6244.200000000001,
            "bin_start": 4162.8,
            "count": 0
           },
           {
            "bin_end": 8325.6,
            "bin_start": 6244.200000000001,
            "count": 0
           },
           {
            "bin_end": 10407,
            "bin_start": 8325.6,
            "count": 0
           },
           {
            "bin_end": 12488.400000000001,
            "bin_start": 10407,
            "count": 0
           },
           {
            "bin_end": 14569.800000000001,
            "bin_start": 12488.400000000001,
            "count": 0
           },
           {
            "bin_end": 16651.2,
            "bin_start": 14569.800000000001,
            "count": 0
           },
           {
            "bin_end": 18732.600000000002,
            "bin_start": 16651.2,
            "count": 0
           },
           {
            "bin_end": 20814,
            "bin_start": 18732.600000000002,
            "count": 1
           }
          ],
          "max": "20814.0",
          "min": "0.0",
          "nan_count": 0,
          "unique_count": 7
         }
        },
        {
         "dtype": "float64",
         "name": "Flaring",
         "stats": {
          "histogram": [
           {
            "bin_end": 2155,
            "bin_start": 0,
            "count": 7
           },
           {
            "bin_end": 4310,
            "bin_start": 2155,
            "count": 0
           },
           {
            "bin_end": 6465,
            "bin_start": 4310,
            "count": 0
           },
           {
            "bin_end": 8620,
            "bin_start": 6465,
            "count": 0
           },
           {
            "bin_end": 10775,
            "bin_start": 8620,
            "count": 0
           },
           {
            "bin_end": 12930,
            "bin_start": 10775,
            "count": 0
           },
           {
            "bin_end": 15085,
            "bin_start": 12930,
            "count": 0
           },
           {
            "bin_end": 17240,
            "bin_start": 15085,
            "count": 0
           },
           {
            "bin_end": 19395,
            "bin_start": 17240,
            "count": 0
           },
           {
            "bin_end": 21550,
            "bin_start": 19395,
            "count": 1
           }
          ],
          "max": "21550.0",
          "min": "0.0",
          "nan_count": 0,
          "unique_count": 5
         }
        },
        {
         "dtype": "float64",
         "name": "Other",
         "stats": {
          "histogram": [
           {
            "bin_end": 162,
            "bin_start": 0,
            "count": 6
           },
           {
            "bin_end": 324,
            "bin_start": 162,
            "count": 1
           },
           {
            "bin_end": 486,
            "bin_start": 324,
            "count": 0
           },
           {
            "bin_end": 648,
            "bin_start": 486,
            "count": 0
           },
           {
            "bin_end": 810,
            "bin_start": 648,
            "count": 0
           },
           {
            "bin_end": 972,
            "bin_start": 810,
            "count": 0
           },
           {
            "bin_end": 1134,
            "bin_start": 972,
            "count": 0
           },
           {
            "bin_end": 1296,
            "bin_start": 1134,
            "count": 0
           },
           {
            "bin_end": 1458,
            "bin_start": 1296,
            "count": 0
           },
           {
            "bin_end": 1620,
            "bin_start": 1458,
            "count": 1
           }
          ],
          "max": "1620.0",
          "min": "0.0",
          "nan_count": 0,
          "unique_count": 8
         }
        },
        {
         "dtype": "float64",
         "name": "Per Capita",
         "stats": {
          "histogram": [
           {
            "bin_end": 1897.4,
            "bin_start": 0,
            "count": 7
           },
           {
            "bin_end": 3794.8,
            "bin_start": 1897.4,
            "count": 0
           },
           {
            "bin_end": 5692.200000000001,
            "bin_start": 3794.8,
            "count": 0
           },
           {
            "bin_end": 7589.6,
            "bin_start": 5692.200000000001,
            "count": 0
           },
           {
            "bin_end": 9487,
            "bin_start": 7589.6,
            "count": 0
           },
           {
            "bin_end": 11384.400000000001,
            "bin_start": 9487,
            "count": 0
           },
           {
            "bin_end": 13281.800000000001,
            "bin_start": 11384.400000000001,
            "count": 0
           },
           {
            "bin_end": 15179.2,
            "bin_start": 13281.800000000001,
            "count": 0
           },
           {
            "bin_end": 17076.600000000002,
            "bin_start": 15179.2,
            "count": 0
           },
           {
            "bin_end": 18974,
            "bin_start": 17076.600000000002,
            "count": 1
           }
          ],
          "max": "18974.0",
          "min": "0.0",
          "nan_count": 0,
          "unique_count": 8
         }
        },
        {
         "dtype": "object",
         "name": "_deepnote_index_column"
        }
       ],
       "row_count": 8,
       "rows": [
        {
         "Cement": "20814.0",
         "Coal": "21744.0",
         "Flaring": "21550.0",
         "Gas": "21618.0",
         "Oil": "21717.0",
         "Other": "1620.0",
         "Per Capita": "18974.0",
         "Total": "62904.0",
         "Year": "63104.0",
         "_deepnote_index_column": "count"
        },
        {
         "Cement": "4.330443477226867",
         "Coal": "73.96891588612951",
         "Flaring": "1.7126947166589328",
         "Gas": "23.504285424368582",
         "Oil": "55.76062408454207",
         "Other": "10.951388537037035",
         "Per Capita": "4.4133631678612835",
         "Total": "55.224787910085205",
         "Year": "1885.5",
         "_deepnote_index_column": "mean"
        },
        {
         "Cement": "50.30577043830164",
         "Coal": "598.98699176224",
         "Flaring": "16.727066712972558",
         "Gas": "247.67477241477064",
         "Oil": "519.0345625222358",
         "Other": "39.03407283599912",
         "Per Capita": "17.432815357579383",
         "Total": "824.8454349134822",
         "Year": "78.51972810305136",
         "_deepnote_index_column": "std"
        },
        {
         "Cement": "0.0",
         "Coal": "0.0",
         "Flaring": "0.0",
         "Gas": "0.0",
         "Oil": "0.0",
         "Other": "0.0",
         "Per Capita": "0.0",
         "Total": "0.0",
         "Year": "1750.0",
         "_deepnote_index_column": "min"
        },
        {
         "Cement": "0.0",
         "Coal": "0.0",
         "Flaring": "0.0",
         "Gas": "0.0",
         "Oil": "0.0916",
         "Other": "0.52088525",
         "Per Capita": "0.19786575",
         "Total": "0.0",
         "Year": "1817.75",
         "_deepnote_index_column": "25%"
        },
        {
         "Cement": "0.0227565",
         "Coal": "0.2718515",
         "Flaring": "0.0",
         "Gas": "0.0",
         "Oil": "1.04424",
         "Other": "1.2553285",
         "Per Capita": "1.3039494999999999",
         "Total": "0.0",
         "Year": "1885.5",
         "_deepnote_index_column": "50%"
        },
        {
         "Cement": "0.56850175",
         "Coal": "6.73641075",
         "Flaring": "0.0",
         "Gas": "0.58162775",
         "Oil": "8.339752",
         "Other": "4.3854705",
         "Per Capita": "5.077994",
         "Total": "0.54934225",
         "Year": "1953.25",
         "_deepnote_index_column": "75%"
        },
        {
         "Cement": "1672.592372",
         "Coal": "15051.51277",
         "Flaring": "439.253991",
         "Gas": "7921.829472",
         "Oil": "12345.653374",
         "Other": "306.638573",
         "Per Capita": "834.192642",
         "Total": "37123.850352",
         "Year": "2021.0",
         "_deepnote_index_column": "max"
        }
       ]
      },
      "text/html": [
       "<div>\n",
       "<style scoped>\n",
       "    .dataframe tbody tr th:only-of-type {\n",
       "        vertical-align: middle;\n",
       "    }\n",
       "\n",
       "    .dataframe tbody tr th {\n",
       "        vertical-align: top;\n",
       "    }\n",
       "\n",
       "    .dataframe thead th {\n",
       "        text-align: right;\n",
       "    }\n",
       "</style>\n",
       "<table border=\"1\" class=\"dataframe\">\n",
       "  <thead>\n",
       "    <tr style=\"text-align: right;\">\n",
       "      <th></th>\n",
       "      <th>Year</th>\n",
       "      <th>Total</th>\n",
       "      <th>Coal</th>\n",
       "      <th>Oil</th>\n",
       "      <th>Gas</th>\n",
       "      <th>Cement</th>\n",
       "      <th>Flaring</th>\n",
       "      <th>Other</th>\n",
       "      <th>Per Capita</th>\n",
       "    </tr>\n",
       "  </thead>\n",
       "  <tbody>\n",
       "    <tr>\n",
       "      <th>count</th>\n",
       "      <td>63104.000000</td>\n",
       "      <td>62904.000000</td>\n",
       "      <td>21744.000000</td>\n",
       "      <td>21717.000000</td>\n",
       "      <td>21618.000000</td>\n",
       "      <td>20814.000000</td>\n",
       "      <td>21550.000000</td>\n",
       "      <td>1620.000000</td>\n",
       "      <td>18974.000000</td>\n",
       "    </tr>\n",
       "    <tr>\n",
       "      <th>mean</th>\n",
       "      <td>1885.500000</td>\n",
       "      <td>55.224788</td>\n",
       "      <td>73.968916</td>\n",
       "      <td>55.760624</td>\n",
       "      <td>23.504285</td>\n",
       "      <td>4.330443</td>\n",
       "      <td>1.712695</td>\n",
       "      <td>10.951389</td>\n",
       "      <td>4.413363</td>\n",
       "    </tr>\n",
       "    <tr>\n",
       "      <th>std</th>\n",
       "      <td>78.519728</td>\n",
       "      <td>824.845435</td>\n",
       "      <td>598.986992</td>\n",
       "      <td>519.034563</td>\n",
       "      <td>247.674772</td>\n",
       "      <td>50.305770</td>\n",
       "      <td>16.727067</td>\n",
       "      <td>39.034073</td>\n",
       "      <td>17.432815</td>\n",
       "    </tr>\n",
       "    <tr>\n",
       "      <th>min</th>\n",
       "      <td>1750.000000</td>\n",
       "      <td>0.000000</td>\n",
       "      <td>0.000000</td>\n",
       "      <td>0.000000</td>\n",
       "      <td>0.000000</td>\n",
       "      <td>0.000000</td>\n",
       "      <td>0.000000</td>\n",
       "      <td>0.000000</td>\n",
       "      <td>0.000000</td>\n",
       "    </tr>\n",
       "    <tr>\n",
       "      <th>25%</th>\n",
       "      <td>1817.750000</td>\n",
       "      <td>0.000000</td>\n",
       "      <td>0.000000</td>\n",
       "      <td>0.091600</td>\n",
       "      <td>0.000000</td>\n",
       "      <td>0.000000</td>\n",
       "      <td>0.000000</td>\n",
       "      <td>0.520885</td>\n",
       "      <td>0.197866</td>\n",
       "    </tr>\n",
       "    <tr>\n",
       "      <th>50%</th>\n",
       "      <td>1885.500000</td>\n",
       "      <td>0.000000</td>\n",
       "      <td>0.271852</td>\n",
       "      <td>1.044240</td>\n",
       "      <td>0.000000</td>\n",
       "      <td>0.022756</td>\n",
       "      <td>0.000000</td>\n",
       "      <td>1.255329</td>\n",
       "      <td>1.303949</td>\n",
       "    </tr>\n",
       "    <tr>\n",
       "      <th>75%</th>\n",
       "      <td>1953.250000</td>\n",
       "      <td>0.549342</td>\n",
       "      <td>6.736411</td>\n",
       "      <td>8.339752</td>\n",
       "      <td>0.581628</td>\n",
       "      <td>0.568502</td>\n",
       "      <td>0.000000</td>\n",
       "      <td>4.385471</td>\n",
       "      <td>5.077994</td>\n",
       "    </tr>\n",
       "    <tr>\n",
       "      <th>max</th>\n",
       "      <td>2021.000000</td>\n",
       "      <td>37123.850352</td>\n",
       "      <td>15051.512770</td>\n",
       "      <td>12345.653374</td>\n",
       "      <td>7921.829472</td>\n",
       "      <td>1672.592372</td>\n",
       "      <td>439.253991</td>\n",
       "      <td>306.638573</td>\n",
       "      <td>834.192642</td>\n",
       "    </tr>\n",
       "  </tbody>\n",
       "</table>\n",
       "</div>"
      ],
      "text/plain": [
       "               Year         Total          Coal           Oil           Gas  \\\n",
       "count  63104.000000  62904.000000  21744.000000  21717.000000  21618.000000   \n",
       "mean    1885.500000     55.224788     73.968916     55.760624     23.504285   \n",
       "std       78.519728    824.845435    598.986992    519.034563    247.674772   \n",
       "min     1750.000000      0.000000      0.000000      0.000000      0.000000   \n",
       "25%     1817.750000      0.000000      0.000000      0.091600      0.000000   \n",
       "50%     1885.500000      0.000000      0.271852      1.044240      0.000000   \n",
       "75%     1953.250000      0.549342      6.736411      8.339752      0.581628   \n",
       "max     2021.000000  37123.850352  15051.512770  12345.653374   7921.829472   \n",
       "\n",
       "             Cement       Flaring        Other    Per Capita  \n",
       "count  20814.000000  21550.000000  1620.000000  18974.000000  \n",
       "mean       4.330443      1.712695    10.951389      4.413363  \n",
       "std       50.305770     16.727067    39.034073     17.432815  \n",
       "min        0.000000      0.000000     0.000000      0.000000  \n",
       "25%        0.000000      0.000000     0.520885      0.197866  \n",
       "50%        0.022756      0.000000     1.255329      1.303949  \n",
       "75%        0.568502      0.000000     4.385471      5.077994  \n",
       "max     1672.592372    439.253991   306.638573    834.192642  "
      ]
     },
     "execution_count": 53,
     "metadata": {},
     "output_type": "execute_result"
    }
   ],
   "source": [
    "# Show descriptive statistics\n"
   ]
  },
  {
   "cell_type": "code",
   "execution_count": 54,
   "metadata": {
    "cell_id": "989944512b854bc182706e97270f553b",
    "deepnote_cell_type": "code",
    "deepnote_to_be_reexecuted": false,
    "execution_millis": 16,
    "execution_start": 1681998675924,
    "source_hash": "1d36aa5d"
   },
   "outputs": [
    {
     "name": "stdout",
     "output_type": "stream",
     "text": [
      "Country       Afghanistan\n",
      "Year                 1750\n",
      "Total                 0.0\n",
      "Coal                  0.0\n",
      "Oil                   0.0\n",
      "Gas                   0.0\n",
      "Cement                0.0\n",
      "Flaring               0.0\n",
      "Other                 0.0\n",
      "Per Capita            0.0\n",
      "dtype: object\n",
      " \n",
      "0.0\n"
     ]
    }
   ],
   "source": [
    "# Show min, max, mean, median, and std of a column\n",
    " # Min value of each column\n",
    "print(\" \") # White space\n",
    "# Identify the min amount of CO2 Emissions from coal industry\n"
   ]
  },
  {
   "cell_type": "code",
   "execution_count": 55,
   "metadata": {
    "cell_id": "2de5755ab0604f9d939da0234563711a",
    "deepnote_cell_type": "code",
    "deepnote_to_be_reexecuted": false,
    "execution_millis": 23,
    "execution_start": 1681998675947,
    "source_hash": "8bd2429d"
   },
   "outputs": [
    {
     "name": "stdout",
     "output_type": "stream",
     "text": [
      "The max amount of CO2 from coal: 15051.51 Mt\n"
     ]
    }
   ],
   "source": [
    "# Indentify the max amount of CO2 Emissions from coal\n"
   ]
  },
  {
   "cell_type": "markdown",
   "metadata": {
    "cell_id": "550b081734d04908b97a867a6c56a554",
    "deepnote_cell_type": "markdown"
   },
   "source": [
    "## 2.4. Dataframe groupby Method\n",
    "\n",
    "Using \"group by\" method we can:\n",
    "- Split the data into groups based on some criteria\n",
    "- Calculate statistics (or apply a function) to each group"
   ]
  },
  {
   "cell_type": "code",
   "execution_count": 56,
   "metadata": {
    "cell_id": "bcaa0bbbfe7d44e984b6aa33fa473c43",
    "deepnote_cell_type": "code",
    "deepnote_to_be_reexecuted": false,
    "execution_millis": 3,
    "execution_start": 1681998676005,
    "source_hash": "59b91cc7"
   },
   "outputs": [
    {
     "data": {
      "text/plain": [
       "<pandas.core.groupby.generic.SeriesGroupBy object at 0x7f475bbbd790>"
      ]
     },
     "execution_count": 56,
     "metadata": {},
     "output_type": "execute_result"
    }
   ],
   "source": [
    "# Group data using a categorical column\n",
    "\n"
   ]
  },
  {
   "cell_type": "code",
   "execution_count": 57,
   "metadata": {
    "cell_id": "1b126756cb614d79afe5f64932dab8e9",
    "deepnote_cell_type": "code",
    "deepnote_to_be_reexecuted": false,
    "execution_millis": 4,
    "execution_start": 1681998676005,
    "source_hash": "7c19d5c0"
   },
   "outputs": [
    {
     "data": {
      "application/vnd.deepnote.dataframe.v3+json": {
       "column_count": 3,
       "columns": [
        {
         "dtype": "float64",
         "name": "Coal",
         "stats": {
          "histogram": [
           {
            "bin_end": 295.6581079125,
            "bin_start": 0,
            "count": 228
           },
           {
            "bin_end": 591.316215825,
            "bin_start": 295.6581079125,
            "count": 0
           },
           {
            "bin_end": 886.9743237375,
            "bin_start": 591.316215825,
            "count": 1
           },
           {
            "bin_end": 1182.63243165,
            "bin_start": 886.9743237375,
            "count": 0
           },
           {
            "bin_end": 1478.2905395624998,
            "bin_start": 1182.63243165,
            "count": 0
           },
           {
            "bin_end": 1773.948647475,
            "bin_start": 1478.2905395624998,
            "count": 1
           },
           {
            "bin_end": 2069.6067553875,
            "bin_start": 1773.948647475,
            "count": 0
           },
           {
            "bin_end": 2365.2648633,
            "bin_start": 2069.6067553875,
            "count": 0
           },
           {
            "bin_end": 2660.9229712124998,
            "bin_start": 2365.2648633,
            "count": 0
           },
           {
            "bin_end": 2956.5810791249996,
            "bin_start": 2660.9229712124998,
            "count": 1
           }
          ],
          "max": "2956.5810791249996",
          "min": "0.0",
          "nan_count": 1,
          "unique_count": 163
         }
        },
        {
         "dtype": "float64",
         "name": "Oil",
         "stats": {
          "histogram": [
           {
            "bin_end": 362.5661468262206,
            "bin_start": 0.005807442307692308,
            "count": 228
           },
           {
            "bin_end": 725.1264862101335,
            "bin_start": 362.5661468262206,
            "count": 2
           },
           {
            "bin_end": 1087.6868255940465,
            "bin_start": 725.1264862101335,
            "count": 1
           },
           {
            "bin_end": 1450.2471649779593,
            "bin_start": 1087.6868255940465,
            "count": 0
           },
           {
            "bin_end": 1812.8075043618721,
            "bin_start": 1450.2471649779593,
            "count": 0
           },
           {
            "bin_end": 2175.367843745785,
            "bin_start": 1812.8075043618721,
            "count": 0
           },
           {
            "bin_end": 2537.928183129698,
            "bin_start": 2175.367843745785,
            "count": 0
           },
           {
            "bin_end": 2900.488522513611,
            "bin_start": 2537.928183129698,
            "count": 0
           },
           {
            "bin_end": 3263.0488618975237,
            "bin_start": 2900.488522513611,
            "count": 0
           },
           {
            "bin_end": 3625.6092012814365,
            "bin_start": 3263.0488618975237,
            "count": 1
           }
          ],
          "max": "3625.6092012814365",
          "min": "0.005807442307692308",
          "nan_count": 0,
          "unique_count": 232
         }
        },
        {
         "dtype": "float64",
         "name": "Gas",
         "stats": {
          "histogram": [
           {
            "bin_end": 181.46987224714286,
            "bin_start": 0,
            "count": 228
           },
           {
            "bin_end": 362.9397444942857,
            "bin_start": 181.46987224714286,
            "count": 2
           },
           {
            "bin_end": 544.4096167414286,
            "bin_start": 362.9397444942857,
            "count": 0
           },
           {
            "bin_end": 725.8794889885714,
            "bin_start": 544.4096167414286,
            "count": 0
           },
           {
            "bin_end": 907.3493612357142,
            "bin_start": 725.8794889885714,
            "count": 0
           },
           {
            "bin_end": 1088.8192334828573,
            "bin_start": 907.3493612357142,
            "count": 0
           },
           {
            "bin_end": 1270.28910573,
            "bin_start": 1088.8192334828573,
            "count": 0
           },
           {
            "bin_end": 1451.7589779771429,
            "bin_start": 1270.28910573,
            "count": 0
           },
           {
            "bin_end": 1633.2288502242857,
            "bin_start": 1451.7589779771429,
            "count": 0
           },
           {
            "bin_end": 1814.6987224714285,
            "bin_start": 1633.2288502242857,
            "count": 1
           }
          ],
          "max": "1814.6987224714285",
          "min": "0.0",
          "nan_count": 1,
          "unique_count": 131
         }
        },
        {
         "dtype": "object",
         "name": "_deepnote_index_column"
        }
       ],
       "row_count": 232,
       "rows": [
        {
         "Coal": "0.7900886712328767",
         "Gas": "0.2776250547945205",
         "Oil": "1.8024281780821914",
         "_deepnote_index_column": "Afghanistan"
        },
        {
         "Coal": "0.7503570786516857",
         "Gas": "0.18772232584269669",
         "Oil": "2.088071786516855",
         "_deepnote_index_column": "Albania"
        },
        {
         "Coal": "1.10888179245283",
         "Gas": "20.324051150943397",
         "Oil": "15.600961113207546",
         "_deepnote_index_column": "Algeria"
        },
        {
         "Coal": "0.0",
         "Gas": "0.0",
         "Oil": "0.48389037499999993",
         "_deepnote_index_column": "Andorra"
        },
        {
         "Coal": "0.02223259722222222",
         "Gas": "0.6404449722222222",
         "Oil": "4.817033430555556",
         "_deepnote_index_column": "Angola"
        },
        {
         "Coal": "0.0",
         "Gas": "0.0",
         "Oil": "0.11213718749999996",
         "_deepnote_index_column": "Anguilla"
        },
        {
         "Coal": "0.0",
         "Gas": "0.0",
         "Oil": "0.0073279999999999994",
         "_deepnote_index_column": "Antarctica"
        },
        {
         "Coal": "0.0",
         "Gas": "0.0",
         "Oil": "0.33849926153846166",
         "_deepnote_index_column": "Antigua and Barbuda"
        },
        {
         "Coal": "4.012197622222222",
         "Gas": "22.003403614814815",
         "Oil": "35.11319645185185",
         "_deepnote_index_column": "Argentina"
        },
        {
         "Coal": "0.2583189764705883",
         "Gas": "0.9627588705882353",
         "Oil": "0.9313400176470591",
         "_deepnote_index_column": "Armenia"
        }
       ]
      },
      "text/html": [
       "<div>\n",
       "<style scoped>\n",
       "    .dataframe tbody tr th:only-of-type {\n",
       "        vertical-align: middle;\n",
       "    }\n",
       "\n",
       "    .dataframe tbody tr th {\n",
       "        vertical-align: top;\n",
       "    }\n",
       "\n",
       "    .dataframe thead th {\n",
       "        text-align: right;\n",
       "    }\n",
       "</style>\n",
       "<table border=\"1\" class=\"dataframe\">\n",
       "  <thead>\n",
       "    <tr style=\"text-align: right;\">\n",
       "      <th></th>\n",
       "      <th>Coal</th>\n",
       "      <th>Oil</th>\n",
       "      <th>Gas</th>\n",
       "    </tr>\n",
       "    <tr>\n",
       "      <th>Country</th>\n",
       "      <th></th>\n",
       "      <th></th>\n",
       "      <th></th>\n",
       "    </tr>\n",
       "  </thead>\n",
       "  <tbody>\n",
       "    <tr>\n",
       "      <th>Afghanistan</th>\n",
       "      <td>0.790089</td>\n",
       "      <td>1.802428</td>\n",
       "      <td>0.277625</td>\n",
       "    </tr>\n",
       "    <tr>\n",
       "      <th>Albania</th>\n",
       "      <td>0.750357</td>\n",
       "      <td>2.088072</td>\n",
       "      <td>0.187722</td>\n",
       "    </tr>\n",
       "    <tr>\n",
       "      <th>Algeria</th>\n",
       "      <td>1.108882</td>\n",
       "      <td>15.600961</td>\n",
       "      <td>20.324051</td>\n",
       "    </tr>\n",
       "    <tr>\n",
       "      <th>Andorra</th>\n",
       "      <td>0.000000</td>\n",
       "      <td>0.483890</td>\n",
       "      <td>0.000000</td>\n",
       "    </tr>\n",
       "    <tr>\n",
       "      <th>Angola</th>\n",
       "      <td>0.022233</td>\n",
       "      <td>4.817033</td>\n",
       "      <td>0.640445</td>\n",
       "    </tr>\n",
       "    <tr>\n",
       "      <th>...</th>\n",
       "      <td>...</td>\n",
       "      <td>...</td>\n",
       "      <td>...</td>\n",
       "    </tr>\n",
       "    <tr>\n",
       "      <th>Viet Nam</th>\n",
       "      <td>17.438277</td>\n",
       "      <td>10.834602</td>\n",
       "      <td>2.387313</td>\n",
       "    </tr>\n",
       "    <tr>\n",
       "      <th>Wallis and Futuna Islands</th>\n",
       "      <td>0.000000</td>\n",
       "      <td>0.024157</td>\n",
       "      <td>0.000000</td>\n",
       "    </tr>\n",
       "    <tr>\n",
       "      <th>Yemen</th>\n",
       "      <td>0.069130</td>\n",
       "      <td>8.265044</td>\n",
       "      <td>0.189377</td>\n",
       "    </tr>\n",
       "    <tr>\n",
       "      <th>Zambia</th>\n",
       "      <td>1.665252</td>\n",
       "      <td>1.675202</td>\n",
       "      <td>0.000000</td>\n",
       "    </tr>\n",
       "    <tr>\n",
       "      <th>Zimbabwe</th>\n",
       "      <td>5.265026</td>\n",
       "      <td>1.268349</td>\n",
       "      <td>0.000000</td>\n",
       "    </tr>\n",
       "  </tbody>\n",
       "</table>\n",
       "<p>232 rows × 3 columns</p>\n",
       "</div>"
      ],
      "text/plain": [
       "                                Coal        Oil        Gas\n",
       "Country                                                   \n",
       "Afghanistan                 0.790089   1.802428   0.277625\n",
       "Albania                     0.750357   2.088072   0.187722\n",
       "Algeria                     1.108882  15.600961  20.324051\n",
       "Andorra                     0.000000   0.483890   0.000000\n",
       "Angola                      0.022233   4.817033   0.640445\n",
       "...                              ...        ...        ...\n",
       "Viet Nam                   17.438277  10.834602   2.387313\n",
       "Wallis and Futuna Islands   0.000000   0.024157   0.000000\n",
       "Yemen                       0.069130   8.265044   0.189377\n",
       "Zambia                      1.665252   1.675202   0.000000\n",
       "Zimbabwe                    5.265026   1.268349   0.000000\n",
       "\n",
       "[232 rows x 3 columns]"
      ]
     },
     "execution_count": 57,
     "metadata": {},
     "output_type": "execute_result"
    }
   ],
   "source": [
    "# Calculate mean value of CO2 emissions by country\n",
    "\n"
   ]
  },
  {
   "cell_type": "code",
   "execution_count": 58,
   "metadata": {
    "cell_id": "ab5c1deb03124359b06842e48468640f",
    "deepnote_cell_type": "code",
    "deepnote_table_loading": false,
    "deepnote_table_state": {
     "filters": [],
     "pageIndex": 0,
     "pageSize": 10,
     "sortBy": []
    },
    "deepnote_to_be_reexecuted": false,
    "execution_millis": 20,
    "execution_start": 1681998676008,
    "source_hash": "6f549cd8"
   },
   "outputs": [
    {
     "data": {
      "application/vnd.deepnote.dataframe.v3+json": {
       "column_count": 4,
       "columns": [
        {
         "dtype": "int64",
         "name": "Year",
         "stats": {
          "histogram": [
           {
            "bin_end": 1777.1,
            "bin_start": 1750,
            "count": 28
           },
           {
            "bin_end": 1804.2,
            "bin_start": 1777.1,
            "count": 27
           },
           {
            "bin_end": 1831.3,
            "bin_start": 1804.2,
            "count": 27
           },
           {
            "bin_end": 1858.4,
            "bin_start": 1831.3,
            "count": 27
           },
           {
            "bin_end": 1885.5,
            "bin_start": 1858.4,
            "count": 27
           },
           {
            "bin_end": 1912.6,
            "bin_start": 1885.5,
            "count": 27
           },
           {
            "bin_end": 1939.7,
            "bin_start": 1912.6,
            "count": 27
           },
           {
            "bin_end": 1966.8,
            "bin_start": 1939.7,
            "count": 27
           },
           {
            "bin_end": 1993.9,
            "bin_start": 1966.8,
            "count": 27
           },
           {
            "bin_end": 2021,
            "bin_start": 1993.9,
            "count": 28
           }
          ],
          "max": "2021",
          "min": "1750",
          "nan_count": 0,
          "unique_count": 272
         }
        },
        {
         "dtype": "float64",
         "name": "Coal",
         "stats": {
          "histogram": [
           {
            "bin_end": 1513.5667521999999,
            "bin_start": 9.350528,
            "count": 147
           },
           {
            "bin_end": 3017.7829764,
            "bin_start": 1513.5667521999999,
            "count": 26
           },
           {
            "bin_end": 4521.9992006,
            "bin_start": 3017.7829764,
            "count": 33
           },
           {
            "bin_end": 6026.2154248,
            "bin_start": 4521.9992006,
            "count": 19
           },
           {
            "bin_end": 7530.431648999999,
            "bin_start": 6026.2154248,
            "count": 9
           },
           {
            "bin_end": 9034.647873200001,
            "bin_start": 7530.431648999999,
            "count": 16
           },
           {
            "bin_end": 10538.8640974,
            "bin_start": 9034.647873200001,
            "count": 4
           },
           {
            "bin_end": 12043.0803216,
            "bin_start": 10538.8640974,
            "count": 2
           },
           {
            "bin_end": 13547.2965458,
            "bin_start": 12043.0803216,
            "count": 4
           },
           {
            "bin_end": 15051.51277,
            "bin_start": 13547.2965458,
            "count": 12
           }
          ],
          "max": "15051.51277",
          "min": "9.350528",
          "nan_count": 0,
          "unique_count": 269
         }
        },
        {
         "dtype": "float64",
         "name": "Oil",
         "stats": {
          "histogram": [
           {
            "bin_end": 1234.5653373999999,
            "bin_start": 0,
            "count": 198
           },
           {
            "bin_end": 2469.1306747999997,
            "bin_start": 1234.5653373999999,
            "count": 8
           },
           {
            "bin_end": 3703.6960121999996,
            "bin_start": 2469.1306747999997,
            "count": 7
           },
           {
            "bin_end": 4938.261349599999,
            "bin_start": 3703.6960121999996,
            "count": 4
           },
           {
            "bin_end": 6172.826686999999,
            "bin_start": 4938.261349599999,
            "count": 3
           },
           {
            "bin_end": 7407.392024399999,
            "bin_start": 6172.826686999999,
            "count": 2
           },
           {
            "bin_end": 8641.9573618,
            "bin_start": 7407.392024399999,
            "count": 11
           },
           {
            "bin_end": 9876.522699199999,
            "bin_start": 8641.9573618,
            "count": 15
           },
           {
            "bin_end": 11111.088036599998,
            "bin_start": 9876.522699199999,
            "count": 8
           },
           {
            "bin_end": 12345.653374,
            "bin_start": 11111.088036599998,
            "count": 16
           }
          ],
          "max": "12345.653374",
          "min": "0.0",
          "nan_count": 0,
          "unique_count": 168
         }
        },
        {
         "dtype": "float64",
         "name": "Gas",
         "stats": {
          "histogram": [
           {
            "bin_end": 792.1829472000001,
            "bin_start": 0,
            "count": 210
           },
           {
            "bin_end": 1584.3658944000001,
            "bin_start": 792.1829472000001,
            "count": 9
           },
           {
            "bin_end": 2376.5488416000003,
            "bin_start": 1584.3658944000001,
            "count": 7
           },
           {
            "bin_end": 3168.7317888000002,
            "bin_start": 2376.5488416000003,
            "count": 11
           },
           {
            "bin_end": 3960.914736,
            "bin_start": 3168.7317888000002,
            "count": 6
           },
           {
            "bin_end": 4753.097683200001,
            "bin_start": 3960.914736,
            "count": 8
           },
           {
            "bin_end": 5545.2806304000005,
            "bin_start": 4753.097683200001,
            "count": 6
           },
           {
            "bin_end": 6337.4635776000005,
            "bin_start": 5545.2806304000005,
            "count": 4
           },
           {
            "bin_end": 7129.6465248,
            "bin_start": 6337.4635776000005,
            "count": 6
           },
           {
            "bin_end": 7921.829472,
            "bin_start": 7129.6465248,
            "count": 5
           }
          ],
          "max": "7921.829472",
          "min": "0.0",
          "nan_count": 0,
          "unique_count": 141
         }
        },
        {
         "dtype": "int64",
         "name": "_deepnote_index_column"
        }
       ],
       "row_count": 272,
       "rows": [
        {
         "Coal": "9.350528",
         "Gas": "0.0",
         "Oil": "0.0",
         "Year": "1750",
         "_deepnote_index_column": "0"
        },
        {
         "Coal": "9.350528",
         "Gas": "0.0",
         "Oil": "0.0",
         "Year": "1751",
         "_deepnote_index_column": "1"
        },
        {
         "Coal": "9.354192",
         "Gas": "0.0",
         "Oil": "0.0",
         "Year": "1752",
         "_deepnote_index_column": "2"
        },
        {
         "Coal": "9.354192",
         "Gas": "0.0",
         "Oil": "0.0",
         "Year": "1753",
         "_deepnote_index_column": "3"
        },
        {
         "Coal": "9.357856",
         "Gas": "0.0",
         "Oil": "0.0",
         "Year": "1754",
         "_deepnote_index_column": "4"
        },
        {
         "Coal": "9.36152",
         "Gas": "0.0",
         "Oil": "0.0",
         "Year": "1755",
         "_deepnote_index_column": "5"
        },
        {
         "Coal": "10.006384",
         "Gas": "0.0",
         "Oil": "0.0",
         "Year": "1756",
         "_deepnote_index_column": "6"
        },
        {
         "Coal": "10.010048",
         "Gas": "0.0",
         "Oil": "0.0",
         "Year": "1757",
         "_deepnote_index_column": "7"
        },
        {
         "Coal": "10.013712",
         "Gas": "0.0",
         "Oil": "0.0",
         "Year": "1758",
         "_deepnote_index_column": "8"
        },
        {
         "Coal": "10.017376",
         "Gas": "0.0",
         "Oil": "0.0",
         "Year": "1759",
         "_deepnote_index_column": "9"
        }
       ]
      },
      "text/html": [
       "<div>\n",
       "<style scoped>\n",
       "    .dataframe tbody tr th:only-of-type {\n",
       "        vertical-align: middle;\n",
       "    }\n",
       "\n",
       "    .dataframe tbody tr th {\n",
       "        vertical-align: top;\n",
       "    }\n",
       "\n",
       "    .dataframe thead th {\n",
       "        text-align: right;\n",
       "    }\n",
       "</style>\n",
       "<table border=\"1\" class=\"dataframe\">\n",
       "  <thead>\n",
       "    <tr style=\"text-align: right;\">\n",
       "      <th></th>\n",
       "      <th>Year</th>\n",
       "      <th>Coal</th>\n",
       "      <th>Oil</th>\n",
       "      <th>Gas</th>\n",
       "    </tr>\n",
       "  </thead>\n",
       "  <tbody>\n",
       "    <tr>\n",
       "      <th>0</th>\n",
       "      <td>1750</td>\n",
       "      <td>9.350528</td>\n",
       "      <td>0.000000</td>\n",
       "      <td>0.000000</td>\n",
       "    </tr>\n",
       "    <tr>\n",
       "      <th>1</th>\n",
       "      <td>1751</td>\n",
       "      <td>9.350528</td>\n",
       "      <td>0.000000</td>\n",
       "      <td>0.000000</td>\n",
       "    </tr>\n",
       "    <tr>\n",
       "      <th>2</th>\n",
       "      <td>1752</td>\n",
       "      <td>9.354192</td>\n",
       "      <td>0.000000</td>\n",
       "      <td>0.000000</td>\n",
       "    </tr>\n",
       "    <tr>\n",
       "      <th>3</th>\n",
       "      <td>1753</td>\n",
       "      <td>9.354192</td>\n",
       "      <td>0.000000</td>\n",
       "      <td>0.000000</td>\n",
       "    </tr>\n",
       "    <tr>\n",
       "      <th>4</th>\n",
       "      <td>1754</td>\n",
       "      <td>9.357856</td>\n",
       "      <td>0.000000</td>\n",
       "      <td>0.000000</td>\n",
       "    </tr>\n",
       "    <tr>\n",
       "      <th>...</th>\n",
       "      <td>...</td>\n",
       "      <td>...</td>\n",
       "      <td>...</td>\n",
       "      <td>...</td>\n",
       "    </tr>\n",
       "    <tr>\n",
       "      <th>267</th>\n",
       "      <td>2017</td>\n",
       "      <td>14506.973805</td>\n",
       "      <td>12242.627935</td>\n",
       "      <td>7144.928128</td>\n",
       "    </tr>\n",
       "    <tr>\n",
       "      <th>268</th>\n",
       "      <td>2018</td>\n",
       "      <td>14746.830688</td>\n",
       "      <td>12266.016285</td>\n",
       "      <td>7529.846784</td>\n",
       "    </tr>\n",
       "    <tr>\n",
       "      <th>269</th>\n",
       "      <td>2019</td>\n",
       "      <td>14725.978025</td>\n",
       "      <td>12345.653374</td>\n",
       "      <td>7647.528220</td>\n",
       "    </tr>\n",
       "    <tr>\n",
       "      <th>270</th>\n",
       "      <td>2020</td>\n",
       "      <td>14174.564010</td>\n",
       "      <td>11191.808551</td>\n",
       "      <td>7556.290283</td>\n",
       "    </tr>\n",
       "    <tr>\n",
       "      <th>271</th>\n",
       "      <td>2021</td>\n",
       "      <td>14979.598083</td>\n",
       "      <td>11837.159116</td>\n",
       "      <td>7921.829472</td>\n",
       "    </tr>\n",
       "  </tbody>\n",
       "</table>\n",
       "<p>272 rows × 4 columns</p>\n",
       "</div>"
      ],
      "text/plain": [
       "     Year          Coal           Oil          Gas\n",
       "0    1750      9.350528      0.000000     0.000000\n",
       "1    1751      9.350528      0.000000     0.000000\n",
       "2    1752      9.354192      0.000000     0.000000\n",
       "3    1753      9.354192      0.000000     0.000000\n",
       "4    1754      9.357856      0.000000     0.000000\n",
       "..    ...           ...           ...          ...\n",
       "267  2017  14506.973805  12242.627935  7144.928128\n",
       "268  2018  14746.830688  12266.016285  7529.846784\n",
       "269  2019  14725.978025  12345.653374  7647.528220\n",
       "270  2020  14174.564010  11191.808551  7556.290283\n",
       "271  2021  14979.598083  11837.159116  7921.829472\n",
       "\n",
       "[272 rows x 4 columns]"
      ]
     },
     "execution_count": 58,
     "metadata": {},
     "output_type": "execute_result"
    }
   ],
   "source": [
    "# Show max CO2 emissions by year\n"
   ]
  },
  {
   "cell_type": "markdown",
   "metadata": {
    "cell_id": "4ad1bacff8d749938da51dd242acefcb",
    "deepnote_cell_type": "markdown"
   },
   "source": [
    "## 2.5. Dataframe: Filtering\n",
    "\n",
    "To subset the data we can apply Boolean indexing. This indexing is commonly known as a filter."
   ]
  },
  {
   "cell_type": "code",
   "execution_count": 59,
   "metadata": {
    "cell_id": "6b069eeb9c9a42469cc1ef3ae4da11af",
    "deepnote_cell_type": "code",
    "deepnote_to_be_reexecuted": false,
    "execution_millis": 51,
    "execution_start": 1681998676029,
    "source_hash": "806df624"
   },
   "outputs": [
    {
     "data": {
      "application/vnd.deepnote.dataframe.v3+json": {
       "column_count": 11,
       "columns": [
        {
         "dtype": "object",
         "name": "Country",
         "stats": {
          "categories": [
           {
            "count": 115,
            "name": "Global"
           },
           {
            "count": 109,
            "name": "USA"
           },
           {
            "count": 986,
            "name": "25 others"
           }
          ],
          "nan_count": 0,
          "unique_count": 27
         }
        },
        {
         "dtype": "object",
         "name": "ISO 3166-1 alpha-3",
         "stats": {
          "categories": [
           {
            "count": 115,
            "name": "WLD"
           },
           {
            "count": 1094,
            "name": "25 others"
           },
           {
            "count": 1,
            "name": "Missing"
           }
          ],
          "nan_count": 1,
          "unique_count": 26
         }
        },
        {
         "dtype": "int64",
         "name": "Year",
         "stats": {
          "histogram": [
           {
            "bin_end": 1918.4,
            "bin_start": 1907,
            "count": 18
           },
           {
            "bin_end": 1929.8,
            "bin_start": 1918.4,
            "count": 22
           },
           {
            "bin_end": 1941.2,
            "bin_start": 1929.8,
            "count": 24
           },
           {
            "bin_end": 1952.6,
            "bin_start": 1941.2,
            "count": 25
           },
           {
            "bin_end": 1964,
            "bin_start": 1952.6,
            "count": 64
           },
           {
            "bin_end": 1975.4,
            "bin_start": 1964,
            "count": 141
           },
           {
            "bin_end": 1986.8,
            "bin_start": 1975.4,
            "count": 175
           },
           {
            "bin_end": 1998.2,
            "bin_start": 1986.8,
            "count": 230
           },
           {
            "bin_end": 2009.6,
            "bin_start": 1998.2,
            "count": 231
           },
           {
            "bin_end": 2021,
            "bin_start": 2009.6,
            "count": 280
           }
          ],
          "max": "2021",
          "min": "1907",
          "nan_count": 0,
          "unique_count": 115
         }
        },
        {
         "dtype": "float64",
         "name": "Total",
         "stats": {
          "histogram": [
           {
            "bin_end": 3827.9395344000004,
            "bin_start": 128.393888,
            "count": 1046
           },
           {
            "bin_end": 7527.4851808,
            "bin_start": 3827.9395344000004,
            "count": 85
           },
           {
            "bin_end": 11227.030827200002,
            "bin_start": 7527.4851808,
            "count": 21
           },
           {
            "bin_end": 14926.576473600002,
            "bin_start": 11227.030827200002,
            "count": 7
           },
           {
            "bin_end": 18626.12212,
            "bin_start": 14926.576473600002,
            "count": 7
           },
           {
            "bin_end": 22325.6677664,
            "bin_start": 18626.12212,
            "count": 11
           },
           {
            "bin_end": 26025.2134128,
            "bin_start": 22325.6677664,
            "count": 13
           },
           {
            "bin_end": 29724.7590592,
            "bin_start": 26025.2134128,
            "count": 4
           },
           {
            "bin_end": 33424.3047056,
            "bin_start": 29724.7590592,
            "count": 5
           },
           {
            "bin_end": 37123.850352,
            "bin_start": 33424.3047056,
            "count": 11
           }
          ],
          "max": "37123.850352",
          "min": "128.393888",
          "nan_count": 0,
          "unique_count": 1210
         }
        },
        {
         "dtype": "float64",
         "name": "Coal",
         "stats": {
          "histogram": [
           {
            "bin_end": 1505.151277,
            "bin_start": 0,
            "count": 946
           },
           {
            "bin_end": 3010.302554,
            "bin_start": 1505.151277,
            "count": 73
           },
           {
            "bin_end": 4515.453831,
            "bin_start": 3010.302554,
            "count": 37
           },
           {
            "bin_end": 6020.605108,
            "bin_start": 4515.453831,
            "count": 22
           },
           {
            "bin_end": 7525.756385,
            "bin_start": 6020.605108,
            "count": 19
           },
           {
            "bin_end": 9030.907662,
            "bin_start": 7525.756385,
            "count": 19
           },
           {
            "bin_end": 10536.058938999999,
            "bin_start": 9030.907662,
            "count": 4
           },
           {
            "bin_end": 12041.210216,
            "bin_start": 10536.058938999999,
            "count": 2
           },
           {
            "bin_end": 13546.361493,
            "bin_start": 12041.210216,
            "count": 4
           },
           {
            "bin_end": 15051.51277,
            "bin_start": 13546.361493,
            "count": 12
           }
          ],
          "max": "15051.51277",
          "min": "0.0",
          "nan_count": 72,
          "unique_count": 1088
         }
        },
        {
         "dtype": "float64",
         "name": "Oil",
         "stats": {
          "histogram": [
           {
            "bin_end": 1324.675555,
            "bin_start": 100.122464,
            "count": 1069
           },
           {
            "bin_end": 2549.228646,
            "bin_start": 1324.675555,
            "count": 71
           },
           {
            "bin_end": 3773.7817370000002,
            "bin_start": 2549.228646,
            "count": 11
           },
           {
            "bin_end": 4998.334828,
            "bin_start": 3773.7817370000002,
            "count": 4
           },
           {
            "bin_end": 6222.887919,
            "bin_start": 4998.334828,
            "count": 3
           },
           {
            "bin_end": 7447.4410100000005,
            "bin_start": 6222.887919,
            "count": 2
           },
           {
            "bin_end": 8671.994101,
            "bin_start": 7447.4410100000005,
            "count": 12
           },
           {
            "bin_end": 9896.547192,
            "bin_start": 8671.994101,
            "count": 15
           },
           {
            "bin_end": 11121.100283,
            "bin_start": 9896.547192,
            "count": 7
           },
           {
            "bin_end": 12345.653374,
            "bin_start": 11121.100283,
            "count": 16
           }
          ],
          "max": "12345.653374",
          "min": "100.122464",
          "nan_count": 0,
          "unique_count": 1210
         }
        },
        {
         "dtype": "float64",
         "name": "Gas",
         "stats": {
          "histogram": [
           {
            "bin_end": 792.1829472000001,
            "bin_start": 0,
            "count": 1014
           },
           {
            "bin_end": 1584.3658944000001,
            "bin_start": 792.1829472000001,
            "count": 67
           },
           {
            "bin_end": 2376.5488416000003,
            "bin_start": 1584.3658944000001,
            "count": 11
           },
           {
            "bin_end": 3168.7317888000002,
            "bin_start": 2376.5488416000003,
            "count": 11
           },
           {
            "bin_end": 3960.914736,
            "bin_start": 3168.7317888000002,
            "count": 6
           },
           {
            "bin_end": 4753.097683200001,
            "bin_start": 3960.914736,
            "count": 8
           },
           {
            "bin_end": 5545.2806304000005,
            "bin_start": 4753.097683200001,
            "count": 6
           },
           {
            "bin_end": 6337.4635776000005,
            "bin_start": 5545.2806304000005,
            "count": 4
           },
           {
            "bin_end": 7129.6465248,
            "bin_start": 6337.4635776000005,
            "count": 6
           },
           {
            "bin_end": 7921.829472,
            "bin_start": 7129.6465248,
            "count": 5
           }
          ],
          "max": "7921.829472",
          "min": "0.0",
          "nan_count": 72,
          "unique_count": 1135
         }
        },
        {
         "dtype": "float64",
         "name": "Cement",
         "stats": {
          "histogram": [
           {
            "bin_end": 167.2592372,
            "bin_start": 0,
            "count": 1051
           },
           {
            "bin_end": 334.5184744,
            "bin_start": 167.2592372,
            "count": 19
           },
           {
            "bin_end": 501.7777116,
            "bin_start": 334.5184744,
            "count": 22
           },
           {
            "bin_end": 669.0369488,
            "bin_start": 501.7777116,
            "count": 12
           },
           {
            "bin_end": 836.296186,
            "bin_start": 669.0369488,
            "count": 13
           },
           {
            "bin_end": 1003.5554232,
            "bin_start": 836.296186,
            "count": 5
           },
           {
            "bin_end": 1170.8146604,
            "bin_start": 1003.5554232,
            "count": 3
           },
           {
            "bin_end": 1338.0738976,
            "bin_start": 1170.8146604,
            "count": 2
           },
           {
            "bin_end": 1505.3331348,
            "bin_start": 1338.0738976,
            "count": 6
           },
           {
            "bin_end": 1672.592372,
            "bin_start": 1505.3331348,
            "count": 5
           }
          ],
          "max": "1672.592372",
          "min": "0.0",
          "nan_count": 72,
          "unique_count": 1129
         }
        },
        {
         "dtype": "float64",
         "name": "Flaring",
         "stats": {
          "histogram": [
           {
            "bin_end": 43.9253991,
            "bin_start": 0,
            "count": 995
           },
           {
            "bin_end": 87.8507982,
            "bin_start": 43.9253991,
            "count": 34
           },
           {
            "bin_end": 131.7761973,
            "bin_start": 87.8507982,
            "count": 10
           },
           {
            "bin_end": 175.7015964,
            "bin_start": 131.7761973,
            "count": 4
           },
           {
            "bin_end": 219.6269955,
            "bin_start": 175.7015964,
            "count": 6
           },
           {
            "bin_end": 263.5523946,
            "bin_start": 219.6269955,
            "count": 11
           },
           {
            "bin_end": 307.4777937,
            "bin_start": 263.5523946,
            "count": 7
           },
           {
            "bin_end": 351.4031928,
            "bin_start": 307.4777937,
            "count": 7
           },
           {
            "bin_end": 395.3285919,
            "bin_start": 351.4031928,
            "count": 15
           },
           {
            "bin_end": 439.253991,
            "bin_start": 395.3285919,
            "count": 6
           }
          ],
          "max": "439.253991",
          "min": "0.0",
          "nan_count": 115,
          "unique_count": 838
         }
        },
        {
         "dtype": "float64",
         "name": "Other",
         "stats": {
          "histogram": [
           {
            "bin_end": 31.852127300000003,
            "bin_start": 1.3203,
            "count": 460
           },
           {
            "bin_end": 62.38395460000001,
            "bin_start": 31.852127300000003,
            "count": 18
           },
           {
            "bin_end": 92.91578190000001,
            "bin_start": 62.38395460000001,
            "count": 14
           },
           {
            "bin_end": 123.44760920000002,
            "bin_start": 92.91578190000001,
            "count": 9
           },
           {
            "bin_end": 153.97943650000002,
            "bin_start": 123.44760920000002,
            "count": 3
           },
           {
            "bin_end": 184.51126380000002,
            "bin_start": 153.97943650000002,
            "count": 9
           },
           {
            "bin_end": 215.04309110000003,
            "bin_start": 184.51126380000002,
            "count": 1
           },
           {
            "bin_end": 245.57491840000003,
            "bin_start": 215.04309110000003,
            "count": 16
           },
           {
            "bin_end": 276.10674570000003,
            "bin_start": 245.57491840000003,
            "count": 5
           },
           {
            "bin_end": 306.638573,
            "bin_start": 276.10674570000003,
            "count": 10
           }
          ],
          "max": "306.638573",
          "min": "1.3203",
          "nan_count": 665,
          "unique_count": 513
         }
        },
        {
         "dtype": "float64",
         "name": "Per Capita",
         "stats": {
          "histogram": [
           {
            "bin_end": 2.3081082,
            "bin_start": 0,
            "count": 176
           },
           {
            "bin_end": 4.6162164,
            "bin_start": 2.3081082,
            "count": 188
           },
           {
            "bin_end": 6.9243246,
            "bin_start": 4.6162164,
            "count": 155
           },
           {
            "bin_end": 9.2324328,
            "bin_start": 6.9243246,
            "count": 140
           },
           {
            "bin_end": 11.540541,
            "bin_start": 9.2324328,
            "count": 161
           },
           {
            "bin_end": 13.8486492,
            "bin_start": 11.540541,
            "count": 96
           },
           {
            "bin_end": 16.1567574,
            "bin_start": 13.8486492,
            "count": 61
           },
           {
            "bin_end": 18.4648656,
            "bin_start": 16.1567574,
            "count": 102
           },
           {
            "bin_end": 20.7729738,
            "bin_start": 18.4648656,
            "count": 40
           },
           {
            "bin_end": 23.081082,
            "bin_start": 20.7729738,
            "count": 19
           }
          ],
          "max": "23.081082",
          "min": "0.0",
          "nan_count": 72,
          "unique_count": 1138
         }
        },
        {
         "dtype": "int64",
         "name": "_deepnote_index_column"
        }
       ],
       "row_count": 1210,
       "rows": [
        {
         "Cement": "3.519991",
         "Coal": "183.215379",
         "Country": "Australia",
         "Flaring": "7.165139",
         "Gas": "45.548715",
         "ISO 3166-1 alpha-3": "AUS",
         "Oil": "100.399487",
         "Other": "3.639921",
         "Per Capita": "18.269805",
         "Total": "343.488633",
         "Year": "1999",
         "_deepnote_index_column": "3241"
        },
        {
         "Cement": "3.620856",
         "Coal": "185.781229",
         "Country": "Australia",
         "Flaring": "7.952858",
         "Gas": "46.593883",
         "ISO 3166-1 alpha-3": "AUS",
         "Oil": "102.33736",
         "Other": "3.349301",
         "Per Capita": "18.384487",
         "Total": "349.635487",
         "Year": "2000",
         "_deepnote_index_column": "3242"
        },
        {
         "Cement": "3.540903",
         "Coal": "190.066589",
         "Country": "Australia",
         "Flaring": "8.172284",
         "Gas": "49.310577",
         "ISO 3166-1 alpha-3": "AUS",
         "Oil": "102.582541",
         "Other": "3.459474",
         "Per Capita": "18.554121",
         "Total": "357.132367",
         "Year": "2001",
         "_deepnote_index_column": "3243"
        },
        {
         "Cement": "3.487738",
         "Coal": "191.13103",
         "Country": "Australia",
         "Flaring": "8.007496",
         "Gas": "50.573495",
         "ISO 3166-1 alpha-3": "AUS",
         "Oil": "104.516285",
         "Other": "3.824767",
         "Per Capita": "18.56355",
         "Total": "361.54081",
         "Year": "2002",
         "_deepnote_index_column": "3244"
        },
        {
         "Cement": "3.584016",
         "Coal": "195.370417",
         "Country": "Australia",
         "Flaring": "7.157978",
         "Gas": "49.701209",
         "ISO 3166-1 alpha-3": "AUS",
         "Oil": "109.57068",
         "Other": "3.895211",
         "Per Capita": "18.746105",
         "Total": "369.279512",
         "Year": "2003",
         "_deepnote_index_column": "3245"
        },
        {
         "Cement": "3.554645",
         "Coal": "202.20981",
         "Country": "Australia",
         "Flaring": "6.85794",
         "Gas": "52.51797",
         "ISO 3166-1 alpha-3": "AUS",
         "Oil": "113.766232",
         "Other": "3.914293",
         "Per Capita": "19.21304",
         "Total": "382.82089",
         "Year": "2004",
         "_deepnote_index_column": "3246"
        },
        {
         "Cement": "3.664127",
         "Coal": "200.699756",
         "Country": "Australia",
         "Flaring": "6.914461",
         "Gas": "54.476588",
         "ISO 3166-1 alpha-3": "AUS",
         "Oil": "116.507794",
         "Other": "3.890808",
         "Per Capita": "19.143302",
         "Total": "386.153533",
         "Year": "2005",
         "_deepnote_index_column": "3247"
        },
        {
         "Cement": "3.888062",
         "Coal": "204.384919",
         "Country": "Australia",
         "Flaring": "7.046394",
         "Gas": "55.810784",
         "ISO 3166-1 alpha-3": "AUS",
         "Oil": "117.400366",
         "Other": "3.853779",
         "Per Capita": "19.171531",
         "Total": "392.384302",
         "Year": "2006",
         "_deepnote_index_column": "3248"
        },
        {
         "Cement": "3.971547",
         "Coal": "203.543107",
         "Country": "Australia",
         "Flaring": "7.504144",
         "Gas": "61.048701",
         "ISO 3166-1 alpha-3": "AUS",
         "Oil": "119.47387",
         "Other": "4.083434",
         "Per Capita": "19.184298",
         "Total": "399.624803",
         "Year": "2007",
         "_deepnote_index_column": "3249"
        },
        {
         "Cement": "3.862908",
         "Coal": "204.671475",
         "Country": "Australia",
         "Flaring": "7.482726",
         "Gas": "61.786863",
         "ISO 3166-1 alpha-3": "AUS",
         "Oil": "122.328074",
         "Other": "4.101021",
         "Per Capita": "19.024637",
         "Total": "404.233067",
         "Year": "2008",
         "_deepnote_index_column": "3250"
        }
       ]
      },
      "text/html": [
       "<div>\n",
       "<style scoped>\n",
       "    .dataframe tbody tr th:only-of-type {\n",
       "        vertical-align: middle;\n",
       "    }\n",
       "\n",
       "    .dataframe tbody tr th {\n",
       "        vertical-align: top;\n",
       "    }\n",
       "\n",
       "    .dataframe thead th {\n",
       "        text-align: right;\n",
       "    }\n",
       "</style>\n",
       "<table border=\"1\" class=\"dataframe\">\n",
       "  <thead>\n",
       "    <tr style=\"text-align: right;\">\n",
       "      <th></th>\n",
       "      <th>Country</th>\n",
       "      <th>ISO 3166-1 alpha-3</th>\n",
       "      <th>Year</th>\n",
       "      <th>Total</th>\n",
       "      <th>Coal</th>\n",
       "      <th>Oil</th>\n",
       "      <th>Gas</th>\n",
       "      <th>Cement</th>\n",
       "      <th>Flaring</th>\n",
       "      <th>Other</th>\n",
       "      <th>Per Capita</th>\n",
       "    </tr>\n",
       "  </thead>\n",
       "  <tbody>\n",
       "    <tr>\n",
       "      <th>3241</th>\n",
       "      <td>Australia</td>\n",
       "      <td>AUS</td>\n",
       "      <td>1999</td>\n",
       "      <td>343.488633</td>\n",
       "      <td>183.215379</td>\n",
       "      <td>100.399487</td>\n",
       "      <td>45.548715</td>\n",
       "      <td>3.519991</td>\n",
       "      <td>7.165139</td>\n",
       "      <td>3.639921</td>\n",
       "      <td>18.269805</td>\n",
       "    </tr>\n",
       "    <tr>\n",
       "      <th>3242</th>\n",
       "      <td>Australia</td>\n",
       "      <td>AUS</td>\n",
       "      <td>2000</td>\n",
       "      <td>349.635487</td>\n",
       "      <td>185.781229</td>\n",
       "      <td>102.337360</td>\n",
       "      <td>46.593883</td>\n",
       "      <td>3.620856</td>\n",
       "      <td>7.952858</td>\n",
       "      <td>3.349301</td>\n",
       "      <td>18.384487</td>\n",
       "    </tr>\n",
       "    <tr>\n",
       "      <th>3243</th>\n",
       "      <td>Australia</td>\n",
       "      <td>AUS</td>\n",
       "      <td>2001</td>\n",
       "      <td>357.132367</td>\n",
       "      <td>190.066589</td>\n",
       "      <td>102.582541</td>\n",
       "      <td>49.310577</td>\n",
       "      <td>3.540903</td>\n",
       "      <td>8.172284</td>\n",
       "      <td>3.459474</td>\n",
       "      <td>18.554121</td>\n",
       "    </tr>\n",
       "    <tr>\n",
       "      <th>3244</th>\n",
       "      <td>Australia</td>\n",
       "      <td>AUS</td>\n",
       "      <td>2002</td>\n",
       "      <td>361.540810</td>\n",
       "      <td>191.131030</td>\n",
       "      <td>104.516285</td>\n",
       "      <td>50.573495</td>\n",
       "      <td>3.487738</td>\n",
       "      <td>8.007496</td>\n",
       "      <td>3.824767</td>\n",
       "      <td>18.563550</td>\n",
       "    </tr>\n",
       "    <tr>\n",
       "      <th>3245</th>\n",
       "      <td>Australia</td>\n",
       "      <td>AUS</td>\n",
       "      <td>2003</td>\n",
       "      <td>369.279512</td>\n",
       "      <td>195.370417</td>\n",
       "      <td>109.570680</td>\n",
       "      <td>49.701209</td>\n",
       "      <td>3.584016</td>\n",
       "      <td>7.157978</td>\n",
       "      <td>3.895211</td>\n",
       "      <td>18.746105</td>\n",
       "    </tr>\n",
       "    <tr>\n",
       "      <th>...</th>\n",
       "      <td>...</td>\n",
       "      <td>...</td>\n",
       "      <td>...</td>\n",
       "      <td>...</td>\n",
       "      <td>...</td>\n",
       "      <td>...</td>\n",
       "      <td>...</td>\n",
       "      <td>...</td>\n",
       "      <td>...</td>\n",
       "      <td>...</td>\n",
       "      <td>...</td>\n",
       "    </tr>\n",
       "    <tr>\n",
       "      <th>63099</th>\n",
       "      <td>Global</td>\n",
       "      <td>WLD</td>\n",
       "      <td>2017</td>\n",
       "      <td>36096.739276</td>\n",
       "      <td>14506.973805</td>\n",
       "      <td>12242.627935</td>\n",
       "      <td>7144.928128</td>\n",
       "      <td>1507.923185</td>\n",
       "      <td>391.992176</td>\n",
       "      <td>302.294047</td>\n",
       "      <td>4.749682</td>\n",
       "    </tr>\n",
       "    <tr>\n",
       "      <th>63100</th>\n",
       "      <td>Global</td>\n",
       "      <td>WLD</td>\n",
       "      <td>2018</td>\n",
       "      <td>36826.506600</td>\n",
       "      <td>14746.830688</td>\n",
       "      <td>12266.016285</td>\n",
       "      <td>7529.846784</td>\n",
       "      <td>1569.218392</td>\n",
       "      <td>412.115746</td>\n",
       "      <td>302.478706</td>\n",
       "      <td>4.792753</td>\n",
       "    </tr>\n",
       "    <tr>\n",
       "      <th>63101</th>\n",
       "      <td>Global</td>\n",
       "      <td>WLD</td>\n",
       "      <td>2019</td>\n",
       "      <td>37082.558969</td>\n",
       "      <td>14725.978025</td>\n",
       "      <td>12345.653374</td>\n",
       "      <td>7647.528220</td>\n",
       "      <td>1617.506786</td>\n",
       "      <td>439.253991</td>\n",
       "      <td>306.638573</td>\n",
       "      <td>4.775633</td>\n",
       "    </tr>\n",
       "    <tr>\n",
       "      <th>63102</th>\n",
       "      <td>Global</td>\n",
       "      <td>WLD</td>\n",
       "      <td>2020</td>\n",
       "      <td>35264.085734</td>\n",
       "      <td>14174.564010</td>\n",
       "      <td>11191.808551</td>\n",
       "      <td>7556.290283</td>\n",
       "      <td>1637.537532</td>\n",
       "      <td>407.583673</td>\n",
       "      <td>296.301685</td>\n",
       "      <td>4.497423</td>\n",
       "    </tr>\n",
       "    <tr>\n",
       "      <th>63103</th>\n",
       "      <td>Global</td>\n",
       "      <td>WLD</td>\n",
       "      <td>2021</td>\n",
       "      <td>37123.850352</td>\n",
       "      <td>14979.598083</td>\n",
       "      <td>11837.159116</td>\n",
       "      <td>7921.829472</td>\n",
       "      <td>1672.592372</td>\n",
       "      <td>416.525563</td>\n",
       "      <td>296.145746</td>\n",
       "      <td>4.693699</td>\n",
       "    </tr>\n",
       "  </tbody>\n",
       "</table>\n",
       "<p>1210 rows × 11 columns</p>\n",
       "</div>"
      ],
      "text/plain": [
       "         Country ISO 3166-1 alpha-3  Year         Total          Coal  \\\n",
       "3241   Australia                AUS  1999    343.488633    183.215379   \n",
       "3242   Australia                AUS  2000    349.635487    185.781229   \n",
       "3243   Australia                AUS  2001    357.132367    190.066589   \n",
       "3244   Australia                AUS  2002    361.540810    191.131030   \n",
       "3245   Australia                AUS  2003    369.279512    195.370417   \n",
       "...          ...                ...   ...           ...           ...   \n",
       "63099     Global                WLD  2017  36096.739276  14506.973805   \n",
       "63100     Global                WLD  2018  36826.506600  14746.830688   \n",
       "63101     Global                WLD  2019  37082.558969  14725.978025   \n",
       "63102     Global                WLD  2020  35264.085734  14174.564010   \n",
       "63103     Global                WLD  2021  37123.850352  14979.598083   \n",
       "\n",
       "                Oil          Gas       Cement     Flaring       Other  \\\n",
       "3241     100.399487    45.548715     3.519991    7.165139    3.639921   \n",
       "3242     102.337360    46.593883     3.620856    7.952858    3.349301   \n",
       "3243     102.582541    49.310577     3.540903    8.172284    3.459474   \n",
       "3244     104.516285    50.573495     3.487738    8.007496    3.824767   \n",
       "3245     109.570680    49.701209     3.584016    7.157978    3.895211   \n",
       "...             ...          ...          ...         ...         ...   \n",
       "63099  12242.627935  7144.928128  1507.923185  391.992176  302.294047   \n",
       "63100  12266.016285  7529.846784  1569.218392  412.115746  302.478706   \n",
       "63101  12345.653374  7647.528220  1617.506786  439.253991  306.638573   \n",
       "63102  11191.808551  7556.290283  1637.537532  407.583673  296.301685   \n",
       "63103  11837.159116  7921.829472  1672.592372  416.525563  296.145746   \n",
       "\n",
       "       Per Capita  \n",
       "3241    18.269805  \n",
       "3242    18.384487  \n",
       "3243    18.554121  \n",
       "3244    18.563550  \n",
       "3245    18.746105  \n",
       "...           ...  \n",
       "63099    4.749682  \n",
       "63100    4.792753  \n",
       "63101    4.775633  \n",
       "63102    4.497423  \n",
       "63103    4.693699  \n",
       "\n",
       "[1210 rows x 11 columns]"
      ]
     },
     "execution_count": 59,
     "metadata": {},
     "output_type": "execute_result"
    }
   ],
   "source": [
    "# Show CO2 Emissions from Oil industry greater than 100 Mt\n",
    "\n"
   ]
  },
  {
   "cell_type": "code",
   "execution_count": 60,
   "metadata": {
    "cell_id": "f8a921786ec5417681fae9e3781f5ca7",
    "deepnote_cell_type": "code",
    "deepnote_to_be_reexecuted": false,
    "execution_millis": 16,
    "execution_start": 1681998676081,
    "source_hash": "f598c5ff"
   },
   "outputs": [
    {
     "data": {
      "application/vnd.deepnote.dataframe.v3+json": {
       "column_count": 4,
       "columns": [
        {
         "dtype": "object",
         "name": "Country",
         "stats": {
          "categories": [
           {
            "count": 90,
            "name": "Global"
           },
           {
            "count": 86,
            "name": "USA"
           },
           {
            "count": 363,
            "name": "15 others"
           }
          ],
          "nan_count": 0,
          "unique_count": 17
         }
        },
        {
         "dtype": "int64",
         "name": "Year",
         "stats": {
          "histogram": [
           {
            "bin_end": 1938.2,
            "bin_start": 1929,
            "count": 10
           },
           {
            "bin_end": 1947.4,
            "bin_start": 1938.2,
            "count": 18
           },
           {
            "bin_end": 1956.6,
            "bin_start": 1947.4,
            "count": 18
           },
           {
            "bin_end": 1965.8,
            "bin_start": 1956.6,
            "count": 21
           },
           {
            "bin_end": 1975,
            "bin_start": 1965.8,
            "count": 27
           },
           {
            "bin_end": 1984.2,
            "bin_start": 1975,
            "count": 50
           },
           {
            "bin_end": 1993.4,
            "bin_start": 1984.2,
            "count": 69
           },
           {
            "bin_end": 2002.6,
            "bin_start": 1993.4,
            "count": 76
           },
           {
            "bin_end": 2011.8,
            "bin_start": 2002.6,
            "count": 107
           },
           {
            "bin_end": 2021,
            "bin_start": 2011.8,
            "count": 143
           }
          ],
          "max": "2021",
          "min": "1929",
          "nan_count": 0,
          "unique_count": 90
         }
        },
        {
         "dtype": "float64",
         "name": "Oil",
         "stats": {
          "histogram": [
           {
            "bin_end": 1325.8824766,
            "bin_start": 101.463488,
            "count": 398
           },
           {
            "bin_end": 2550.3014651999997,
            "bin_start": 1325.8824766,
            "count": 71
           },
           {
            "bin_end": 3774.7204537999996,
            "bin_start": 2550.3014651999997,
            "count": 11
           },
           {
            "bin_end": 4999.1394424,
            "bin_start": 3774.7204537999996,
            "count": 4
           },
           {
            "bin_end": 6223.558431,
            "bin_start": 4999.1394424,
            "count": 3
           },
           {
            "bin_end": 7447.9774196,
            "bin_start": 6223.558431,
            "count": 2
           },
           {
            "bin_end": 8672.396408199998,
            "bin_start": 7447.9774196,
            "count": 12
           },
           {
            "bin_end": 9896.815396799999,
            "bin_start": 8672.396408199998,
            "count": 15
           },
           {
            "bin_end": 11121.2343854,
            "bin_start": 9896.815396799999,
            "count": 7
           },
           {
            "bin_end": 12345.653374,
            "bin_start": 11121.2343854,
            "count": 16
           }
          ],
          "max": "12345.653374",
          "min": "101.463488",
          "nan_count": 0,
          "unique_count": 539
         }
        },
        {
         "dtype": "float64",
         "name": "Gas",
         "stats": {
          "histogram": [
           {
            "bin_end": 882.6786681,
            "bin_start": 100.550801,
            "count": 426
           },
           {
            "bin_end": 1664.8065352,
            "bin_start": 882.6786681,
            "count": 59
           },
           {
            "bin_end": 2446.9344023,
            "bin_start": 1664.8065352,
            "count": 10
           },
           {
            "bin_end": 3229.0622694,
            "bin_start": 2446.9344023,
            "count": 9
           },
           {
            "bin_end": 4011.1901365,
            "bin_start": 3229.0622694,
            "count": 6
           },
           {
            "bin_end": 4793.3180036,
            "bin_start": 4011.1901365,
            "count": 9
           },
           {
            "bin_end": 5575.4458707,
            "bin_start": 4793.3180036,
            "count": 5
           },
           {
            "bin_end": 6357.5737378,
            "bin_start": 5575.4458707,
            "count": 4
           },
           {
            "bin_end": 7139.7016049,
            "bin_start": 6357.5737378,
            "count": 6
           },
           {
            "bin_end": 7921.829472,
            "bin_start": 7139.7016049,
            "count": 5
           }
          ],
          "max": "7921.829472",
          "min": "100.550801",
          "nan_count": 0,
          "unique_count": 539
         }
        },
        {
         "dtype": "int64",
         "name": "_deepnote_index_column"
        }
       ],
       "row_count": 539,
       "rows": [
        {
         "Country": "Canada",
         "Gas": "101.954464",
         "Oil": "233.700912",
         "Year": "1977",
         "_deepnote_index_column": "9475"
        },
        {
         "Country": "Canada",
         "Gas": "104.551318",
         "Oil": "233.823426",
         "Year": "1978",
         "_deepnote_index_column": "9476"
        },
        {
         "Country": "Canada",
         "Gas": "112.572736",
         "Oil": "244.293536",
         "Year": "1979",
         "_deepnote_index_column": "9477"
        },
        {
         "Country": "Canada",
         "Gas": "112.040529",
         "Oil": "241.294388",
         "Year": "1980",
         "_deepnote_index_column": "9478"
        },
        {
         "Country": "Canada",
         "Gas": "110.026256",
         "Oil": "227.908128",
         "Year": "1981",
         "_deepnote_index_column": "9479"
        },
        {
         "Country": "Canada",
         "Gas": "110.325729",
         "Oil": "208.640972",
         "Year": "1982",
         "_deepnote_index_column": "9480"
        },
        {
         "Country": "Canada",
         "Gas": "114.031008",
         "Oil": "193.810944",
         "Year": "1983",
         "_deepnote_index_column": "9481"
        },
        {
         "Country": "Canada",
         "Gas": "121.230768",
         "Oil": "192.50656",
         "Year": "1984",
         "_deepnote_index_column": "9482"
        },
        {
         "Country": "Canada",
         "Gas": "125.224528",
         "Oil": "186.658816",
         "Year": "1985",
         "_deepnote_index_column": "9483"
        },
        {
         "Country": "Canada",
         "Gas": "115.7824",
         "Oil": "186.427984",
         "Year": "1986",
         "_deepnote_index_column": "9484"
        }
       ]
      },
      "text/html": [
       "<div>\n",
       "<style scoped>\n",
       "    .dataframe tbody tr th:only-of-type {\n",
       "        vertical-align: middle;\n",
       "    }\n",
       "\n",
       "    .dataframe tbody tr th {\n",
       "        vertical-align: top;\n",
       "    }\n",
       "\n",
       "    .dataframe thead th {\n",
       "        text-align: right;\n",
       "    }\n",
       "</style>\n",
       "<table border=\"1\" class=\"dataframe\">\n",
       "  <thead>\n",
       "    <tr style=\"text-align: right;\">\n",
       "      <th></th>\n",
       "      <th>Country</th>\n",
       "      <th>Year</th>\n",
       "      <th>Oil</th>\n",
       "      <th>Gas</th>\n",
       "    </tr>\n",
       "  </thead>\n",
       "  <tbody>\n",
       "    <tr>\n",
       "      <th>9475</th>\n",
       "      <td>Canada</td>\n",
       "      <td>1977</td>\n",
       "      <td>233.700912</td>\n",
       "      <td>101.954464</td>\n",
       "    </tr>\n",
       "    <tr>\n",
       "      <th>9476</th>\n",
       "      <td>Canada</td>\n",
       "      <td>1978</td>\n",
       "      <td>233.823426</td>\n",
       "      <td>104.551318</td>\n",
       "    </tr>\n",
       "    <tr>\n",
       "      <th>9477</th>\n",
       "      <td>Canada</td>\n",
       "      <td>1979</td>\n",
       "      <td>244.293536</td>\n",
       "      <td>112.572736</td>\n",
       "    </tr>\n",
       "    <tr>\n",
       "      <th>9478</th>\n",
       "      <td>Canada</td>\n",
       "      <td>1980</td>\n",
       "      <td>241.294388</td>\n",
       "      <td>112.040529</td>\n",
       "    </tr>\n",
       "    <tr>\n",
       "      <th>9479</th>\n",
       "      <td>Canada</td>\n",
       "      <td>1981</td>\n",
       "      <td>227.908128</td>\n",
       "      <td>110.026256</td>\n",
       "    </tr>\n",
       "    <tr>\n",
       "      <th>...</th>\n",
       "      <td>...</td>\n",
       "      <td>...</td>\n",
       "      <td>...</td>\n",
       "      <td>...</td>\n",
       "    </tr>\n",
       "    <tr>\n",
       "      <th>63099</th>\n",
       "      <td>Global</td>\n",
       "      <td>2017</td>\n",
       "      <td>12242.627935</td>\n",
       "      <td>7144.928128</td>\n",
       "    </tr>\n",
       "    <tr>\n",
       "      <th>63100</th>\n",
       "      <td>Global</td>\n",
       "      <td>2018</td>\n",
       "      <td>12266.016285</td>\n",
       "      <td>7529.846784</td>\n",
       "    </tr>\n",
       "    <tr>\n",
       "      <th>63101</th>\n",
       "      <td>Global</td>\n",
       "      <td>2019</td>\n",
       "      <td>12345.653374</td>\n",
       "      <td>7647.528220</td>\n",
       "    </tr>\n",
       "    <tr>\n",
       "      <th>63102</th>\n",
       "      <td>Global</td>\n",
       "      <td>2020</td>\n",
       "      <td>11191.808551</td>\n",
       "      <td>7556.290283</td>\n",
       "    </tr>\n",
       "    <tr>\n",
       "      <th>63103</th>\n",
       "      <td>Global</td>\n",
       "      <td>2021</td>\n",
       "      <td>11837.159116</td>\n",
       "      <td>7921.829472</td>\n",
       "    </tr>\n",
       "  </tbody>\n",
       "</table>\n",
       "<p>539 rows × 4 columns</p>\n",
       "</div>"
      ],
      "text/plain": [
       "      Country  Year           Oil          Gas\n",
       "9475   Canada  1977    233.700912   101.954464\n",
       "9476   Canada  1978    233.823426   104.551318\n",
       "9477   Canada  1979    244.293536   112.572736\n",
       "9478   Canada  1980    241.294388   112.040529\n",
       "9479   Canada  1981    227.908128   110.026256\n",
       "...       ...   ...           ...          ...\n",
       "63099  Global  2017  12242.627935  7144.928128\n",
       "63100  Global  2018  12266.016285  7529.846784\n",
       "63101  Global  2019  12345.653374  7647.528220\n",
       "63102  Global  2020  11191.808551  7556.290283\n",
       "63103  Global  2021  11837.159116  7921.829472\n",
       "\n",
       "[539 rows x 4 columns]"
      ]
     },
     "execution_count": 60,
     "metadata": {},
     "output_type": "execute_result"
    }
   ],
   "source": [
    "# CO2 Emissions From Oil and Gas industries greater than 100 Mt\n",
    "\n"
   ]
  },
  {
   "cell_type": "code",
   "execution_count": 61,
   "metadata": {
    "cell_id": "935044772f0e4b0d85e89e4241a4ca2b",
    "deepnote_cell_type": "code",
    "deepnote_table_loading": false,
    "deepnote_table_state": {
     "filters": [],
     "pageIndex": 0,
     "pageSize": 10,
     "sortBy": []
    },
    "deepnote_to_be_reexecuted": false,
    "execution_millis": 57,
    "execution_start": 1681998676109,
    "source_hash": "a7efcec9"
   },
   "outputs": [
    {
     "data": {
      "application/vnd.deepnote.dataframe.v3+json": {
       "column_count": 11,
       "columns": [
        {
         "dtype": "object",
         "name": "Country",
         "stats": {
          "categories": [
           {
            "count": 11,
            "name": "Ecuador"
           }
          ],
          "nan_count": 0,
          "unique_count": 1
         }
        },
        {
         "dtype": "object",
         "name": "ISO 3166-1 alpha-3",
         "stats": {
          "categories": [
           {
            "count": 11,
            "name": "ECU"
           }
          ],
          "nan_count": 0,
          "unique_count": 1
         }
        },
        {
         "dtype": "int64",
         "name": "Year",
         "stats": {
          "histogram": [
           {
            "bin_end": 2012,
            "bin_start": 2011,
            "count": 1
           },
           {
            "bin_end": 2013,
            "bin_start": 2012,
            "count": 1
           },
           {
            "bin_end": 2014,
            "bin_start": 2013,
            "count": 1
           },
           {
            "bin_end": 2015,
            "bin_start": 2014,
            "count": 1
           },
           {
            "bin_end": 2016,
            "bin_start": 2015,
            "count": 1
           },
           {
            "bin_end": 2017,
            "bin_start": 2016,
            "count": 1
           },
           {
            "bin_end": 2018,
            "bin_start": 2017,
            "count": 1
           },
           {
            "bin_end": 2019,
            "bin_start": 2018,
            "count": 1
           },
           {
            "bin_end": 2020,
            "bin_start": 2019,
            "count": 1
           },
           {
            "bin_end": 2021,
            "bin_start": 2020,
            "count": 2
           }
          ],
          "max": "2021",
          "min": "2011",
          "nan_count": 0,
          "unique_count": 11
         }
        },
        {
         "dtype": "float64",
         "name": "Total",
         "stats": {
          "histogram": [
           {
            "bin_end": 35.3848482,
            "bin_start": 34.457458,
            "count": 1
           },
           {
            "bin_end": 36.312238400000005,
            "bin_start": 35.3848482,
            "count": 0
           },
           {
            "bin_end": 37.2396286,
            "bin_start": 36.312238400000005,
            "count": 0
           },
           {
            "bin_end": 38.1670188,
            "bin_start": 37.2396286,
            "count": 2
           },
           {
            "bin_end": 39.094409,
            "bin_start": 38.1670188,
            "count": 1
           },
           {
            "bin_end": 40.021799200000004,
            "bin_start": 39.094409,
            "count": 1
           },
           {
            "bin_end": 40.9491894,
            "bin_start": 40.021799200000004,
            "count": 3
           },
           {
            "bin_end": 41.8765796,
            "bin_start": 40.9491894,
            "count": 2
           },
           {
            "bin_end": 42.803969800000004,
            "bin_start": 41.8765796,
            "count": 0
           },
           {
            "bin_end": 43.73136,
            "bin_start": 42.803969800000004,
            "count": 1
           }
          ],
          "max": "43.73136",
          "min": "34.457458",
          "nan_count": 0,
          "unique_count": 11
         }
        },
        {
         "dtype": "float64",
         "name": "Coal",
         "stats": {
          "histogram": [
           {
            "bin_end": -0.4,
            "bin_start": -0.5,
            "count": 0
           },
           {
            "bin_end": -0.3,
            "bin_start": -0.4,
            "count": 0
           },
           {
            "bin_end": -0.19999999999999996,
            "bin_start": -0.3,
            "count": 0
           },
           {
            "bin_end": -0.09999999999999998,
            "bin_start": -0.19999999999999996,
            "count": 0
           },
           {
            "bin_end": 0,
            "bin_start": -0.09999999999999998,
            "count": 0
           },
           {
            "bin_end": 0.10000000000000009,
            "bin_start": 0,
            "count": 11
           },
           {
            "bin_end": 0.20000000000000007,
            "bin_start": 0.10000000000000009,
            "count": 0
           },
           {
            "bin_end": 0.30000000000000004,
            "bin_start": 0.20000000000000007,
            "count": 0
           },
           {
            "bin_end": 0.4,
            "bin_start": 0.30000000000000004,
            "count": 0
           },
           {
            "bin_end": 0.5,
            "bin_start": 0.4,
            "count": 0
           }
          ],
          "max": "0.0",
          "min": "0.0",
          "nan_count": 0,
          "unique_count": 1
         }
        },
        {
         "dtype": "float64",
         "name": "Oil",
         "stats": {
          "histogram": [
           {
            "bin_end": 29.8669973,
            "bin_start": 29.006557,
            "count": 1
           },
           {
            "bin_end": 30.727437600000002,
            "bin_start": 29.8669973,
            "count": 0
           },
           {
            "bin_end": 31.587877900000002,
            "bin_start": 30.727437600000002,
            "count": 0
           },
           {
            "bin_end": 32.4483182,
            "bin_start": 31.587877900000002,
            "count": 1
           },
           {
            "bin_end": 33.308758499999996,
            "bin_start": 32.4483182,
            "count": 2
           },
           {
            "bin_end": 34.169198800000004,
            "bin_start": 33.308758499999996,
            "count": 1
           },
           {
            "bin_end": 35.0296391,
            "bin_start": 34.169198800000004,
            "count": 3
           },
           {
            "bin_end": 35.8900794,
            "bin_start": 35.0296391,
            "count": 2
           },
           {
            "bin_end": 36.7505197,
            "bin_start": 35.8900794,
            "count": 0
           },
           {
            "bin_end": 37.61096,
            "bin_start": 36.7505197,
            "count": 1
           }
          ],
          "max": "37.61096",
          "min": "29.006557",
          "nan_count": 0,
          "unique_count": 11
         }
        },
        {
         "dtype": "float64",
         "name": "Gas",
         "stats": {
          "histogram": [
           {
            "bin_end": 1.0893386,
            "bin_start": 1.026362,
            "count": 3
           },
           {
            "bin_end": 1.1523152,
            "bin_start": 1.0893386,
            "count": 0
           },
           {
            "bin_end": 1.2152918000000001,
            "bin_start": 1.1523152,
            "count": 1
           },
           {
            "bin_end": 1.2782684,
            "bin_start": 1.2152918000000001,
            "count": 0
           },
           {
            "bin_end": 1.341245,
            "bin_start": 1.2782684,
            "count": 0
           },
           {
            "bin_end": 1.4042216,
            "bin_start": 1.341245,
            "count": 2
           },
           {
            "bin_end": 1.4671982000000001,
            "bin_start": 1.4042216,
            "count": 0
           },
           {
            "bin_end": 1.5301748000000002,
            "bin_start": 1.4671982000000001,
            "count": 0
           },
           {
            "bin_end": 1.5931514,
            "bin_start": 1.5301748000000002,
            "count": 3
           },
           {
            "bin_end": 1.656128,
            "bin_start": 1.5931514,
            "count": 2
           }
          ],
          "max": "1.656128",
          "min": "1.026362",
          "nan_count": 0,
          "unique_count": 11
         }
        },
        {
         "dtype": "float64",
         "name": "Cement",
         "stats": {
          "histogram": [
           {
            "bin_end": 2.2308570000000003,
            "bin_start": 2.188461,
            "count": 1
           },
           {
            "bin_end": 2.273253,
            "bin_start": 2.2308570000000003,
            "count": 3
           },
           {
            "bin_end": 2.315649,
            "bin_start": 2.273253,
            "count": 1
           },
           {
            "bin_end": 2.358045,
            "bin_start": 2.315649,
            "count": 1
           },
           {
            "bin_end": 2.400441,
            "bin_start": 2.358045,
            "count": 0
           },
           {
            "bin_end": 2.442837,
            "bin_start": 2.400441,
            "count": 0
           },
           {
            "bin_end": 2.485233,
            "bin_start": 2.442837,
            "count": 3
           },
           {
            "bin_end": 2.527629,
            "bin_start": 2.485233,
            "count": 0
           },
           {
            "bin_end": 2.570025,
            "bin_start": 2.527629,
            "count": 0
           },
           {
            "bin_end": 2.612421,
            "bin_start": 2.570025,
            "count": 2
           }
          ],
          "max": "2.612421",
          "min": "2.188461",
          "nan_count": 0,
          "unique_count": 9
         }
        },
        {
         "dtype": "float64",
         "name": "Flaring",
         "stats": {
          "histogram": [
           {
            "bin_end": 1.3435069,
            "bin_start": 1.234768,
            "count": 1
           },
           {
            "bin_end": 1.4522458,
            "bin_start": 1.3435069,
            "count": 0
           },
           {
            "bin_end": 1.5609847000000001,
            "bin_start": 1.4522458,
            "count": 2
           },
           {
            "bin_end": 1.6697236,
            "bin_start": 1.5609847000000001,
            "count": 1
           },
           {
            "bin_end": 1.7784624999999998,
            "bin_start": 1.6697236,
            "count": 1
           },
           {
            "bin_end": 1.8872014,
            "bin_start": 1.7784624999999998,
            "count": 0
           },
           {
            "bin_end": 1.9959403,
            "bin_start": 1.8872014,
            "count": 3
           },
           {
            "bin_end": 2.1046791999999996,
            "bin_start": 1.9959403,
            "count": 2
           },
           {
            "bin_end": 2.2134180999999997,
            "bin_start": 2.1046791999999996,
            "count": 0
           },
           {
            "bin_end": 2.322157,
            "bin_start": 2.2134180999999997,
            "count": 1
           }
          ],
          "max": "2.322157",
          "min": "1.234768",
          "nan_count": 0,
          "unique_count": 11
         }
        },
        {
         "dtype": "float64",
         "name": "Other",
         "stats": {
          "histogram": [
           {
            "bin_end": 0.1,
            "bin_start": 0,
            "count": 0
           },
           {
            "bin_end": 0.2,
            "bin_start": 0.1,
            "count": 0
           },
           {
            "bin_end": 0.30000000000000004,
            "bin_start": 0.2,
            "count": 0
           },
           {
            "bin_end": 0.4,
            "bin_start": 0.30000000000000004,
            "count": 0
           },
           {
            "bin_end": 0.5,
            "bin_start": 0.4,
            "count": 0
           },
           {
            "bin_end": 0.6000000000000001,
            "bin_start": 0.5,
            "count": 0
           },
           {
            "bin_end": 0.7000000000000001,
            "bin_start": 0.6000000000000001,
            "count": 0
           },
           {
            "bin_end": 0.8,
            "bin_start": 0.7000000000000001,
            "count": 0
           },
           {
            "bin_end": 0.9,
            "bin_start": 0.8,
            "count": 0
           },
           {
            "bin_end": 1,
            "bin_start": 0.9,
            "count": 0
           }
          ],
          "max": null,
          "min": null,
          "nan_count": 11,
          "unique_count": 0
         }
        },
        {
         "dtype": "float64",
         "name": "Per Capita",
         "stats": {
          "histogram": [
           {
            "bin_end": 2.0372125,
            "bin_start": 1.95908,
            "count": 1
           },
           {
            "bin_end": 2.115345,
            "bin_start": 2.0372125,
            "count": 0
           },
           {
            "bin_end": 2.1934775,
            "bin_start": 2.115345,
            "count": 0
           },
           {
            "bin_end": 2.27161,
            "bin_start": 2.1934775,
            "count": 1
           },
           {
            "bin_end": 2.3497425,
            "bin_start": 2.27161,
            "count": 2
           },
           {
            "bin_end": 2.4278750000000002,
            "bin_start": 2.3497425,
            "count": 2
           },
           {
            "bin_end": 2.5060075,
            "bin_start": 2.4278750000000002,
            "count": 2
           },
           {
            "bin_end": 2.58414,
            "bin_start": 2.5060075,
            "count": 2
           },
           {
            "bin_end": 2.6622725000000003,
            "bin_start": 2.58414,
            "count": 0
           },
           {
            "bin_end": 2.740405,
            "bin_start": 2.6622725000000003,
            "count": 1
           }
          ],
          "max": "2.740405",
          "min": "1.95908",
          "nan_count": 0,
          "unique_count": 11
         }
        },
        {
         "dtype": "int64",
         "name": "_deepnote_index_column"
        }
       ],
       "row_count": 11,
       "rows": [
        {
         "Cement": "2.238632",
         "Coal": "0.0",
         "Country": "Ecuador",
         "Flaring": "1.234768",
         "Gas": "1.047904",
         "ISO 3166-1 alpha-3": "ECU",
         "Oil": "32.877072",
         "Other": "nan",
         "Per Capita": "2.454328",
         "Total": "37.398376",
         "Year": "2011",
         "_deepnote_index_column": "16037"
        },
        {
         "Cement": "2.35335",
         "Coal": "0.0",
         "Country": "Ecuador",
         "Flaring": "1.504188",
         "Gas": "1.399648",
         "ISO 3166-1 alpha-3": "ECU",
         "Oil": "32.1516",
         "Other": "nan",
         "Per Capita": "2.415982",
         "Total": "37.408786",
         "Year": "2012",
         "_deepnote_index_column": "16038"
        },
        {
         "Cement": "2.612421",
         "Coal": "0.0",
         "Country": "Ecuador",
         "Flaring": "1.490765",
         "Gas": "1.590176",
         "ISO 3166-1 alpha-3": "ECU",
         "Oil": "33.961616",
         "Other": "nan",
         "Per Capita": "2.522102",
         "Total": "39.654978",
         "Year": "2013",
         "_deepnote_index_column": "16039"
        },
        {
         "Cement": "2.602494",
         "Coal": "0.0",
         "Country": "Ecuador",
         "Flaring": "1.887426",
         "Gas": "1.63048",
         "ISO 3166-1 alpha-3": "ECU",
         "Oil": "37.61096",
         "Other": "nan",
         "Per Capita": "2.740405",
         "Total": "43.73136",
         "Year": "2014",
         "_deepnote_index_column": "16040"
        },
        {
         "Cement": "2.3107",
         "Coal": "0.0",
         "Country": "Ecuador",
         "Flaring": "1.98763",
         "Gas": "1.535077",
         "ISO 3166-1 alpha-3": "ECU",
         "Oil": "35.442329",
         "Other": "nan",
         "Per Capita": "2.54853",
         "Total": "41.275735",
         "Year": "2015",
         "_deepnote_index_column": "16041"
        },
        {
         "Cement": "2.188461",
         "Coal": "0.0",
         "Country": "Ecuador",
         "Flaring": "2.038164",
         "Gas": "1.656128",
         "ISO 3166-1 alpha-3": "ECU",
         "Oil": "34.29504",
         "Other": "nan",
         "Per Capita": "2.443966",
         "Total": "40.177794",
         "Year": "2016",
         "_deepnote_index_column": "16042"
        },
        {
         "Cement": "2.243666",
         "Coal": "0.0",
         "Country": "Ecuador",
         "Flaring": "2.00863",
         "Gas": "1.538736",
         "ISO 3166-1 alpha-3": "ECU",
         "Oil": "34.284503",
         "Other": "nan",
         "Per Capita": "2.400172",
         "Total": "40.075534",
         "Year": "2017",
         "_deepnote_index_column": "16043"
        },
        {
         "Cement": "2.271268",
         "Coal": "0.0",
         "Country": "Ecuador",
         "Flaring": "1.631182",
         "Gas": "1.359344",
         "ISO 3166-1 alpha-3": "ECU",
         "Oil": "32.983328",
         "Other": "nan",
         "Per Capita": "2.247641",
         "Total": "38.245122",
         "Year": "2018",
         "_deepnote_index_column": "16044"
        },
        {
         "Cement": "2.47237",
         "Coal": "0.0",
         "Country": "Ecuador",
         "Flaring": "1.727682",
         "Gas": "1.212896",
         "ISO 3166-1 alpha-3": "ECU",
         "Oil": "34.85152",
         "Other": "nan",
         "Per Capita": "2.321556",
         "Total": "40.264468",
         "Year": "2019",
         "_deepnote_index_column": "16045"
        },
        {
         "Cement": "2.47237",
         "Coal": "0.0",
         "Country": "Ecuador",
         "Flaring": "1.948263",
         "Gas": "1.030269",
         "ISO 3166-1 alpha-3": "ECU",
         "Oil": "29.006557",
         "Other": "nan",
         "Per Capita": "1.95908",
         "Total": "34.457458",
         "Year": "2020",
         "_deepnote_index_column": "16046"
        }
       ]
      },
      "text/html": [
       "<div>\n",
       "<style scoped>\n",
       "    .dataframe tbody tr th:only-of-type {\n",
       "        vertical-align: middle;\n",
       "    }\n",
       "\n",
       "    .dataframe tbody tr th {\n",
       "        vertical-align: top;\n",
       "    }\n",
       "\n",
       "    .dataframe thead th {\n",
       "        text-align: right;\n",
       "    }\n",
       "</style>\n",
       "<table border=\"1\" class=\"dataframe\">\n",
       "  <thead>\n",
       "    <tr style=\"text-align: right;\">\n",
       "      <th></th>\n",
       "      <th>Country</th>\n",
       "      <th>ISO 3166-1 alpha-3</th>\n",
       "      <th>Year</th>\n",
       "      <th>Total</th>\n",
       "      <th>Coal</th>\n",
       "      <th>Oil</th>\n",
       "      <th>Gas</th>\n",
       "      <th>Cement</th>\n",
       "      <th>Flaring</th>\n",
       "      <th>Other</th>\n",
       "      <th>Per Capita</th>\n",
       "    </tr>\n",
       "  </thead>\n",
       "  <tbody>\n",
       "    <tr>\n",
       "      <th>16037</th>\n",
       "      <td>Ecuador</td>\n",
       "      <td>ECU</td>\n",
       "      <td>2011</td>\n",
       "      <td>37.398376</td>\n",
       "      <td>0.0</td>\n",
       "      <td>32.877072</td>\n",
       "      <td>1.047904</td>\n",
       "      <td>2.238632</td>\n",
       "      <td>1.234768</td>\n",
       "      <td>NaN</td>\n",
       "      <td>2.454328</td>\n",
       "    </tr>\n",
       "    <tr>\n",
       "      <th>16038</th>\n",
       "      <td>Ecuador</td>\n",
       "      <td>ECU</td>\n",
       "      <td>2012</td>\n",
       "      <td>37.408786</td>\n",
       "      <td>0.0</td>\n",
       "      <td>32.151600</td>\n",
       "      <td>1.399648</td>\n",
       "      <td>2.353350</td>\n",
       "      <td>1.504188</td>\n",
       "      <td>NaN</td>\n",
       "      <td>2.415982</td>\n",
       "    </tr>\n",
       "    <tr>\n",
       "      <th>16039</th>\n",
       "      <td>Ecuador</td>\n",
       "      <td>ECU</td>\n",
       "      <td>2013</td>\n",
       "      <td>39.654978</td>\n",
       "      <td>0.0</td>\n",
       "      <td>33.961616</td>\n",
       "      <td>1.590176</td>\n",
       "      <td>2.612421</td>\n",
       "      <td>1.490765</td>\n",
       "      <td>NaN</td>\n",
       "      <td>2.522102</td>\n",
       "    </tr>\n",
       "    <tr>\n",
       "      <th>16040</th>\n",
       "      <td>Ecuador</td>\n",
       "      <td>ECU</td>\n",
       "      <td>2014</td>\n",
       "      <td>43.731360</td>\n",
       "      <td>0.0</td>\n",
       "      <td>37.610960</td>\n",
       "      <td>1.630480</td>\n",
       "      <td>2.602494</td>\n",
       "      <td>1.887426</td>\n",
       "      <td>NaN</td>\n",
       "      <td>2.740405</td>\n",
       "    </tr>\n",
       "    <tr>\n",
       "      <th>16041</th>\n",
       "      <td>Ecuador</td>\n",
       "      <td>ECU</td>\n",
       "      <td>2015</td>\n",
       "      <td>41.275735</td>\n",
       "      <td>0.0</td>\n",
       "      <td>35.442329</td>\n",
       "      <td>1.535077</td>\n",
       "      <td>2.310700</td>\n",
       "      <td>1.987630</td>\n",
       "      <td>NaN</td>\n",
       "      <td>2.548530</td>\n",
       "    </tr>\n",
       "    <tr>\n",
       "      <th>16042</th>\n",
       "      <td>Ecuador</td>\n",
       "      <td>ECU</td>\n",
       "      <td>2016</td>\n",
       "      <td>40.177794</td>\n",
       "      <td>0.0</td>\n",
       "      <td>34.295040</td>\n",
       "      <td>1.656128</td>\n",
       "      <td>2.188461</td>\n",
       "      <td>2.038164</td>\n",
       "      <td>NaN</td>\n",
       "      <td>2.443966</td>\n",
       "    </tr>\n",
       "    <tr>\n",
       "      <th>16043</th>\n",
       "      <td>Ecuador</td>\n",
       "      <td>ECU</td>\n",
       "      <td>2017</td>\n",
       "      <td>40.075534</td>\n",
       "      <td>0.0</td>\n",
       "      <td>34.284503</td>\n",
       "      <td>1.538736</td>\n",
       "      <td>2.243666</td>\n",
       "      <td>2.008630</td>\n",
       "      <td>NaN</td>\n",
       "      <td>2.400172</td>\n",
       "    </tr>\n",
       "    <tr>\n",
       "      <th>16044</th>\n",
       "      <td>Ecuador</td>\n",
       "      <td>ECU</td>\n",
       "      <td>2018</td>\n",
       "      <td>38.245122</td>\n",
       "      <td>0.0</td>\n",
       "      <td>32.983328</td>\n",
       "      <td>1.359344</td>\n",
       "      <td>2.271268</td>\n",
       "      <td>1.631182</td>\n",
       "      <td>NaN</td>\n",
       "      <td>2.247641</td>\n",
       "    </tr>\n",
       "    <tr>\n",
       "      <th>16045</th>\n",
       "      <td>Ecuador</td>\n",
       "      <td>ECU</td>\n",
       "      <td>2019</td>\n",
       "      <td>40.264468</td>\n",
       "      <td>0.0</td>\n",
       "      <td>34.851520</td>\n",
       "      <td>1.212896</td>\n",
       "      <td>2.472370</td>\n",
       "      <td>1.727682</td>\n",
       "      <td>NaN</td>\n",
       "      <td>2.321556</td>\n",
       "    </tr>\n",
       "    <tr>\n",
       "      <th>16046</th>\n",
       "      <td>Ecuador</td>\n",
       "      <td>ECU</td>\n",
       "      <td>2020</td>\n",
       "      <td>34.457458</td>\n",
       "      <td>0.0</td>\n",
       "      <td>29.006557</td>\n",
       "      <td>1.030269</td>\n",
       "      <td>2.472370</td>\n",
       "      <td>1.948263</td>\n",
       "      <td>NaN</td>\n",
       "      <td>1.959080</td>\n",
       "    </tr>\n",
       "    <tr>\n",
       "      <th>16047</th>\n",
       "      <td>Ecuador</td>\n",
       "      <td>ECU</td>\n",
       "      <td>2021</td>\n",
       "      <td>41.321734</td>\n",
       "      <td>0.0</td>\n",
       "      <td>35.500845</td>\n",
       "      <td>1.026362</td>\n",
       "      <td>2.472370</td>\n",
       "      <td>2.322157</td>\n",
       "      <td>NaN</td>\n",
       "      <td>2.321741</td>\n",
       "    </tr>\n",
       "  </tbody>\n",
       "</table>\n",
       "</div>"
      ],
      "text/plain": [
       "       Country ISO 3166-1 alpha-3  Year      Total  Coal        Oil       Gas  \\\n",
       "16037  Ecuador                ECU  2011  37.398376   0.0  32.877072  1.047904   \n",
       "16038  Ecuador                ECU  2012  37.408786   0.0  32.151600  1.399648   \n",
       "16039  Ecuador                ECU  2013  39.654978   0.0  33.961616  1.590176   \n",
       "16040  Ecuador                ECU  2014  43.731360   0.0  37.610960  1.630480   \n",
       "16041  Ecuador                ECU  2015  41.275735   0.0  35.442329  1.535077   \n",
       "16042  Ecuador                ECU  2016  40.177794   0.0  34.295040  1.656128   \n",
       "16043  Ecuador                ECU  2017  40.075534   0.0  34.284503  1.538736   \n",
       "16044  Ecuador                ECU  2018  38.245122   0.0  32.983328  1.359344   \n",
       "16045  Ecuador                ECU  2019  40.264468   0.0  34.851520  1.212896   \n",
       "16046  Ecuador                ECU  2020  34.457458   0.0  29.006557  1.030269   \n",
       "16047  Ecuador                ECU  2021  41.321734   0.0  35.500845  1.026362   \n",
       "\n",
       "         Cement   Flaring  Other  Per Capita  \n",
       "16037  2.238632  1.234768    NaN    2.454328  \n",
       "16038  2.353350  1.504188    NaN    2.415982  \n",
       "16039  2.612421  1.490765    NaN    2.522102  \n",
       "16040  2.602494  1.887426    NaN    2.740405  \n",
       "16041  2.310700  1.987630    NaN    2.548530  \n",
       "16042  2.188461  2.038164    NaN    2.443966  \n",
       "16043  2.243666  2.008630    NaN    2.400172  \n",
       "16044  2.271268  1.631182    NaN    2.247641  \n",
       "16045  2.472370  1.727682    NaN    2.321556  \n",
       "16046  2.472370  1.948263    NaN    1.959080  \n",
       "16047  2.472370  2.322157    NaN    2.321741  "
      ]
     },
     "execution_count": 61,
     "metadata": {},
     "output_type": "execute_result"
    }
   ],
   "source": [
    "# CO2 Ecuador's emissions after 2010\n",
    "\n"
   ]
  },
  {
   "cell_type": "markdown",
   "metadata": {
    "cell_id": "459af4984efa45e38beaa007f9e19823",
    "deepnote_cell_type": "markdown"
   },
   "source": [
    "## 2.6. Dataframe: Slicing\n",
    "\n",
    "There are a number of ways to subset the Data Frame:\n",
    "- One or more columns\n",
    "- One or more rows\n",
    "- A subset of rows and columns\n",
    "- Using iloc an loc methods\n",
    "\n",
    "\n",
    "Rows and columns can be selected by their position or label"
   ]
  },
  {
   "cell_type": "markdown",
   "metadata": {
    "cell_id": "3d5d2d97caa84e348785d49bd23d7809",
    "deepnote_cell_type": "markdown"
   },
   "source": [
    "When selecting one column, it is possible to use single set of brackets, but the resulting object will be a Series (not a DataFrame):"
   ]
  },
  {
   "cell_type": "code",
   "execution_count": 62,
   "metadata": {
    "cell_id": "c6a1fcc763104aa3bfa1f916af1d68e1",
    "deepnote_cell_type": "code",
    "deepnote_to_be_reexecuted": false,
    "execution_millis": 46,
    "execution_start": 1681998676176,
    "source_hash": "fe4d2ea5"
   },
   "outputs": [
    {
     "data": {
      "text/plain": [
       "0                NaN\n",
       "1                NaN\n",
       "2                NaN\n",
       "3                NaN\n",
       "4                NaN\n",
       "            ...     \n",
       "63099    1507.923185\n",
       "63100    1569.218392\n",
       "63101    1617.506786\n",
       "63102    1637.537532\n",
       "63103    1672.592372\n",
       "Name: Cement, Length: 63104, dtype: float64"
      ]
     },
     "execution_count": 62,
     "metadata": {},
     "output_type": "execute_result"
    }
   ],
   "source": [
    "# Select one column\n"
   ]
  },
  {
   "cell_type": "markdown",
   "metadata": {
    "cell_id": "cbba12f99b7843629d6f42b3aad24e45",
    "deepnote_cell_type": "markdown"
   },
   "source": [
    "When we need to select more than one column and/or make the output to be a DataFrame, we should use double brackets:"
   ]
  },
  {
   "cell_type": "code",
   "execution_count": 63,
   "metadata": {
    "cell_id": "1a3e6582f8854cb199e2270fcd0cac6e",
    "deepnote_cell_type": "code",
    "deepnote_to_be_reexecuted": false,
    "execution_millis": 56,
    "execution_start": 1681998676183,
    "source_hash": "18760eb6"
   },
   "outputs": [
    {
     "data": {
      "application/vnd.deepnote.dataframe.v3+json": {
       "column_count": 3,
       "columns": [
        {
         "dtype": "object",
         "name": "Country",
         "stats": {
          "categories": [
           {
            "count": 272,
            "name": "Afghanistan"
           },
           {
            "count": 272,
            "name": "Albania"
           },
           {
            "count": 62560,
            "name": "230 others"
           }
          ],
          "nan_count": 0,
          "unique_count": 232
         }
        },
        {
         "dtype": "int64",
         "name": "Year"
        },
        {
         "dtype": "float64",
         "name": "Oil"
        },
        {
         "dtype": "int64",
         "name": "_deepnote_index_column"
        }
       ],
       "row_count": 63104,
       "rows": [
        {
         "Country": "Afghanistan",
         "Oil": "nan",
         "Year": "1750",
         "_deepnote_index_column": "0"
        },
        {
         "Country": "Afghanistan",
         "Oil": "nan",
         "Year": "1751",
         "_deepnote_index_column": "1"
        },
        {
         "Country": "Afghanistan",
         "Oil": "nan",
         "Year": "1752",
         "_deepnote_index_column": "2"
        },
        {
         "Country": "Afghanistan",
         "Oil": "nan",
         "Year": "1753",
         "_deepnote_index_column": "3"
        },
        {
         "Country": "Afghanistan",
         "Oil": "nan",
         "Year": "1754",
         "_deepnote_index_column": "4"
        },
        {
         "Country": "Afghanistan",
         "Oil": "nan",
         "Year": "1755",
         "_deepnote_index_column": "5"
        },
        {
         "Country": "Afghanistan",
         "Oil": "nan",
         "Year": "1756",
         "_deepnote_index_column": "6"
        },
        {
         "Country": "Afghanistan",
         "Oil": "nan",
         "Year": "1757",
         "_deepnote_index_column": "7"
        },
        {
         "Country": "Afghanistan",
         "Oil": "nan",
         "Year": "1758",
         "_deepnote_index_column": "8"
        },
        {
         "Country": "Afghanistan",
         "Oil": "nan",
         "Year": "1759",
         "_deepnote_index_column": "9"
        }
       ]
      },
      "text/html": [
       "<div>\n",
       "<style scoped>\n",
       "    .dataframe tbody tr th:only-of-type {\n",
       "        vertical-align: middle;\n",
       "    }\n",
       "\n",
       "    .dataframe tbody tr th {\n",
       "        vertical-align: top;\n",
       "    }\n",
       "\n",
       "    .dataframe thead th {\n",
       "        text-align: right;\n",
       "    }\n",
       "</style>\n",
       "<table border=\"1\" class=\"dataframe\">\n",
       "  <thead>\n",
       "    <tr style=\"text-align: right;\">\n",
       "      <th></th>\n",
       "      <th>Country</th>\n",
       "      <th>Year</th>\n",
       "      <th>Oil</th>\n",
       "    </tr>\n",
       "  </thead>\n",
       "  <tbody>\n",
       "    <tr>\n",
       "      <th>0</th>\n",
       "      <td>Afghanistan</td>\n",
       "      <td>1750</td>\n",
       "      <td>NaN</td>\n",
       "    </tr>\n",
       "    <tr>\n",
       "      <th>1</th>\n",
       "      <td>Afghanistan</td>\n",
       "      <td>1751</td>\n",
       "      <td>NaN</td>\n",
       "    </tr>\n",
       "    <tr>\n",
       "      <th>2</th>\n",
       "      <td>Afghanistan</td>\n",
       "      <td>1752</td>\n",
       "      <td>NaN</td>\n",
       "    </tr>\n",
       "    <tr>\n",
       "      <th>3</th>\n",
       "      <td>Afghanistan</td>\n",
       "      <td>1753</td>\n",
       "      <td>NaN</td>\n",
       "    </tr>\n",
       "    <tr>\n",
       "      <th>4</th>\n",
       "      <td>Afghanistan</td>\n",
       "      <td>1754</td>\n",
       "      <td>NaN</td>\n",
       "    </tr>\n",
       "    <tr>\n",
       "      <th>...</th>\n",
       "      <td>...</td>\n",
       "      <td>...</td>\n",
       "      <td>...</td>\n",
       "    </tr>\n",
       "    <tr>\n",
       "      <th>63099</th>\n",
       "      <td>Global</td>\n",
       "      <td>2017</td>\n",
       "      <td>12242.627935</td>\n",
       "    </tr>\n",
       "    <tr>\n",
       "      <th>63100</th>\n",
       "      <td>Global</td>\n",
       "      <td>2018</td>\n",
       "      <td>12266.016285</td>\n",
       "    </tr>\n",
       "    <tr>\n",
       "      <th>63101</th>\n",
       "      <td>Global</td>\n",
       "      <td>2019</td>\n",
       "      <td>12345.653374</td>\n",
       "    </tr>\n",
       "    <tr>\n",
       "      <th>63102</th>\n",
       "      <td>Global</td>\n",
       "      <td>2020</td>\n",
       "      <td>11191.808551</td>\n",
       "    </tr>\n",
       "    <tr>\n",
       "      <th>63103</th>\n",
       "      <td>Global</td>\n",
       "      <td>2021</td>\n",
       "      <td>11837.159116</td>\n",
       "    </tr>\n",
       "  </tbody>\n",
       "</table>\n",
       "<p>63104 rows × 3 columns</p>\n",
       "</div>"
      ],
      "text/plain": [
       "           Country  Year           Oil\n",
       "0      Afghanistan  1750           NaN\n",
       "1      Afghanistan  1751           NaN\n",
       "2      Afghanistan  1752           NaN\n",
       "3      Afghanistan  1753           NaN\n",
       "4      Afghanistan  1754           NaN\n",
       "...            ...   ...           ...\n",
       "63099       Global  2017  12242.627935\n",
       "63100       Global  2018  12266.016285\n",
       "63101       Global  2019  12345.653374\n",
       "63102       Global  2020  11191.808551\n",
       "63103       Global  2021  11837.159116\n",
       "\n",
       "[63104 rows x 3 columns]"
      ]
     },
     "execution_count": 63,
     "metadata": {},
     "output_type": "execute_result"
    }
   ],
   "source": [
    "# Select many columns\n"
   ]
  },
  {
   "cell_type": "markdown",
   "metadata": {
    "cell_id": "42175de4f300464ab520692446e223cd",
    "deepnote_cell_type": "markdown"
   },
   "source": [
    "If we need to select a range of rows, we can specify the range using \":\""
   ]
  },
  {
   "cell_type": "code",
   "execution_count": 64,
   "metadata": {
    "cell_id": "6d26a656067b4059a4d3abca2b8ba488",
    "deepnote_cell_type": "code",
    "deepnote_to_be_reexecuted": false,
    "execution_millis": 165,
    "execution_start": 1681998676230,
    "source_hash": "9be85e90"
   },
   "outputs": [
    {
     "data": {
      "application/vnd.deepnote.dataframe.v3+json": {
       "column_count": 11,
       "columns": [
        {
         "dtype": "object",
         "name": "Country",
         "stats": {
          "categories": [
           {
            "count": 20,
            "name": "Afghanistan"
           }
          ],
          "nan_count": 0,
          "unique_count": 1
         }
        },
        {
         "dtype": "object",
         "name": "ISO 3166-1 alpha-3",
         "stats": {
          "categories": [
           {
            "count": 20,
            "name": "AFG"
           }
          ],
          "nan_count": 0,
          "unique_count": 1
         }
        },
        {
         "dtype": "int64",
         "name": "Year",
         "stats": {
          "histogram": [
           {
            "bin_end": 1751.9,
            "bin_start": 1750,
            "count": 2
           },
           {
            "bin_end": 1753.8,
            "bin_start": 1751.9,
            "count": 2
           },
           {
            "bin_end": 1755.7,
            "bin_start": 1753.8,
            "count": 2
           },
           {
            "bin_end": 1757.6,
            "bin_start": 1755.7,
            "count": 2
           },
           {
            "bin_end": 1759.5,
            "bin_start": 1757.6,
            "count": 2
           },
           {
            "bin_end": 1761.4,
            "bin_start": 1759.5,
            "count": 2
           },
           {
            "bin_end": 1763.3,
            "bin_start": 1761.4,
            "count": 2
           },
           {
            "bin_end": 1765.2,
            "bin_start": 1763.3,
            "count": 2
           },
           {
            "bin_end": 1767.1,
            "bin_start": 1765.2,
            "count": 2
           },
           {
            "bin_end": 1769,
            "bin_start": 1767.1,
            "count": 2
           }
          ],
          "max": "1769",
          "min": "1750",
          "nan_count": 0,
          "unique_count": 20
         }
        },
        {
         "dtype": "float64",
         "name": "Total",
         "stats": {
          "histogram": [
           {
            "bin_end": -0.4,
            "bin_start": -0.5,
            "count": 0
           },
           {
            "bin_end": -0.3,
            "bin_start": -0.4,
            "count": 0
           },
           {
            "bin_end": -0.19999999999999996,
            "bin_start": -0.3,
            "count": 0
           },
           {
            "bin_end": -0.09999999999999998,
            "bin_start": -0.19999999999999996,
            "count": 0
           },
           {
            "bin_end": 0,
            "bin_start": -0.09999999999999998,
            "count": 0
           },
           {
            "bin_end": 0.10000000000000009,
            "bin_start": 0,
            "count": 20
           },
           {
            "bin_end": 0.20000000000000007,
            "bin_start": 0.10000000000000009,
            "count": 0
           },
           {
            "bin_end": 0.30000000000000004,
            "bin_start": 0.20000000000000007,
            "count": 0
           },
           {
            "bin_end": 0.4,
            "bin_start": 0.30000000000000004,
            "count": 0
           },
           {
            "bin_end": 0.5,
            "bin_start": 0.4,
            "count": 0
           }
          ],
          "max": "0.0",
          "min": "0.0",
          "nan_count": 0,
          "unique_count": 1
         }
        },
        {
         "dtype": "float64",
         "name": "Coal",
         "stats": {
          "histogram": [
           {
            "bin_end": 0.1,
            "bin_start": 0,
            "count": 0
           },
           {
            "bin_end": 0.2,
            "bin_start": 0.1,
            "count": 0
           },
           {
            "bin_end": 0.30000000000000004,
            "bin_start": 0.2,
            "count": 0
           },
           {
            "bin_end": 0.4,
            "bin_start": 0.30000000000000004,
            "count": 0
           },
           {
            "bin_end": 0.5,
            "bin_start": 0.4,
            "count": 0
           },
           {
            "bin_end": 0.6000000000000001,
            "bin_start": 0.5,
            "count": 0
           },
           {
            "bin_end": 0.7000000000000001,
            "bin_start": 0.6000000000000001,
            "count": 0
           },
           {
            "bin_end": 0.8,
            "bin_start": 0.7000000000000001,
            "count": 0
           },
           {
            "bin_end": 0.9,
            "bin_start": 0.8,
            "count": 0
           },
           {
            "bin_end": 1,
            "bin_start": 0.9,
            "count": 0
           }
          ],
          "max": null,
          "min": null,
          "nan_count": 20,
          "unique_count": 0
         }
        },
        {
         "dtype": "float64",
         "name": "Oil",
         "stats": {
          "histogram": [
           {
            "bin_end": 0.1,
            "bin_start": 0,
            "count": 0
           },
           {
            "bin_end": 0.2,
            "bin_start": 0.1,
            "count": 0
           },
           {
            "bin_end": 0.30000000000000004,
            "bin_start": 0.2,
            "count": 0
           },
           {
            "bin_end": 0.4,
            "bin_start": 0.30000000000000004,
            "count": 0
           },
           {
            "bin_end": 0.5,
            "bin_start": 0.4,
            "count": 0
           },
           {
            "bin_end": 0.6000000000000001,
            "bin_start": 0.5,
            "count": 0
           },
           {
            "bin_end": 0.7000000000000001,
            "bin_start": 0.6000000000000001,
            "count": 0
           },
           {
            "bin_end": 0.8,
            "bin_start": 0.7000000000000001,
            "count": 0
           },
           {
            "bin_end": 0.9,
            "bin_start": 0.8,
            "count": 0
           },
           {
            "bin_end": 1,
            "bin_start": 0.9,
            "count": 0
           }
          ],
          "max": null,
          "min": null,
          "nan_count": 20,
          "unique_count": 0
         }
        },
        {
         "dtype": "float64",
         "name": "Gas",
         "stats": {
          "histogram": [
           {
            "bin_end": 0.1,
            "bin_start": 0,
            "count": 0
           },
           {
            "bin_end": 0.2,
            "bin_start": 0.1,
            "count": 0
           },
           {
            "bin_end": 0.30000000000000004,
            "bin_start": 0.2,
            "count": 0
           },
           {
            "bin_end": 0.4,
            "bin_start": 0.30000000000000004,
            "count": 0
           },
           {
            "bin_end": 0.5,
            "bin_start": 0.4,
            "count": 0
           },
           {
            "bin_end": 0.6000000000000001,
            "bin_start": 0.5,
            "count": 0
           },
           {
            "bin_end": 0.7000000000000001,
            "bin_start": 0.6000000000000001,
            "count": 0
           },
           {
            "bin_end": 0.8,
            "bin_start": 0.7000000000000001,
            "count": 0
           },
           {
            "bin_end": 0.9,
            "bin_start": 0.8,
            "count": 0
           },
           {
            "bin_end": 1,
            "bin_start": 0.9,
            "count": 0
           }
          ],
          "max": null,
          "min": null,
          "nan_count": 20,
          "unique_count": 0
         }
        },
        {
         "dtype": "float64",
         "name": "Cement",
         "stats": {
          "histogram": [
           {
            "bin_end": 0.1,
            "bin_start": 0,
            "count": 0
           },
           {
            "bin_end": 0.2,
            "bin_start": 0.1,
            "count": 0
           },
           {
            "bin_end": 0.30000000000000004,
            "bin_start": 0.2,
            "count": 0
           },
           {
            "bin_end": 0.4,
            "bin_start": 0.30000000000000004,
            "count": 0
           },
           {
            "bin_end": 0.5,
            "bin_start": 0.4,
            "count": 0
           },
           {
            "bin_end": 0.6000000000000001,
            "bin_start": 0.5,
            "count": 0
           },
           {
            "bin_end": 0.7000000000000001,
            "bin_start": 0.6000000000000001,
            "count": 0
           },
           {
            "bin_end": 0.8,
            "bin_start": 0.7000000000000001,
            "count": 0
           },
           {
            "bin_end": 0.9,
            "bin_start": 0.8,
            "count": 0
           },
           {
            "bin_end": 1,
            "bin_start": 0.9,
            "count": 0
           }
          ],
          "max": null,
          "min": null,
          "nan_count": 20,
          "unique_count": 0
         }
        },
        {
         "dtype": "float64",
         "name": "Flaring",
         "stats": {
          "histogram": [
           {
            "bin_end": 0.1,
            "bin_start": 0,
            "count": 0
           },
           {
            "bin_end": 0.2,
            "bin_start": 0.1,
            "count": 0
           },
           {
            "bin_end": 0.30000000000000004,
            "bin_start": 0.2,
            "count": 0
           },
           {
            "bin_end": 0.4,
            "bin_start": 0.30000000000000004,
            "count": 0
           },
           {
            "bin_end": 0.5,
            "bin_start": 0.4,
            "count": 0
           },
           {
            "bin_end": 0.6000000000000001,
            "bin_start": 0.5,
            "count": 0
           },
           {
            "bin_end": 0.7000000000000001,
            "bin_start": 0.6000000000000001,
            "count": 0
           },
           {
            "bin_end": 0.8,
            "bin_start": 0.7000000000000001,
            "count": 0
           },
           {
            "bin_end": 0.9,
            "bin_start": 0.8,
            "count": 0
           },
           {
            "bin_end": 1,
            "bin_start": 0.9,
            "count": 0
           }
          ],
          "max": null,
          "min": null,
          "nan_count": 20,
          "unique_count": 0
         }
        },
        {
         "dtype": "float64",
         "name": "Other",
         "stats": {
          "histogram": [
           {
            "bin_end": 0.1,
            "bin_start": 0,
            "count": 0
           },
           {
            "bin_end": 0.2,
            "bin_start": 0.1,
            "count": 0
           },
           {
            "bin_end": 0.30000000000000004,
            "bin_start": 0.2,
            "count": 0
           },
           {
            "bin_end": 0.4,
            "bin_start": 0.30000000000000004,
            "count": 0
           },
           {
            "bin_end": 0.5,
            "bin_start": 0.4,
            "count": 0
           },
           {
            "bin_end": 0.6000000000000001,
            "bin_start": 0.5,
            "count": 0
           },
           {
            "bin_end": 0.7000000000000001,
            "bin_start": 0.6000000000000001,
            "count": 0
           },
           {
            "bin_end": 0.8,
            "bin_start": 0.7000000000000001,
            "count": 0
           },
           {
            "bin_end": 0.9,
            "bin_start": 0.8,
            "count": 0
           },
           {
            "bin_end": 1,
            "bin_start": 0.9,
            "count": 0
           }
          ],
          "max": null,
          "min": null,
          "nan_count": 20,
          "unique_count": 0
         }
        },
        {
         "dtype": "float64",
         "name": "Per Capita",
         "stats": {
          "histogram": [
           {
            "bin_end": 0.1,
            "bin_start": 0,
            "count": 0
           },
           {
            "bin_end": 0.2,
            "bin_start": 0.1,
            "count": 0
           },
           {
            "bin_end": 0.30000000000000004,
            "bin_start": 0.2,
            "count": 0
           },
           {
            "bin_end": 0.4,
            "bin_start": 0.30000000000000004,
            "count": 0
           },
           {
            "bin_end": 0.5,
            "bin_start": 0.4,
            "count": 0
           },
           {
            "bin_end": 0.6000000000000001,
            "bin_start": 0.5,
            "count": 0
           },
           {
            "bin_end": 0.7000000000000001,
            "bin_start": 0.6000000000000001,
            "count": 0
           },
           {
            "bin_end": 0.8,
            "bin_start": 0.7000000000000001,
            "count": 0
           },
           {
            "bin_end": 0.9,
            "bin_start": 0.8,
            "count": 0
           },
           {
            "bin_end": 1,
            "bin_start": 0.9,
            "count": 0
           }
          ],
          "max": null,
          "min": null,
          "nan_count": 20,
          "unique_count": 0
         }
        },
        {
         "dtype": "int64",
         "name": "_deepnote_index_column"
        }
       ],
       "row_count": 20,
       "rows": [
        {
         "Cement": "nan",
         "Coal": "nan",
         "Country": "Afghanistan",
         "Flaring": "nan",
         "Gas": "nan",
         "ISO 3166-1 alpha-3": "AFG",
         "Oil": "nan",
         "Other": "nan",
         "Per Capita": "nan",
         "Total": "0.0",
         "Year": "1750",
         "_deepnote_index_column": "0"
        },
        {
         "Cement": "nan",
         "Coal": "nan",
         "Country": "Afghanistan",
         "Flaring": "nan",
         "Gas": "nan",
         "ISO 3166-1 alpha-3": "AFG",
         "Oil": "nan",
         "Other": "nan",
         "Per Capita": "nan",
         "Total": "0.0",
         "Year": "1751",
         "_deepnote_index_column": "1"
        },
        {
         "Cement": "nan",
         "Coal": "nan",
         "Country": "Afghanistan",
         "Flaring": "nan",
         "Gas": "nan",
         "ISO 3166-1 alpha-3": "AFG",
         "Oil": "nan",
         "Other": "nan",
         "Per Capita": "nan",
         "Total": "0.0",
         "Year": "1752",
         "_deepnote_index_column": "2"
        },
        {
         "Cement": "nan",
         "Coal": "nan",
         "Country": "Afghanistan",
         "Flaring": "nan",
         "Gas": "nan",
         "ISO 3166-1 alpha-3": "AFG",
         "Oil": "nan",
         "Other": "nan",
         "Per Capita": "nan",
         "Total": "0.0",
         "Year": "1753",
         "_deepnote_index_column": "3"
        },
        {
         "Cement": "nan",
         "Coal": "nan",
         "Country": "Afghanistan",
         "Flaring": "nan",
         "Gas": "nan",
         "ISO 3166-1 alpha-3": "AFG",
         "Oil": "nan",
         "Other": "nan",
         "Per Capita": "nan",
         "Total": "0.0",
         "Year": "1754",
         "_deepnote_index_column": "4"
        },
        {
         "Cement": "nan",
         "Coal": "nan",
         "Country": "Afghanistan",
         "Flaring": "nan",
         "Gas": "nan",
         "ISO 3166-1 alpha-3": "AFG",
         "Oil": "nan",
         "Other": "nan",
         "Per Capita": "nan",
         "Total": "0.0",
         "Year": "1755",
         "_deepnote_index_column": "5"
        },
        {
         "Cement": "nan",
         "Coal": "nan",
         "Country": "Afghanistan",
         "Flaring": "nan",
         "Gas": "nan",
         "ISO 3166-1 alpha-3": "AFG",
         "Oil": "nan",
         "Other": "nan",
         "Per Capita": "nan",
         "Total": "0.0",
         "Year": "1756",
         "_deepnote_index_column": "6"
        },
        {
         "Cement": "nan",
         "Coal": "nan",
         "Country": "Afghanistan",
         "Flaring": "nan",
         "Gas": "nan",
         "ISO 3166-1 alpha-3": "AFG",
         "Oil": "nan",
         "Other": "nan",
         "Per Capita": "nan",
         "Total": "0.0",
         "Year": "1757",
         "_deepnote_index_column": "7"
        },
        {
         "Cement": "nan",
         "Coal": "nan",
         "Country": "Afghanistan",
         "Flaring": "nan",
         "Gas": "nan",
         "ISO 3166-1 alpha-3": "AFG",
         "Oil": "nan",
         "Other": "nan",
         "Per Capita": "nan",
         "Total": "0.0",
         "Year": "1758",
         "_deepnote_index_column": "8"
        },
        {
         "Cement": "nan",
         "Coal": "nan",
         "Country": "Afghanistan",
         "Flaring": "nan",
         "Gas": "nan",
         "ISO 3166-1 alpha-3": "AFG",
         "Oil": "nan",
         "Other": "nan",
         "Per Capita": "nan",
         "Total": "0.0",
         "Year": "1759",
         "_deepnote_index_column": "9"
        }
       ]
      },
      "text/html": [
       "<div>\n",
       "<style scoped>\n",
       "    .dataframe tbody tr th:only-of-type {\n",
       "        vertical-align: middle;\n",
       "    }\n",
       "\n",
       "    .dataframe tbody tr th {\n",
       "        vertical-align: top;\n",
       "    }\n",
       "\n",
       "    .dataframe thead th {\n",
       "        text-align: right;\n",
       "    }\n",
       "</style>\n",
       "<table border=\"1\" class=\"dataframe\">\n",
       "  <thead>\n",
       "    <tr style=\"text-align: right;\">\n",
       "      <th></th>\n",
       "      <th>Country</th>\n",
       "      <th>ISO 3166-1 alpha-3</th>\n",
       "      <th>Year</th>\n",
       "      <th>Total</th>\n",
       "      <th>Coal</th>\n",
       "      <th>Oil</th>\n",
       "      <th>Gas</th>\n",
       "      <th>Cement</th>\n",
       "      <th>Flaring</th>\n",
       "      <th>Other</th>\n",
       "      <th>Per Capita</th>\n",
       "    </tr>\n",
       "  </thead>\n",
       "  <tbody>\n",
       "    <tr>\n",
       "      <th>0</th>\n",
       "      <td>Afghanistan</td>\n",
       "      <td>AFG</td>\n",
       "      <td>1750</td>\n",
       "      <td>0.0</td>\n",
       "      <td>NaN</td>\n",
       "      <td>NaN</td>\n",
       "      <td>NaN</td>\n",
       "      <td>NaN</td>\n",
       "      <td>NaN</td>\n",
       "      <td>NaN</td>\n",
       "      <td>NaN</td>\n",
       "    </tr>\n",
       "    <tr>\n",
       "      <th>1</th>\n",
       "      <td>Afghanistan</td>\n",
       "      <td>AFG</td>\n",
       "      <td>1751</td>\n",
       "      <td>0.0</td>\n",
       "      <td>NaN</td>\n",
       "      <td>NaN</td>\n",
       "      <td>NaN</td>\n",
       "      <td>NaN</td>\n",
       "      <td>NaN</td>\n",
       "      <td>NaN</td>\n",
       "      <td>NaN</td>\n",
       "    </tr>\n",
       "    <tr>\n",
       "      <th>2</th>\n",
       "      <td>Afghanistan</td>\n",
       "      <td>AFG</td>\n",
       "      <td>1752</td>\n",
       "      <td>0.0</td>\n",
       "      <td>NaN</td>\n",
       "      <td>NaN</td>\n",
       "      <td>NaN</td>\n",
       "      <td>NaN</td>\n",
       "      <td>NaN</td>\n",
       "      <td>NaN</td>\n",
       "      <td>NaN</td>\n",
       "    </tr>\n",
       "    <tr>\n",
       "      <th>3</th>\n",
       "      <td>Afghanistan</td>\n",
       "      <td>AFG</td>\n",
       "      <td>1753</td>\n",
       "      <td>0.0</td>\n",
       "      <td>NaN</td>\n",
       "      <td>NaN</td>\n",
       "      <td>NaN</td>\n",
       "      <td>NaN</td>\n",
       "      <td>NaN</td>\n",
       "      <td>NaN</td>\n",
       "      <td>NaN</td>\n",
       "    </tr>\n",
       "    <tr>\n",
       "      <th>4</th>\n",
       "      <td>Afghanistan</td>\n",
       "      <td>AFG</td>\n",
       "      <td>1754</td>\n",
       "      <td>0.0</td>\n",
       "      <td>NaN</td>\n",
       "      <td>NaN</td>\n",
       "      <td>NaN</td>\n",
       "      <td>NaN</td>\n",
       "      <td>NaN</td>\n",
       "      <td>NaN</td>\n",
       "      <td>NaN</td>\n",
       "    </tr>\n",
       "    <tr>\n",
       "      <th>5</th>\n",
       "      <td>Afghanistan</td>\n",
       "      <td>AFG</td>\n",
       "      <td>1755</td>\n",
       "      <td>0.0</td>\n",
       "      <td>NaN</td>\n",
       "      <td>NaN</td>\n",
       "      <td>NaN</td>\n",
       "      <td>NaN</td>\n",
       "      <td>NaN</td>\n",
       "      <td>NaN</td>\n",
       "      <td>NaN</td>\n",
       "    </tr>\n",
       "    <tr>\n",
       "      <th>6</th>\n",
       "      <td>Afghanistan</td>\n",
       "      <td>AFG</td>\n",
       "      <td>1756</td>\n",
       "      <td>0.0</td>\n",
       "      <td>NaN</td>\n",
       "      <td>NaN</td>\n",
       "      <td>NaN</td>\n",
       "      <td>NaN</td>\n",
       "      <td>NaN</td>\n",
       "      <td>NaN</td>\n",
       "      <td>NaN</td>\n",
       "    </tr>\n",
       "    <tr>\n",
       "      <th>7</th>\n",
       "      <td>Afghanistan</td>\n",
       "      <td>AFG</td>\n",
       "      <td>1757</td>\n",
       "      <td>0.0</td>\n",
       "      <td>NaN</td>\n",
       "      <td>NaN</td>\n",
       "      <td>NaN</td>\n",
       "      <td>NaN</td>\n",
       "      <td>NaN</td>\n",
       "      <td>NaN</td>\n",
       "      <td>NaN</td>\n",
       "    </tr>\n",
       "    <tr>\n",
       "      <th>8</th>\n",
       "      <td>Afghanistan</td>\n",
       "      <td>AFG</td>\n",
       "      <td>1758</td>\n",
       "      <td>0.0</td>\n",
       "      <td>NaN</td>\n",
       "      <td>NaN</td>\n",
       "      <td>NaN</td>\n",
       "      <td>NaN</td>\n",
       "      <td>NaN</td>\n",
       "      <td>NaN</td>\n",
       "      <td>NaN</td>\n",
       "    </tr>\n",
       "    <tr>\n",
       "      <th>9</th>\n",
       "      <td>Afghanistan</td>\n",
       "      <td>AFG</td>\n",
       "      <td>1759</td>\n",
       "      <td>0.0</td>\n",
       "      <td>NaN</td>\n",
       "      <td>NaN</td>\n",
       "      <td>NaN</td>\n",
       "      <td>NaN</td>\n",
       "      <td>NaN</td>\n",
       "      <td>NaN</td>\n",
       "      <td>NaN</td>\n",
       "    </tr>\n",
       "    <tr>\n",
       "      <th>10</th>\n",
       "      <td>Afghanistan</td>\n",
       "      <td>AFG</td>\n",
       "      <td>1760</td>\n",
       "      <td>0.0</td>\n",
       "      <td>NaN</td>\n",
       "      <td>NaN</td>\n",
       "      <td>NaN</td>\n",
       "      <td>NaN</td>\n",
       "      <td>NaN</td>\n",
       "      <td>NaN</td>\n",
       "      <td>NaN</td>\n",
       "    </tr>\n",
       "    <tr>\n",
       "      <th>11</th>\n",
       "      <td>Afghanistan</td>\n",
       "      <td>AFG</td>\n",
       "      <td>1761</td>\n",
       "      <td>0.0</td>\n",
       "      <td>NaN</td>\n",
       "      <td>NaN</td>\n",
       "      <td>NaN</td>\n",
       "      <td>NaN</td>\n",
       "      <td>NaN</td>\n",
       "      <td>NaN</td>\n",
       "      <td>NaN</td>\n",
       "    </tr>\n",
       "    <tr>\n",
       "      <th>12</th>\n",
       "      <td>Afghanistan</td>\n",
       "      <td>AFG</td>\n",
       "      <td>1762</td>\n",
       "      <td>0.0</td>\n",
       "      <td>NaN</td>\n",
       "      <td>NaN</td>\n",
       "      <td>NaN</td>\n",
       "      <td>NaN</td>\n",
       "      <td>NaN</td>\n",
       "      <td>NaN</td>\n",
       "      <td>NaN</td>\n",
       "    </tr>\n",
       "    <tr>\n",
       "      <th>13</th>\n",
       "      <td>Afghanistan</td>\n",
       "      <td>AFG</td>\n",
       "      <td>1763</td>\n",
       "      <td>0.0</td>\n",
       "      <td>NaN</td>\n",
       "      <td>NaN</td>\n",
       "      <td>NaN</td>\n",
       "      <td>NaN</td>\n",
       "      <td>NaN</td>\n",
       "      <td>NaN</td>\n",
       "      <td>NaN</td>\n",
       "    </tr>\n",
       "    <tr>\n",
       "      <th>14</th>\n",
       "      <td>Afghanistan</td>\n",
       "      <td>AFG</td>\n",
       "      <td>1764</td>\n",
       "      <td>0.0</td>\n",
       "      <td>NaN</td>\n",
       "      <td>NaN</td>\n",
       "      <td>NaN</td>\n",
       "      <td>NaN</td>\n",
       "      <td>NaN</td>\n",
       "      <td>NaN</td>\n",
       "      <td>NaN</td>\n",
       "    </tr>\n",
       "    <tr>\n",
       "      <th>15</th>\n",
       "      <td>Afghanistan</td>\n",
       "      <td>AFG</td>\n",
       "      <td>1765</td>\n",
       "      <td>0.0</td>\n",
       "      <td>NaN</td>\n",
       "      <td>NaN</td>\n",
       "      <td>NaN</td>\n",
       "      <td>NaN</td>\n",
       "      <td>NaN</td>\n",
       "      <td>NaN</td>\n",
       "      <td>NaN</td>\n",
       "    </tr>\n",
       "    <tr>\n",
       "      <th>16</th>\n",
       "      <td>Afghanistan</td>\n",
       "      <td>AFG</td>\n",
       "      <td>1766</td>\n",
       "      <td>0.0</td>\n",
       "      <td>NaN</td>\n",
       "      <td>NaN</td>\n",
       "      <td>NaN</td>\n",
       "      <td>NaN</td>\n",
       "      <td>NaN</td>\n",
       "      <td>NaN</td>\n",
       "      <td>NaN</td>\n",
       "    </tr>\n",
       "    <tr>\n",
       "      <th>17</th>\n",
       "      <td>Afghanistan</td>\n",
       "      <td>AFG</td>\n",
       "      <td>1767</td>\n",
       "      <td>0.0</td>\n",
       "      <td>NaN</td>\n",
       "      <td>NaN</td>\n",
       "      <td>NaN</td>\n",
       "      <td>NaN</td>\n",
       "      <td>NaN</td>\n",
       "      <td>NaN</td>\n",
       "      <td>NaN</td>\n",
       "    </tr>\n",
       "    <tr>\n",
       "      <th>18</th>\n",
       "      <td>Afghanistan</td>\n",
       "      <td>AFG</td>\n",
       "      <td>1768</td>\n",
       "      <td>0.0</td>\n",
       "      <td>NaN</td>\n",
       "      <td>NaN</td>\n",
       "      <td>NaN</td>\n",
       "      <td>NaN</td>\n",
       "      <td>NaN</td>\n",
       "      <td>NaN</td>\n",
       "      <td>NaN</td>\n",
       "    </tr>\n",
       "    <tr>\n",
       "      <th>19</th>\n",
       "      <td>Afghanistan</td>\n",
       "      <td>AFG</td>\n",
       "      <td>1769</td>\n",
       "      <td>0.0</td>\n",
       "      <td>NaN</td>\n",
       "      <td>NaN</td>\n",
       "      <td>NaN</td>\n",
       "      <td>NaN</td>\n",
       "      <td>NaN</td>\n",
       "      <td>NaN</td>\n",
       "      <td>NaN</td>\n",
       "    </tr>\n",
       "  </tbody>\n",
       "</table>\n",
       "</div>"
      ],
      "text/plain": [
       "        Country ISO 3166-1 alpha-3  Year  Total  Coal  Oil  Gas  Cement  \\\n",
       "0   Afghanistan                AFG  1750    0.0   NaN  NaN  NaN     NaN   \n",
       "1   Afghanistan                AFG  1751    0.0   NaN  NaN  NaN     NaN   \n",
       "2   Afghanistan                AFG  1752    0.0   NaN  NaN  NaN     NaN   \n",
       "3   Afghanistan                AFG  1753    0.0   NaN  NaN  NaN     NaN   \n",
       "4   Afghanistan                AFG  1754    0.0   NaN  NaN  NaN     NaN   \n",
       "5   Afghanistan                AFG  1755    0.0   NaN  NaN  NaN     NaN   \n",
       "6   Afghanistan                AFG  1756    0.0   NaN  NaN  NaN     NaN   \n",
       "7   Afghanistan                AFG  1757    0.0   NaN  NaN  NaN     NaN   \n",
       "8   Afghanistan                AFG  1758    0.0   NaN  NaN  NaN     NaN   \n",
       "9   Afghanistan                AFG  1759    0.0   NaN  NaN  NaN     NaN   \n",
       "10  Afghanistan                AFG  1760    0.0   NaN  NaN  NaN     NaN   \n",
       "11  Afghanistan                AFG  1761    0.0   NaN  NaN  NaN     NaN   \n",
       "12  Afghanistan                AFG  1762    0.0   NaN  NaN  NaN     NaN   \n",
       "13  Afghanistan                AFG  1763    0.0   NaN  NaN  NaN     NaN   \n",
       "14  Afghanistan                AFG  1764    0.0   NaN  NaN  NaN     NaN   \n",
       "15  Afghanistan                AFG  1765    0.0   NaN  NaN  NaN     NaN   \n",
       "16  Afghanistan                AFG  1766    0.0   NaN  NaN  NaN     NaN   \n",
       "17  Afghanistan                AFG  1767    0.0   NaN  NaN  NaN     NaN   \n",
       "18  Afghanistan                AFG  1768    0.0   NaN  NaN  NaN     NaN   \n",
       "19  Afghanistan                AFG  1769    0.0   NaN  NaN  NaN     NaN   \n",
       "\n",
       "    Flaring  Other  Per Capita  \n",
       "0       NaN    NaN         NaN  \n",
       "1       NaN    NaN         NaN  \n",
       "2       NaN    NaN         NaN  \n",
       "3       NaN    NaN         NaN  \n",
       "4       NaN    NaN         NaN  \n",
       "5       NaN    NaN         NaN  \n",
       "6       NaN    NaN         NaN  \n",
       "7       NaN    NaN         NaN  \n",
       "8       NaN    NaN         NaN  \n",
       "9       NaN    NaN         NaN  \n",
       "10      NaN    NaN         NaN  \n",
       "11      NaN    NaN         NaN  \n",
       "12      NaN    NaN         NaN  \n",
       "13      NaN    NaN         NaN  \n",
       "14      NaN    NaN         NaN  \n",
       "15      NaN    NaN         NaN  \n",
       "16      NaN    NaN         NaN  \n",
       "17      NaN    NaN         NaN  \n",
       "18      NaN    NaN         NaN  \n",
       "19      NaN    NaN         NaN  "
      ]
     },
     "execution_count": 64,
     "metadata": {},
     "output_type": "execute_result"
    }
   ],
   "source": [
    "# Selecting rows by their position\n",
    "\n"
   ]
  },
  {
   "cell_type": "markdown",
   "metadata": {
    "cell_id": "75fb501a80ff49ad9347a416b245c755",
    "deepnote_cell_type": "markdown"
   },
   "source": [
    "**Notice that the first row has a position 0, and the last value in the range is omitted: So for 0:20 range the first 20 rows are returned with the positions starting with 0 and ending with 19.**"
   ]
  },
  {
   "cell_type": "code",
   "execution_count": 65,
   "metadata": {
    "cell_id": "c74551a783024b7ca7c422efc78e6b49",
    "deepnote_cell_type": "code",
    "deepnote_to_be_reexecuted": false,
    "execution_millis": 113,
    "execution_start": 1681998676283,
    "source_hash": "2a5e6ac6"
   },
   "outputs": [
    {
     "data": {
      "application/vnd.deepnote.dataframe.v3+json": {
       "column_count": 3,
       "columns": [
        {
         "dtype": "object",
         "name": "Country",
         "stats": {
          "categories": [
           {
            "count": 11,
            "name": "Afghanistan"
           }
          ],
          "nan_count": 0,
          "unique_count": 1
         }
        },
        {
         "dtype": "int64",
         "name": "Year",
         "stats": {
          "histogram": [
           {
            "bin_end": 1751,
            "bin_start": 1750,
            "count": 1
           },
           {
            "bin_end": 1752,
            "bin_start": 1751,
            "count": 1
           },
           {
            "bin_end": 1753,
            "bin_start": 1752,
            "count": 1
           },
           {
            "bin_end": 1754,
            "bin_start": 1753,
            "count": 1
           },
           {
            "bin_end": 1755,
            "bin_start": 1754,
            "count": 1
           },
           {
            "bin_end": 1756,
            "bin_start": 1755,
            "count": 1
           },
           {
            "bin_end": 1757,
            "bin_start": 1756,
            "count": 1
           },
           {
            "bin_end": 1758,
            "bin_start": 1757,
            "count": 1
           },
           {
            "bin_end": 1759,
            "bin_start": 1758,
            "count": 1
           },
           {
            "bin_end": 1760,
            "bin_start": 1759,
            "count": 2
           }
          ],
          "max": "1760",
          "min": "1750",
          "nan_count": 0,
          "unique_count": 11
         }
        },
        {
         "dtype": "float64",
         "name": "Oil",
         "stats": {
          "histogram": [
           {
            "bin_end": 0.1,
            "bin_start": 0,
            "count": 0
           },
           {
            "bin_end": 0.2,
            "bin_start": 0.1,
            "count": 0
           },
           {
            "bin_end": 0.30000000000000004,
            "bin_start": 0.2,
            "count": 0
           },
           {
            "bin_end": 0.4,
            "bin_start": 0.30000000000000004,
            "count": 0
           },
           {
            "bin_end": 0.5,
            "bin_start": 0.4,
            "count": 0
           },
           {
            "bin_end": 0.6000000000000001,
            "bin_start": 0.5,
            "count": 0
           },
           {
            "bin_end": 0.7000000000000001,
            "bin_start": 0.6000000000000001,
            "count": 0
           },
           {
            "bin_end": 0.8,
            "bin_start": 0.7000000000000001,
            "count": 0
           },
           {
            "bin_end": 0.9,
            "bin_start": 0.8,
            "count": 0
           },
           {
            "bin_end": 1,
            "bin_start": 0.9,
            "count": 0
           }
          ],
          "max": null,
          "min": null,
          "nan_count": 11,
          "unique_count": 0
         }
        },
        {
         "dtype": "int64",
         "name": "_deepnote_index_column"
        }
       ],
       "row_count": 11,
       "rows": [
        {
         "Country": "Afghanistan",
         "Oil": "nan",
         "Year": "1750",
         "_deepnote_index_column": "0"
        },
        {
         "Country": "Afghanistan",
         "Oil": "nan",
         "Year": "1751",
         "_deepnote_index_column": "1"
        },
        {
         "Country": "Afghanistan",
         "Oil": "nan",
         "Year": "1752",
         "_deepnote_index_column": "2"
        },
        {
         "Country": "Afghanistan",
         "Oil": "nan",
         "Year": "1753",
         "_deepnote_index_column": "3"
        },
        {
         "Country": "Afghanistan",
         "Oil": "nan",
         "Year": "1754",
         "_deepnote_index_column": "4"
        },
        {
         "Country": "Afghanistan",
         "Oil": "nan",
         "Year": "1755",
         "_deepnote_index_column": "5"
        },
        {
         "Country": "Afghanistan",
         "Oil": "nan",
         "Year": "1756",
         "_deepnote_index_column": "6"
        },
        {
         "Country": "Afghanistan",
         "Oil": "nan",
         "Year": "1757",
         "_deepnote_index_column": "7"
        },
        {
         "Country": "Afghanistan",
         "Oil": "nan",
         "Year": "1758",
         "_deepnote_index_column": "8"
        },
        {
         "Country": "Afghanistan",
         "Oil": "nan",
         "Year": "1759",
         "_deepnote_index_column": "9"
        }
       ]
      },
      "text/html": [
       "<div>\n",
       "<style scoped>\n",
       "    .dataframe tbody tr th:only-of-type {\n",
       "        vertical-align: middle;\n",
       "    }\n",
       "\n",
       "    .dataframe tbody tr th {\n",
       "        vertical-align: top;\n",
       "    }\n",
       "\n",
       "    .dataframe thead th {\n",
       "        text-align: right;\n",
       "    }\n",
       "</style>\n",
       "<table border=\"1\" class=\"dataframe\">\n",
       "  <thead>\n",
       "    <tr style=\"text-align: right;\">\n",
       "      <th></th>\n",
       "      <th>Country</th>\n",
       "      <th>Year</th>\n",
       "      <th>Oil</th>\n",
       "    </tr>\n",
       "  </thead>\n",
       "  <tbody>\n",
       "    <tr>\n",
       "      <th>0</th>\n",
       "      <td>Afghanistan</td>\n",
       "      <td>1750</td>\n",
       "      <td>NaN</td>\n",
       "    </tr>\n",
       "    <tr>\n",
       "      <th>1</th>\n",
       "      <td>Afghanistan</td>\n",
       "      <td>1751</td>\n",
       "      <td>NaN</td>\n",
       "    </tr>\n",
       "    <tr>\n",
       "      <th>2</th>\n",
       "      <td>Afghanistan</td>\n",
       "      <td>1752</td>\n",
       "      <td>NaN</td>\n",
       "    </tr>\n",
       "    <tr>\n",
       "      <th>3</th>\n",
       "      <td>Afghanistan</td>\n",
       "      <td>1753</td>\n",
       "      <td>NaN</td>\n",
       "    </tr>\n",
       "    <tr>\n",
       "      <th>4</th>\n",
       "      <td>Afghanistan</td>\n",
       "      <td>1754</td>\n",
       "      <td>NaN</td>\n",
       "    </tr>\n",
       "    <tr>\n",
       "      <th>5</th>\n",
       "      <td>Afghanistan</td>\n",
       "      <td>1755</td>\n",
       "      <td>NaN</td>\n",
       "    </tr>\n",
       "    <tr>\n",
       "      <th>6</th>\n",
       "      <td>Afghanistan</td>\n",
       "      <td>1756</td>\n",
       "      <td>NaN</td>\n",
       "    </tr>\n",
       "    <tr>\n",
       "      <th>7</th>\n",
       "      <td>Afghanistan</td>\n",
       "      <td>1757</td>\n",
       "      <td>NaN</td>\n",
       "    </tr>\n",
       "    <tr>\n",
       "      <th>8</th>\n",
       "      <td>Afghanistan</td>\n",
       "      <td>1758</td>\n",
       "      <td>NaN</td>\n",
       "    </tr>\n",
       "    <tr>\n",
       "      <th>9</th>\n",
       "      <td>Afghanistan</td>\n",
       "      <td>1759</td>\n",
       "      <td>NaN</td>\n",
       "    </tr>\n",
       "    <tr>\n",
       "      <th>10</th>\n",
       "      <td>Afghanistan</td>\n",
       "      <td>1760</td>\n",
       "      <td>NaN</td>\n",
       "    </tr>\n",
       "  </tbody>\n",
       "</table>\n",
       "</div>"
      ],
      "text/plain": [
       "        Country  Year  Oil\n",
       "0   Afghanistan  1750  NaN\n",
       "1   Afghanistan  1751  NaN\n",
       "2   Afghanistan  1752  NaN\n",
       "3   Afghanistan  1753  NaN\n",
       "4   Afghanistan  1754  NaN\n",
       "5   Afghanistan  1755  NaN\n",
       "6   Afghanistan  1756  NaN\n",
       "7   Afghanistan  1757  NaN\n",
       "8   Afghanistan  1758  NaN\n",
       "9   Afghanistan  1759  NaN\n",
       "10  Afghanistan  1760  NaN"
      ]
     },
     "execution_count": 65,
     "metadata": {},
     "output_type": "execute_result"
    }
   ],
   "source": [
    "# Selecting rows and columns using loc method\n"
   ]
  },
  {
   "cell_type": "code",
   "execution_count": 66,
   "metadata": {
    "cell_id": "e8346489481e4de0bc6058a76aa3bc39",
    "deepnote_cell_type": "code",
    "deepnote_to_be_reexecuted": false,
    "execution_millis": 55,
    "execution_start": 1681998676341,
    "source_hash": "22a19b8c"
   },
   "outputs": [
    {
     "data": {
      "application/vnd.deepnote.dataframe.v3+json": {
       "column_count": 3,
       "columns": [
        {
         "dtype": "object",
         "name": "Country",
         "stats": {
          "categories": [
           {
            "count": 10,
            "name": "Afghanistan"
           }
          ],
          "nan_count": 0,
          "unique_count": 1
         }
        },
        {
         "dtype": "int64",
         "name": "Year",
         "stats": {
          "histogram": [
           {
            "bin_end": 1750.9,
            "bin_start": 1750,
            "count": 1
           },
           {
            "bin_end": 1751.8,
            "bin_start": 1750.9,
            "count": 1
           },
           {
            "bin_end": 1752.7,
            "bin_start": 1751.8,
            "count": 1
           },
           {
            "bin_end": 1753.6,
            "bin_start": 1752.7,
            "count": 1
           },
           {
            "bin_end": 1754.5,
            "bin_start": 1753.6,
            "count": 1
           },
           {
            "bin_end": 1755.4,
            "bin_start": 1754.5,
            "count": 1
           },
           {
            "bin_end": 1756.3,
            "bin_start": 1755.4,
            "count": 1
           },
           {
            "bin_end": 1757.2,
            "bin_start": 1756.3,
            "count": 1
           },
           {
            "bin_end": 1758.1,
            "bin_start": 1757.2,
            "count": 1
           },
           {
            "bin_end": 1759,
            "bin_start": 1758.1,
            "count": 1
           }
          ],
          "max": "1759",
          "min": "1750",
          "nan_count": 0,
          "unique_count": 10
         }
        },
        {
         "dtype": "float64",
         "name": "Oil",
         "stats": {
          "histogram": [
           {
            "bin_end": 0.1,
            "bin_start": 0,
            "count": 0
           },
           {
            "bin_end": 0.2,
            "bin_start": 0.1,
            "count": 0
           },
           {
            "bin_end": 0.30000000000000004,
            "bin_start": 0.2,
            "count": 0
           },
           {
            "bin_end": 0.4,
            "bin_start": 0.30000000000000004,
            "count": 0
           },
           {
            "bin_end": 0.5,
            "bin_start": 0.4,
            "count": 0
           },
           {
            "bin_end": 0.6000000000000001,
            "bin_start": 0.5,
            "count": 0
           },
           {
            "bin_end": 0.7000000000000001,
            "bin_start": 0.6000000000000001,
            "count": 0
           },
           {
            "bin_end": 0.8,
            "bin_start": 0.7000000000000001,
            "count": 0
           },
           {
            "bin_end": 0.9,
            "bin_start": 0.8,
            "count": 0
           },
           {
            "bin_end": 1,
            "bin_start": 0.9,
            "count": 0
           }
          ],
          "max": null,
          "min": null,
          "nan_count": 10,
          "unique_count": 0
         }
        },
        {
         "dtype": "int64",
         "name": "_deepnote_index_column"
        }
       ],
       "row_count": 10,
       "rows": [
        {
         "Country": "Afghanistan",
         "Oil": "nan",
         "Year": "1750",
         "_deepnote_index_column": "0"
        },
        {
         "Country": "Afghanistan",
         "Oil": "nan",
         "Year": "1751",
         "_deepnote_index_column": "1"
        },
        {
         "Country": "Afghanistan",
         "Oil": "nan",
         "Year": "1752",
         "_deepnote_index_column": "2"
        },
        {
         "Country": "Afghanistan",
         "Oil": "nan",
         "Year": "1753",
         "_deepnote_index_column": "3"
        },
        {
         "Country": "Afghanistan",
         "Oil": "nan",
         "Year": "1754",
         "_deepnote_index_column": "4"
        },
        {
         "Country": "Afghanistan",
         "Oil": "nan",
         "Year": "1755",
         "_deepnote_index_column": "5"
        },
        {
         "Country": "Afghanistan",
         "Oil": "nan",
         "Year": "1756",
         "_deepnote_index_column": "6"
        },
        {
         "Country": "Afghanistan",
         "Oil": "nan",
         "Year": "1757",
         "_deepnote_index_column": "7"
        },
        {
         "Country": "Afghanistan",
         "Oil": "nan",
         "Year": "1758",
         "_deepnote_index_column": "8"
        },
        {
         "Country": "Afghanistan",
         "Oil": "nan",
         "Year": "1759",
         "_deepnote_index_column": "9"
        }
       ]
      },
      "text/html": [
       "<div>\n",
       "<style scoped>\n",
       "    .dataframe tbody tr th:only-of-type {\n",
       "        vertical-align: middle;\n",
       "    }\n",
       "\n",
       "    .dataframe tbody tr th {\n",
       "        vertical-align: top;\n",
       "    }\n",
       "\n",
       "    .dataframe thead th {\n",
       "        text-align: right;\n",
       "    }\n",
       "</style>\n",
       "<table border=\"1\" class=\"dataframe\">\n",
       "  <thead>\n",
       "    <tr style=\"text-align: right;\">\n",
       "      <th></th>\n",
       "      <th>Country</th>\n",
       "      <th>Year</th>\n",
       "      <th>Oil</th>\n",
       "    </tr>\n",
       "  </thead>\n",
       "  <tbody>\n",
       "    <tr>\n",
       "      <th>0</th>\n",
       "      <td>Afghanistan</td>\n",
       "      <td>1750</td>\n",
       "      <td>NaN</td>\n",
       "    </tr>\n",
       "    <tr>\n",
       "      <th>1</th>\n",
       "      <td>Afghanistan</td>\n",
       "      <td>1751</td>\n",
       "      <td>NaN</td>\n",
       "    </tr>\n",
       "    <tr>\n",
       "      <th>2</th>\n",
       "      <td>Afghanistan</td>\n",
       "      <td>1752</td>\n",
       "      <td>NaN</td>\n",
       "    </tr>\n",
       "    <tr>\n",
       "      <th>3</th>\n",
       "      <td>Afghanistan</td>\n",
       "      <td>1753</td>\n",
       "      <td>NaN</td>\n",
       "    </tr>\n",
       "    <tr>\n",
       "      <th>4</th>\n",
       "      <td>Afghanistan</td>\n",
       "      <td>1754</td>\n",
       "      <td>NaN</td>\n",
       "    </tr>\n",
       "    <tr>\n",
       "      <th>5</th>\n",
       "      <td>Afghanistan</td>\n",
       "      <td>1755</td>\n",
       "      <td>NaN</td>\n",
       "    </tr>\n",
       "    <tr>\n",
       "      <th>6</th>\n",
       "      <td>Afghanistan</td>\n",
       "      <td>1756</td>\n",
       "      <td>NaN</td>\n",
       "    </tr>\n",
       "    <tr>\n",
       "      <th>7</th>\n",
       "      <td>Afghanistan</td>\n",
       "      <td>1757</td>\n",
       "      <td>NaN</td>\n",
       "    </tr>\n",
       "    <tr>\n",
       "      <th>8</th>\n",
       "      <td>Afghanistan</td>\n",
       "      <td>1758</td>\n",
       "      <td>NaN</td>\n",
       "    </tr>\n",
       "    <tr>\n",
       "      <th>9</th>\n",
       "      <td>Afghanistan</td>\n",
       "      <td>1759</td>\n",
       "      <td>NaN</td>\n",
       "    </tr>\n",
       "  </tbody>\n",
       "</table>\n",
       "</div>"
      ],
      "text/plain": [
       "       Country  Year  Oil\n",
       "0  Afghanistan  1750  NaN\n",
       "1  Afghanistan  1751  NaN\n",
       "2  Afghanistan  1752  NaN\n",
       "3  Afghanistan  1753  NaN\n",
       "4  Afghanistan  1754  NaN\n",
       "5  Afghanistan  1755  NaN\n",
       "6  Afghanistan  1756  NaN\n",
       "7  Afghanistan  1757  NaN\n",
       "8  Afghanistan  1758  NaN\n",
       "9  Afghanistan  1759  NaN"
      ]
     },
     "execution_count": 66,
     "metadata": {},
     "output_type": "execute_result"
    }
   ],
   "source": [
    "# Selecting rows and columns using iloc method\n",
    "\n"
   ]
  },
  {
   "cell_type": "code",
   "execution_count": 67,
   "metadata": {
    "cell_id": "0353a9c19c4049c1a6e6a6070e547d74",
    "deepnote_cell_type": "code",
    "deepnote_to_be_reexecuted": false,
    "execution_millis": 393,
    "execution_start": 1681998676341,
    "source_hash": "ae1fe518"
   },
   "outputs": [
    {
     "data": {
      "text/plain": [
       "Country                     Global\n",
       "ISO 3166-1 alpha-3             WLD\n",
       "Year                          2021\n",
       "Total                 37123.850352\n",
       "Coal                  14979.598083\n",
       "Oil                   11837.159116\n",
       "Gas                    7921.829472\n",
       "Cement                 1672.592372\n",
       "Flaring                 416.525563\n",
       "Other                   296.145746\n",
       "Per Capita                4.693699\n",
       "Name: 63103, dtype: object"
      ]
     },
     "metadata": {},
     "output_type": "display_data"
    },
    {
     "data": {
      "text/html": [
       "<div>\n",
       "<style scoped>\n",
       "    .dataframe tbody tr th:only-of-type {\n",
       "        vertical-align: middle;\n",
       "    }\n",
       "\n",
       "    .dataframe tbody tr th {\n",
       "        vertical-align: top;\n",
       "    }\n",
       "\n",
       "    .dataframe thead th {\n",
       "        text-align: right;\n",
       "    }\n",
       "</style>\n",
       "<table border=\"1\" class=\"dataframe\">\n",
       "  <thead>\n",
       "    <tr style=\"text-align: right;\">\n",
       "      <th></th>\n",
       "      <th>Country</th>\n",
       "      <th>ISO 3166-1 alpha-3</th>\n",
       "      <th>Year</th>\n",
       "      <th>Total</th>\n",
       "      <th>Coal</th>\n",
       "      <th>Oil</th>\n",
       "      <th>Gas</th>\n",
       "      <th>Cement</th>\n",
       "      <th>Flaring</th>\n",
       "      <th>Other</th>\n",
       "      <th>Per Capita</th>\n",
       "    </tr>\n",
       "  </thead>\n",
       "  <tbody>\n",
       "    <tr>\n",
       "      <th>0</th>\n",
       "      <td>Afghanistan</td>\n",
       "      <td>AFG</td>\n",
       "      <td>1750</td>\n",
       "      <td>0.0</td>\n",
       "      <td>NaN</td>\n",
       "      <td>NaN</td>\n",
       "      <td>NaN</td>\n",
       "      <td>NaN</td>\n",
       "      <td>NaN</td>\n",
       "      <td>NaN</td>\n",
       "      <td>NaN</td>\n",
       "    </tr>\n",
       "    <tr>\n",
       "      <th>1</th>\n",
       "      <td>Afghanistan</td>\n",
       "      <td>AFG</td>\n",
       "      <td>1751</td>\n",
       "      <td>0.0</td>\n",
       "      <td>NaN</td>\n",
       "      <td>NaN</td>\n",
       "      <td>NaN</td>\n",
       "      <td>NaN</td>\n",
       "      <td>NaN</td>\n",
       "      <td>NaN</td>\n",
       "      <td>NaN</td>\n",
       "    </tr>\n",
       "  </tbody>\n",
       "</table>\n",
       "</div>"
      ],
      "text/plain": [
       "       Country ISO 3166-1 alpha-3  Year  Total  Coal  Oil  Gas  Cement  \\\n",
       "0  Afghanistan                AFG  1750    0.0   NaN  NaN  NaN     NaN   \n",
       "1  Afghanistan                AFG  1751    0.0   NaN  NaN  NaN     NaN   \n",
       "\n",
       "   Flaring  Other  Per Capita  \n",
       "0      NaN    NaN         NaN  \n",
       "1      NaN    NaN         NaN  "
      ]
     },
     "metadata": {},
     "output_type": "display_data"
    },
    {
     "data": {
      "text/plain": [
       "0        Afghanistan\n",
       "1        Afghanistan\n",
       "2        Afghanistan\n",
       "3        Afghanistan\n",
       "4        Afghanistan\n",
       "            ...     \n",
       "63099         Global\n",
       "63100         Global\n",
       "63101         Global\n",
       "63102         Global\n",
       "63103         Global\n",
       "Name: Country, Length: 63104, dtype: object"
      ]
     },
     "metadata": {},
     "output_type": "display_data"
    }
   ],
   "source": [
    "# Other Examples\n",
    "display(df1.iloc[-1]) # Last row\n",
    "display(df1.iloc[0:2, :]) # Two row and all columns\n",
    "display(df1.iloc[:, 0]) # All rows and first column"
   ]
  },
  {
   "cell_type": "markdown",
   "metadata": {
    "cell_id": "ea7e3c07d20e42b8954541943c1465dc",
    "deepnote_cell_type": "markdown"
   },
   "source": [
    "## 2.7. Sorting Dataframes\n",
    "\n",
    "We can sort the data by a value in the column. By default the sorting will occur in ascending order and a new data frame is return. It is important to use the **sort_values() method.**"
   ]
  },
  {
   "cell_type": "code",
   "execution_count": 68,
   "metadata": {
    "cell_id": "cb0925c181a145a89a972038cbd0c2d2",
    "deepnote_cell_type": "code",
    "deepnote_to_be_reexecuted": false,
    "execution_millis": 129,
    "execution_start": 1681998676611,
    "source_hash": "9d402f2b"
   },
   "outputs": [
    {
     "data": {
      "application/vnd.deepnote.dataframe.v3+json": {
       "column_count": 11,
       "columns": [
        {
         "dtype": "object",
         "name": "Country",
         "stats": {
          "categories": [
           {
            "count": 1,
            "name": "Afghanistan"
           },
           {
            "count": 1,
            "name": "Papua New Guinea"
           },
           {
            "count": 3,
            "name": "3 others"
           }
          ],
          "nan_count": 0,
          "unique_count": 5
         }
        },
        {
         "dtype": "object",
         "name": "ISO 3166-1 alpha-3",
         "stats": {
          "categories": [
           {
            "count": 1,
            "name": "AFG"
           },
           {
            "count": 1,
            "name": "PNG"
           },
           {
            "count": 3,
            "name": "3 others"
           }
          ],
          "nan_count": 0,
          "unique_count": 5
         }
        },
        {
         "dtype": "int64",
         "name": "Year",
         "stats": {
          "histogram": [
           {
            "bin_end": 1749.6,
            "bin_start": 1749.5,
            "count": 0
           },
           {
            "bin_end": 1749.7,
            "bin_start": 1749.6,
            "count": 0
           },
           {
            "bin_end": 1749.8,
            "bin_start": 1749.7,
            "count": 0
           },
           {
            "bin_end": 1749.9,
            "bin_start": 1749.8,
            "count": 0
           },
           {
            "bin_end": 1750,
            "bin_start": 1749.9,
            "count": 0
           },
           {
            "bin_end": 1750.1,
            "bin_start": 1750,
            "count": 5
           },
           {
            "bin_end": 1750.2,
            "bin_start": 1750.1,
            "count": 0
           },
           {
            "bin_end": 1750.3,
            "bin_start": 1750.2,
            "count": 0
           },
           {
            "bin_end": 1750.4,
            "bin_start": 1750.3,
            "count": 0
           },
           {
            "bin_end": 1750.5,
            "bin_start": 1750.4,
            "count": 0
           }
          ],
          "max": "1750",
          "min": "1750",
          "nan_count": 0,
          "unique_count": 1
         }
        },
        {
         "dtype": "float64",
         "name": "Total",
         "stats": {
          "histogram": [
           {
            "bin_end": -0.4,
            "bin_start": -0.5,
            "count": 0
           },
           {
            "bin_end": -0.3,
            "bin_start": -0.4,
            "count": 0
           },
           {
            "bin_end": -0.19999999999999996,
            "bin_start": -0.3,
            "count": 0
           },
           {
            "bin_end": -0.09999999999999998,
            "bin_start": -0.19999999999999996,
            "count": 0
           },
           {
            "bin_end": 0,
            "bin_start": -0.09999999999999998,
            "count": 0
           },
           {
            "bin_end": 0.10000000000000009,
            "bin_start": 0,
            "count": 5
           },
           {
            "bin_end": 0.20000000000000007,
            "bin_start": 0.10000000000000009,
            "count": 0
           },
           {
            "bin_end": 0.30000000000000004,
            "bin_start": 0.20000000000000007,
            "count": 0
           },
           {
            "bin_end": 0.4,
            "bin_start": 0.30000000000000004,
            "count": 0
           },
           {
            "bin_end": 0.5,
            "bin_start": 0.4,
            "count": 0
           }
          ],
          "max": "0.0",
          "min": "0.0",
          "nan_count": 0,
          "unique_count": 1
         }
        },
        {
         "dtype": "float64",
         "name": "Coal",
         "stats": {
          "histogram": [
           {
            "bin_end": 0.1,
            "bin_start": 0,
            "count": 0
           },
           {
            "bin_end": 0.2,
            "bin_start": 0.1,
            "count": 0
           },
           {
            "bin_end": 0.30000000000000004,
            "bin_start": 0.2,
            "count": 0
           },
           {
            "bin_end": 0.4,
            "bin_start": 0.30000000000000004,
            "count": 0
           },
           {
            "bin_end": 0.5,
            "bin_start": 0.4,
            "count": 0
           },
           {
            "bin_end": 0.6000000000000001,
            "bin_start": 0.5,
            "count": 0
           },
           {
            "bin_end": 0.7000000000000001,
            "bin_start": 0.6000000000000001,
            "count": 0
           },
           {
            "bin_end": 0.8,
            "bin_start": 0.7000000000000001,
            "count": 0
           },
           {
            "bin_end": 0.9,
            "bin_start": 0.8,
            "count": 0
           },
           {
            "bin_end": 1,
            "bin_start": 0.9,
            "count": 0
           }
          ],
          "max": null,
          "min": null,
          "nan_count": 5,
          "unique_count": 0
         }
        },
        {
         "dtype": "float64",
         "name": "Oil",
         "stats": {
          "histogram": [
           {
            "bin_end": 0.1,
            "bin_start": 0,
            "count": 0
           },
           {
            "bin_end": 0.2,
            "bin_start": 0.1,
            "count": 0
           },
           {
            "bin_end": 0.30000000000000004,
            "bin_start": 0.2,
            "count": 0
           },
           {
            "bin_end": 0.4,
            "bin_start": 0.30000000000000004,
            "count": 0
           },
           {
            "bin_end": 0.5,
            "bin_start": 0.4,
            "count": 0
           },
           {
            "bin_end": 0.6000000000000001,
            "bin_start": 0.5,
            "count": 0
           },
           {
            "bin_end": 0.7000000000000001,
            "bin_start": 0.6000000000000001,
            "count": 0
           },
           {
            "bin_end": 0.8,
            "bin_start": 0.7000000000000001,
            "count": 0
           },
           {
            "bin_end": 0.9,
            "bin_start": 0.8,
            "count": 0
           },
           {
            "bin_end": 1,
            "bin_start": 0.9,
            "count": 0
           }
          ],
          "max": null,
          "min": null,
          "nan_count": 5,
          "unique_count": 0
         }
        },
        {
         "dtype": "float64",
         "name": "Gas",
         "stats": {
          "histogram": [
           {
            "bin_end": 0.1,
            "bin_start": 0,
            "count": 0
           },
           {
            "bin_end": 0.2,
            "bin_start": 0.1,
            "count": 0
           },
           {
            "bin_end": 0.30000000000000004,
            "bin_start": 0.2,
            "count": 0
           },
           {
            "bin_end": 0.4,
            "bin_start": 0.30000000000000004,
            "count": 0
           },
           {
            "bin_end": 0.5,
            "bin_start": 0.4,
            "count": 0
           },
           {
            "bin_end": 0.6000000000000001,
            "bin_start": 0.5,
            "count": 0
           },
           {
            "bin_end": 0.7000000000000001,
            "bin_start": 0.6000000000000001,
            "count": 0
           },
           {
            "bin_end": 0.8,
            "bin_start": 0.7000000000000001,
            "count": 0
           },
           {
            "bin_end": 0.9,
            "bin_start": 0.8,
            "count": 0
           },
           {
            "bin_end": 1,
            "bin_start": 0.9,
            "count": 0
           }
          ],
          "max": null,
          "min": null,
          "nan_count": 5,
          "unique_count": 0
         }
        },
        {
         "dtype": "float64",
         "name": "Cement",
         "stats": {
          "histogram": [
           {
            "bin_end": -0.4,
            "bin_start": -0.5,
            "count": 0
           },
           {
            "bin_end": -0.3,
            "bin_start": -0.4,
            "count": 0
           },
           {
            "bin_end": -0.19999999999999996,
            "bin_start": -0.3,
            "count": 0
           },
           {
            "bin_end": -0.09999999999999998,
            "bin_start": -0.19999999999999996,
            "count": 0
           },
           {
            "bin_end": 0,
            "bin_start": -0.09999999999999998,
            "count": 0
           },
           {
            "bin_end": 0.10000000000000009,
            "bin_start": 0,
            "count": 1
           },
           {
            "bin_end": 0.20000000000000007,
            "bin_start": 0.10000000000000009,
            "count": 0
           },
           {
            "bin_end": 0.30000000000000004,
            "bin_start": 0.20000000000000007,
            "count": 0
           },
           {
            "bin_end": 0.4,
            "bin_start": 0.30000000000000004,
            "count": 0
           },
           {
            "bin_end": 0.5,
            "bin_start": 0.4,
            "count": 0
           }
          ],
          "max": "0.0",
          "min": "0.0",
          "nan_count": 4,
          "unique_count": 1
         }
        },
        {
         "dtype": "float64",
         "name": "Flaring",
         "stats": {
          "histogram": [
           {
            "bin_end": 0.1,
            "bin_start": 0,
            "count": 0
           },
           {
            "bin_end": 0.2,
            "bin_start": 0.1,
            "count": 0
           },
           {
            "bin_end": 0.30000000000000004,
            "bin_start": 0.2,
            "count": 0
           },
           {
            "bin_end": 0.4,
            "bin_start": 0.30000000000000004,
            "count": 0
           },
           {
            "bin_end": 0.5,
            "bin_start": 0.4,
            "count": 0
           },
           {
            "bin_end": 0.6000000000000001,
            "bin_start": 0.5,
            "count": 0
           },
           {
            "bin_end": 0.7000000000000001,
            "bin_start": 0.6000000000000001,
            "count": 0
           },
           {
            "bin_end": 0.8,
            "bin_start": 0.7000000000000001,
            "count": 0
           },
           {
            "bin_end": 0.9,
            "bin_start": 0.8,
            "count": 0
           },
           {
            "bin_end": 1,
            "bin_start": 0.9,
            "count": 0
           }
          ],
          "max": null,
          "min": null,
          "nan_count": 5,
          "unique_count": 0
         }
        },
        {
         "dtype": "float64",
         "name": "Other",
         "stats": {
          "histogram": [
           {
            "bin_end": 0.1,
            "bin_start": 0,
            "count": 0
           },
           {
            "bin_end": 0.2,
            "bin_start": 0.1,
            "count": 0
           },
           {
            "bin_end": 0.30000000000000004,
            "bin_start": 0.2,
            "count": 0
           },
           {
            "bin_end": 0.4,
            "bin_start": 0.30000000000000004,
            "count": 0
           },
           {
            "bin_end": 0.5,
            "bin_start": 0.4,
            "count": 0
           },
           {
            "bin_end": 0.6000000000000001,
            "bin_start": 0.5,
            "count": 0
           },
           {
            "bin_end": 0.7000000000000001,
            "bin_start": 0.6000000000000001,
            "count": 0
           },
           {
            "bin_end": 0.8,
            "bin_start": 0.7000000000000001,
            "count": 0
           },
           {
            "bin_end": 0.9,
            "bin_start": 0.8,
            "count": 0
           },
           {
            "bin_end": 1,
            "bin_start": 0.9,
            "count": 0
           }
          ],
          "max": null,
          "min": null,
          "nan_count": 5,
          "unique_count": 0
         }
        },
        {
         "dtype": "float64",
         "name": "Per Capita",
         "stats": {
          "histogram": [
           {
            "bin_end": 0.1,
            "bin_start": 0,
            "count": 0
           },
           {
            "bin_end": 0.2,
            "bin_start": 0.1,
            "count": 0
           },
           {
            "bin_end": 0.30000000000000004,
            "bin_start": 0.2,
            "count": 0
           },
           {
            "bin_end": 0.4,
            "bin_start": 0.30000000000000004,
            "count": 0
           },
           {
            "bin_end": 0.5,
            "bin_start": 0.4,
            "count": 0
           },
           {
            "bin_end": 0.6000000000000001,
            "bin_start": 0.5,
            "count": 0
           },
           {
            "bin_end": 0.7000000000000001,
            "bin_start": 0.6000000000000001,
            "count": 0
           },
           {
            "bin_end": 0.8,
            "bin_start": 0.7000000000000001,
            "count": 0
           },
           {
            "bin_end": 0.9,
            "bin_start": 0.8,
            "count": 0
           },
           {
            "bin_end": 1,
            "bin_start": 0.9,
            "count": 0
           }
          ],
          "max": null,
          "min": null,
          "nan_count": 5,
          "unique_count": 0
         }
        },
        {
         "dtype": "int64",
         "name": "_deepnote_index_column"
        }
       ],
       "row_count": 5,
       "rows": [
        {
         "Cement": "nan",
         "Coal": "nan",
         "Country": "Afghanistan",
         "Flaring": "nan",
         "Gas": "nan",
         "ISO 3166-1 alpha-3": "AFG",
         "Oil": "nan",
         "Other": "nan",
         "Per Capita": "nan",
         "Total": "0.0",
         "Year": "1750",
         "_deepnote_index_column": "0"
        },
        {
         "Cement": "0.0",
         "Coal": "nan",
         "Country": "Papua New Guinea",
         "Flaring": "nan",
         "Gas": "nan",
         "ISO 3166-1 alpha-3": "PNG",
         "Oil": "nan",
         "Other": "nan",
         "Per Capita": "nan",
         "Total": "0.0",
         "Year": "1750",
         "_deepnote_index_column": "42704"
        },
        {
         "Cement": "nan",
         "Coal": "nan",
         "Country": "Paraguay",
         "Flaring": "nan",
         "Gas": "nan",
         "ISO 3166-1 alpha-3": "PRY",
         "Oil": "nan",
         "Other": "nan",
         "Per Capita": "nan",
         "Total": "0.0",
         "Year": "1750",
         "_deepnote_index_column": "42976"
        },
        {
         "Cement": "nan",
         "Coal": "nan",
         "Country": "Peru",
         "Flaring": "nan",
         "Gas": "nan",
         "ISO 3166-1 alpha-3": "PER",
         "Oil": "nan",
         "Other": "nan",
         "Per Capita": "nan",
         "Total": "0.0",
         "Year": "1750",
         "_deepnote_index_column": "43248"
        },
        {
         "Cement": "nan",
         "Coal": "nan",
         "Country": "Philippines",
         "Flaring": "nan",
         "Gas": "nan",
         "ISO 3166-1 alpha-3": "PHL",
         "Oil": "nan",
         "Other": "nan",
         "Per Capita": "nan",
         "Total": "0.0",
         "Year": "1750",
         "_deepnote_index_column": "43520"
        }
       ]
      },
      "text/html": [
       "<div>\n",
       "<style scoped>\n",
       "    .dataframe tbody tr th:only-of-type {\n",
       "        vertical-align: middle;\n",
       "    }\n",
       "\n",
       "    .dataframe tbody tr th {\n",
       "        vertical-align: top;\n",
       "    }\n",
       "\n",
       "    .dataframe thead th {\n",
       "        text-align: right;\n",
       "    }\n",
       "</style>\n",
       "<table border=\"1\" class=\"dataframe\">\n",
       "  <thead>\n",
       "    <tr style=\"text-align: right;\">\n",
       "      <th></th>\n",
       "      <th>Country</th>\n",
       "      <th>ISO 3166-1 alpha-3</th>\n",
       "      <th>Year</th>\n",
       "      <th>Total</th>\n",
       "      <th>Coal</th>\n",
       "      <th>Oil</th>\n",
       "      <th>Gas</th>\n",
       "      <th>Cement</th>\n",
       "      <th>Flaring</th>\n",
       "      <th>Other</th>\n",
       "      <th>Per Capita</th>\n",
       "    </tr>\n",
       "  </thead>\n",
       "  <tbody>\n",
       "    <tr>\n",
       "      <th>0</th>\n",
       "      <td>Afghanistan</td>\n",
       "      <td>AFG</td>\n",
       "      <td>1750</td>\n",
       "      <td>0.0</td>\n",
       "      <td>NaN</td>\n",
       "      <td>NaN</td>\n",
       "      <td>NaN</td>\n",
       "      <td>NaN</td>\n",
       "      <td>NaN</td>\n",
       "      <td>NaN</td>\n",
       "      <td>NaN</td>\n",
       "    </tr>\n",
       "    <tr>\n",
       "      <th>42704</th>\n",
       "      <td>Papua New Guinea</td>\n",
       "      <td>PNG</td>\n",
       "      <td>1750</td>\n",
       "      <td>0.0</td>\n",
       "      <td>NaN</td>\n",
       "      <td>NaN</td>\n",
       "      <td>NaN</td>\n",
       "      <td>0.0</td>\n",
       "      <td>NaN</td>\n",
       "      <td>NaN</td>\n",
       "      <td>NaN</td>\n",
       "    </tr>\n",
       "    <tr>\n",
       "      <th>42976</th>\n",
       "      <td>Paraguay</td>\n",
       "      <td>PRY</td>\n",
       "      <td>1750</td>\n",
       "      <td>0.0</td>\n",
       "      <td>NaN</td>\n",
       "      <td>NaN</td>\n",
       "      <td>NaN</td>\n",
       "      <td>NaN</td>\n",
       "      <td>NaN</td>\n",
       "      <td>NaN</td>\n",
       "      <td>NaN</td>\n",
       "    </tr>\n",
       "    <tr>\n",
       "      <th>43248</th>\n",
       "      <td>Peru</td>\n",
       "      <td>PER</td>\n",
       "      <td>1750</td>\n",
       "      <td>0.0</td>\n",
       "      <td>NaN</td>\n",
       "      <td>NaN</td>\n",
       "      <td>NaN</td>\n",
       "      <td>NaN</td>\n",
       "      <td>NaN</td>\n",
       "      <td>NaN</td>\n",
       "      <td>NaN</td>\n",
       "    </tr>\n",
       "    <tr>\n",
       "      <th>43520</th>\n",
       "      <td>Philippines</td>\n",
       "      <td>PHL</td>\n",
       "      <td>1750</td>\n",
       "      <td>0.0</td>\n",
       "      <td>NaN</td>\n",
       "      <td>NaN</td>\n",
       "      <td>NaN</td>\n",
       "      <td>NaN</td>\n",
       "      <td>NaN</td>\n",
       "      <td>NaN</td>\n",
       "      <td>NaN</td>\n",
       "    </tr>\n",
       "  </tbody>\n",
       "</table>\n",
       "</div>"
      ],
      "text/plain": [
       "                Country ISO 3166-1 alpha-3  Year  Total  Coal  Oil  Gas  \\\n",
       "0           Afghanistan                AFG  1750    0.0   NaN  NaN  NaN   \n",
       "42704  Papua New Guinea                PNG  1750    0.0   NaN  NaN  NaN   \n",
       "42976          Paraguay                PRY  1750    0.0   NaN  NaN  NaN   \n",
       "43248              Peru                PER  1750    0.0   NaN  NaN  NaN   \n",
       "43520       Philippines                PHL  1750    0.0   NaN  NaN  NaN   \n",
       "\n",
       "       Cement  Flaring  Other  Per Capita  \n",
       "0         NaN      NaN    NaN         NaN  \n",
       "42704     0.0      NaN    NaN         NaN  \n",
       "42976     NaN      NaN    NaN         NaN  \n",
       "43248     NaN      NaN    NaN         NaN  \n",
       "43520     NaN      NaN    NaN         NaN  "
      ]
     },
     "execution_count": 68,
     "metadata": {},
     "output_type": "execute_result"
    }
   ],
   "source": [
    "# Create a new data frame from the original sorted by a column\n"
   ]
  },
  {
   "cell_type": "code",
   "execution_count": 69,
   "metadata": {
    "cell_id": "f187deba151442e89582ea0f6ea74cfd",
    "deepnote_cell_type": "code",
    "deepnote_to_be_reexecuted": false,
    "execution_millis": 183,
    "execution_start": 1681998676613,
    "source_hash": "c0810d26"
   },
   "outputs": [
    {
     "data": {
      "application/vnd.deepnote.dataframe.v3+json": {
       "column_count": 11,
       "columns": [
        {
         "dtype": "object",
         "name": "Country",
         "stats": {
          "categories": [
           {
            "count": 272,
            "name": "Afghanistan"
           },
           {
            "count": 272,
            "name": "Albania"
           },
           {
            "count": 62560,
            "name": "230 others"
           }
          ],
          "nan_count": 0,
          "unique_count": 232
         }
        },
        {
         "dtype": "object",
         "name": "ISO 3166-1 alpha-3"
        },
        {
         "dtype": "int64",
         "name": "Year"
        },
        {
         "dtype": "float64",
         "name": "Total"
        },
        {
         "dtype": "float64",
         "name": "Coal"
        },
        {
         "dtype": "float64",
         "name": "Oil"
        },
        {
         "dtype": "float64",
         "name": "Gas"
        },
        {
         "dtype": "float64",
         "name": "Cement"
        },
        {
         "dtype": "float64",
         "name": "Flaring"
        },
        {
         "dtype": "float64",
         "name": "Other"
        },
        {
         "dtype": "float64",
         "name": "Per Capita"
        },
        {
         "dtype": "int64",
         "name": "_deepnote_index_column"
        }
       ],
       "row_count": 63104,
       "rows": [
        {
         "Cement": "nan",
         "Coal": "nan",
         "Country": "Afghanistan",
         "Flaring": "nan",
         "Gas": "nan",
         "ISO 3166-1 alpha-3": "AFG",
         "Oil": "nan",
         "Other": "nan",
         "Per Capita": "nan",
         "Total": "0.0",
         "Year": "1750",
         "_deepnote_index_column": "0"
        },
        {
         "Cement": "nan",
         "Coal": "nan",
         "Country": "Afghanistan",
         "Flaring": "nan",
         "Gas": "nan",
         "ISO 3166-1 alpha-3": "AFG",
         "Oil": "nan",
         "Other": "nan",
         "Per Capita": "nan",
         "Total": "0.0",
         "Year": "1751",
         "_deepnote_index_column": "1"
        },
        {
         "Cement": "nan",
         "Coal": "nan",
         "Country": "Afghanistan",
         "Flaring": "nan",
         "Gas": "nan",
         "ISO 3166-1 alpha-3": "AFG",
         "Oil": "nan",
         "Other": "nan",
         "Per Capita": "nan",
         "Total": "0.0",
         "Year": "1752",
         "_deepnote_index_column": "2"
        },
        {
         "Cement": "nan",
         "Coal": "nan",
         "Country": "Afghanistan",
         "Flaring": "nan",
         "Gas": "nan",
         "ISO 3166-1 alpha-3": "AFG",
         "Oil": "nan",
         "Other": "nan",
         "Per Capita": "nan",
         "Total": "0.0",
         "Year": "1753",
         "_deepnote_index_column": "3"
        },
        {
         "Cement": "nan",
         "Coal": "nan",
         "Country": "Afghanistan",
         "Flaring": "nan",
         "Gas": "nan",
         "ISO 3166-1 alpha-3": "AFG",
         "Oil": "nan",
         "Other": "nan",
         "Per Capita": "nan",
         "Total": "0.0",
         "Year": "1754",
         "_deepnote_index_column": "4"
        },
        {
         "Cement": "nan",
         "Coal": "nan",
         "Country": "Afghanistan",
         "Flaring": "nan",
         "Gas": "nan",
         "ISO 3166-1 alpha-3": "AFG",
         "Oil": "nan",
         "Other": "nan",
         "Per Capita": "nan",
         "Total": "0.0",
         "Year": "1755",
         "_deepnote_index_column": "5"
        },
        {
         "Cement": "nan",
         "Coal": "nan",
         "Country": "Afghanistan",
         "Flaring": "nan",
         "Gas": "nan",
         "ISO 3166-1 alpha-3": "AFG",
         "Oil": "nan",
         "Other": "nan",
         "Per Capita": "nan",
         "Total": "0.0",
         "Year": "1756",
         "_deepnote_index_column": "6"
        },
        {
         "Cement": "nan",
         "Coal": "nan",
         "Country": "Afghanistan",
         "Flaring": "nan",
         "Gas": "nan",
         "ISO 3166-1 alpha-3": "AFG",
         "Oil": "nan",
         "Other": "nan",
         "Per Capita": "nan",
         "Total": "0.0",
         "Year": "1757",
         "_deepnote_index_column": "7"
        },
        {
         "Cement": "nan",
         "Coal": "nan",
         "Country": "Afghanistan",
         "Flaring": "nan",
         "Gas": "nan",
         "ISO 3166-1 alpha-3": "AFG",
         "Oil": "nan",
         "Other": "nan",
         "Per Capita": "nan",
         "Total": "0.0",
         "Year": "1758",
         "_deepnote_index_column": "8"
        },
        {
         "Cement": "nan",
         "Coal": "nan",
         "Country": "Afghanistan",
         "Flaring": "nan",
         "Gas": "nan",
         "ISO 3166-1 alpha-3": "AFG",
         "Oil": "nan",
         "Other": "nan",
         "Per Capita": "nan",
         "Total": "0.0",
         "Year": "1759",
         "_deepnote_index_column": "9"
        }
       ]
      },
      "text/html": [
       "<div>\n",
       "<style scoped>\n",
       "    .dataframe tbody tr th:only-of-type {\n",
       "        vertical-align: middle;\n",
       "    }\n",
       "\n",
       "    .dataframe tbody tr th {\n",
       "        vertical-align: top;\n",
       "    }\n",
       "\n",
       "    .dataframe thead th {\n",
       "        text-align: right;\n",
       "    }\n",
       "</style>\n",
       "<table border=\"1\" class=\"dataframe\">\n",
       "  <thead>\n",
       "    <tr style=\"text-align: right;\">\n",
       "      <th></th>\n",
       "      <th>Country</th>\n",
       "      <th>ISO 3166-1 alpha-3</th>\n",
       "      <th>Year</th>\n",
       "      <th>Total</th>\n",
       "      <th>Coal</th>\n",
       "      <th>Oil</th>\n",
       "      <th>Gas</th>\n",
       "      <th>Cement</th>\n",
       "      <th>Flaring</th>\n",
       "      <th>Other</th>\n",
       "      <th>Per Capita</th>\n",
       "    </tr>\n",
       "  </thead>\n",
       "  <tbody>\n",
       "    <tr>\n",
       "      <th>0</th>\n",
       "      <td>Afghanistan</td>\n",
       "      <td>AFG</td>\n",
       "      <td>1750</td>\n",
       "      <td>0.000000</td>\n",
       "      <td>NaN</td>\n",
       "      <td>NaN</td>\n",
       "      <td>NaN</td>\n",
       "      <td>NaN</td>\n",
       "      <td>NaN</td>\n",
       "      <td>NaN</td>\n",
       "      <td>NaN</td>\n",
       "    </tr>\n",
       "    <tr>\n",
       "      <th>1</th>\n",
       "      <td>Afghanistan</td>\n",
       "      <td>AFG</td>\n",
       "      <td>1751</td>\n",
       "      <td>0.000000</td>\n",
       "      <td>NaN</td>\n",
       "      <td>NaN</td>\n",
       "      <td>NaN</td>\n",
       "      <td>NaN</td>\n",
       "      <td>NaN</td>\n",
       "      <td>NaN</td>\n",
       "      <td>NaN</td>\n",
       "    </tr>\n",
       "    <tr>\n",
       "      <th>2</th>\n",
       "      <td>Afghanistan</td>\n",
       "      <td>AFG</td>\n",
       "      <td>1752</td>\n",
       "      <td>0.000000</td>\n",
       "      <td>NaN</td>\n",
       "      <td>NaN</td>\n",
       "      <td>NaN</td>\n",
       "      <td>NaN</td>\n",
       "      <td>NaN</td>\n",
       "      <td>NaN</td>\n",
       "      <td>NaN</td>\n",
       "    </tr>\n",
       "    <tr>\n",
       "      <th>3</th>\n",
       "      <td>Afghanistan</td>\n",
       "      <td>AFG</td>\n",
       "      <td>1753</td>\n",
       "      <td>0.000000</td>\n",
       "      <td>NaN</td>\n",
       "      <td>NaN</td>\n",
       "      <td>NaN</td>\n",
       "      <td>NaN</td>\n",
       "      <td>NaN</td>\n",
       "      <td>NaN</td>\n",
       "      <td>NaN</td>\n",
       "    </tr>\n",
       "    <tr>\n",
       "      <th>4</th>\n",
       "      <td>Afghanistan</td>\n",
       "      <td>AFG</td>\n",
       "      <td>1754</td>\n",
       "      <td>0.000000</td>\n",
       "      <td>NaN</td>\n",
       "      <td>NaN</td>\n",
       "      <td>NaN</td>\n",
       "      <td>NaN</td>\n",
       "      <td>NaN</td>\n",
       "      <td>NaN</td>\n",
       "      <td>NaN</td>\n",
       "    </tr>\n",
       "    <tr>\n",
       "      <th>...</th>\n",
       "      <td>...</td>\n",
       "      <td>...</td>\n",
       "      <td>...</td>\n",
       "      <td>...</td>\n",
       "      <td>...</td>\n",
       "      <td>...</td>\n",
       "      <td>...</td>\n",
       "      <td>...</td>\n",
       "      <td>...</td>\n",
       "      <td>...</td>\n",
       "      <td>...</td>\n",
       "    </tr>\n",
       "    <tr>\n",
       "      <th>62555</th>\n",
       "      <td>Zimbabwe</td>\n",
       "      <td>ZWE</td>\n",
       "      <td>2017</td>\n",
       "      <td>9.596071</td>\n",
       "      <td>5.900452</td>\n",
       "      <td>3.226752</td>\n",
       "      <td>0.0</td>\n",
       "      <td>0.468867</td>\n",
       "      <td>0.0</td>\n",
       "      <td>NaN</td>\n",
       "      <td>0.650533</td>\n",
       "    </tr>\n",
       "    <tr>\n",
       "      <th>62556</th>\n",
       "      <td>Zimbabwe</td>\n",
       "      <td>ZWE</td>\n",
       "      <td>2018</td>\n",
       "      <td>11.795478</td>\n",
       "      <td>7.177776</td>\n",
       "      <td>4.059712</td>\n",
       "      <td>0.0</td>\n",
       "      <td>0.557990</td>\n",
       "      <td>0.0</td>\n",
       "      <td>NaN</td>\n",
       "      <td>0.783639</td>\n",
       "    </tr>\n",
       "    <tr>\n",
       "      <th>62557</th>\n",
       "      <td>Zimbabwe</td>\n",
       "      <td>ZWE</td>\n",
       "      <td>2019</td>\n",
       "      <td>11.114607</td>\n",
       "      <td>6.888320</td>\n",
       "      <td>3.656672</td>\n",
       "      <td>0.0</td>\n",
       "      <td>0.569615</td>\n",
       "      <td>0.0</td>\n",
       "      <td>NaN</td>\n",
       "      <td>0.723861</td>\n",
       "    </tr>\n",
       "    <tr>\n",
       "      <th>62558</th>\n",
       "      <td>Zimbabwe</td>\n",
       "      <td>ZWE</td>\n",
       "      <td>2020</td>\n",
       "      <td>10.607897</td>\n",
       "      <td>6.721571</td>\n",
       "      <td>3.316712</td>\n",
       "      <td>0.0</td>\n",
       "      <td>0.569615</td>\n",
       "      <td>0.0</td>\n",
       "      <td>NaN</td>\n",
       "      <td>0.676970</td>\n",
       "    </tr>\n",
       "    <tr>\n",
       "      <th>62559</th>\n",
       "      <td>Zimbabwe</td>\n",
       "      <td>ZWE</td>\n",
       "      <td>2021</td>\n",
       "      <td>11.296114</td>\n",
       "      <td>7.225620</td>\n",
       "      <td>3.500879</td>\n",
       "      <td>0.0</td>\n",
       "      <td>0.569615</td>\n",
       "      <td>0.0</td>\n",
       "      <td>NaN</td>\n",
       "      <td>0.706293</td>\n",
       "    </tr>\n",
       "  </tbody>\n",
       "</table>\n",
       "<p>63104 rows × 11 columns</p>\n",
       "</div>"
      ],
      "text/plain": [
       "           Country ISO 3166-1 alpha-3  Year      Total      Coal       Oil  \\\n",
       "0      Afghanistan                AFG  1750   0.000000       NaN       NaN   \n",
       "1      Afghanistan                AFG  1751   0.000000       NaN       NaN   \n",
       "2      Afghanistan                AFG  1752   0.000000       NaN       NaN   \n",
       "3      Afghanistan                AFG  1753   0.000000       NaN       NaN   \n",
       "4      Afghanistan                AFG  1754   0.000000       NaN       NaN   \n",
       "...            ...                ...   ...        ...       ...       ...   \n",
       "62555     Zimbabwe                ZWE  2017   9.596071  5.900452  3.226752   \n",
       "62556     Zimbabwe                ZWE  2018  11.795478  7.177776  4.059712   \n",
       "62557     Zimbabwe                ZWE  2019  11.114607  6.888320  3.656672   \n",
       "62558     Zimbabwe                ZWE  2020  10.607897  6.721571  3.316712   \n",
       "62559     Zimbabwe                ZWE  2021  11.296114  7.225620  3.500879   \n",
       "\n",
       "       Gas    Cement  Flaring  Other  Per Capita  \n",
       "0      NaN       NaN      NaN    NaN         NaN  \n",
       "1      NaN       NaN      NaN    NaN         NaN  \n",
       "2      NaN       NaN      NaN    NaN         NaN  \n",
       "3      NaN       NaN      NaN    NaN         NaN  \n",
       "4      NaN       NaN      NaN    NaN         NaN  \n",
       "...    ...       ...      ...    ...         ...  \n",
       "62555  0.0  0.468867      0.0    NaN    0.650533  \n",
       "62556  0.0  0.557990      0.0    NaN    0.783639  \n",
       "62557  0.0  0.569615      0.0    NaN    0.723861  \n",
       "62558  0.0  0.569615      0.0    NaN    0.676970  \n",
       "62559  0.0  0.569615      0.0    NaN    0.706293  \n",
       "\n",
       "[63104 rows x 11 columns]"
      ]
     },
     "execution_count": 69,
     "metadata": {},
     "output_type": "execute_result"
    }
   ],
   "source": [
    "# Sorting by two or more columns\n"
   ]
  },
  {
   "cell_type": "markdown",
   "metadata": {
    "cell_id": "776995c68b1c4f35a44827c40102ebf9",
    "deepnote_cell_type": "markdown"
   },
   "source": [
    "## 2.8. Handling Missing Values\n",
    "\n",
    "Missing values are marked as NaN. There are number of methods to deal with missing values in the dataframe.\n",
    "\n",
    "- If all values are missing, the sum will be equal to NaN\n",
    "- Many descriptive statistics methods have skipnaoption to control if missing"
   ]
  },
  {
   "cell_type": "markdown",
   "metadata": {
    "cell_id": "4ff81834522b434898dfa5a90cf4944e",
    "deepnote_cell_type": "markdown"
   },
   "source": [
    "### 2.8.1. Summary"
   ]
  },
  {
   "cell_type": "code",
   "execution_count": 70,
   "metadata": {
    "cell_id": "697cb862ef8a4e3c9e622267bab61b92",
    "deepnote_cell_type": "code",
    "deepnote_to_be_reexecuted": false,
    "execution_millis": 32,
    "execution_start": 1681998676764,
    "source_hash": "e15ba378"
   },
   "outputs": [
    {
     "data": {
      "text/plain": [
       "Country                   0\n",
       "ISO 3166-1 alpha-3     1632\n",
       "Year                      0\n",
       "Total                   200\n",
       "Coal                  41360\n",
       "Oil                   41387\n",
       "Gas                   41486\n",
       "Cement                42290\n",
       "Flaring               41554\n",
       "Other                 61484\n",
       "Per Capita            44130\n",
       "dtype: int64"
      ]
     },
     "execution_count": 70,
     "metadata": {},
     "output_type": "execute_result"
    }
   ],
   "source": [
    "# Show columns that have missing values\n"
   ]
  },
  {
   "cell_type": "markdown",
   "metadata": {
    "cell_id": "49865158af5d4894a0c508f291c62376",
    "deepnote_cell_type": "markdown"
   },
   "source": [
    "### 2.8.2. Methods to deal with missing values\n",
    "\n",
    "![img2](Recursos/missing _val_methods.PNG)"
   ]
  },
  {
   "cell_type": "code",
   "execution_count": 71,
   "metadata": {
    "cell_id": "b47bb09e69d645dfa17328e37999222a",
    "deepnote_cell_type": "code",
    "deepnote_to_be_reexecuted": false,
    "execution_millis": 33,
    "execution_start": 1681998676764,
    "source_hash": "2ba2334d"
   },
   "outputs": [
    {
     "data": {
      "application/vnd.deepnote.dataframe.v3+json": {
       "column_count": 11,
       "columns": [
        {
         "dtype": "object",
         "name": "Country",
         "stats": {
          "categories": [
           {
            "count": 118,
            "name": "USA"
           },
           {
            "count": 62,
            "name": "China"
           },
           {
            "count": 1439,
            "name": "45 others"
           }
          ],
          "nan_count": 0,
          "unique_count": 47
         }
        },
        {
         "dtype": "object",
         "name": "ISO 3166-1 alpha-3",
         "stats": {
          "categories": [
           {
            "count": 118,
            "name": "USA"
           },
           {
            "count": 62,
            "name": "CHN"
           },
           {
            "count": 1439,
            "name": "45 others"
           }
          ],
          "nan_count": 0,
          "unique_count": 47
         }
        },
        {
         "dtype": "int64",
         "name": "Year",
         "stats": {
          "histogram": [
           {
            "bin_end": 1915.7,
            "bin_start": 1904,
            "count": 12
           },
           {
            "bin_end": 1927.4,
            "bin_start": 1915.7,
            "count": 12
           },
           {
            "bin_end": 1939.1,
            "bin_start": 1927.4,
            "count": 12
           },
           {
            "bin_end": 1950.8,
            "bin_start": 1939.1,
            "count": 11
           },
           {
            "bin_end": 1962.5,
            "bin_start": 1950.8,
            "count": 15
           },
           {
            "bin_end": 1974.2,
            "bin_start": 1962.5,
            "count": 24
           },
           {
            "bin_end": 1985.9,
            "bin_start": 1974.2,
            "count": 22
           },
           {
            "bin_end": 1997.6,
            "bin_start": 1985.9,
            "count": 384
           },
           {
            "bin_end": 2009.3,
            "bin_start": 1997.6,
            "count": 564
           },
           {
            "bin_end": 2021,
            "bin_start": 2009.3,
            "count": 563
           }
          ],
          "max": "2021",
          "min": "1904",
          "nan_count": 0,
          "unique_count": 118
         }
        },
        {
         "dtype": "float64",
         "name": "Total",
         "stats": {
          "histogram": [
           {
            "bin_end": 3712.5128316,
            "bin_start": 0.141996,
            "count": 1512
           },
           {
            "bin_end": 7424.883667200001,
            "bin_start": 3712.5128316,
            "count": 61
           },
           {
            "bin_end": 11137.2545028,
            "bin_start": 7424.883667200001,
            "count": 13
           },
           {
            "bin_end": 14849.625338400001,
            "bin_start": 11137.2545028,
            "count": 1
           },
           {
            "bin_end": 18561.996174,
            "bin_start": 14849.625338400001,
            "count": 0
           },
           {
            "bin_end": 22274.3670096,
            "bin_start": 18561.996174,
            "count": 0
           },
           {
            "bin_end": 25986.7378452,
            "bin_start": 22274.3670096,
            "count": 12
           },
           {
            "bin_end": 29699.1086808,
            "bin_start": 25986.7378452,
            "count": 4
           },
           {
            "bin_end": 33411.4795164,
            "bin_start": 29699.1086808,
            "count": 5
           },
           {
            "bin_end": 37123.850352,
            "bin_start": 33411.4795164,
            "count": 11
           }
          ],
          "max": "37123.850352",
          "min": "0.141996",
          "nan_count": 0,
          "unique_count": 1619
         }
        },
        {
         "dtype": "float64",
         "name": "Coal",
         "stats": {
          "histogram": [
           {
            "bin_end": 1505.151277,
            "bin_start": 0,
            "count": 1516
           },
           {
            "bin_end": 3010.302554,
            "bin_start": 1505.151277,
            "count": 51
           },
           {
            "bin_end": 4515.453831,
            "bin_start": 3010.302554,
            "count": 4
           },
           {
            "bin_end": 6020.605108,
            "bin_start": 4515.453831,
            "count": 3
           },
           {
            "bin_end": 7525.756385,
            "bin_start": 6020.605108,
            "count": 10
           },
           {
            "bin_end": 9030.907662,
            "bin_start": 7525.756385,
            "count": 13
           },
           {
            "bin_end": 10536.058938999999,
            "bin_start": 9030.907662,
            "count": 4
           },
           {
            "bin_end": 12041.210216,
            "bin_start": 10536.058938999999,
            "count": 2
           },
           {
            "bin_end": 13546.361493,
            "bin_start": 12041.210216,
            "count": 4
           },
           {
            "bin_end": 15051.51277,
            "bin_start": 13546.361493,
            "count": 12
           }
          ],
          "max": "15051.51277",
          "min": "0.0",
          "nan_count": 0,
          "unique_count": 1585
         }
        },
        {
         "dtype": "float64",
         "name": "Oil",
         "stats": {
          "histogram": [
           {
            "bin_end": 1234.6492993,
            "bin_start": 0.093291,
            "count": 1516
           },
           {
            "bin_end": 2469.2053076,
            "bin_start": 1234.6492993,
            "count": 61
           },
           {
            "bin_end": 3703.7613159,
            "bin_start": 2469.2053076,
            "count": 10
           },
           {
            "bin_end": 4938.3173242,
            "bin_start": 3703.7613159,
            "count": 0
           },
           {
            "bin_end": 6172.8733325,
            "bin_start": 4938.3173242,
            "count": 0
           },
           {
            "bin_end": 7407.4293408,
            "bin_start": 6172.8733325,
            "count": 0
           },
           {
            "bin_end": 8641.9853491,
            "bin_start": 7407.4293408,
            "count": 0
           },
           {
            "bin_end": 9876.5413574,
            "bin_start": 8641.9853491,
            "count": 8
           },
           {
            "bin_end": 11111.0973657,
            "bin_start": 9876.5413574,
            "count": 8
           },
           {
            "bin_end": 12345.653374,
            "bin_start": 11111.0973657,
            "count": 16
           }
          ],
          "max": "12345.653374",
          "min": "0.093291",
          "nan_count": 0,
          "unique_count": 1619
         }
        },
        {
         "dtype": "float64",
         "name": "Gas",
         "stats": {
          "histogram": [
           {
            "bin_end": 792.1829571,
            "bin_start": 1.1e-05,
            "count": 1525
           },
           {
            "bin_end": 1584.3659032,
            "bin_start": 792.1829571,
            "count": 58
           },
           {
            "bin_end": 2376.5488493000003,
            "bin_start": 1584.3659032,
            "count": 4
           },
           {
            "bin_end": 3168.7317954,
            "bin_start": 2376.5488493000003,
            "count": 0
           },
           {
            "bin_end": 3960.9147414999998,
            "bin_start": 3168.7317954,
            "count": 3
           },
           {
            "bin_end": 4753.0976876,
            "bin_start": 3960.9147414999998,
            "count": 8
           },
           {
            "bin_end": 5545.2806337,
            "bin_start": 4753.0976876,
            "count": 6
           },
           {
            "bin_end": 6337.4635798,
            "bin_start": 5545.2806337,
            "count": 4
           },
           {
            "bin_end": 7129.6465259,
            "bin_start": 6337.4635798,
            "count": 6
           },
           {
            "bin_end": 7921.829472,
            "bin_start": 7129.6465259,
            "count": 5
           }
          ],
          "max": "7921.829472",
          "min": "1.1e-05",
          "nan_count": 0,
          "unique_count": 1607
         }
        },
        {
         "dtype": "float64",
         "name": "Cement",
         "stats": {
          "histogram": [
           {
            "bin_end": 167.2592372,
            "bin_start": 0,
            "count": 1560
           },
           {
            "bin_end": 334.5184744,
            "bin_start": 167.2592372,
            "count": 8
           },
           {
            "bin_end": 501.7777116,
            "bin_start": 334.5184744,
            "count": 5
           },
           {
            "bin_end": 669.0369488,
            "bin_start": 501.7777116,
            "count": 12
           },
           {
            "bin_end": 836.296186,
            "bin_start": 669.0369488,
            "count": 13
           },
           {
            "bin_end": 1003.5554232,
            "bin_start": 836.296186,
            "count": 5
           },
           {
            "bin_end": 1170.8146604,
            "bin_start": 1003.5554232,
            "count": 3
           },
           {
            "bin_end": 1338.0738976,
            "bin_start": 1170.8146604,
            "count": 2
           },
           {
            "bin_end": 1505.3331348,
            "bin_start": 1338.0738976,
            "count": 6
           },
           {
            "bin_end": 1672.592372,
            "bin_start": 1505.3331348,
            "count": 5
           }
          ],
          "max": "1672.592372",
          "min": "0.0",
          "nan_count": 0,
          "unique_count": 1513
         }
        },
        {
         "dtype": "float64",
         "name": "Flaring",
         "stats": {
          "histogram": [
           {
            "bin_end": 43.9253991,
            "bin_start": 0,
            "count": 1559
           },
           {
            "bin_end": 87.8507982,
            "bin_start": 43.9253991,
            "count": 27
           },
           {
            "bin_end": 131.7761973,
            "bin_start": 87.8507982,
            "count": 1
           },
           {
            "bin_end": 175.7015964,
            "bin_start": 131.7761973,
            "count": 0
           },
           {
            "bin_end": 219.6269955,
            "bin_start": 175.7015964,
            "count": 0
           },
           {
            "bin_end": 263.5523946,
            "bin_start": 219.6269955,
            "count": 8
           },
           {
            "bin_end": 307.4777937,
            "bin_start": 263.5523946,
            "count": 6
           },
           {
            "bin_end": 351.4031928,
            "bin_start": 307.4777937,
            "count": 3
           },
           {
            "bin_end": 395.3285919,
            "bin_start": 351.4031928,
            "count": 11
           },
           {
            "bin_end": 439.253991,
            "bin_start": 395.3285919,
            "count": 4
           }
          ],
          "max": "439.253991",
          "min": "0.0",
          "nan_count": 0,
          "unique_count": 1293
         }
        },
        {
         "dtype": "float64",
         "name": "Other",
         "stats": {
          "histogram": [
           {
            "bin_end": 30.6638573,
            "bin_start": 0,
            "count": 1527
           },
           {
            "bin_end": 61.3277146,
            "bin_start": 30.6638573,
            "count": 25
           },
           {
            "bin_end": 91.9915719,
            "bin_start": 61.3277146,
            "count": 11
           },
           {
            "bin_end": 122.6554292,
            "bin_start": 91.9915719,
            "count": 12
           },
           {
            "bin_end": 153.3192865,
            "bin_start": 122.6554292,
            "count": 3
           },
           {
            "bin_end": 183.9831438,
            "bin_start": 153.3192865,
            "count": 9
           },
           {
            "bin_end": 214.6470011,
            "bin_start": 183.9831438,
            "count": 1
           },
           {
            "bin_end": 245.3108584,
            "bin_start": 214.6470011,
            "count": 16
           },
           {
            "bin_end": 275.9747157,
            "bin_start": 245.3108584,
            "count": 5
           },
           {
            "bin_end": 306.638573,
            "bin_start": 275.9747157,
            "count": 10
           }
          ],
          "max": "306.638573",
          "min": "0.0",
          "nan_count": 0,
          "unique_count": 1519
         }
        },
        {
         "dtype": "float64",
         "name": "Per Capita",
         "stats": {
          "histogram": [
           {
            "bin_end": 3.7645695000000003,
            "bin_start": 0.60476,
            "count": 133
           },
           {
            "bin_end": 6.924379,
            "bin_start": 3.7645695000000003,
            "count": 515
           },
           {
            "bin_end": 10.084188500000002,
            "bin_start": 6.924379,
            "count": 457
           },
           {
            "bin_end": 13.243998000000001,
            "bin_start": 10.084188500000002,
            "count": 272
           },
           {
            "bin_end": 16.4038075,
            "bin_start": 13.243998000000001,
            "count": 95
           },
           {
            "bin_end": 19.563617,
            "bin_start": 16.4038075,
            "count": 86
           },
           {
            "bin_end": 22.7234265,
            "bin_start": 19.563617,
            "count": 48
           },
           {
            "bin_end": 25.883236,
            "bin_start": 22.7234265,
            "count": 7
           },
           {
            "bin_end": 29.0430455,
            "bin_start": 25.883236,
            "count": 2
           },
           {
            "bin_end": 32.202855,
            "bin_start": 29.0430455,
            "count": 4
           }
          ],
          "max": "32.202855",
          "min": "0.60476",
          "nan_count": 0,
          "unique_count": 1619
         }
        },
        {
         "dtype": "int64",
         "name": "_deepnote_index_column"
        }
       ],
       "row_count": 1619,
       "rows": [
        {
         "Cement": "3.462872",
         "Coal": "141.879819",
         "Country": "Australia",
         "Flaring": "7.272496",
         "Gas": "34.454816",
         "ISO 3166-1 alpha-3": "AUS",
         "Oil": "88.84209",
         "Other": "2.242063",
         "Per Capita": "16.315938",
         "Total": "278.154156",
         "Year": "1990",
         "_deepnote_index_column": "3232"
        },
        {
         "Cement": "3.183033",
         "Coal": "146.08284",
         "Country": "Australia",
         "Flaring": "7.001201",
         "Gas": "32.786243",
         "ISO 3166-1 alpha-3": "AUS",
         "Oil": "88.245572",
         "Other": "2.229622",
         "Per Capita": "16.184767",
         "Total": "279.52851",
         "Year": "1991",
         "_deepnote_index_column": "3233"
        },
        {
         "Cement": "2.923411",
         "Coal": "150.051381",
         "Country": "Australia",
         "Flaring": "7.303701",
         "Gas": "33.970472",
         "ISO 3166-1 alpha-3": "AUS",
         "Oil": "87.916828",
         "Other": "2.359551",
         "Per Capita": "16.293502",
         "Total": "284.525345",
         "Year": "1992",
         "_deepnote_index_column": "3234"
        },
        {
         "Cement": "3.004698",
         "Coal": "150.098575",
         "Country": "Australia",
         "Flaring": "7.136743",
         "Gas": "35.670002",
         "ISO 3166-1 alpha-3": "AUS",
         "Oil": "90.386578",
         "Other": "2.573941",
         "Per Capita": "16.383765",
         "Total": "288.870537",
         "Year": "1993",
         "_deepnote_index_column": "3235"
        },
        {
         "Cement": "3.484276",
         "Coal": "151.376241",
         "Country": "Australia",
         "Flaring": "6.880148",
         "Gas": "37.032005",
         "ISO 3166-1 alpha-3": "AUS",
         "Oil": "91.924087",
         "Other": "2.999795",
         "Per Capita": "16.494706",
         "Total": "293.696553",
         "Year": "1994",
         "_deepnote_index_column": "3236"
        },
        {
         "Cement": "3.35775",
         "Coal": "155.718942",
         "Country": "Australia",
         "Flaring": "7.060714",
         "Gas": "39.830983",
         "ISO 3166-1 alpha-3": "AUS",
         "Oil": "96.126544",
         "Other": "2.908064",
         "Per Capita": "16.941788",
         "Total": "305.002996",
         "Year": "1995",
         "_deepnote_index_column": "3237"
        },
        {
         "Cement": "3.243616",
         "Coal": "160.375191",
         "Country": "Australia",
         "Flaring": "6.761052",
         "Gas": "39.765246",
         "ISO 3166-1 alpha-3": "AUS",
         "Oil": "98.697016",
         "Other": "3.044008",
         "Per Capita": "17.125455",
         "Total": "311.886129",
         "Year": "1996",
         "_deepnote_index_column": "3238"
        },
        {
         "Cement": "3.184589",
         "Coal": "167.670194",
         "Country": "Australia",
         "Flaring": "6.687345",
         "Gas": "41.074314",
         "ISO 3166-1 alpha-3": "AUS",
         "Oil": "98.388038",
         "Other": "3.27815",
         "Per Capita": "17.396973",
         "Total": "320.28263",
         "Year": "1997",
         "_deepnote_index_column": "3239"
        },
        {
         "Cement": "3.475413",
         "Coal": "177.596365",
         "Country": "Australia",
         "Flaring": "6.901959",
         "Gas": "43.488447",
         "ISO 3166-1 alpha-3": "AUS",
         "Oil": "99.146315",
         "Other": "3.46748",
         "Per Capita": "17.959464",
         "Total": "334.075978",
         "Year": "1998",
         "_deepnote_index_column": "3240"
        },
        {
         "Cement": "3.519991",
         "Coal": "183.215379",
         "Country": "Australia",
         "Flaring": "7.165139",
         "Gas": "45.548715",
         "ISO 3166-1 alpha-3": "AUS",
         "Oil": "100.399487",
         "Other": "3.639921",
         "Per Capita": "18.269805",
         "Total": "343.488633",
         "Year": "1999",
         "_deepnote_index_column": "3241"
        }
       ]
      },
      "text/html": [
       "<div>\n",
       "<style scoped>\n",
       "    .dataframe tbody tr th:only-of-type {\n",
       "        vertical-align: middle;\n",
       "    }\n",
       "\n",
       "    .dataframe tbody tr th {\n",
       "        vertical-align: top;\n",
       "    }\n",
       "\n",
       "    .dataframe thead th {\n",
       "        text-align: right;\n",
       "    }\n",
       "</style>\n",
       "<table border=\"1\" class=\"dataframe\">\n",
       "  <thead>\n",
       "    <tr style=\"text-align: right;\">\n",
       "      <th></th>\n",
       "      <th>Country</th>\n",
       "      <th>ISO 3166-1 alpha-3</th>\n",
       "      <th>Year</th>\n",
       "      <th>Total</th>\n",
       "      <th>Coal</th>\n",
       "      <th>Oil</th>\n",
       "      <th>Gas</th>\n",
       "      <th>Cement</th>\n",
       "      <th>Flaring</th>\n",
       "      <th>Other</th>\n",
       "      <th>Per Capita</th>\n",
       "    </tr>\n",
       "  </thead>\n",
       "  <tbody>\n",
       "    <tr>\n",
       "      <th>3232</th>\n",
       "      <td>Australia</td>\n",
       "      <td>AUS</td>\n",
       "      <td>1990</td>\n",
       "      <td>278.154156</td>\n",
       "      <td>141.879819</td>\n",
       "      <td>88.842090</td>\n",
       "      <td>34.454816</td>\n",
       "      <td>3.462872</td>\n",
       "      <td>7.272496</td>\n",
       "      <td>2.242063</td>\n",
       "      <td>16.315938</td>\n",
       "    </tr>\n",
       "    <tr>\n",
       "      <th>3233</th>\n",
       "      <td>Australia</td>\n",
       "      <td>AUS</td>\n",
       "      <td>1991</td>\n",
       "      <td>279.528510</td>\n",
       "      <td>146.082840</td>\n",
       "      <td>88.245572</td>\n",
       "      <td>32.786243</td>\n",
       "      <td>3.183033</td>\n",
       "      <td>7.001201</td>\n",
       "      <td>2.229622</td>\n",
       "      <td>16.184767</td>\n",
       "    </tr>\n",
       "    <tr>\n",
       "      <th>3234</th>\n",
       "      <td>Australia</td>\n",
       "      <td>AUS</td>\n",
       "      <td>1992</td>\n",
       "      <td>284.525345</td>\n",
       "      <td>150.051381</td>\n",
       "      <td>87.916828</td>\n",
       "      <td>33.970472</td>\n",
       "      <td>2.923411</td>\n",
       "      <td>7.303701</td>\n",
       "      <td>2.359551</td>\n",
       "      <td>16.293502</td>\n",
       "    </tr>\n",
       "    <tr>\n",
       "      <th>3235</th>\n",
       "      <td>Australia</td>\n",
       "      <td>AUS</td>\n",
       "      <td>1993</td>\n",
       "      <td>288.870537</td>\n",
       "      <td>150.098575</td>\n",
       "      <td>90.386578</td>\n",
       "      <td>35.670002</td>\n",
       "      <td>3.004698</td>\n",
       "      <td>7.136743</td>\n",
       "      <td>2.573941</td>\n",
       "      <td>16.383765</td>\n",
       "    </tr>\n",
       "    <tr>\n",
       "      <th>3236</th>\n",
       "      <td>Australia</td>\n",
       "      <td>AUS</td>\n",
       "      <td>1994</td>\n",
       "      <td>293.696553</td>\n",
       "      <td>151.376241</td>\n",
       "      <td>91.924087</td>\n",
       "      <td>37.032005</td>\n",
       "      <td>3.484276</td>\n",
       "      <td>6.880148</td>\n",
       "      <td>2.999795</td>\n",
       "      <td>16.494706</td>\n",
       "    </tr>\n",
       "    <tr>\n",
       "      <th>...</th>\n",
       "      <td>...</td>\n",
       "      <td>...</td>\n",
       "      <td>...</td>\n",
       "      <td>...</td>\n",
       "      <td>...</td>\n",
       "      <td>...</td>\n",
       "      <td>...</td>\n",
       "      <td>...</td>\n",
       "      <td>...</td>\n",
       "      <td>...</td>\n",
       "      <td>...</td>\n",
       "    </tr>\n",
       "    <tr>\n",
       "      <th>63099</th>\n",
       "      <td>Global</td>\n",
       "      <td>WLD</td>\n",
       "      <td>2017</td>\n",
       "      <td>36096.739276</td>\n",
       "      <td>14506.973805</td>\n",
       "      <td>12242.627935</td>\n",
       "      <td>7144.928128</td>\n",
       "      <td>1507.923185</td>\n",
       "      <td>391.992176</td>\n",
       "      <td>302.294047</td>\n",
       "      <td>4.749682</td>\n",
       "    </tr>\n",
       "    <tr>\n",
       "      <th>63100</th>\n",
       "      <td>Global</td>\n",
       "      <td>WLD</td>\n",
       "      <td>2018</td>\n",
       "      <td>36826.506600</td>\n",
       "      <td>14746.830688</td>\n",
       "      <td>12266.016285</td>\n",
       "      <td>7529.846784</td>\n",
       "      <td>1569.218392</td>\n",
       "      <td>412.115746</td>\n",
       "      <td>302.478706</td>\n",
       "      <td>4.792753</td>\n",
       "    </tr>\n",
       "    <tr>\n",
       "      <th>63101</th>\n",
       "      <td>Global</td>\n",
       "      <td>WLD</td>\n",
       "      <td>2019</td>\n",
       "      <td>37082.558969</td>\n",
       "      <td>14725.978025</td>\n",
       "      <td>12345.653374</td>\n",
       "      <td>7647.528220</td>\n",
       "      <td>1617.506786</td>\n",
       "      <td>439.253991</td>\n",
       "      <td>306.638573</td>\n",
       "      <td>4.775633</td>\n",
       "    </tr>\n",
       "    <tr>\n",
       "      <th>63102</th>\n",
       "      <td>Global</td>\n",
       "      <td>WLD</td>\n",
       "      <td>2020</td>\n",
       "      <td>35264.085734</td>\n",
       "      <td>14174.564010</td>\n",
       "      <td>11191.808551</td>\n",
       "      <td>7556.290283</td>\n",
       "      <td>1637.537532</td>\n",
       "      <td>407.583673</td>\n",
       "      <td>296.301685</td>\n",
       "      <td>4.497423</td>\n",
       "    </tr>\n",
       "    <tr>\n",
       "      <th>63103</th>\n",
       "      <td>Global</td>\n",
       "      <td>WLD</td>\n",
       "      <td>2021</td>\n",
       "      <td>37123.850352</td>\n",
       "      <td>14979.598083</td>\n",
       "      <td>11837.159116</td>\n",
       "      <td>7921.829472</td>\n",
       "      <td>1672.592372</td>\n",
       "      <td>416.525563</td>\n",
       "      <td>296.145746</td>\n",
       "      <td>4.693699</td>\n",
       "    </tr>\n",
       "  </tbody>\n",
       "</table>\n",
       "<p>1619 rows × 11 columns</p>\n",
       "</div>"
      ],
      "text/plain": [
       "         Country ISO 3166-1 alpha-3  Year         Total          Coal  \\\n",
       "3232   Australia                AUS  1990    278.154156    141.879819   \n",
       "3233   Australia                AUS  1991    279.528510    146.082840   \n",
       "3234   Australia                AUS  1992    284.525345    150.051381   \n",
       "3235   Australia                AUS  1993    288.870537    150.098575   \n",
       "3236   Australia                AUS  1994    293.696553    151.376241   \n",
       "...          ...                ...   ...           ...           ...   \n",
       "63099     Global                WLD  2017  36096.739276  14506.973805   \n",
       "63100     Global                WLD  2018  36826.506600  14746.830688   \n",
       "63101     Global                WLD  2019  37082.558969  14725.978025   \n",
       "63102     Global                WLD  2020  35264.085734  14174.564010   \n",
       "63103     Global                WLD  2021  37123.850352  14979.598083   \n",
       "\n",
       "                Oil          Gas       Cement     Flaring       Other  \\\n",
       "3232      88.842090    34.454816     3.462872    7.272496    2.242063   \n",
       "3233      88.245572    32.786243     3.183033    7.001201    2.229622   \n",
       "3234      87.916828    33.970472     2.923411    7.303701    2.359551   \n",
       "3235      90.386578    35.670002     3.004698    7.136743    2.573941   \n",
       "3236      91.924087    37.032005     3.484276    6.880148    2.999795   \n",
       "...             ...          ...          ...         ...         ...   \n",
       "63099  12242.627935  7144.928128  1507.923185  391.992176  302.294047   \n",
       "63100  12266.016285  7529.846784  1569.218392  412.115746  302.478706   \n",
       "63101  12345.653374  7647.528220  1617.506786  439.253991  306.638573   \n",
       "63102  11191.808551  7556.290283  1637.537532  407.583673  296.301685   \n",
       "63103  11837.159116  7921.829472  1672.592372  416.525563  296.145746   \n",
       "\n",
       "       Per Capita  \n",
       "3232    16.315938  \n",
       "3233    16.184767  \n",
       "3234    16.293502  \n",
       "3235    16.383765  \n",
       "3236    16.494706  \n",
       "...           ...  \n",
       "63099    4.749682  \n",
       "63100    4.792753  \n",
       "63101    4.775633  \n",
       "63102    4.497423  \n",
       "63103    4.693699  \n",
       "\n",
       "[1619 rows x 11 columns]"
      ]
     },
     "execution_count": 71,
     "metadata": {},
     "output_type": "execute_result"
    }
   ],
   "source": [
    "# Example with dropna()\n"
   ]
  },
  {
   "cell_type": "code",
   "execution_count": 72,
   "metadata": {
    "cell_id": "90d4da2c45b04436bf07bec615293d80",
    "deepnote_cell_type": "code",
    "deepnote_to_be_reexecuted": false,
    "execution_millis": 40,
    "execution_start": 1681998676763,
    "source_hash": "8ab78ab7"
   },
   "outputs": [
    {
     "data": {
      "application/vnd.deepnote.dataframe.v3+json": {
       "column_count": 11,
       "columns": [
        {
         "dtype": "object",
         "name": "Country",
         "stats": {
          "categories": [
           {
            "count": 272,
            "name": "Afghanistan"
           },
           {
            "count": 272,
            "name": "Albania"
           },
           {
            "count": 62560,
            "name": "230 others"
           }
          ],
          "nan_count": 0,
          "unique_count": 232
         }
        },
        {
         "dtype": "object",
         "name": "ISO 3166-1 alpha-3"
        },
        {
         "dtype": "int64",
         "name": "Year"
        },
        {
         "dtype": "float64",
         "name": "Total"
        },
        {
         "dtype": "float64",
         "name": "Coal"
        },
        {
         "dtype": "float64",
         "name": "Oil"
        },
        {
         "dtype": "float64",
         "name": "Gas"
        },
        {
         "dtype": "float64",
         "name": "Cement"
        },
        {
         "dtype": "float64",
         "name": "Flaring"
        },
        {
         "dtype": "float64",
         "name": "Other"
        },
        {
         "dtype": "float64",
         "name": "Per Capita"
        },
        {
         "dtype": "int64",
         "name": "_deepnote_index_column"
        }
       ],
       "row_count": 63104,
       "rows": [
        {
         "Cement": "0.0",
         "Coal": "0.0",
         "Country": "Afghanistan",
         "Flaring": "0.0",
         "Gas": "0.0",
         "ISO 3166-1 alpha-3": "AFG",
         "Oil": "0.0",
         "Other": "0.0",
         "Per Capita": "0.0",
         "Total": "0.0",
         "Year": "1750",
         "_deepnote_index_column": "0"
        },
        {
         "Cement": "0.0",
         "Coal": "0.0",
         "Country": "Afghanistan",
         "Flaring": "0.0",
         "Gas": "0.0",
         "ISO 3166-1 alpha-3": "AFG",
         "Oil": "0.0",
         "Other": "0.0",
         "Per Capita": "0.0",
         "Total": "0.0",
         "Year": "1751",
         "_deepnote_index_column": "1"
        },
        {
         "Cement": "0.0",
         "Coal": "0.0",
         "Country": "Afghanistan",
         "Flaring": "0.0",
         "Gas": "0.0",
         "ISO 3166-1 alpha-3": "AFG",
         "Oil": "0.0",
         "Other": "0.0",
         "Per Capita": "0.0",
         "Total": "0.0",
         "Year": "1752",
         "_deepnote_index_column": "2"
        },
        {
         "Cement": "0.0",
         "Coal": "0.0",
         "Country": "Afghanistan",
         "Flaring": "0.0",
         "Gas": "0.0",
         "ISO 3166-1 alpha-3": "AFG",
         "Oil": "0.0",
         "Other": "0.0",
         "Per Capita": "0.0",
         "Total": "0.0",
         "Year": "1753",
         "_deepnote_index_column": "3"
        },
        {
         "Cement": "0.0",
         "Coal": "0.0",
         "Country": "Afghanistan",
         "Flaring": "0.0",
         "Gas": "0.0",
         "ISO 3166-1 alpha-3": "AFG",
         "Oil": "0.0",
         "Other": "0.0",
         "Per Capita": "0.0",
         "Total": "0.0",
         "Year": "1754",
         "_deepnote_index_column": "4"
        },
        {
         "Cement": "0.0",
         "Coal": "0.0",
         "Country": "Afghanistan",
         "Flaring": "0.0",
         "Gas": "0.0",
         "ISO 3166-1 alpha-3": "AFG",
         "Oil": "0.0",
         "Other": "0.0",
         "Per Capita": "0.0",
         "Total": "0.0",
         "Year": "1755",
         "_deepnote_index_column": "5"
        },
        {
         "Cement": "0.0",
         "Coal": "0.0",
         "Country": "Afghanistan",
         "Flaring": "0.0",
         "Gas": "0.0",
         "ISO 3166-1 alpha-3": "AFG",
         "Oil": "0.0",
         "Other": "0.0",
         "Per Capita": "0.0",
         "Total": "0.0",
         "Year": "1756",
         "_deepnote_index_column": "6"
        },
        {
         "Cement": "0.0",
         "Coal": "0.0",
         "Country": "Afghanistan",
         "Flaring": "0.0",
         "Gas": "0.0",
         "ISO 3166-1 alpha-3": "AFG",
         "Oil": "0.0",
         "Other": "0.0",
         "Per Capita": "0.0",
         "Total": "0.0",
         "Year": "1757",
         "_deepnote_index_column": "7"
        },
        {
         "Cement": "0.0",
         "Coal": "0.0",
         "Country": "Afghanistan",
         "Flaring": "0.0",
         "Gas": "0.0",
         "ISO 3166-1 alpha-3": "AFG",
         "Oil": "0.0",
         "Other": "0.0",
         "Per Capita": "0.0",
         "Total": "0.0",
         "Year": "1758",
         "_deepnote_index_column": "8"
        },
        {
         "Cement": "0.0",
         "Coal": "0.0",
         "Country": "Afghanistan",
         "Flaring": "0.0",
         "Gas": "0.0",
         "ISO 3166-1 alpha-3": "AFG",
         "Oil": "0.0",
         "Other": "0.0",
         "Per Capita": "0.0",
         "Total": "0.0",
         "Year": "1759",
         "_deepnote_index_column": "9"
        }
       ]
      },
      "text/html": [
       "<div>\n",
       "<style scoped>\n",
       "    .dataframe tbody tr th:only-of-type {\n",
       "        vertical-align: middle;\n",
       "    }\n",
       "\n",
       "    .dataframe tbody tr th {\n",
       "        vertical-align: top;\n",
       "    }\n",
       "\n",
       "    .dataframe thead th {\n",
       "        text-align: right;\n",
       "    }\n",
       "</style>\n",
       "<table border=\"1\" class=\"dataframe\">\n",
       "  <thead>\n",
       "    <tr style=\"text-align: right;\">\n",
       "      <th></th>\n",
       "      <th>Country</th>\n",
       "      <th>ISO 3166-1 alpha-3</th>\n",
       "      <th>Year</th>\n",
       "      <th>Total</th>\n",
       "      <th>Coal</th>\n",
       "      <th>Oil</th>\n",
       "      <th>Gas</th>\n",
       "      <th>Cement</th>\n",
       "      <th>Flaring</th>\n",
       "      <th>Other</th>\n",
       "      <th>Per Capita</th>\n",
       "    </tr>\n",
       "  </thead>\n",
       "  <tbody>\n",
       "    <tr>\n",
       "      <th>0</th>\n",
       "      <td>Afghanistan</td>\n",
       "      <td>AFG</td>\n",
       "      <td>1750</td>\n",
       "      <td>0.000000</td>\n",
       "      <td>0.000000</td>\n",
       "      <td>0.000000</td>\n",
       "      <td>0.000000</td>\n",
       "      <td>0.000000</td>\n",
       "      <td>0.000000</td>\n",
       "      <td>0.000000</td>\n",
       "      <td>0.000000</td>\n",
       "    </tr>\n",
       "    <tr>\n",
       "      <th>1</th>\n",
       "      <td>Afghanistan</td>\n",
       "      <td>AFG</td>\n",
       "      <td>1751</td>\n",
       "      <td>0.000000</td>\n",
       "      <td>0.000000</td>\n",
       "      <td>0.000000</td>\n",
       "      <td>0.000000</td>\n",
       "      <td>0.000000</td>\n",
       "      <td>0.000000</td>\n",
       "      <td>0.000000</td>\n",
       "      <td>0.000000</td>\n",
       "    </tr>\n",
       "    <tr>\n",
       "      <th>2</th>\n",
       "      <td>Afghanistan</td>\n",
       "      <td>AFG</td>\n",
       "      <td>1752</td>\n",
       "      <td>0.000000</td>\n",
       "      <td>0.000000</td>\n",
       "      <td>0.000000</td>\n",
       "      <td>0.000000</td>\n",
       "      <td>0.000000</td>\n",
       "      <td>0.000000</td>\n",
       "      <td>0.000000</td>\n",
       "      <td>0.000000</td>\n",
       "    </tr>\n",
       "    <tr>\n",
       "      <th>3</th>\n",
       "      <td>Afghanistan</td>\n",
       "      <td>AFG</td>\n",
       "      <td>1753</td>\n",
       "      <td>0.000000</td>\n",
       "      <td>0.000000</td>\n",
       "      <td>0.000000</td>\n",
       "      <td>0.000000</td>\n",
       "      <td>0.000000</td>\n",
       "      <td>0.000000</td>\n",
       "      <td>0.000000</td>\n",
       "      <td>0.000000</td>\n",
       "    </tr>\n",
       "    <tr>\n",
       "      <th>4</th>\n",
       "      <td>Afghanistan</td>\n",
       "      <td>AFG</td>\n",
       "      <td>1754</td>\n",
       "      <td>0.000000</td>\n",
       "      <td>0.000000</td>\n",
       "      <td>0.000000</td>\n",
       "      <td>0.000000</td>\n",
       "      <td>0.000000</td>\n",
       "      <td>0.000000</td>\n",
       "      <td>0.000000</td>\n",
       "      <td>0.000000</td>\n",
       "    </tr>\n",
       "    <tr>\n",
       "      <th>...</th>\n",
       "      <td>...</td>\n",
       "      <td>...</td>\n",
       "      <td>...</td>\n",
       "      <td>...</td>\n",
       "      <td>...</td>\n",
       "      <td>...</td>\n",
       "      <td>...</td>\n",
       "      <td>...</td>\n",
       "      <td>...</td>\n",
       "      <td>...</td>\n",
       "      <td>...</td>\n",
       "    </tr>\n",
       "    <tr>\n",
       "      <th>63099</th>\n",
       "      <td>Global</td>\n",
       "      <td>WLD</td>\n",
       "      <td>2017</td>\n",
       "      <td>36096.739276</td>\n",
       "      <td>14506.973805</td>\n",
       "      <td>12242.627935</td>\n",
       "      <td>7144.928128</td>\n",
       "      <td>1507.923185</td>\n",
       "      <td>391.992176</td>\n",
       "      <td>302.294047</td>\n",
       "      <td>4.749682</td>\n",
       "    </tr>\n",
       "    <tr>\n",
       "      <th>63100</th>\n",
       "      <td>Global</td>\n",
       "      <td>WLD</td>\n",
       "      <td>2018</td>\n",
       "      <td>36826.506600</td>\n",
       "      <td>14746.830688</td>\n",
       "      <td>12266.016285</td>\n",
       "      <td>7529.846784</td>\n",
       "      <td>1569.218392</td>\n",
       "      <td>412.115746</td>\n",
       "      <td>302.478706</td>\n",
       "      <td>4.792753</td>\n",
       "    </tr>\n",
       "    <tr>\n",
       "      <th>63101</th>\n",
       "      <td>Global</td>\n",
       "      <td>WLD</td>\n",
       "      <td>2019</td>\n",
       "      <td>37082.558969</td>\n",
       "      <td>14725.978025</td>\n",
       "      <td>12345.653374</td>\n",
       "      <td>7647.528220</td>\n",
       "      <td>1617.506786</td>\n",
       "      <td>439.253991</td>\n",
       "      <td>306.638573</td>\n",
       "      <td>4.775633</td>\n",
       "    </tr>\n",
       "    <tr>\n",
       "      <th>63102</th>\n",
       "      <td>Global</td>\n",
       "      <td>WLD</td>\n",
       "      <td>2020</td>\n",
       "      <td>35264.085734</td>\n",
       "      <td>14174.564010</td>\n",
       "      <td>11191.808551</td>\n",
       "      <td>7556.290283</td>\n",
       "      <td>1637.537532</td>\n",
       "      <td>407.583673</td>\n",
       "      <td>296.301685</td>\n",
       "      <td>4.497423</td>\n",
       "    </tr>\n",
       "    <tr>\n",
       "      <th>63103</th>\n",
       "      <td>Global</td>\n",
       "      <td>WLD</td>\n",
       "      <td>2021</td>\n",
       "      <td>37123.850352</td>\n",
       "      <td>14979.598083</td>\n",
       "      <td>11837.159116</td>\n",
       "      <td>7921.829472</td>\n",
       "      <td>1672.592372</td>\n",
       "      <td>416.525563</td>\n",
       "      <td>296.145746</td>\n",
       "      <td>4.693699</td>\n",
       "    </tr>\n",
       "  </tbody>\n",
       "</table>\n",
       "<p>63104 rows × 11 columns</p>\n",
       "</div>"
      ],
      "text/plain": [
       "           Country ISO 3166-1 alpha-3  Year         Total          Coal  \\\n",
       "0      Afghanistan                AFG  1750      0.000000      0.000000   \n",
       "1      Afghanistan                AFG  1751      0.000000      0.000000   \n",
       "2      Afghanistan                AFG  1752      0.000000      0.000000   \n",
       "3      Afghanistan                AFG  1753      0.000000      0.000000   \n",
       "4      Afghanistan                AFG  1754      0.000000      0.000000   \n",
       "...            ...                ...   ...           ...           ...   \n",
       "63099       Global                WLD  2017  36096.739276  14506.973805   \n",
       "63100       Global                WLD  2018  36826.506600  14746.830688   \n",
       "63101       Global                WLD  2019  37082.558969  14725.978025   \n",
       "63102       Global                WLD  2020  35264.085734  14174.564010   \n",
       "63103       Global                WLD  2021  37123.850352  14979.598083   \n",
       "\n",
       "                Oil          Gas       Cement     Flaring       Other  \\\n",
       "0          0.000000     0.000000     0.000000    0.000000    0.000000   \n",
       "1          0.000000     0.000000     0.000000    0.000000    0.000000   \n",
       "2          0.000000     0.000000     0.000000    0.000000    0.000000   \n",
       "3          0.000000     0.000000     0.000000    0.000000    0.000000   \n",
       "4          0.000000     0.000000     0.000000    0.000000    0.000000   \n",
       "...             ...          ...          ...         ...         ...   \n",
       "63099  12242.627935  7144.928128  1507.923185  391.992176  302.294047   \n",
       "63100  12266.016285  7529.846784  1569.218392  412.115746  302.478706   \n",
       "63101  12345.653374  7647.528220  1617.506786  439.253991  306.638573   \n",
       "63102  11191.808551  7556.290283  1637.537532  407.583673  296.301685   \n",
       "63103  11837.159116  7921.829472  1672.592372  416.525563  296.145746   \n",
       "\n",
       "       Per Capita  \n",
       "0        0.000000  \n",
       "1        0.000000  \n",
       "2        0.000000  \n",
       "3        0.000000  \n",
       "4        0.000000  \n",
       "...           ...  \n",
       "63099    4.749682  \n",
       "63100    4.792753  \n",
       "63101    4.775633  \n",
       "63102    4.497423  \n",
       "63103    4.693699  \n",
       "\n",
       "[63104 rows x 11 columns]"
      ]
     },
     "execution_count": 72,
     "metadata": {},
     "output_type": "execute_result"
    }
   ],
   "source": [
    "# Example with fillna()\n"
   ]
  },
  {
   "cell_type": "code",
   "execution_count": 73,
   "metadata": {
    "cell_id": "a94696480c0d4ab1bbed9347ed4194be",
    "deepnote_cell_type": "code",
    "deepnote_to_be_reexecuted": false,
    "execution_millis": 18,
    "execution_start": 1681998676786,
    "source_hash": "4dca78ce"
   },
   "outputs": [
    {
     "data": {
      "application/vnd.deepnote.dataframe.v3+json": {
       "column_count": 11,
       "columns": [
        {
         "dtype": "object",
         "name": "Country",
         "stats": {
          "categories": [
           {
            "count": 272,
            "name": "Afghanistan"
           },
           {
            "count": 272,
            "name": "Albania"
           },
           {
            "count": 62560,
            "name": "230 others"
           }
          ],
          "nan_count": 0,
          "unique_count": 232
         }
        },
        {
         "dtype": "object",
         "name": "ISO 3166-1 alpha-3"
        },
        {
         "dtype": "int64",
         "name": "Year"
        },
        {
         "dtype": "float64",
         "name": "Total"
        },
        {
         "dtype": "float64",
         "name": "Coal"
        },
        {
         "dtype": "float64",
         "name": "Oil"
        },
        {
         "dtype": "float64",
         "name": "Gas"
        },
        {
         "dtype": "float64",
         "name": "Cement"
        },
        {
         "dtype": "float64",
         "name": "Flaring"
        },
        {
         "dtype": "float64",
         "name": "Other"
        },
        {
         "dtype": "float64",
         "name": "Per Capita"
        },
        {
         "dtype": "int64",
         "name": "_deepnote_index_column"
        }
       ],
       "row_count": 63104,
       "rows": [
        {
         "Cement": "nan",
         "Coal": "nan",
         "Country": "Afghanistan",
         "Flaring": "nan",
         "Gas": "nan",
         "ISO 3166-1 alpha-3": "AFG",
         "Oil": "nan",
         "Other": "nan",
         "Per Capita": "nan",
         "Total": "0.0",
         "Year": "1750",
         "_deepnote_index_column": "0"
        },
        {
         "Cement": "nan",
         "Coal": "nan",
         "Country": "Afghanistan",
         "Flaring": "nan",
         "Gas": "nan",
         "ISO 3166-1 alpha-3": "AFG",
         "Oil": "nan",
         "Other": "nan",
         "Per Capita": "nan",
         "Total": "0.0",
         "Year": "1751",
         "_deepnote_index_column": "1"
        },
        {
         "Cement": "nan",
         "Coal": "nan",
         "Country": "Afghanistan",
         "Flaring": "nan",
         "Gas": "nan",
         "ISO 3166-1 alpha-3": "AFG",
         "Oil": "nan",
         "Other": "nan",
         "Per Capita": "nan",
         "Total": "0.0",
         "Year": "1752",
         "_deepnote_index_column": "2"
        },
        {
         "Cement": "nan",
         "Coal": "nan",
         "Country": "Afghanistan",
         "Flaring": "nan",
         "Gas": "nan",
         "ISO 3166-1 alpha-3": "AFG",
         "Oil": "nan",
         "Other": "nan",
         "Per Capita": "nan",
         "Total": "0.0",
         "Year": "1753",
         "_deepnote_index_column": "3"
        },
        {
         "Cement": "nan",
         "Coal": "nan",
         "Country": "Afghanistan",
         "Flaring": "nan",
         "Gas": "nan",
         "ISO 3166-1 alpha-3": "AFG",
         "Oil": "nan",
         "Other": "nan",
         "Per Capita": "nan",
         "Total": "0.0",
         "Year": "1754",
         "_deepnote_index_column": "4"
        },
        {
         "Cement": "nan",
         "Coal": "nan",
         "Country": "Afghanistan",
         "Flaring": "nan",
         "Gas": "nan",
         "ISO 3166-1 alpha-3": "AFG",
         "Oil": "nan",
         "Other": "nan",
         "Per Capita": "nan",
         "Total": "0.0",
         "Year": "1755",
         "_deepnote_index_column": "5"
        },
        {
         "Cement": "nan",
         "Coal": "nan",
         "Country": "Afghanistan",
         "Flaring": "nan",
         "Gas": "nan",
         "ISO 3166-1 alpha-3": "AFG",
         "Oil": "nan",
         "Other": "nan",
         "Per Capita": "nan",
         "Total": "0.0",
         "Year": "1756",
         "_deepnote_index_column": "6"
        },
        {
         "Cement": "nan",
         "Coal": "nan",
         "Country": "Afghanistan",
         "Flaring": "nan",
         "Gas": "nan",
         "ISO 3166-1 alpha-3": "AFG",
         "Oil": "nan",
         "Other": "nan",
         "Per Capita": "nan",
         "Total": "0.0",
         "Year": "1757",
         "_deepnote_index_column": "7"
        },
        {
         "Cement": "nan",
         "Coal": "nan",
         "Country": "Afghanistan",
         "Flaring": "nan",
         "Gas": "nan",
         "ISO 3166-1 alpha-3": "AFG",
         "Oil": "nan",
         "Other": "nan",
         "Per Capita": "nan",
         "Total": "0.0",
         "Year": "1758",
         "_deepnote_index_column": "8"
        },
        {
         "Cement": "nan",
         "Coal": "nan",
         "Country": "Afghanistan",
         "Flaring": "nan",
         "Gas": "nan",
         "ISO 3166-1 alpha-3": "AFG",
         "Oil": "nan",
         "Other": "nan",
         "Per Capita": "nan",
         "Total": "0.0",
         "Year": "1759",
         "_deepnote_index_column": "9"
        }
       ]
      },
      "text/html": [
       "<div>\n",
       "<style scoped>\n",
       "    .dataframe tbody tr th:only-of-type {\n",
       "        vertical-align: middle;\n",
       "    }\n",
       "\n",
       "    .dataframe tbody tr th {\n",
       "        vertical-align: top;\n",
       "    }\n",
       "\n",
       "    .dataframe thead th {\n",
       "        text-align: right;\n",
       "    }\n",
       "</style>\n",
       "<table border=\"1\" class=\"dataframe\">\n",
       "  <thead>\n",
       "    <tr style=\"text-align: right;\">\n",
       "      <th></th>\n",
       "      <th>Country</th>\n",
       "      <th>ISO 3166-1 alpha-3</th>\n",
       "      <th>Year</th>\n",
       "      <th>Total</th>\n",
       "      <th>Coal</th>\n",
       "      <th>Oil</th>\n",
       "      <th>Gas</th>\n",
       "      <th>Cement</th>\n",
       "      <th>Flaring</th>\n",
       "      <th>Other</th>\n",
       "      <th>Per Capita</th>\n",
       "    </tr>\n",
       "  </thead>\n",
       "  <tbody>\n",
       "    <tr>\n",
       "      <th>0</th>\n",
       "      <td>Afghanistan</td>\n",
       "      <td>AFG</td>\n",
       "      <td>1750</td>\n",
       "      <td>0.000000</td>\n",
       "      <td>NaN</td>\n",
       "      <td>NaN</td>\n",
       "      <td>NaN</td>\n",
       "      <td>NaN</td>\n",
       "      <td>NaN</td>\n",
       "      <td>NaN</td>\n",
       "      <td>NaN</td>\n",
       "    </tr>\n",
       "    <tr>\n",
       "      <th>1</th>\n",
       "      <td>Afghanistan</td>\n",
       "      <td>AFG</td>\n",
       "      <td>1751</td>\n",
       "      <td>0.000000</td>\n",
       "      <td>NaN</td>\n",
       "      <td>NaN</td>\n",
       "      <td>NaN</td>\n",
       "      <td>NaN</td>\n",
       "      <td>NaN</td>\n",
       "      <td>NaN</td>\n",
       "      <td>NaN</td>\n",
       "    </tr>\n",
       "    <tr>\n",
       "      <th>2</th>\n",
       "      <td>Afghanistan</td>\n",
       "      <td>AFG</td>\n",
       "      <td>1752</td>\n",
       "      <td>0.000000</td>\n",
       "      <td>NaN</td>\n",
       "      <td>NaN</td>\n",
       "      <td>NaN</td>\n",
       "      <td>NaN</td>\n",
       "      <td>NaN</td>\n",
       "      <td>NaN</td>\n",
       "      <td>NaN</td>\n",
       "    </tr>\n",
       "    <tr>\n",
       "      <th>3</th>\n",
       "      <td>Afghanistan</td>\n",
       "      <td>AFG</td>\n",
       "      <td>1753</td>\n",
       "      <td>0.000000</td>\n",
       "      <td>NaN</td>\n",
       "      <td>NaN</td>\n",
       "      <td>NaN</td>\n",
       "      <td>NaN</td>\n",
       "      <td>NaN</td>\n",
       "      <td>NaN</td>\n",
       "      <td>NaN</td>\n",
       "    </tr>\n",
       "    <tr>\n",
       "      <th>4</th>\n",
       "      <td>Afghanistan</td>\n",
       "      <td>AFG</td>\n",
       "      <td>1754</td>\n",
       "      <td>0.000000</td>\n",
       "      <td>NaN</td>\n",
       "      <td>NaN</td>\n",
       "      <td>NaN</td>\n",
       "      <td>NaN</td>\n",
       "      <td>NaN</td>\n",
       "      <td>NaN</td>\n",
       "      <td>NaN</td>\n",
       "    </tr>\n",
       "    <tr>\n",
       "      <th>...</th>\n",
       "      <td>...</td>\n",
       "      <td>...</td>\n",
       "      <td>...</td>\n",
       "      <td>...</td>\n",
       "      <td>...</td>\n",
       "      <td>...</td>\n",
       "      <td>...</td>\n",
       "      <td>...</td>\n",
       "      <td>...</td>\n",
       "      <td>...</td>\n",
       "      <td>...</td>\n",
       "    </tr>\n",
       "    <tr>\n",
       "      <th>63099</th>\n",
       "      <td>Global</td>\n",
       "      <td>WLD</td>\n",
       "      <td>2017</td>\n",
       "      <td>36096.739276</td>\n",
       "      <td>14506.973805</td>\n",
       "      <td>12242.627935</td>\n",
       "      <td>7144.928128</td>\n",
       "      <td>1507.923185</td>\n",
       "      <td>391.992176</td>\n",
       "      <td>302.294047</td>\n",
       "      <td>4.749682</td>\n",
       "    </tr>\n",
       "    <tr>\n",
       "      <th>63100</th>\n",
       "      <td>Global</td>\n",
       "      <td>WLD</td>\n",
       "      <td>2018</td>\n",
       "      <td>36826.506600</td>\n",
       "      <td>14746.830688</td>\n",
       "      <td>12266.016285</td>\n",
       "      <td>7529.846784</td>\n",
       "      <td>1569.218392</td>\n",
       "      <td>412.115746</td>\n",
       "      <td>302.478706</td>\n",
       "      <td>4.792753</td>\n",
       "    </tr>\n",
       "    <tr>\n",
       "      <th>63101</th>\n",
       "      <td>Global</td>\n",
       "      <td>WLD</td>\n",
       "      <td>2019</td>\n",
       "      <td>37082.558969</td>\n",
       "      <td>14725.978025</td>\n",
       "      <td>12345.653374</td>\n",
       "      <td>7647.528220</td>\n",
       "      <td>1617.506786</td>\n",
       "      <td>439.253991</td>\n",
       "      <td>306.638573</td>\n",
       "      <td>4.775633</td>\n",
       "    </tr>\n",
       "    <tr>\n",
       "      <th>63102</th>\n",
       "      <td>Global</td>\n",
       "      <td>WLD</td>\n",
       "      <td>2020</td>\n",
       "      <td>35264.085734</td>\n",
       "      <td>14174.564010</td>\n",
       "      <td>11191.808551</td>\n",
       "      <td>7556.290283</td>\n",
       "      <td>1637.537532</td>\n",
       "      <td>407.583673</td>\n",
       "      <td>296.301685</td>\n",
       "      <td>4.497423</td>\n",
       "    </tr>\n",
       "    <tr>\n",
       "      <th>63103</th>\n",
       "      <td>Global</td>\n",
       "      <td>WLD</td>\n",
       "      <td>2021</td>\n",
       "      <td>37123.850352</td>\n",
       "      <td>14979.598083</td>\n",
       "      <td>11837.159116</td>\n",
       "      <td>7921.829472</td>\n",
       "      <td>1672.592372</td>\n",
       "      <td>416.525563</td>\n",
       "      <td>296.145746</td>\n",
       "      <td>4.693699</td>\n",
       "    </tr>\n",
       "  </tbody>\n",
       "</table>\n",
       "<p>63104 rows × 11 columns</p>\n",
       "</div>"
      ],
      "text/plain": [
       "           Country ISO 3166-1 alpha-3  Year         Total          Coal  \\\n",
       "0      Afghanistan                AFG  1750      0.000000           NaN   \n",
       "1      Afghanistan                AFG  1751      0.000000           NaN   \n",
       "2      Afghanistan                AFG  1752      0.000000           NaN   \n",
       "3      Afghanistan                AFG  1753      0.000000           NaN   \n",
       "4      Afghanistan                AFG  1754      0.000000           NaN   \n",
       "...            ...                ...   ...           ...           ...   \n",
       "63099       Global                WLD  2017  36096.739276  14506.973805   \n",
       "63100       Global                WLD  2018  36826.506600  14746.830688   \n",
       "63101       Global                WLD  2019  37082.558969  14725.978025   \n",
       "63102       Global                WLD  2020  35264.085734  14174.564010   \n",
       "63103       Global                WLD  2021  37123.850352  14979.598083   \n",
       "\n",
       "                Oil          Gas       Cement     Flaring       Other  \\\n",
       "0               NaN          NaN          NaN         NaN         NaN   \n",
       "1               NaN          NaN          NaN         NaN         NaN   \n",
       "2               NaN          NaN          NaN         NaN         NaN   \n",
       "3               NaN          NaN          NaN         NaN         NaN   \n",
       "4               NaN          NaN          NaN         NaN         NaN   \n",
       "...             ...          ...          ...         ...         ...   \n",
       "63099  12242.627935  7144.928128  1507.923185  391.992176  302.294047   \n",
       "63100  12266.016285  7529.846784  1569.218392  412.115746  302.478706   \n",
       "63101  12345.653374  7647.528220  1617.506786  439.253991  306.638573   \n",
       "63102  11191.808551  7556.290283  1637.537532  407.583673  296.301685   \n",
       "63103  11837.159116  7921.829472  1672.592372  416.525563  296.145746   \n",
       "\n",
       "       Per Capita  \n",
       "0             NaN  \n",
       "1             NaN  \n",
       "2             NaN  \n",
       "3             NaN  \n",
       "4             NaN  \n",
       "...           ...  \n",
       "63099    4.749682  \n",
       "63100    4.792753  \n",
       "63101    4.775633  \n",
       "63102    4.497423  \n",
       "63103    4.693699  \n",
       "\n",
       "[63104 rows x 11 columns]"
      ]
     },
     "execution_count": 73,
     "metadata": {},
     "output_type": "execute_result"
    }
   ],
   "source": [
    "# Fill null values with ffill method\n",
    "\n"
   ]
  },
  {
   "cell_type": "code",
   "execution_count": 74,
   "metadata": {
    "cell_id": "6dd7731122944cf18b04d13c0848ada7",
    "deepnote_cell_type": "code",
    "deepnote_to_be_reexecuted": false,
    "execution_millis": 726,
    "execution_start": 1681998676785,
    "source_hash": "41a7f23"
   },
   "outputs": [
    {
     "data": {
      "application/vnd.deepnote.dataframe.v3+json": {
       "column_count": 11,
       "columns": [
        {
         "dtype": "object",
         "name": "Country",
         "stats": {
          "categories": [
           {
            "count": 272,
            "name": "Afghanistan"
           },
           {
            "count": 272,
            "name": "Albania"
           },
           {
            "count": 62560,
            "name": "230 others"
           }
          ],
          "nan_count": 0,
          "unique_count": 232
         }
        },
        {
         "dtype": "object",
         "name": "ISO 3166-1 alpha-3"
        },
        {
         "dtype": "int64",
         "name": "Year"
        },
        {
         "dtype": "float64",
         "name": "Total"
        },
        {
         "dtype": "float64",
         "name": "Coal"
        },
        {
         "dtype": "float64",
         "name": "Oil"
        },
        {
         "dtype": "float64",
         "name": "Gas"
        },
        {
         "dtype": "float64",
         "name": "Cement"
        },
        {
         "dtype": "float64",
         "name": "Flaring"
        },
        {
         "dtype": "float64",
         "name": "Other"
        },
        {
         "dtype": "float64",
         "name": "Per Capita"
        },
        {
         "dtype": "int64",
         "name": "_deepnote_index_column"
        }
       ],
       "row_count": 63104,
       "rows": [
        {
         "Cement": "4.330443477226867",
         "Coal": "73.96891588612951",
         "Country": "Afghanistan",
         "Flaring": "1.7126947166589328",
         "Gas": "23.504285424368582",
         "ISO 3166-1 alpha-3": "AFG",
         "Oil": "55.76062408454207",
         "Other": "10.951388537037035",
         "Per Capita": "4.4133631678612835",
         "Total": "0.0",
         "Year": "1750",
         "_deepnote_index_column": "0"
        },
        {
         "Cement": "4.330443477226867",
         "Coal": "73.96891588612951",
         "Country": "Afghanistan",
         "Flaring": "1.7126947166589328",
         "Gas": "23.504285424368582",
         "ISO 3166-1 alpha-3": "AFG",
         "Oil": "55.76062408454207",
         "Other": "10.951388537037035",
         "Per Capita": "4.4133631678612835",
         "Total": "0.0",
         "Year": "1751",
         "_deepnote_index_column": "1"
        },
        {
         "Cement": "4.330443477226867",
         "Coal": "73.96891588612951",
         "Country": "Afghanistan",
         "Flaring": "1.7126947166589328",
         "Gas": "23.504285424368582",
         "ISO 3166-1 alpha-3": "AFG",
         "Oil": "55.76062408454207",
         "Other": "10.951388537037035",
         "Per Capita": "4.4133631678612835",
         "Total": "0.0",
         "Year": "1752",
         "_deepnote_index_column": "2"
        },
        {
         "Cement": "4.330443477226867",
         "Coal": "73.96891588612951",
         "Country": "Afghanistan",
         "Flaring": "1.7126947166589328",
         "Gas": "23.504285424368582",
         "ISO 3166-1 alpha-3": "AFG",
         "Oil": "55.76062408454207",
         "Other": "10.951388537037035",
         "Per Capita": "4.4133631678612835",
         "Total": "0.0",
         "Year": "1753",
         "_deepnote_index_column": "3"
        },
        {
         "Cement": "4.330443477226867",
         "Coal": "73.96891588612951",
         "Country": "Afghanistan",
         "Flaring": "1.7126947166589328",
         "Gas": "23.504285424368582",
         "ISO 3166-1 alpha-3": "AFG",
         "Oil": "55.76062408454207",
         "Other": "10.951388537037035",
         "Per Capita": "4.4133631678612835",
         "Total": "0.0",
         "Year": "1754",
         "_deepnote_index_column": "4"
        },
        {
         "Cement": "4.330443477226867",
         "Coal": "73.96891588612951",
         "Country": "Afghanistan",
         "Flaring": "1.7126947166589328",
         "Gas": "23.504285424368582",
         "ISO 3166-1 alpha-3": "AFG",
         "Oil": "55.76062408454207",
         "Other": "10.951388537037035",
         "Per Capita": "4.4133631678612835",
         "Total": "0.0",
         "Year": "1755",
         "_deepnote_index_column": "5"
        },
        {
         "Cement": "4.330443477226867",
         "Coal": "73.96891588612951",
         "Country": "Afghanistan",
         "Flaring": "1.7126947166589328",
         "Gas": "23.504285424368582",
         "ISO 3166-1 alpha-3": "AFG",
         "Oil": "55.76062408454207",
         "Other": "10.951388537037035",
         "Per Capita": "4.4133631678612835",
         "Total": "0.0",
         "Year": "1756",
         "_deepnote_index_column": "6"
        },
        {
         "Cement": "4.330443477226867",
         "Coal": "73.96891588612951",
         "Country": "Afghanistan",
         "Flaring": "1.7126947166589328",
         "Gas": "23.504285424368582",
         "ISO 3166-1 alpha-3": "AFG",
         "Oil": "55.76062408454207",
         "Other": "10.951388537037035",
         "Per Capita": "4.4133631678612835",
         "Total": "0.0",
         "Year": "1757",
         "_deepnote_index_column": "7"
        },
        {
         "Cement": "4.330443477226867",
         "Coal": "73.96891588612951",
         "Country": "Afghanistan",
         "Flaring": "1.7126947166589328",
         "Gas": "23.504285424368582",
         "ISO 3166-1 alpha-3": "AFG",
         "Oil": "55.76062408454207",
         "Other": "10.951388537037035",
         "Per Capita": "4.4133631678612835",
         "Total": "0.0",
         "Year": "1758",
         "_deepnote_index_column": "8"
        },
        {
         "Cement": "4.330443477226867",
         "Coal": "73.96891588612951",
         "Country": "Afghanistan",
         "Flaring": "1.7126947166589328",
         "Gas": "23.504285424368582",
         "ISO 3166-1 alpha-3": "AFG",
         "Oil": "55.76062408454207",
         "Other": "10.951388537037035",
         "Per Capita": "4.4133631678612835",
         "Total": "0.0",
         "Year": "1759",
         "_deepnote_index_column": "9"
        }
       ]
      },
      "text/html": [
       "<div>\n",
       "<style scoped>\n",
       "    .dataframe tbody tr th:only-of-type {\n",
       "        vertical-align: middle;\n",
       "    }\n",
       "\n",
       "    .dataframe tbody tr th {\n",
       "        vertical-align: top;\n",
       "    }\n",
       "\n",
       "    .dataframe thead th {\n",
       "        text-align: right;\n",
       "    }\n",
       "</style>\n",
       "<table border=\"1\" class=\"dataframe\">\n",
       "  <thead>\n",
       "    <tr style=\"text-align: right;\">\n",
       "      <th></th>\n",
       "      <th>Country</th>\n",
       "      <th>ISO 3166-1 alpha-3</th>\n",
       "      <th>Year</th>\n",
       "      <th>Total</th>\n",
       "      <th>Coal</th>\n",
       "      <th>Oil</th>\n",
       "      <th>Gas</th>\n",
       "      <th>Cement</th>\n",
       "      <th>Flaring</th>\n",
       "      <th>Other</th>\n",
       "      <th>Per Capita</th>\n",
       "    </tr>\n",
       "  </thead>\n",
       "  <tbody>\n",
       "    <tr>\n",
       "      <th>0</th>\n",
       "      <td>Afghanistan</td>\n",
       "      <td>AFG</td>\n",
       "      <td>1750</td>\n",
       "      <td>0.000000</td>\n",
       "      <td>73.968916</td>\n",
       "      <td>55.760624</td>\n",
       "      <td>23.504285</td>\n",
       "      <td>4.330443</td>\n",
       "      <td>1.712695</td>\n",
       "      <td>10.951389</td>\n",
       "      <td>4.413363</td>\n",
       "    </tr>\n",
       "    <tr>\n",
       "      <th>1</th>\n",
       "      <td>Afghanistan</td>\n",
       "      <td>AFG</td>\n",
       "      <td>1751</td>\n",
       "      <td>0.000000</td>\n",
       "      <td>73.968916</td>\n",
       "      <td>55.760624</td>\n",
       "      <td>23.504285</td>\n",
       "      <td>4.330443</td>\n",
       "      <td>1.712695</td>\n",
       "      <td>10.951389</td>\n",
       "      <td>4.413363</td>\n",
       "    </tr>\n",
       "    <tr>\n",
       "      <th>2</th>\n",
       "      <td>Afghanistan</td>\n",
       "      <td>AFG</td>\n",
       "      <td>1752</td>\n",
       "      <td>0.000000</td>\n",
       "      <td>73.968916</td>\n",
       "      <td>55.760624</td>\n",
       "      <td>23.504285</td>\n",
       "      <td>4.330443</td>\n",
       "      <td>1.712695</td>\n",
       "      <td>10.951389</td>\n",
       "      <td>4.413363</td>\n",
       "    </tr>\n",
       "    <tr>\n",
       "      <th>3</th>\n",
       "      <td>Afghanistan</td>\n",
       "      <td>AFG</td>\n",
       "      <td>1753</td>\n",
       "      <td>0.000000</td>\n",
       "      <td>73.968916</td>\n",
       "      <td>55.760624</td>\n",
       "      <td>23.504285</td>\n",
       "      <td>4.330443</td>\n",
       "      <td>1.712695</td>\n",
       "      <td>10.951389</td>\n",
       "      <td>4.413363</td>\n",
       "    </tr>\n",
       "    <tr>\n",
       "      <th>4</th>\n",
       "      <td>Afghanistan</td>\n",
       "      <td>AFG</td>\n",
       "      <td>1754</td>\n",
       "      <td>0.000000</td>\n",
       "      <td>73.968916</td>\n",
       "      <td>55.760624</td>\n",
       "      <td>23.504285</td>\n",
       "      <td>4.330443</td>\n",
       "      <td>1.712695</td>\n",
       "      <td>10.951389</td>\n",
       "      <td>4.413363</td>\n",
       "    </tr>\n",
       "    <tr>\n",
       "      <th>...</th>\n",
       "      <td>...</td>\n",
       "      <td>...</td>\n",
       "      <td>...</td>\n",
       "      <td>...</td>\n",
       "      <td>...</td>\n",
       "      <td>...</td>\n",
       "      <td>...</td>\n",
       "      <td>...</td>\n",
       "      <td>...</td>\n",
       "      <td>...</td>\n",
       "      <td>...</td>\n",
       "    </tr>\n",
       "    <tr>\n",
       "      <th>63099</th>\n",
       "      <td>Global</td>\n",
       "      <td>WLD</td>\n",
       "      <td>2017</td>\n",
       "      <td>36096.739276</td>\n",
       "      <td>14506.973805</td>\n",
       "      <td>12242.627935</td>\n",
       "      <td>7144.928128</td>\n",
       "      <td>1507.923185</td>\n",
       "      <td>391.992176</td>\n",
       "      <td>302.294047</td>\n",
       "      <td>4.749682</td>\n",
       "    </tr>\n",
       "    <tr>\n",
       "      <th>63100</th>\n",
       "      <td>Global</td>\n",
       "      <td>WLD</td>\n",
       "      <td>2018</td>\n",
       "      <td>36826.506600</td>\n",
       "      <td>14746.830688</td>\n",
       "      <td>12266.016285</td>\n",
       "      <td>7529.846784</td>\n",
       "      <td>1569.218392</td>\n",
       "      <td>412.115746</td>\n",
       "      <td>302.478706</td>\n",
       "      <td>4.792753</td>\n",
       "    </tr>\n",
       "    <tr>\n",
       "      <th>63101</th>\n",
       "      <td>Global</td>\n",
       "      <td>WLD</td>\n",
       "      <td>2019</td>\n",
       "      <td>37082.558969</td>\n",
       "      <td>14725.978025</td>\n",
       "      <td>12345.653374</td>\n",
       "      <td>7647.528220</td>\n",
       "      <td>1617.506786</td>\n",
       "      <td>439.253991</td>\n",
       "      <td>306.638573</td>\n",
       "      <td>4.775633</td>\n",
       "    </tr>\n",
       "    <tr>\n",
       "      <th>63102</th>\n",
       "      <td>Global</td>\n",
       "      <td>WLD</td>\n",
       "      <td>2020</td>\n",
       "      <td>35264.085734</td>\n",
       "      <td>14174.564010</td>\n",
       "      <td>11191.808551</td>\n",
       "      <td>7556.290283</td>\n",
       "      <td>1637.537532</td>\n",
       "      <td>407.583673</td>\n",
       "      <td>296.301685</td>\n",
       "      <td>4.497423</td>\n",
       "    </tr>\n",
       "    <tr>\n",
       "      <th>63103</th>\n",
       "      <td>Global</td>\n",
       "      <td>WLD</td>\n",
       "      <td>2021</td>\n",
       "      <td>37123.850352</td>\n",
       "      <td>14979.598083</td>\n",
       "      <td>11837.159116</td>\n",
       "      <td>7921.829472</td>\n",
       "      <td>1672.592372</td>\n",
       "      <td>416.525563</td>\n",
       "      <td>296.145746</td>\n",
       "      <td>4.693699</td>\n",
       "    </tr>\n",
       "  </tbody>\n",
       "</table>\n",
       "<p>63104 rows × 11 columns</p>\n",
       "</div>"
      ],
      "text/plain": [
       "           Country ISO 3166-1 alpha-3  Year         Total          Coal  \\\n",
       "0      Afghanistan                AFG  1750      0.000000     73.968916   \n",
       "1      Afghanistan                AFG  1751      0.000000     73.968916   \n",
       "2      Afghanistan                AFG  1752      0.000000     73.968916   \n",
       "3      Afghanistan                AFG  1753      0.000000     73.968916   \n",
       "4      Afghanistan                AFG  1754      0.000000     73.968916   \n",
       "...            ...                ...   ...           ...           ...   \n",
       "63099       Global                WLD  2017  36096.739276  14506.973805   \n",
       "63100       Global                WLD  2018  36826.506600  14746.830688   \n",
       "63101       Global                WLD  2019  37082.558969  14725.978025   \n",
       "63102       Global                WLD  2020  35264.085734  14174.564010   \n",
       "63103       Global                WLD  2021  37123.850352  14979.598083   \n",
       "\n",
       "                Oil          Gas       Cement     Flaring       Other  \\\n",
       "0         55.760624    23.504285     4.330443    1.712695   10.951389   \n",
       "1         55.760624    23.504285     4.330443    1.712695   10.951389   \n",
       "2         55.760624    23.504285     4.330443    1.712695   10.951389   \n",
       "3         55.760624    23.504285     4.330443    1.712695   10.951389   \n",
       "4         55.760624    23.504285     4.330443    1.712695   10.951389   \n",
       "...             ...          ...          ...         ...         ...   \n",
       "63099  12242.627935  7144.928128  1507.923185  391.992176  302.294047   \n",
       "63100  12266.016285  7529.846784  1569.218392  412.115746  302.478706   \n",
       "63101  12345.653374  7647.528220  1617.506786  439.253991  306.638573   \n",
       "63102  11191.808551  7556.290283  1637.537532  407.583673  296.301685   \n",
       "63103  11837.159116  7921.829472  1672.592372  416.525563  296.145746   \n",
       "\n",
       "       Per Capita  \n",
       "0        4.413363  \n",
       "1        4.413363  \n",
       "2        4.413363  \n",
       "3        4.413363  \n",
       "4        4.413363  \n",
       "...           ...  \n",
       "63099    4.749682  \n",
       "63100    4.792753  \n",
       "63101    4.775633  \n",
       "63102    4.497423  \n",
       "63103    4.693699  \n",
       "\n",
       "[63104 rows x 11 columns]"
      ]
     },
     "execution_count": 74,
     "metadata": {},
     "output_type": "execute_result"
    }
   ],
   "source": [
    "# Fill missing values with mean column value\n",
    "\n"
   ]
  },
  {
   "cell_type": "markdown",
   "metadata": {
    "cell_id": "8c0f493500444792815802e2714a673e",
    "deepnote_cell_type": "markdown"
   },
   "source": [
    "## 2.9. Merge Dataframes"
   ]
  },
  {
   "cell_type": "code",
   "execution_count": 75,
   "metadata": {
    "cell_id": "e9784b9fd9a1468c81912a43ebd78f87",
    "deepnote_cell_type": "code",
    "deepnote_to_be_reexecuted": false,
    "execution_millis": 47,
    "execution_start": 1681998677528,
    "source_hash": "d048f455"
   },
   "outputs": [
    {
     "data": {
      "text/html": [
       "<div>\n",
       "<style scoped>\n",
       "    .dataframe tbody tr th:only-of-type {\n",
       "        vertical-align: middle;\n",
       "    }\n",
       "\n",
       "    .dataframe tbody tr th {\n",
       "        vertical-align: top;\n",
       "    }\n",
       "\n",
       "    .dataframe thead th {\n",
       "        text-align: right;\n",
       "    }\n",
       "</style>\n",
       "<table border=\"1\" class=\"dataframe\">\n",
       "  <thead>\n",
       "    <tr style=\"text-align: right;\">\n",
       "      <th></th>\n",
       "      <th>id</th>\n",
       "      <th>Name</th>\n",
       "    </tr>\n",
       "  </thead>\n",
       "  <tbody>\n",
       "    <tr>\n",
       "      <th>0</th>\n",
       "      <td>E90</td>\n",
       "      <td>Jorge</td>\n",
       "    </tr>\n",
       "    <tr>\n",
       "      <th>1</th>\n",
       "      <td>E87</td>\n",
       "      <td>Freddy</td>\n",
       "    </tr>\n",
       "  </tbody>\n",
       "</table>\n",
       "</div>"
      ],
      "text/plain": [
       "    id    Name\n",
       "0  E90   Jorge\n",
       "1  E87  Freddy"
      ]
     },
     "metadata": {},
     "output_type": "display_data"
    },
    {
     "data": {
      "text/html": [
       "<div>\n",
       "<style scoped>\n",
       "    .dataframe tbody tr th:only-of-type {\n",
       "        vertical-align: middle;\n",
       "    }\n",
       "\n",
       "    .dataframe tbody tr th {\n",
       "        vertical-align: top;\n",
       "    }\n",
       "\n",
       "    .dataframe thead th {\n",
       "        text-align: right;\n",
       "    }\n",
       "</style>\n",
       "<table border=\"1\" class=\"dataframe\">\n",
       "  <thead>\n",
       "    <tr style=\"text-align: right;\">\n",
       "      <th></th>\n",
       "      <th>id</th>\n",
       "      <th>Name</th>\n",
       "    </tr>\n",
       "  </thead>\n",
       "  <tbody>\n",
       "    <tr>\n",
       "      <th>0</th>\n",
       "      <td>E22</td>\n",
       "      <td>Andrés</td>\n",
       "    </tr>\n",
       "    <tr>\n",
       "      <th>1</th>\n",
       "      <td>E74</td>\n",
       "      <td>Nadia</td>\n",
       "    </tr>\n",
       "    <tr>\n",
       "      <th>2</th>\n",
       "      <td>E90</td>\n",
       "      <td>Jorge</td>\n",
       "    </tr>\n",
       "  </tbody>\n",
       "</table>\n",
       "</div>"
      ],
      "text/plain": [
       "    id    Name\n",
       "0  E22  Andrés\n",
       "1  E74   Nadia\n",
       "2  E90   Jorge"
      ]
     },
     "metadata": {},
     "output_type": "display_data"
    },
    {
     "data": {
      "application/vnd.deepnote.dataframe.v3+json": {
       "column_count": 3,
       "columns": [
        {
         "dtype": "object",
         "name": "id",
         "stats": {
          "categories": [
           {
            "count": 1,
            "name": "E87"
           },
           {
            "count": 1,
            "name": "E22"
           },
           {
            "count": 1,
            "name": "E49"
           }
          ],
          "nan_count": 0,
          "unique_count": 3
         }
        },
        {
         "dtype": "object",
         "name": "City",
         "stats": {
          "categories": [
           {
            "count": 1,
            "name": "Guayaquil"
           },
           {
            "count": 1,
            "name": "Quito"
           },
           {
            "count": 1,
            "name": "Cuenca"
           }
          ],
          "nan_count": 0,
          "unique_count": 3
         }
        },
        {
         "dtype": "object",
         "name": "Province",
         "stats": {
          "categories": [
           {
            "count": 1,
            "name": "Guayas"
           },
           {
            "count": 1,
            "name": "Pichincha"
           },
           {
            "count": 1,
            "name": "Azuay"
           }
          ],
          "nan_count": 0,
          "unique_count": 3
         }
        },
        {
         "dtype": "int64",
         "name": "_deepnote_index_column"
        }
       ],
       "row_count": 3,
       "rows": [
        {
         "City": "Guayaquil",
         "Province": "Guayas",
         "_deepnote_index_column": "0",
         "id": "E87"
        },
        {
         "City": "Quito",
         "Province": "Pichincha",
         "_deepnote_index_column": "1",
         "id": "E22"
        },
        {
         "City": "Cuenca",
         "Province": "Azuay",
         "_deepnote_index_column": "2",
         "id": "E49"
        }
       ]
      },
      "text/html": [
       "<div>\n",
       "<style scoped>\n",
       "    .dataframe tbody tr th:only-of-type {\n",
       "        vertical-align: middle;\n",
       "    }\n",
       "\n",
       "    .dataframe tbody tr th {\n",
       "        vertical-align: top;\n",
       "    }\n",
       "\n",
       "    .dataframe thead th {\n",
       "        text-align: right;\n",
       "    }\n",
       "</style>\n",
       "<table border=\"1\" class=\"dataframe\">\n",
       "  <thead>\n",
       "    <tr style=\"text-align: right;\">\n",
       "      <th></th>\n",
       "      <th>id</th>\n",
       "      <th>City</th>\n",
       "      <th>Province</th>\n",
       "    </tr>\n",
       "  </thead>\n",
       "  <tbody>\n",
       "    <tr>\n",
       "      <th>0</th>\n",
       "      <td>E87</td>\n",
       "      <td>Guayaquil</td>\n",
       "      <td>Guayas</td>\n",
       "    </tr>\n",
       "    <tr>\n",
       "      <th>1</th>\n",
       "      <td>E22</td>\n",
       "      <td>Quito</td>\n",
       "      <td>Pichincha</td>\n",
       "    </tr>\n",
       "    <tr>\n",
       "      <th>2</th>\n",
       "      <td>E49</td>\n",
       "      <td>Cuenca</td>\n",
       "      <td>Azuay</td>\n",
       "    </tr>\n",
       "  </tbody>\n",
       "</table>\n",
       "</div>"
      ],
      "text/plain": [
       "    id       City   Province\n",
       "0  E87  Guayaquil     Guayas\n",
       "1  E22      Quito  Pichincha\n",
       "2  E49     Cuenca      Azuay"
      ]
     },
     "metadata": {},
     "output_type": "display_data"
    }
   ],
   "source": [
    "# Create new dataframes\n",
    "\n",
    "prof_p = pd.DataFrame({\"id\":[\"E90\", \"E87\"], \"Name\": [\"Jorge\", \"Freddy\"]})\n",
    "display(prof_p)\n",
    "\n",
    "prof_c = pd.DataFrame({\"id\":[\"E22\", \"E74\", \"E90\"], \"Name\": [\"Andrés\", \"Nadia\", \"Jorge\"]})\n",
    "display(prof_c)\n",
    "\n",
    "address = pd.DataFrame({\"id\":[\"E87\", \"E22\", \"E49\"],\n",
    "                        \"City\":[\"Guayaquil\", \"Quito\", \"Cuenca\"],\n",
    "                        \"Province\":[\"Guayas\", \"Pichincha\", \"Azuay\"]})\n",
    "display(address)\n"
   ]
  },
  {
   "cell_type": "code",
   "execution_count": 76,
   "metadata": {
    "cell_id": "dacb95190146471c9df82ceb181adba7",
    "deepnote_cell_type": "code",
    "deepnote_to_be_reexecuted": false,
    "execution_millis": 32,
    "execution_start": 1681998677561,
    "source_hash": "d5f9aff0"
   },
   "outputs": [
    {
     "data": {
      "application/vnd.deepnote.dataframe.v3+json": {
       "column_count": 2,
       "columns": [
        {
         "dtype": "object",
         "name": "id",
         "stats": {
          "categories": [
           {
            "count": 2,
            "name": "E90"
           },
           {
            "count": 1,
            "name": "E87"
           },
           {
            "count": 2,
            "name": "2 others"
           }
          ],
          "nan_count": 0,
          "unique_count": 4
         }
        },
        {
         "dtype": "object",
         "name": "Name",
         "stats": {
          "categories": [
           {
            "count": 2,
            "name": "Jorge"
           },
           {
            "count": 1,
            "name": "Freddy"
           },
           {
            "count": 2,
            "name": "2 others"
           }
          ],
          "nan_count": 0,
          "unique_count": 4
         }
        },
        {
         "dtype": "int64",
         "name": "_deepnote_index_column"
        }
       ],
       "row_count": 5,
       "rows": [
        {
         "Name": "Jorge",
         "_deepnote_index_column": "0",
         "id": "E90"
        },
        {
         "Name": "Freddy",
         "_deepnote_index_column": "1",
         "id": "E87"
        },
        {
         "Name": "Andrés",
         "_deepnote_index_column": "0",
         "id": "E22"
        },
        {
         "Name": "Nadia",
         "_deepnote_index_column": "1",
         "id": "E74"
        },
        {
         "Name": "Jorge",
         "_deepnote_index_column": "2",
         "id": "E90"
        }
       ]
      },
      "text/html": [
       "<div>\n",
       "<style scoped>\n",
       "    .dataframe tbody tr th:only-of-type {\n",
       "        vertical-align: middle;\n",
       "    }\n",
       "\n",
       "    .dataframe tbody tr th {\n",
       "        vertical-align: top;\n",
       "    }\n",
       "\n",
       "    .dataframe thead th {\n",
       "        text-align: right;\n",
       "    }\n",
       "</style>\n",
       "<table border=\"1\" class=\"dataframe\">\n",
       "  <thead>\n",
       "    <tr style=\"text-align: right;\">\n",
       "      <th></th>\n",
       "      <th>id</th>\n",
       "      <th>Name</th>\n",
       "    </tr>\n",
       "  </thead>\n",
       "  <tbody>\n",
       "    <tr>\n",
       "      <th>0</th>\n",
       "      <td>E90</td>\n",
       "      <td>Jorge</td>\n",
       "    </tr>\n",
       "    <tr>\n",
       "      <th>1</th>\n",
       "      <td>E87</td>\n",
       "      <td>Freddy</td>\n",
       "    </tr>\n",
       "    <tr>\n",
       "      <th>0</th>\n",
       "      <td>E22</td>\n",
       "      <td>Andrés</td>\n",
       "    </tr>\n",
       "    <tr>\n",
       "      <th>1</th>\n",
       "      <td>E74</td>\n",
       "      <td>Nadia</td>\n",
       "    </tr>\n",
       "    <tr>\n",
       "      <th>2</th>\n",
       "      <td>E90</td>\n",
       "      <td>Jorge</td>\n",
       "    </tr>\n",
       "  </tbody>\n",
       "</table>\n",
       "</div>"
      ],
      "text/plain": [
       "    id    Name\n",
       "0  E90   Jorge\n",
       "1  E87  Freddy\n",
       "0  E22  Andrés\n",
       "1  E74   Nadia\n",
       "2  E90   Jorge"
      ]
     },
     "execution_count": 76,
     "metadata": {},
     "output_type": "execute_result"
    }
   ],
   "source": [
    "# Concat dataframes using concat\n",
    "\n"
   ]
  },
  {
   "cell_type": "code",
   "execution_count": 77,
   "metadata": {
    "cell_id": "f6ef5080f064416e9de1d857723ceb1f",
    "deepnote_cell_type": "code",
    "deepnote_to_be_reexecuted": false,
    "execution_millis": 1,
    "execution_start": 1681998677611,
    "source_hash": "8fb62b78"
   },
   "outputs": [
    {
     "data": {
      "application/vnd.deepnote.dataframe.v3+json": {
       "column_count": 2,
       "columns": [
        {
         "dtype": "object",
         "name": "id",
         "stats": {
          "categories": [
           {
            "count": 2,
            "name": "E90"
           },
           {
            "count": 1,
            "name": "E87"
           },
           {
            "count": 2,
            "name": "2 others"
           }
          ],
          "nan_count": 0,
          "unique_count": 4
         }
        },
        {
         "dtype": "object",
         "name": "Name",
         "stats": {
          "categories": [
           {
            "count": 2,
            "name": "Jorge"
           },
           {
            "count": 1,
            "name": "Freddy"
           },
           {
            "count": 2,
            "name": "2 others"
           }
          ],
          "nan_count": 0,
          "unique_count": 4
         }
        },
        {
         "dtype": "int64",
         "name": "_deepnote_index_column"
        }
       ],
       "row_count": 5,
       "rows": [
        {
         "Name": "Jorge",
         "_deepnote_index_column": "0",
         "id": "E90"
        },
        {
         "Name": "Freddy",
         "_deepnote_index_column": "1",
         "id": "E87"
        },
        {
         "Name": "Andrés",
         "_deepnote_index_column": "2",
         "id": "E22"
        },
        {
         "Name": "Nadia",
         "_deepnote_index_column": "3",
         "id": "E74"
        },
        {
         "Name": "Jorge",
         "_deepnote_index_column": "4",
         "id": "E90"
        }
       ]
      },
      "text/html": [
       "<div>\n",
       "<style scoped>\n",
       "    .dataframe tbody tr th:only-of-type {\n",
       "        vertical-align: middle;\n",
       "    }\n",
       "\n",
       "    .dataframe tbody tr th {\n",
       "        vertical-align: top;\n",
       "    }\n",
       "\n",
       "    .dataframe thead th {\n",
       "        text-align: right;\n",
       "    }\n",
       "</style>\n",
       "<table border=\"1\" class=\"dataframe\">\n",
       "  <thead>\n",
       "    <tr style=\"text-align: right;\">\n",
       "      <th></th>\n",
       "      <th>id</th>\n",
       "      <th>Name</th>\n",
       "    </tr>\n",
       "  </thead>\n",
       "  <tbody>\n",
       "    <tr>\n",
       "      <th>0</th>\n",
       "      <td>E90</td>\n",
       "      <td>Jorge</td>\n",
       "    </tr>\n",
       "    <tr>\n",
       "      <th>1</th>\n",
       "      <td>E87</td>\n",
       "      <td>Freddy</td>\n",
       "    </tr>\n",
       "    <tr>\n",
       "      <th>2</th>\n",
       "      <td>E22</td>\n",
       "      <td>Andrés</td>\n",
       "    </tr>\n",
       "    <tr>\n",
       "      <th>3</th>\n",
       "      <td>E74</td>\n",
       "      <td>Nadia</td>\n",
       "    </tr>\n",
       "    <tr>\n",
       "      <th>4</th>\n",
       "      <td>E90</td>\n",
       "      <td>Jorge</td>\n",
       "    </tr>\n",
       "  </tbody>\n",
       "</table>\n",
       "</div>"
      ],
      "text/plain": [
       "    id    Name\n",
       "0  E90   Jorge\n",
       "1  E87  Freddy\n",
       "2  E22  Andrés\n",
       "3  E74   Nadia\n",
       "4  E90   Jorge"
      ]
     },
     "execution_count": 77,
     "metadata": {},
     "output_type": "execute_result"
    }
   ],
   "source": [
    "# Concat dataframes using concat and ignoring index\n",
    "\n"
   ]
  },
  {
   "cell_type": "code",
   "execution_count": 78,
   "metadata": {
    "cell_id": "cd85dde0fbc5443ca3eda2de1a169215",
    "deepnote_cell_type": "code",
    "deepnote_to_be_reexecuted": false,
    "execution_millis": 32,
    "execution_start": 1681998677663,
    "source_hash": "c5a58d22"
   },
   "outputs": [
    {
     "data": {
      "application/vnd.deepnote.dataframe.v3+json": {
       "column_count": 2,
       "columns": [
        {
         "dtype": "object",
         "name": "id",
         "stats": {
          "categories": [
           {
            "count": 1,
            "name": "E90"
           }
          ],
          "nan_count": 0,
          "unique_count": 1
         }
        },
        {
         "dtype": "object",
         "name": "Name",
         "stats": {
          "categories": [
           {
            "count": 1,
            "name": "Jorge"
           }
          ],
          "nan_count": 0,
          "unique_count": 1
         }
        },
        {
         "dtype": "int64",
         "name": "_deepnote_index_column"
        }
       ],
       "row_count": 1,
       "rows": [
        {
         "Name": "Jorge",
         "_deepnote_index_column": "4",
         "id": "E90"
        }
       ]
      },
      "text/html": [
       "<div>\n",
       "<style scoped>\n",
       "    .dataframe tbody tr th:only-of-type {\n",
       "        vertical-align: middle;\n",
       "    }\n",
       "\n",
       "    .dataframe tbody tr th {\n",
       "        vertical-align: top;\n",
       "    }\n",
       "\n",
       "    .dataframe thead th {\n",
       "        text-align: right;\n",
       "    }\n",
       "</style>\n",
       "<table border=\"1\" class=\"dataframe\">\n",
       "  <thead>\n",
       "    <tr style=\"text-align: right;\">\n",
       "      <th></th>\n",
       "      <th>id</th>\n",
       "      <th>Name</th>\n",
       "    </tr>\n",
       "  </thead>\n",
       "  <tbody>\n",
       "    <tr>\n",
       "      <th>4</th>\n",
       "      <td>E90</td>\n",
       "      <td>Jorge</td>\n",
       "    </tr>\n",
       "  </tbody>\n",
       "</table>\n",
       "</div>"
      ],
      "text/plain": [
       "    id   Name\n",
       "4  E90  Jorge"
      ]
     },
     "execution_count": 78,
     "metadata": {},
     "output_type": "execute_result"
    }
   ],
   "source": [
    "# Check for duplicates after concatenation\n",
    "\n"
   ]
  },
  {
   "cell_type": "code",
   "execution_count": 79,
   "metadata": {
    "cell_id": "9347352ec15a4c6690b315a80707a545",
    "deepnote_cell_type": "code",
    "deepnote_to_be_reexecuted": false,
    "execution_millis": 33,
    "execution_start": 1681998677663,
    "source_hash": "7f6a2147"
   },
   "outputs": [
    {
     "data": {
      "application/vnd.deepnote.dataframe.v3+json": {
       "column_count": 2,
       "columns": [
        {
         "dtype": "object",
         "name": "id",
         "stats": {
          "categories": [
           {
            "count": 1,
            "name": "E87"
           },
           {
            "count": 1,
            "name": "E22"
           },
           {
            "count": 2,
            "name": "2 others"
           }
          ],
          "nan_count": 0,
          "unique_count": 4
         }
        },
        {
         "dtype": "object",
         "name": "Name",
         "stats": {
          "categories": [
           {
            "count": 1,
            "name": "Freddy"
           },
           {
            "count": 1,
            "name": "Andrés"
           },
           {
            "count": 2,
            "name": "2 others"
           }
          ],
          "nan_count": 0,
          "unique_count": 4
         }
        },
        {
         "dtype": "int64",
         "name": "_deepnote_index_column"
        }
       ],
       "row_count": 4,
       "rows": [
        {
         "Name": "Freddy",
         "_deepnote_index_column": "1",
         "id": "E87"
        },
        {
         "Name": "Andrés",
         "_deepnote_index_column": "2",
         "id": "E22"
        },
        {
         "Name": "Nadia",
         "_deepnote_index_column": "3",
         "id": "E74"
        },
        {
         "Name": "Jorge",
         "_deepnote_index_column": "4",
         "id": "E90"
        }
       ]
      },
      "text/html": [
       "<div>\n",
       "<style scoped>\n",
       "    .dataframe tbody tr th:only-of-type {\n",
       "        vertical-align: middle;\n",
       "    }\n",
       "\n",
       "    .dataframe tbody tr th {\n",
       "        vertical-align: top;\n",
       "    }\n",
       "\n",
       "    .dataframe thead th {\n",
       "        text-align: right;\n",
       "    }\n",
       "</style>\n",
       "<table border=\"1\" class=\"dataframe\">\n",
       "  <thead>\n",
       "    <tr style=\"text-align: right;\">\n",
       "      <th></th>\n",
       "      <th>id</th>\n",
       "      <th>Name</th>\n",
       "    </tr>\n",
       "  </thead>\n",
       "  <tbody>\n",
       "    <tr>\n",
       "      <th>1</th>\n",
       "      <td>E87</td>\n",
       "      <td>Freddy</td>\n",
       "    </tr>\n",
       "    <tr>\n",
       "      <th>2</th>\n",
       "      <td>E22</td>\n",
       "      <td>Andrés</td>\n",
       "    </tr>\n",
       "    <tr>\n",
       "      <th>3</th>\n",
       "      <td>E74</td>\n",
       "      <td>Nadia</td>\n",
       "    </tr>\n",
       "    <tr>\n",
       "      <th>4</th>\n",
       "      <td>E90</td>\n",
       "      <td>Jorge</td>\n",
       "    </tr>\n",
       "  </tbody>\n",
       "</table>\n",
       "</div>"
      ],
      "text/plain": [
       "    id    Name\n",
       "1  E87  Freddy\n",
       "2  E22  Andrés\n",
       "3  E74   Nadia\n",
       "4  E90   Jorge"
      ]
     },
     "execution_count": 79,
     "metadata": {},
     "output_type": "execute_result"
    }
   ],
   "source": [
    "# Remove duplicates\n"
   ]
  },
  {
   "cell_type": "code",
   "execution_count": 80,
   "metadata": {
    "cell_id": "5d11142c53ac4bfa86d7597644d3d5fa",
    "deepnote_cell_type": "code",
    "deepnote_to_be_reexecuted": false,
    "execution_millis": 4,
    "execution_start": 1681998677707,
    "source_hash": "399eb8a1"
   },
   "outputs": [
    {
     "data": {
      "application/vnd.deepnote.dataframe.v3+json": {
       "column_count": 2,
       "columns": [
        {
         "dtype": "object",
         "name": "id",
         "stats": {
          "categories": [
           {
            "count": 1,
            "name": "E87"
           },
           {
            "count": 1,
            "name": "E22"
           },
           {
            "count": 2,
            "name": "2 others"
           }
          ],
          "nan_count": 0,
          "unique_count": 4
         }
        },
        {
         "dtype": "object",
         "name": "Name",
         "stats": {
          "categories": [
           {
            "count": 1,
            "name": "Freddy"
           },
           {
            "count": 1,
            "name": "Andrés"
           },
           {
            "count": 2,
            "name": "2 others"
           }
          ],
          "nan_count": 0,
          "unique_count": 4
         }
        },
        {
         "dtype": "int64",
         "name": "_deepnote_index_column"
        }
       ],
       "row_count": 4,
       "rows": [
        {
         "Name": "Freddy",
         "_deepnote_index_column": "0",
         "id": "E87"
        },
        {
         "Name": "Andrés",
         "_deepnote_index_column": "1",
         "id": "E22"
        },
        {
         "Name": "Nadia",
         "_deepnote_index_column": "2",
         "id": "E74"
        },
        {
         "Name": "Jorge",
         "_deepnote_index_column": "3",
         "id": "E90"
        }
       ]
      },
      "text/html": [
       "<div>\n",
       "<style scoped>\n",
       "    .dataframe tbody tr th:only-of-type {\n",
       "        vertical-align: middle;\n",
       "    }\n",
       "\n",
       "    .dataframe tbody tr th {\n",
       "        vertical-align: top;\n",
       "    }\n",
       "\n",
       "    .dataframe thead th {\n",
       "        text-align: right;\n",
       "    }\n",
       "</style>\n",
       "<table border=\"1\" class=\"dataframe\">\n",
       "  <thead>\n",
       "    <tr style=\"text-align: right;\">\n",
       "      <th></th>\n",
       "      <th>id</th>\n",
       "      <th>Name</th>\n",
       "    </tr>\n",
       "  </thead>\n",
       "  <tbody>\n",
       "    <tr>\n",
       "      <th>0</th>\n",
       "      <td>E87</td>\n",
       "      <td>Freddy</td>\n",
       "    </tr>\n",
       "    <tr>\n",
       "      <th>1</th>\n",
       "      <td>E22</td>\n",
       "      <td>Andrés</td>\n",
       "    </tr>\n",
       "    <tr>\n",
       "      <th>2</th>\n",
       "      <td>E74</td>\n",
       "      <td>Nadia</td>\n",
       "    </tr>\n",
       "    <tr>\n",
       "      <th>3</th>\n",
       "      <td>E90</td>\n",
       "      <td>Jorge</td>\n",
       "    </tr>\n",
       "  </tbody>\n",
       "</table>\n",
       "</div>"
      ],
      "text/plain": [
       "    id    Name\n",
       "0  E87  Freddy\n",
       "1  E22  Andrés\n",
       "2  E74   Nadia\n",
       "3  E90   Jorge"
      ]
     },
     "execution_count": 80,
     "metadata": {},
     "output_type": "execute_result"
    }
   ],
   "source": [
    "# Order index\n",
    "\n"
   ]
  },
  {
   "cell_type": "code",
   "execution_count": 81,
   "metadata": {
    "cell_id": "39407fe948824827bbee4aa177e75fbd",
    "deepnote_cell_type": "code",
    "deepnote_to_be_reexecuted": false,
    "execution_millis": 8,
    "execution_start": 1681998677707,
    "source_hash": "2583a608"
   },
   "outputs": [
    {
     "data": {
      "text/html": [
       "<div>\n",
       "<style scoped>\n",
       "    .dataframe tbody tr th:only-of-type {\n",
       "        vertical-align: middle;\n",
       "    }\n",
       "\n",
       "    .dataframe tbody tr th {\n",
       "        vertical-align: top;\n",
       "    }\n",
       "\n",
       "    .dataframe thead th {\n",
       "        text-align: right;\n",
       "    }\n",
       "</style>\n",
       "<table border=\"1\" class=\"dataframe\">\n",
       "  <thead>\n",
       "    <tr style=\"text-align: right;\">\n",
       "      <th></th>\n",
       "      <th>id</th>\n",
       "      <th>Name</th>\n",
       "    </tr>\n",
       "  </thead>\n",
       "  <tbody>\n",
       "    <tr>\n",
       "      <th>0</th>\n",
       "      <td>E87</td>\n",
       "      <td>Freddy</td>\n",
       "    </tr>\n",
       "    <tr>\n",
       "      <th>1</th>\n",
       "      <td>E22</td>\n",
       "      <td>Andrés</td>\n",
       "    </tr>\n",
       "    <tr>\n",
       "      <th>2</th>\n",
       "      <td>E74</td>\n",
       "      <td>Nadia</td>\n",
       "    </tr>\n",
       "    <tr>\n",
       "      <th>3</th>\n",
       "      <td>E90</td>\n",
       "      <td>Jorge</td>\n",
       "    </tr>\n",
       "  </tbody>\n",
       "</table>\n",
       "</div>"
      ],
      "text/plain": [
       "    id    Name\n",
       "0  E87  Freddy\n",
       "1  E22  Andrés\n",
       "2  E74   Nadia\n",
       "3  E90   Jorge"
      ]
     },
     "metadata": {},
     "output_type": "display_data"
    },
    {
     "data": {
      "application/vnd.deepnote.dataframe.v3+json": {
       "column_count": 3,
       "columns": [
        {
         "dtype": "object",
         "name": "id",
         "stats": {
          "categories": [
           {
            "count": 1,
            "name": "E87"
           },
           {
            "count": 1,
            "name": "E22"
           },
           {
            "count": 1,
            "name": "E49"
           }
          ],
          "nan_count": 0,
          "unique_count": 3
         }
        },
        {
         "dtype": "object",
         "name": "City",
         "stats": {
          "categories": [
           {
            "count": 1,
            "name": "Guayaquil"
           },
           {
            "count": 1,
            "name": "Quito"
           },
           {
            "count": 1,
            "name": "Cuenca"
           }
          ],
          "nan_count": 0,
          "unique_count": 3
         }
        },
        {
         "dtype": "object",
         "name": "Province",
         "stats": {
          "categories": [
           {
            "count": 1,
            "name": "Guayas"
           },
           {
            "count": 1,
            "name": "Pichincha"
           },
           {
            "count": 1,
            "name": "Azuay"
           }
          ],
          "nan_count": 0,
          "unique_count": 3
         }
        },
        {
         "dtype": "int64",
         "name": "_deepnote_index_column"
        }
       ],
       "row_count": 3,
       "rows": [
        {
         "City": "Guayaquil",
         "Province": "Guayas",
         "_deepnote_index_column": "0",
         "id": "E87"
        },
        {
         "City": "Quito",
         "Province": "Pichincha",
         "_deepnote_index_column": "1",
         "id": "E22"
        },
        {
         "City": "Cuenca",
         "Province": "Azuay",
         "_deepnote_index_column": "2",
         "id": "E49"
        }
       ]
      },
      "text/html": [
       "<div>\n",
       "<style scoped>\n",
       "    .dataframe tbody tr th:only-of-type {\n",
       "        vertical-align: middle;\n",
       "    }\n",
       "\n",
       "    .dataframe tbody tr th {\n",
       "        vertical-align: top;\n",
       "    }\n",
       "\n",
       "    .dataframe thead th {\n",
       "        text-align: right;\n",
       "    }\n",
       "</style>\n",
       "<table border=\"1\" class=\"dataframe\">\n",
       "  <thead>\n",
       "    <tr style=\"text-align: right;\">\n",
       "      <th></th>\n",
       "      <th>id</th>\n",
       "      <th>City</th>\n",
       "      <th>Province</th>\n",
       "    </tr>\n",
       "  </thead>\n",
       "  <tbody>\n",
       "    <tr>\n",
       "      <th>0</th>\n",
       "      <td>E87</td>\n",
       "      <td>Guayaquil</td>\n",
       "      <td>Guayas</td>\n",
       "    </tr>\n",
       "    <tr>\n",
       "      <th>1</th>\n",
       "      <td>E22</td>\n",
       "      <td>Quito</td>\n",
       "      <td>Pichincha</td>\n",
       "    </tr>\n",
       "    <tr>\n",
       "      <th>2</th>\n",
       "      <td>E49</td>\n",
       "      <td>Cuenca</td>\n",
       "      <td>Azuay</td>\n",
       "    </tr>\n",
       "  </tbody>\n",
       "</table>\n",
       "</div>"
      ],
      "text/plain": [
       "    id       City   Province\n",
       "0  E87  Guayaquil     Guayas\n",
       "1  E22      Quito  Pichincha\n",
       "2  E49     Cuenca      Azuay"
      ]
     },
     "metadata": {},
     "output_type": "display_data"
    }
   ],
   "source": [
    "# show professor and address dataframes\n",
    "\n"
   ]
  },
  {
   "cell_type": "markdown",
   "metadata": {
    "cell_id": "37840eefca0045a1b0f0e84c6635623d",
    "deepnote_cell_type": "markdown"
   },
   "source": [
    "### 2.9.1. Inner join"
   ]
  },
  {
   "cell_type": "code",
   "execution_count": 82,
   "metadata": {
    "cell_id": "94bdd0b82ffa4663b46db7844fbf2c2e",
    "deepnote_cell_type": "code",
    "deepnote_to_be_reexecuted": false,
    "execution_millis": 1,
    "execution_start": 1681998677758,
    "source_hash": "374f23e6"
   },
   "outputs": [
    {
     "data": {
      "application/vnd.deepnote.dataframe.v3+json": {
       "column_count": 4,
       "columns": [
        {
         "dtype": "object",
         "name": "id",
         "stats": {
          "categories": [
           {
            "count": 1,
            "name": "E87"
           },
           {
            "count": 1,
            "name": "E22"
           }
          ],
          "nan_count": 0,
          "unique_count": 2
         }
        },
        {
         "dtype": "object",
         "name": "Name",
         "stats": {
          "categories": [
           {
            "count": 1,
            "name": "Freddy"
           },
           {
            "count": 1,
            "name": "Andrés"
           }
          ],
          "nan_count": 0,
          "unique_count": 2
         }
        },
        {
         "dtype": "object",
         "name": "City",
         "stats": {
          "categories": [
           {
            "count": 1,
            "name": "Guayaquil"
           },
           {
            "count": 1,
            "name": "Quito"
           }
          ],
          "nan_count": 0,
          "unique_count": 2
         }
        },
        {
         "dtype": "object",
         "name": "Province",
         "stats": {
          "categories": [
           {
            "count": 1,
            "name": "Guayas"
           },
           {
            "count": 1,
            "name": "Pichincha"
           }
          ],
          "nan_count": 0,
          "unique_count": 2
         }
        },
        {
         "dtype": "int64",
         "name": "_deepnote_index_column"
        }
       ],
       "row_count": 2,
       "rows": [
        {
         "City": "Guayaquil",
         "Name": "Freddy",
         "Province": "Guayas",
         "_deepnote_index_column": "0",
         "id": "E87"
        },
        {
         "City": "Quito",
         "Name": "Andrés",
         "Province": "Pichincha",
         "_deepnote_index_column": "1",
         "id": "E22"
        }
       ]
      },
      "text/html": [
       "<div>\n",
       "<style scoped>\n",
       "    .dataframe tbody tr th:only-of-type {\n",
       "        vertical-align: middle;\n",
       "    }\n",
       "\n",
       "    .dataframe tbody tr th {\n",
       "        vertical-align: top;\n",
       "    }\n",
       "\n",
       "    .dataframe thead th {\n",
       "        text-align: right;\n",
       "    }\n",
       "</style>\n",
       "<table border=\"1\" class=\"dataframe\">\n",
       "  <thead>\n",
       "    <tr style=\"text-align: right;\">\n",
       "      <th></th>\n",
       "      <th>id</th>\n",
       "      <th>Name</th>\n",
       "      <th>City</th>\n",
       "      <th>Province</th>\n",
       "    </tr>\n",
       "  </thead>\n",
       "  <tbody>\n",
       "    <tr>\n",
       "      <th>0</th>\n",
       "      <td>E87</td>\n",
       "      <td>Freddy</td>\n",
       "      <td>Guayaquil</td>\n",
       "      <td>Guayas</td>\n",
       "    </tr>\n",
       "    <tr>\n",
       "      <th>1</th>\n",
       "      <td>E22</td>\n",
       "      <td>Andrés</td>\n",
       "      <td>Quito</td>\n",
       "      <td>Pichincha</td>\n",
       "    </tr>\n",
       "  </tbody>\n",
       "</table>\n",
       "</div>"
      ],
      "text/plain": [
       "    id    Name       City   Province\n",
       "0  E87  Freddy  Guayaquil     Guayas\n",
       "1  E22  Andrés      Quito  Pichincha"
      ]
     },
     "execution_count": 82,
     "metadata": {},
     "output_type": "execute_result"
    }
   ],
   "source": [
    "# Merge dataframes (professors, address) by Inner Join\n",
    "\n",
    "r"
   ]
  },
  {
   "cell_type": "markdown",
   "metadata": {
    "cell_id": "b033853d3e5c4f1a897362ff86a09e10",
    "deepnote_cell_type": "markdown"
   },
   "source": [
    "\n",
    "### 2.9.2. Left Outer Join"
   ]
  },
  {
   "cell_type": "code",
   "execution_count": 83,
   "metadata": {
    "cell_id": "b4717749b43048758da95495d201ad5d",
    "deepnote_cell_type": "code",
    "deepnote_to_be_reexecuted": false,
    "execution_millis": 177,
    "execution_start": 1681998677759,
    "source_hash": "7608cb4a"
   },
   "outputs": [
    {
     "data": {
      "application/vnd.deepnote.dataframe.v3+json": {
       "column_count": 4,
       "columns": [
        {
         "dtype": "object",
         "name": "id",
         "stats": {
          "categories": [
           {
            "count": 1,
            "name": "E87"
           },
           {
            "count": 1,
            "name": "E22"
           },
           {
            "count": 2,
            "name": "2 others"
           }
          ],
          "nan_count": 0,
          "unique_count": 4
         }
        },
        {
         "dtype": "object",
         "name": "Name",
         "stats": {
          "categories": [
           {
            "count": 1,
            "name": "Freddy"
           },
           {
            "count": 1,
            "name": "Andrés"
           },
           {
            "count": 2,
            "name": "2 others"
           }
          ],
          "nan_count": 0,
          "unique_count": 4
         }
        },
        {
         "dtype": "object",
         "name": "City",
         "stats": {
          "categories": [
           {
            "count": 1,
            "name": "Guayaquil"
           },
           {
            "count": 1,
            "name": "Quito"
           },
           {
            "count": 2,
            "name": "Missing"
           }
          ],
          "nan_count": 2,
          "unique_count": 2
         }
        },
        {
         "dtype": "object",
         "name": "Province",
         "stats": {
          "categories": [
           {
            "count": 1,
            "name": "Guayas"
           },
           {
            "count": 1,
            "name": "Pichincha"
           },
           {
            "count": 2,
            "name": "Missing"
           }
          ],
          "nan_count": 2,
          "unique_count": 2
         }
        },
        {
         "dtype": "int64",
         "name": "_deepnote_index_column"
        }
       ],
       "row_count": 4,
       "rows": [
        {
         "City": "Guayaquil",
         "Name": "Freddy",
         "Province": "Guayas",
         "_deepnote_index_column": "0",
         "id": "E87"
        },
        {
         "City": "Quito",
         "Name": "Andrés",
         "Province": "Pichincha",
         "_deepnote_index_column": "1",
         "id": "E22"
        },
        {
         "City": "nan",
         "Name": "Nadia",
         "Province": "nan",
         "_deepnote_index_column": "2",
         "id": "E74"
        },
        {
         "City": "nan",
         "Name": "Jorge",
         "Province": "nan",
         "_deepnote_index_column": "3",
         "id": "E90"
        }
       ]
      },
      "text/html": [
       "<div>\n",
       "<style scoped>\n",
       "    .dataframe tbody tr th:only-of-type {\n",
       "        vertical-align: middle;\n",
       "    }\n",
       "\n",
       "    .dataframe tbody tr th {\n",
       "        vertical-align: top;\n",
       "    }\n",
       "\n",
       "    .dataframe thead th {\n",
       "        text-align: right;\n",
       "    }\n",
       "</style>\n",
       "<table border=\"1\" class=\"dataframe\">\n",
       "  <thead>\n",
       "    <tr style=\"text-align: right;\">\n",
       "      <th></th>\n",
       "      <th>id</th>\n",
       "      <th>Name</th>\n",
       "      <th>City</th>\n",
       "      <th>Province</th>\n",
       "    </tr>\n",
       "  </thead>\n",
       "  <tbody>\n",
       "    <tr>\n",
       "      <th>0</th>\n",
       "      <td>E87</td>\n",
       "      <td>Freddy</td>\n",
       "      <td>Guayaquil</td>\n",
       "      <td>Guayas</td>\n",
       "    </tr>\n",
       "    <tr>\n",
       "      <th>1</th>\n",
       "      <td>E22</td>\n",
       "      <td>Andrés</td>\n",
       "      <td>Quito</td>\n",
       "      <td>Pichincha</td>\n",
       "    </tr>\n",
       "    <tr>\n",
       "      <th>2</th>\n",
       "      <td>E74</td>\n",
       "      <td>Nadia</td>\n",
       "      <td>NaN</td>\n",
       "      <td>NaN</td>\n",
       "    </tr>\n",
       "    <tr>\n",
       "      <th>3</th>\n",
       "      <td>E90</td>\n",
       "      <td>Jorge</td>\n",
       "      <td>NaN</td>\n",
       "      <td>NaN</td>\n",
       "    </tr>\n",
       "  </tbody>\n",
       "</table>\n",
       "</div>"
      ],
      "text/plain": [
       "    id    Name       City   Province\n",
       "0  E87  Freddy  Guayaquil     Guayas\n",
       "1  E22  Andrés      Quito  Pichincha\n",
       "2  E74   Nadia        NaN        NaN\n",
       "3  E90   Jorge        NaN        NaN"
      ]
     },
     "execution_count": 83,
     "metadata": {},
     "output_type": "execute_result"
    }
   ],
   "source": [
    "# Merge dataframes (professor, address) by Left Outer Join\n",
    "\n"
   ]
  },
  {
   "cell_type": "markdown",
   "metadata": {
    "cell_id": "83e7f2c535094eb491b605d610a2701a",
    "deepnote_cell_type": "markdown"
   },
   "source": [
    "\n",
    "### 2.9.3. Right Outer Join"
   ]
  },
  {
   "cell_type": "code",
   "execution_count": 84,
   "metadata": {
    "cell_id": "80f610acfe96476aa213c6b01e62c514",
    "deepnote_cell_type": "code",
    "deepnote_to_be_reexecuted": false,
    "execution_millis": 20,
    "execution_start": 1681998677916,
    "source_hash": "84825fd8"
   },
   "outputs": [
    {
     "data": {
      "application/vnd.deepnote.dataframe.v3+json": {
       "column_count": 4,
       "columns": [
        {
         "dtype": "object",
         "name": "id",
         "stats": {
          "categories": [
           {
            "count": 1,
            "name": "E87"
           },
           {
            "count": 1,
            "name": "E22"
           },
           {
            "count": 1,
            "name": "E49"
           }
          ],
          "nan_count": 0,
          "unique_count": 3
         }
        },
        {
         "dtype": "object",
         "name": "Name",
         "stats": {
          "categories": [
           {
            "count": 1,
            "name": "Freddy"
           },
           {
            "count": 1,
            "name": "Andrés"
           },
           {
            "count": 1,
            "name": "Missing"
           }
          ],
          "nan_count": 1,
          "unique_count": 2
         }
        },
        {
         "dtype": "object",
         "name": "City",
         "stats": {
          "categories": [
           {
            "count": 1,
            "name": "Guayaquil"
           },
           {
            "count": 1,
            "name": "Quito"
           },
           {
            "count": 1,
            "name": "Cuenca"
           }
          ],
          "nan_count": 0,
          "unique_count": 3
         }
        },
        {
         "dtype": "object",
         "name": "Province",
         "stats": {
          "categories": [
           {
            "count": 1,
            "name": "Guayas"
           },
           {
            "count": 1,
            "name": "Pichincha"
           },
           {
            "count": 1,
            "name": "Azuay"
           }
          ],
          "nan_count": 0,
          "unique_count": 3
         }
        },
        {
         "dtype": "int64",
         "name": "_deepnote_index_column"
        }
       ],
       "row_count": 3,
       "rows": [
        {
         "City": "Guayaquil",
         "Name": "Freddy",
         "Province": "Guayas",
         "_deepnote_index_column": "0",
         "id": "E87"
        },
        {
         "City": "Quito",
         "Name": "Andrés",
         "Province": "Pichincha",
         "_deepnote_index_column": "1",
         "id": "E22"
        },
        {
         "City": "Cuenca",
         "Name": "nan",
         "Province": "Azuay",
         "_deepnote_index_column": "2",
         "id": "E49"
        }
       ]
      },
      "text/html": [
       "<div>\n",
       "<style scoped>\n",
       "    .dataframe tbody tr th:only-of-type {\n",
       "        vertical-align: middle;\n",
       "    }\n",
       "\n",
       "    .dataframe tbody tr th {\n",
       "        vertical-align: top;\n",
       "    }\n",
       "\n",
       "    .dataframe thead th {\n",
       "        text-align: right;\n",
       "    }\n",
       "</style>\n",
       "<table border=\"1\" class=\"dataframe\">\n",
       "  <thead>\n",
       "    <tr style=\"text-align: right;\">\n",
       "      <th></th>\n",
       "      <th>id</th>\n",
       "      <th>Name</th>\n",
       "      <th>City</th>\n",
       "      <th>Province</th>\n",
       "    </tr>\n",
       "  </thead>\n",
       "  <tbody>\n",
       "    <tr>\n",
       "      <th>0</th>\n",
       "      <td>E87</td>\n",
       "      <td>Freddy</td>\n",
       "      <td>Guayaquil</td>\n",
       "      <td>Guayas</td>\n",
       "    </tr>\n",
       "    <tr>\n",
       "      <th>1</th>\n",
       "      <td>E22</td>\n",
       "      <td>Andrés</td>\n",
       "      <td>Quito</td>\n",
       "      <td>Pichincha</td>\n",
       "    </tr>\n",
       "    <tr>\n",
       "      <th>2</th>\n",
       "      <td>E49</td>\n",
       "      <td>NaN</td>\n",
       "      <td>Cuenca</td>\n",
       "      <td>Azuay</td>\n",
       "    </tr>\n",
       "  </tbody>\n",
       "</table>\n",
       "</div>"
      ],
      "text/plain": [
       "    id    Name       City   Province\n",
       "0  E87  Freddy  Guayaquil     Guayas\n",
       "1  E22  Andrés      Quito  Pichincha\n",
       "2  E49     NaN     Cuenca      Azuay"
      ]
     },
     "execution_count": 84,
     "metadata": {},
     "output_type": "execute_result"
    }
   ],
   "source": [
    "# Merge dataframes (professor, address) by Right Outer Join\n",
    "\n"
   ]
  },
  {
   "cell_type": "markdown",
   "metadata": {
    "cell_id": "c51b173748a5461b9e1d49bc420ea2e8",
    "deepnote_cell_type": "markdown"
   },
   "source": [
    "### 2.9.4. Full Outer Join"
   ]
  },
  {
   "cell_type": "code",
   "execution_count": 85,
   "metadata": {
    "cell_id": "f02d7f8a017e434288df0a10f244a0b0",
    "deepnote_cell_type": "code",
    "deepnote_to_be_reexecuted": false,
    "execution_millis": 13,
    "execution_start": 1681998677924,
    "source_hash": "9def5c30"
   },
   "outputs": [
    {
     "data": {
      "application/vnd.deepnote.dataframe.v3+json": {
       "column_count": 4,
       "columns": [
        {
         "dtype": "object",
         "name": "id",
         "stats": {
          "categories": [
           {
            "count": 1,
            "name": "E87"
           },
           {
            "count": 1,
            "name": "E22"
           },
           {
            "count": 3,
            "name": "3 others"
           }
          ],
          "nan_count": 0,
          "unique_count": 5
         }
        },
        {
         "dtype": "object",
         "name": "Name",
         "stats": {
          "categories": [
           {
            "count": 1,
            "name": "Freddy"
           },
           {
            "count": 3,
            "name": "3 others"
           },
           {
            "count": 1,
            "name": "Missing"
           }
          ],
          "nan_count": 1,
          "unique_count": 4
         }
        },
        {
         "dtype": "object",
         "name": "City",
         "stats": {
          "categories": [
           {
            "count": 1,
            "name": "Guayaquil"
           },
           {
            "count": 2,
            "name": "2 others"
           },
           {
            "count": 2,
            "name": "Missing"
           }
          ],
          "nan_count": 2,
          "unique_count": 3
         }
        },
        {
         "dtype": "object",
         "name": "Province",
         "stats": {
          "categories": [
           {
            "count": 1,
            "name": "Guayas"
           },
           {
            "count": 2,
            "name": "2 others"
           },
           {
            "count": 2,
            "name": "Missing"
           }
          ],
          "nan_count": 2,
          "unique_count": 3
         }
        },
        {
         "dtype": "int64",
         "name": "_deepnote_index_column"
        }
       ],
       "row_count": 5,
       "rows": [
        {
         "City": "Guayaquil",
         "Name": "Freddy",
         "Province": "Guayas",
         "_deepnote_index_column": "0",
         "id": "E87"
        },
        {
         "City": "Quito",
         "Name": "Andrés",
         "Province": "Pichincha",
         "_deepnote_index_column": "1",
         "id": "E22"
        },
        {
         "City": "nan",
         "Name": "Nadia",
         "Province": "nan",
         "_deepnote_index_column": "2",
         "id": "E74"
        },
        {
         "City": "nan",
         "Name": "Jorge",
         "Province": "nan",
         "_deepnote_index_column": "3",
         "id": "E90"
        },
        {
         "City": "Cuenca",
         "Name": "nan",
         "Province": "Azuay",
         "_deepnote_index_column": "4",
         "id": "E49"
        }
       ]
      },
      "text/html": [
       "<div>\n",
       "<style scoped>\n",
       "    .dataframe tbody tr th:only-of-type {\n",
       "        vertical-align: middle;\n",
       "    }\n",
       "\n",
       "    .dataframe tbody tr th {\n",
       "        vertical-align: top;\n",
       "    }\n",
       "\n",
       "    .dataframe thead th {\n",
       "        text-align: right;\n",
       "    }\n",
       "</style>\n",
       "<table border=\"1\" class=\"dataframe\">\n",
       "  <thead>\n",
       "    <tr style=\"text-align: right;\">\n",
       "      <th></th>\n",
       "      <th>id</th>\n",
       "      <th>Name</th>\n",
       "      <th>City</th>\n",
       "      <th>Province</th>\n",
       "    </tr>\n",
       "  </thead>\n",
       "  <tbody>\n",
       "    <tr>\n",
       "      <th>0</th>\n",
       "      <td>E87</td>\n",
       "      <td>Freddy</td>\n",
       "      <td>Guayaquil</td>\n",
       "      <td>Guayas</td>\n",
       "    </tr>\n",
       "    <tr>\n",
       "      <th>1</th>\n",
       "      <td>E22</td>\n",
       "      <td>Andrés</td>\n",
       "      <td>Quito</td>\n",
       "      <td>Pichincha</td>\n",
       "    </tr>\n",
       "    <tr>\n",
       "      <th>2</th>\n",
       "      <td>E74</td>\n",
       "      <td>Nadia</td>\n",
       "      <td>NaN</td>\n",
       "      <td>NaN</td>\n",
       "    </tr>\n",
       "    <tr>\n",
       "      <th>3</th>\n",
       "      <td>E90</td>\n",
       "      <td>Jorge</td>\n",
       "      <td>NaN</td>\n",
       "      <td>NaN</td>\n",
       "    </tr>\n",
       "    <tr>\n",
       "      <th>4</th>\n",
       "      <td>E49</td>\n",
       "      <td>NaN</td>\n",
       "      <td>Cuenca</td>\n",
       "      <td>Azuay</td>\n",
       "    </tr>\n",
       "  </tbody>\n",
       "</table>\n",
       "</div>"
      ],
      "text/plain": [
       "    id    Name       City   Province\n",
       "0  E87  Freddy  Guayaquil     Guayas\n",
       "1  E22  Andrés      Quito  Pichincha\n",
       "2  E74   Nadia        NaN        NaN\n",
       "3  E90   Jorge        NaN        NaN\n",
       "4  E49     NaN     Cuenca      Azuay"
      ]
     },
     "execution_count": 85,
     "metadata": {},
     "output_type": "execute_result"
    }
   ],
   "source": [
    "# Merge dataframes by Full Outer Join\n",
    "\n"
   ]
  },
  {
   "cell_type": "markdown",
   "metadata": {
    "cell_id": "a20d6bee400f438c817ed1213e607002",
    "deepnote_cell_type": "markdown"
   },
   "source": [
    "## Test Part 2\n",
    "\n",
    "Analyse and clean the following dataset by doing the tasks below:\n",
    "\n",
    "- Import and read the excel file Capacitación FICT ABRIL - 2023.\n",
    "- Show the summary of this dataset.\n",
    "- Rename some columns.\n",
    "- Drop unnecessary columns.\n",
    "- Change \"x\" to registered and null values to unregistered.\n",
    "- Show the amount of people registered in at least two courses (*use value_counts method*).\n",
    "- Convert to only one column all the courses (*use melt method*).\n",
    "- Show people registered in GIS Course.\n",
    "- Save the final dataframe as a csv file named FICT_Courses into the Día2/Datos directory"
   ]
  },
  {
   "cell_type": "code",
   "execution_count": 86,
   "metadata": {
    "cell_id": "d1898022d4d0496c863578cdc4c2ddd2",
    "deepnote_cell_type": "code",
    "deepnote_to_be_reexecuted": false,
    "execution_millis": 47,
    "execution_start": 1681998677924,
    "source_hash": "7255342c"
   },
   "outputs": [
    {
     "data": {
      "application/vnd.deepnote.dataframe.v3+json": {
       "column_count": 10,
       "columns": [
        {
         "dtype": "datetime64[ns]",
         "name": "Marca temporal",
         "stats": {
          "histogram": [
           {
            "bin_end": 1680322745534900000,
            "bin_start": 1680270697715000000,
            "count": 23
           },
           {
            "bin_end": 1680374793354800000,
            "bin_start": 1680322745534900000,
            "count": 1
           },
           {
            "bin_end": 1680426841174700000,
            "bin_start": 1680374793354800000,
            "count": 0
           },
           {
            "bin_end": 1680478888994600000,
            "bin_start": 1680426841174700000,
            "count": 1
           },
           {
            "bin_end": 1680530936814499800,
            "bin_start": 1680478888994600000,
            "count": 4
           },
           {
            "bin_end": 1680582984634400000,
            "bin_start": 1680530936814499800,
            "count": 2
           },
           {
            "bin_end": 1680635032454300000,
            "bin_start": 1680582984634400000,
            "count": 15
           },
           {
            "bin_end": 1680687080274199800,
            "bin_start": 1680635032454300000,
            "count": 1
           },
           {
            "bin_end": 1680739128094100000,
            "bin_start": 1680687080274199800,
            "count": 3
           },
           {
            "bin_end": 1680791175914000000,
            "bin_start": 1680739128094100000,
            "count": 2
           }
          ],
          "max": "2023-04-06 14:26:15.914000",
          "min": "2023-03-31 13:51:37.715000",
          "nan_count": 0,
          "unique_count": 52
         }
        },
        {
         "dtype": "object",
         "name": "Dirección de correo electrónico",
         "stats": {
          "categories": [
           {
            "count": 2,
            "name": "mogasant@espol.edu.ec"
           },
           {
            "count": 2,
            "name": "pacampov@espol.edu.ec"
           },
           {
            "count": 48,
            "name": "47 others"
           }
          ],
          "nan_count": 0,
          "unique_count": 49
         }
        },
        {
         "dtype": "object",
         "name": "Nombres Completos",
         "stats": {
          "categories": [
           {
            "count": 2,
            "name": "Mónica Gabriela Santos Carrasco"
           },
           {
            "count": 2,
            "name": "Mónica López Moncada"
           },
           {
            "count": 48,
            "name": "48 others"
           }
          ],
          "nan_count": 0,
          "unique_count": 50
         }
        },
        {
         "dtype": "object",
         "name": "Capacitaciones",
         "stats": {
          "categories": [
           {
            "count": 18,
            "name": "x"
           },
           {
            "count": 1,
            "name": "X"
           },
           {
            "count": 33,
            "name": "Missing"
           }
          ],
          "nan_count": 33,
          "unique_count": 2
         }
        },
        {
         "dtype": "object",
         "name": "AWC",
         "stats": {
          "categories": [
           {
            "count": 26,
            "name": "x"
           },
           {
            "count": 1,
            "name": "X"
           },
           {
            "count": 25,
            "name": "Missing"
           }
          ],
          "nan_count": 25,
          "unique_count": 2
         }
        },
        {
         "dtype": "object",
         "name": "Bienestar Psicológico",
         "stats": {
          "categories": [
           {
            "count": 23,
            "name": "x"
           },
           {
            "count": 1,
            "name": "X"
           },
           {
            "count": 28,
            "name": "Missing"
           }
          ],
          "nan_count": 28,
          "unique_count": 2
         }
        },
        {
         "dtype": "object",
         "name": "Herramientas para Generar Bienestar",
         "stats": {
          "categories": [
           {
            "count": 26,
            "name": "x"
           },
           {
            "count": 1,
            "name": "X"
           },
           {
            "count": 25,
            "name": "Missing"
           }
          ],
          "nan_count": 25,
          "unique_count": 2
         }
        },
        {
         "dtype": "object",
         "name": "Python",
         "stats": {
          "categories": [
           {
            "count": 30,
            "name": "x"
           },
           {
            "count": 2,
            "name": "X"
           },
           {
            "count": 20,
            "name": "Missing"
           }
          ],
          "nan_count": 20,
          "unique_count": 2
         }
        },
        {
         "dtype": "float64",
         "name": "Unnamed: 8",
         "stats": {
          "histogram": [
           {
            "bin_end": 0.1,
            "bin_start": 0,
            "count": 0
           },
           {
            "bin_end": 0.2,
            "bin_start": 0.1,
            "count": 0
           },
           {
            "bin_end": 0.30000000000000004,
            "bin_start": 0.2,
            "count": 0
           },
           {
            "bin_end": 0.4,
            "bin_start": 0.30000000000000004,
            "count": 0
           },
           {
            "bin_end": 0.5,
            "bin_start": 0.4,
            "count": 0
           },
           {
            "bin_end": 0.6000000000000001,
            "bin_start": 0.5,
            "count": 0
           },
           {
            "bin_end": 0.7000000000000001,
            "bin_start": 0.6000000000000001,
            "count": 0
           },
           {
            "bin_end": 0.8,
            "bin_start": 0.7000000000000001,
            "count": 0
           },
           {
            "bin_end": 0.9,
            "bin_start": 0.8,
            "count": 0
           },
           {
            "bin_end": 1,
            "bin_start": 0.9,
            "count": 0
           }
          ],
          "max": null,
          "min": null,
          "nan_count": 52,
          "unique_count": 0
         }
        },
        {
         "dtype": "float64",
         "name": "Unnamed: 9",
         "stats": {
          "histogram": [
           {
            "bin_end": 0.1,
            "bin_start": 0,
            "count": 0
           },
           {
            "bin_end": 0.2,
            "bin_start": 0.1,
            "count": 0
           },
           {
            "bin_end": 0.30000000000000004,
            "bin_start": 0.2,
            "count": 0
           },
           {
            "bin_end": 0.4,
            "bin_start": 0.30000000000000004,
            "count": 0
           },
           {
            "bin_end": 0.5,
            "bin_start": 0.4,
            "count": 0
           },
           {
            "bin_end": 0.6000000000000001,
            "bin_start": 0.5,
            "count": 0
           },
           {
            "bin_end": 0.7000000000000001,
            "bin_start": 0.6000000000000001,
            "count": 0
           },
           {
            "bin_end": 0.8,
            "bin_start": 0.7000000000000001,
            "count": 0
           },
           {
            "bin_end": 0.9,
            "bin_start": 0.8,
            "count": 0
           },
           {
            "bin_end": 1,
            "bin_start": 0.9,
            "count": 0
           }
          ],
          "max": null,
          "min": null,
          "nan_count": 52,
          "unique_count": 0
         }
        },
        {
         "dtype": "int64",
         "name": "_deepnote_index_column"
        }
       ],
       "row_count": 52,
       "rows": [
        {
         "AWC": "x",
         "Bienestar Psicológico": "x",
         "Capacitaciones": "x",
         "Dirección de correo electrónico": "cgoyburo@espol.edu.ec",
         "Herramientas para Generar Bienestar": "x",
         "Marca temporal": "2023-03-31 13:51:37.715000",
         "Nombres Completos": "Cindy Samanda Goyburo Chávez",
         "Python": "x",
         "Unnamed: 8": "nan",
         "Unnamed: 9": "nan",
         "_deepnote_index_column": "0"
        },
        {
         "AWC": "x",
         "Bienestar Psicológico": "nan",
         "Capacitaciones": "nan",
         "Dirección de correo electrónico": "dvelaste@espol.edu.ec",
         "Herramientas para Generar Bienestar": "nan",
         "Marca temporal": "2023-03-31 13:55:33.574000",
         "Nombres Completos": "Andrés Velástegui Montoya",
         "Python": "x",
         "Unnamed: 8": "nan",
         "Unnamed: 9": "nan",
         "_deepnote_index_column": "1"
        },
        {
         "AWC": "x",
         "Bienestar Psicológico": "x",
         "Capacitaciones": "x",
         "Dirección de correo electrónico": "dpaz@espol.edu.ec",
         "Herramientas para Generar Bienestar": "x",
         "Marca temporal": "2023-03-31 13:55:34.843000",
         "Nombres Completos": "Daniela Margarita Paz Barzola",
         "Python": "x",
         "Unnamed: 8": "nan",
         "Unnamed: 9": "nan",
         "_deepnote_index_column": "2"
        },
        {
         "AWC": "x",
         "Bienestar Psicológico": "x",
         "Capacitaciones": "x",
         "Dirección de correo electrónico": "nlagasca@espol.edu.ec",
         "Herramientas para Generar Bienestar": "x",
         "Marca temporal": "2023-03-31 13:58:01.143000",
         "Nombres Completos": "Nadia José Lagasca Loaiza ",
         "Python": "x",
         "Unnamed: 8": "nan",
         "Unnamed: 9": "nan",
         "_deepnote_index_column": "3"
        },
        {
         "AWC": "nan",
         "Bienestar Psicológico": "x",
         "Capacitaciones": "x",
         "Dirección de correo electrónico": "fetorres@espol.edu.ec",
         "Herramientas para Generar Bienestar": "x",
         "Marca temporal": "2023-03-31 13:58:17.832000",
         "Nombres Completos": "Federico Ricardo Torres Negrete",
         "Python": "x",
         "Unnamed: 8": "nan",
         "Unnamed: 9": "nan",
         "_deepnote_index_column": "4"
        },
        {
         "AWC": "x",
         "Bienestar Psicológico": "x",
         "Capacitaciones": "nan",
         "Dirección de correo electrónico": "mmulas@espol.edu.ec",
         "Herramientas para Generar Bienestar": "x",
         "Marca temporal": "2023-03-31 13:58:24.426000",
         "Nombres Completos": "Maurizio Mulas",
         "Python": "nan",
         "Unnamed: 8": "nan",
         "Unnamed: 9": "nan",
         "_deepnote_index_column": "5"
        },
        {
         "AWC": "nan",
         "Bienestar Psicológico": "x",
         "Capacitaciones": "nan",
         "Dirección de correo electrónico": "ogarces@espol.edu.ec",
         "Herramientas para Generar Bienestar": "nan",
         "Marca temporal": "2023-03-31 14:00:45.818000",
         "Nombres Completos": "Daniel Omar Garces Leon ",
         "Python": "x",
         "Unnamed: 8": "nan",
         "Unnamed: 9": "nan",
         "_deepnote_index_column": "6"
        },
        {
         "AWC": "x",
         "Bienestar Psicológico": "x",
         "Capacitaciones": "nan",
         "Dirección de correo electrónico": "pestolay@espol.edu.ec",
         "Herramientas para Generar Bienestar": "x",
         "Marca temporal": "2023-03-31 14:03:05.350000",
         "Nombres Completos": "Peter Olaya Carbo ",
         "Python": "nan",
         "Unnamed: 8": "nan",
         "Unnamed: 9": "nan",
         "_deepnote_index_column": "7"
        },
        {
         "AWC": "x",
         "Bienestar Psicológico": "x",
         "Capacitaciones": "x",
         "Dirección de correo electrónico": "fpcarrio@espol.edu.ec",
         "Herramientas para Generar Bienestar": "x",
         "Marca temporal": "2023-03-31 14:03:53.063000",
         "Nombres Completos": "Freddy Paul Carrión Maldonado",
         "Python": "nan",
         "Unnamed: 8": "nan",
         "Unnamed: 9": "nan",
         "_deepnote_index_column": "8"
        },
        {
         "AWC": "x",
         "Bienestar Psicológico": "x",
         "Capacitaciones": "x",
         "Dirección de correo electrónico": "angnmedi@espol.edu.ec",
         "Herramientas para Generar Bienestar": "x",
         "Marca temporal": "2023-03-31 14:09:00.103000",
         "Nombres Completos": "Angie Nicole Medina Toala",
         "Python": "x",
         "Unnamed: 8": "nan",
         "Unnamed: 9": "nan",
         "_deepnote_index_column": "9"
        }
       ]
      },
      "text/html": [
       "<div>\n",
       "<style scoped>\n",
       "    .dataframe tbody tr th:only-of-type {\n",
       "        vertical-align: middle;\n",
       "    }\n",
       "\n",
       "    .dataframe tbody tr th {\n",
       "        vertical-align: top;\n",
       "    }\n",
       "\n",
       "    .dataframe thead th {\n",
       "        text-align: right;\n",
       "    }\n",
       "</style>\n",
       "<table border=\"1\" class=\"dataframe\">\n",
       "  <thead>\n",
       "    <tr style=\"text-align: right;\">\n",
       "      <th></th>\n",
       "      <th>Marca temporal</th>\n",
       "      <th>Dirección de correo electrónico</th>\n",
       "      <th>Nombres Completos</th>\n",
       "      <th>Capacitaciones</th>\n",
       "      <th>AWC</th>\n",
       "      <th>Bienestar Psicológico</th>\n",
       "      <th>Herramientas para Generar Bienestar</th>\n",
       "      <th>Python</th>\n",
       "      <th>Unnamed: 8</th>\n",
       "      <th>Unnamed: 9</th>\n",
       "    </tr>\n",
       "  </thead>\n",
       "  <tbody>\n",
       "    <tr>\n",
       "      <th>0</th>\n",
       "      <td>2023-03-31 13:51:37.715</td>\n",
       "      <td>cgoyburo@espol.edu.ec</td>\n",
       "      <td>Cindy Samanda Goyburo Chávez</td>\n",
       "      <td>x</td>\n",
       "      <td>x</td>\n",
       "      <td>x</td>\n",
       "      <td>x</td>\n",
       "      <td>x</td>\n",
       "      <td>NaN</td>\n",
       "      <td>NaN</td>\n",
       "    </tr>\n",
       "    <tr>\n",
       "      <th>1</th>\n",
       "      <td>2023-03-31 13:55:33.574</td>\n",
       "      <td>dvelaste@espol.edu.ec</td>\n",
       "      <td>Andrés Velástegui Montoya</td>\n",
       "      <td>NaN</td>\n",
       "      <td>x</td>\n",
       "      <td>NaN</td>\n",
       "      <td>NaN</td>\n",
       "      <td>x</td>\n",
       "      <td>NaN</td>\n",
       "      <td>NaN</td>\n",
       "    </tr>\n",
       "    <tr>\n",
       "      <th>2</th>\n",
       "      <td>2023-03-31 13:55:34.843</td>\n",
       "      <td>dpaz@espol.edu.ec</td>\n",
       "      <td>Daniela Margarita Paz Barzola</td>\n",
       "      <td>x</td>\n",
       "      <td>x</td>\n",
       "      <td>x</td>\n",
       "      <td>x</td>\n",
       "      <td>x</td>\n",
       "      <td>NaN</td>\n",
       "      <td>NaN</td>\n",
       "    </tr>\n",
       "    <tr>\n",
       "      <th>3</th>\n",
       "      <td>2023-03-31 13:58:01.143</td>\n",
       "      <td>nlagasca@espol.edu.ec</td>\n",
       "      <td>Nadia José Lagasca Loaiza</td>\n",
       "      <td>x</td>\n",
       "      <td>x</td>\n",
       "      <td>x</td>\n",
       "      <td>x</td>\n",
       "      <td>x</td>\n",
       "      <td>NaN</td>\n",
       "      <td>NaN</td>\n",
       "    </tr>\n",
       "    <tr>\n",
       "      <th>4</th>\n",
       "      <td>2023-03-31 13:58:17.832</td>\n",
       "      <td>fetorres@espol.edu.ec</td>\n",
       "      <td>Federico Ricardo Torres Negrete</td>\n",
       "      <td>x</td>\n",
       "      <td>NaN</td>\n",
       "      <td>x</td>\n",
       "      <td>x</td>\n",
       "      <td>x</td>\n",
       "      <td>NaN</td>\n",
       "      <td>NaN</td>\n",
       "    </tr>\n",
       "    <tr>\n",
       "      <th>5</th>\n",
       "      <td>2023-03-31 13:58:24.426</td>\n",
       "      <td>mmulas@espol.edu.ec</td>\n",
       "      <td>Maurizio Mulas</td>\n",
       "      <td>NaN</td>\n",
       "      <td>x</td>\n",
       "      <td>x</td>\n",
       "      <td>x</td>\n",
       "      <td>NaN</td>\n",
       "      <td>NaN</td>\n",
       "      <td>NaN</td>\n",
       "    </tr>\n",
       "    <tr>\n",
       "      <th>6</th>\n",
       "      <td>2023-03-31 14:00:45.818</td>\n",
       "      <td>ogarces@espol.edu.ec</td>\n",
       "      <td>Daniel Omar Garces Leon</td>\n",
       "      <td>NaN</td>\n",
       "      <td>NaN</td>\n",
       "      <td>x</td>\n",
       "      <td>NaN</td>\n",
       "      <td>x</td>\n",
       "      <td>NaN</td>\n",
       "      <td>NaN</td>\n",
       "    </tr>\n",
       "    <tr>\n",
       "      <th>7</th>\n",
       "      <td>2023-03-31 14:03:05.350</td>\n",
       "      <td>pestolay@espol.edu.ec</td>\n",
       "      <td>Peter Olaya Carbo</td>\n",
       "      <td>NaN</td>\n",
       "      <td>x</td>\n",
       "      <td>x</td>\n",
       "      <td>x</td>\n",
       "      <td>NaN</td>\n",
       "      <td>NaN</td>\n",
       "      <td>NaN</td>\n",
       "    </tr>\n",
       "    <tr>\n",
       "      <th>8</th>\n",
       "      <td>2023-03-31 14:03:53.063</td>\n",
       "      <td>fpcarrio@espol.edu.ec</td>\n",
       "      <td>Freddy Paul Carrión Maldonado</td>\n",
       "      <td>x</td>\n",
       "      <td>x</td>\n",
       "      <td>x</td>\n",
       "      <td>x</td>\n",
       "      <td>NaN</td>\n",
       "      <td>NaN</td>\n",
       "      <td>NaN</td>\n",
       "    </tr>\n",
       "    <tr>\n",
       "      <th>9</th>\n",
       "      <td>2023-03-31 14:09:00.103</td>\n",
       "      <td>angnmedi@espol.edu.ec</td>\n",
       "      <td>Angie Nicole Medina Toala</td>\n",
       "      <td>x</td>\n",
       "      <td>x</td>\n",
       "      <td>x</td>\n",
       "      <td>x</td>\n",
       "      <td>x</td>\n",
       "      <td>NaN</td>\n",
       "      <td>NaN</td>\n",
       "    </tr>\n",
       "    <tr>\n",
       "      <th>10</th>\n",
       "      <td>2023-03-31 14:11:46.495</td>\n",
       "      <td>juaedcag@espol.edu.ec</td>\n",
       "      <td>Juan Eduardo Caguana Amagua</td>\n",
       "      <td>NaN</td>\n",
       "      <td>NaN</td>\n",
       "      <td>x</td>\n",
       "      <td>x</td>\n",
       "      <td>NaN</td>\n",
       "      <td>NaN</td>\n",
       "      <td>NaN</td>\n",
       "    </tr>\n",
       "    <tr>\n",
       "      <th>11</th>\n",
       "      <td>2023-03-31 14:16:34.617</td>\n",
       "      <td>mogasant@espol.edu.ec</td>\n",
       "      <td>Mónica Gabriela Santos Carrasco</td>\n",
       "      <td>NaN</td>\n",
       "      <td>NaN</td>\n",
       "      <td>x</td>\n",
       "      <td>x</td>\n",
       "      <td>NaN</td>\n",
       "      <td>NaN</td>\n",
       "      <td>NaN</td>\n",
       "    </tr>\n",
       "    <tr>\n",
       "      <th>12</th>\n",
       "      <td>2023-03-31 14:19:05.046</td>\n",
       "      <td>nlgarcia@espol.edu.ec</td>\n",
       "      <td>Natividad Leonor Garcia Troncoso</td>\n",
       "      <td>NaN</td>\n",
       "      <td>NaN</td>\n",
       "      <td>NaN</td>\n",
       "      <td>x</td>\n",
       "      <td>NaN</td>\n",
       "      <td>NaN</td>\n",
       "      <td>NaN</td>\n",
       "    </tr>\n",
       "    <tr>\n",
       "      <th>13</th>\n",
       "      <td>2023-03-31 14:24:20.435</td>\n",
       "      <td>karmavil@espol.edu.ec</td>\n",
       "      <td>Karla Maytee Villamar Marazita</td>\n",
       "      <td>x</td>\n",
       "      <td>x</td>\n",
       "      <td>x</td>\n",
       "      <td>x</td>\n",
       "      <td>x</td>\n",
       "      <td>NaN</td>\n",
       "      <td>NaN</td>\n",
       "    </tr>\n",
       "    <tr>\n",
       "      <th>14</th>\n",
       "      <td>2023-03-31 14:42:13.097</td>\n",
       "      <td>mogasant@espol.edu.ec</td>\n",
       "      <td>Mónica Gabriela Santos Carrasco</td>\n",
       "      <td>NaN</td>\n",
       "      <td>x</td>\n",
       "      <td>NaN</td>\n",
       "      <td>NaN</td>\n",
       "      <td>NaN</td>\n",
       "      <td>NaN</td>\n",
       "      <td>NaN</td>\n",
       "    </tr>\n",
       "    <tr>\n",
       "      <th>15</th>\n",
       "      <td>2023-03-31 15:12:06.999</td>\n",
       "      <td>dandrade@espol.edu.ec</td>\n",
       "      <td>Deysi Albania Andrade Granda</td>\n",
       "      <td>NaN</td>\n",
       "      <td>NaN</td>\n",
       "      <td>NaN</td>\n",
       "      <td>x</td>\n",
       "      <td>NaN</td>\n",
       "      <td>NaN</td>\n",
       "      <td>NaN</td>\n",
       "    </tr>\n",
       "    <tr>\n",
       "      <th>16</th>\n",
       "      <td>2023-03-31 15:19:08.176</td>\n",
       "      <td>kenjduen@espol.edu.ec</td>\n",
       "      <td>Jairo Dueñas Tovar</td>\n",
       "      <td>x</td>\n",
       "      <td>NaN</td>\n",
       "      <td>NaN</td>\n",
       "      <td>x</td>\n",
       "      <td>x</td>\n",
       "      <td>NaN</td>\n",
       "      <td>NaN</td>\n",
       "    </tr>\n",
       "    <tr>\n",
       "      <th>17</th>\n",
       "      <td>2023-03-31 15:20:50.073</td>\n",
       "      <td>mgilces@espol.edu.ec</td>\n",
       "      <td>Mary Joseph Gilces Cajamarca</td>\n",
       "      <td>NaN</td>\n",
       "      <td>NaN</td>\n",
       "      <td>NaN</td>\n",
       "      <td>x</td>\n",
       "      <td>NaN</td>\n",
       "      <td>NaN</td>\n",
       "      <td>NaN</td>\n",
       "    </tr>\n",
       "    <tr>\n",
       "      <th>18</th>\n",
       "      <td>2023-03-31 15:34:55.688</td>\n",
       "      <td>ecolmont@espol.edu.ec</td>\n",
       "      <td>Enrique Colmont Villacres</td>\n",
       "      <td>NaN</td>\n",
       "      <td>x</td>\n",
       "      <td>x</td>\n",
       "      <td>x</td>\n",
       "      <td>x</td>\n",
       "      <td>NaN</td>\n",
       "      <td>NaN</td>\n",
       "    </tr>\n",
       "    <tr>\n",
       "      <th>19</th>\n",
       "      <td>2023-03-31 15:40:38.343</td>\n",
       "      <td>gialpena@espol.edu.ec</td>\n",
       "      <td>Gina Alejandra Peña Villacreses</td>\n",
       "      <td>x</td>\n",
       "      <td>x</td>\n",
       "      <td>NaN</td>\n",
       "      <td>x</td>\n",
       "      <td>x</td>\n",
       "      <td>NaN</td>\n",
       "      <td>NaN</td>\n",
       "    </tr>\n",
       "    <tr>\n",
       "      <th>20</th>\n",
       "      <td>2023-03-31 15:59:55.549</td>\n",
       "      <td>aavaldiv@espol.edu.ec</td>\n",
       "      <td>Angel Valdiviezo Ajila</td>\n",
       "      <td>NaN</td>\n",
       "      <td>x</td>\n",
       "      <td>NaN</td>\n",
       "      <td>NaN</td>\n",
       "      <td>x</td>\n",
       "      <td>NaN</td>\n",
       "      <td>NaN</td>\n",
       "    </tr>\n",
       "    <tr>\n",
       "      <th>21</th>\n",
       "      <td>2023-03-31 19:03:57.718</td>\n",
       "      <td>pvilela@espol.edu.ec</td>\n",
       "      <td>Paulina Elizabeth Vilela Govea, Ph. D.</td>\n",
       "      <td>x</td>\n",
       "      <td>x</td>\n",
       "      <td>x</td>\n",
       "      <td>x</td>\n",
       "      <td>x</td>\n",
       "      <td>NaN</td>\n",
       "      <td>NaN</td>\n",
       "    </tr>\n",
       "    <tr>\n",
       "      <th>22</th>\n",
       "      <td>2023-03-31 19:09:53.913</td>\n",
       "      <td>kftello@espol.edu.ec</td>\n",
       "      <td>Ken Francisco Tello Ayala</td>\n",
       "      <td>NaN</td>\n",
       "      <td>x</td>\n",
       "      <td>NaN</td>\n",
       "      <td>NaN</td>\n",
       "      <td>x</td>\n",
       "      <td>NaN</td>\n",
       "      <td>NaN</td>\n",
       "    </tr>\n",
       "    <tr>\n",
       "      <th>23</th>\n",
       "      <td>2023-04-01 08:29:58.851</td>\n",
       "      <td>jonimend@espol.edu.ec</td>\n",
       "      <td>Jonathan Israel Mendez Ruiz</td>\n",
       "      <td>x</td>\n",
       "      <td>x</td>\n",
       "      <td>NaN</td>\n",
       "      <td>NaN</td>\n",
       "      <td>NaN</td>\n",
       "      <td>NaN</td>\n",
       "      <td>NaN</td>\n",
       "    </tr>\n",
       "    <tr>\n",
       "      <th>24</th>\n",
       "      <td>2023-04-02 18:07:40.232</td>\n",
       "      <td>pacampov@espol.edu.ec</td>\n",
       "      <td>Paulo Andrés Campoverde Muñoz</td>\n",
       "      <td>NaN</td>\n",
       "      <td>x</td>\n",
       "      <td>NaN</td>\n",
       "      <td>NaN</td>\n",
       "      <td>x</td>\n",
       "      <td>NaN</td>\n",
       "      <td>NaN</td>\n",
       "    </tr>\n",
       "    <tr>\n",
       "      <th>25</th>\n",
       "      <td>2023-04-03 11:24:27.692</td>\n",
       "      <td>mirlopez@espol.edu.ec</td>\n",
       "      <td>Mónica López Moncada</td>\n",
       "      <td>NaN</td>\n",
       "      <td>NaN</td>\n",
       "      <td>NaN</td>\n",
       "      <td>x</td>\n",
       "      <td>x</td>\n",
       "      <td>NaN</td>\n",
       "      <td>NaN</td>\n",
       "    </tr>\n",
       "    <tr>\n",
       "      <th>26</th>\n",
       "      <td>2023-04-03 11:46:09.440</td>\n",
       "      <td>anjeclav@espol.edu.ec</td>\n",
       "      <td>Angel Jesus Clavijo Rivera</td>\n",
       "      <td>NaN</td>\n",
       "      <td>x</td>\n",
       "      <td>x</td>\n",
       "      <td>x</td>\n",
       "      <td>x</td>\n",
       "      <td>NaN</td>\n",
       "      <td>NaN</td>\n",
       "    </tr>\n",
       "    <tr>\n",
       "      <th>27</th>\n",
       "      <td>2023-04-03 12:23:26.419</td>\n",
       "      <td>mivavill@espol.edu.ec</td>\n",
       "      <td>Michelle Vanessa Villacís Verdesoto</td>\n",
       "      <td>NaN</td>\n",
       "      <td>NaN</td>\n",
       "      <td>x</td>\n",
       "      <td>x</td>\n",
       "      <td>x</td>\n",
       "      <td>NaN</td>\n",
       "      <td>NaN</td>\n",
       "    </tr>\n",
       "    <tr>\n",
       "      <th>28</th>\n",
       "      <td>2023-04-03 13:58:54.179</td>\n",
       "      <td>mayelord@espol.edu.ec</td>\n",
       "      <td>Maylin Elizabeth Ordoñez Obando</td>\n",
       "      <td>x</td>\n",
       "      <td>x</td>\n",
       "      <td>x</td>\n",
       "      <td>NaN</td>\n",
       "      <td>x</td>\n",
       "      <td>NaN</td>\n",
       "      <td>NaN</td>\n",
       "    </tr>\n",
       "    <tr>\n",
       "      <th>29</th>\n",
       "      <td>2023-04-03 16:15:56.749</td>\n",
       "      <td>daanarce@espol.edu.ec</td>\n",
       "      <td>DANILO ANDRES ARCENTALES BASTIDAS</td>\n",
       "      <td>NaN</td>\n",
       "      <td>NaN</td>\n",
       "      <td>NaN</td>\n",
       "      <td>NaN</td>\n",
       "      <td>x</td>\n",
       "      <td>NaN</td>\n",
       "      <td>NaN</td>\n",
       "    </tr>\n",
       "    <tr>\n",
       "      <th>30</th>\n",
       "      <td>2023-04-03 18:09:24.095</td>\n",
       "      <td>sebasuar@espol.edu.ec</td>\n",
       "      <td>Sebastián Alonso Suárez Zamora</td>\n",
       "      <td>NaN</td>\n",
       "      <td>NaN</td>\n",
       "      <td>x</td>\n",
       "      <td>x</td>\n",
       "      <td>x</td>\n",
       "      <td>NaN</td>\n",
       "      <td>NaN</td>\n",
       "    </tr>\n",
       "    <tr>\n",
       "      <th>31</th>\n",
       "      <td>2023-04-04 12:24:43.980</td>\n",
       "      <td>darialta@espol.edu.ec</td>\n",
       "      <td>David Ricardo Altamirano Moran</td>\n",
       "      <td>NaN</td>\n",
       "      <td>NaN</td>\n",
       "      <td>X</td>\n",
       "      <td>X</td>\n",
       "      <td>NaN</td>\n",
       "      <td>NaN</td>\n",
       "      <td>NaN</td>\n",
       "    </tr>\n",
       "    <tr>\n",
       "      <th>32</th>\n",
       "      <td>2023-04-04 14:08:02.003</td>\n",
       "      <td>jrreyes@espol.edu.ec</td>\n",
       "      <td>José Reyes</td>\n",
       "      <td>x</td>\n",
       "      <td>NaN</td>\n",
       "      <td>NaN</td>\n",
       "      <td>NaN</td>\n",
       "      <td>x</td>\n",
       "      <td>NaN</td>\n",
       "      <td>NaN</td>\n",
       "    </tr>\n",
       "    <tr>\n",
       "      <th>33</th>\n",
       "      <td>2023-04-04 14:09:15.138</td>\n",
       "      <td>Jsmendoz@espol.edu.ec</td>\n",
       "      <td>Jorge Mendoza</td>\n",
       "      <td>NaN</td>\n",
       "      <td>NaN</td>\n",
       "      <td>x</td>\n",
       "      <td>NaN</td>\n",
       "      <td>NaN</td>\n",
       "      <td>NaN</td>\n",
       "      <td>NaN</td>\n",
       "    </tr>\n",
       "    <tr>\n",
       "      <th>34</th>\n",
       "      <td>2023-04-04 14:09:16.769</td>\n",
       "      <td>aeguzman@espol.edu.ec</td>\n",
       "      <td>ANDRÉS EDUARDO GUZMÁN VELÁSQUEZ</td>\n",
       "      <td>NaN</td>\n",
       "      <td>x</td>\n",
       "      <td>NaN</td>\n",
       "      <td>NaN</td>\n",
       "      <td>x</td>\n",
       "      <td>NaN</td>\n",
       "      <td>NaN</td>\n",
       "    </tr>\n",
       "    <tr>\n",
       "      <th>35</th>\n",
       "      <td>2023-04-04 14:10:32.072</td>\n",
       "      <td>jolizamb@espol.edu.ec</td>\n",
       "      <td>Johanna Lisseth Zambrano Anchundia</td>\n",
       "      <td>x</td>\n",
       "      <td>NaN</td>\n",
       "      <td>NaN</td>\n",
       "      <td>NaN</td>\n",
       "      <td>NaN</td>\n",
       "      <td>NaN</td>\n",
       "      <td>NaN</td>\n",
       "    </tr>\n",
       "    <tr>\n",
       "      <th>36</th>\n",
       "      <td>2023-04-04 14:11:00.885</td>\n",
       "      <td>fsagnay@espol.edu.ec</td>\n",
       "      <td>Fernando Sagnay</td>\n",
       "      <td>NaN</td>\n",
       "      <td>x</td>\n",
       "      <td>NaN</td>\n",
       "      <td>NaN</td>\n",
       "      <td>NaN</td>\n",
       "      <td>NaN</td>\n",
       "      <td>NaN</td>\n",
       "    </tr>\n",
       "    <tr>\n",
       "      <th>37</th>\n",
       "      <td>2023-04-04 14:12:58.573</td>\n",
       "      <td>rsayala@espol.edu.ec</td>\n",
       "      <td>René Ayala Lomas</td>\n",
       "      <td>NaN</td>\n",
       "      <td>NaN</td>\n",
       "      <td>x</td>\n",
       "      <td>x</td>\n",
       "      <td>x</td>\n",
       "      <td>NaN</td>\n",
       "      <td>NaN</td>\n",
       "    </tr>\n",
       "    <tr>\n",
       "      <th>38</th>\n",
       "      <td>2023-04-04 14:22:03.034</td>\n",
       "      <td>kmmuthre@espol.edu.ec</td>\n",
       "      <td>Mishelle Muthre</td>\n",
       "      <td>NaN</td>\n",
       "      <td>x</td>\n",
       "      <td>NaN</td>\n",
       "      <td>NaN</td>\n",
       "      <td>NaN</td>\n",
       "      <td>NaN</td>\n",
       "      <td>NaN</td>\n",
       "    </tr>\n",
       "    <tr>\n",
       "      <th>39</th>\n",
       "      <td>2023-04-04 14:25:35.116</td>\n",
       "      <td>dfalquez@espol.edu.ec</td>\n",
       "      <td>Daniel Andrés Falquez Torres</td>\n",
       "      <td>NaN</td>\n",
       "      <td>NaN</td>\n",
       "      <td>NaN</td>\n",
       "      <td>NaN</td>\n",
       "      <td>x</td>\n",
       "      <td>NaN</td>\n",
       "      <td>NaN</td>\n",
       "    </tr>\n",
       "    <tr>\n",
       "      <th>40</th>\n",
       "      <td>2023-04-04 14:35:32.383</td>\n",
       "      <td>nancyvict593@gmail.com</td>\n",
       "      <td>Nancy Zumba</td>\n",
       "      <td>x</td>\n",
       "      <td>NaN</td>\n",
       "      <td>NaN</td>\n",
       "      <td>NaN</td>\n",
       "      <td>NaN</td>\n",
       "      <td>NaN</td>\n",
       "      <td>NaN</td>\n",
       "    </tr>\n",
       "    <tr>\n",
       "      <th>41</th>\n",
       "      <td>2023-04-04 15:15:00.054</td>\n",
       "      <td>pacampov@espol.edu.ec</td>\n",
       "      <td>Paulo Andrés Campoverde Muñoz</td>\n",
       "      <td>NaN</td>\n",
       "      <td>x</td>\n",
       "      <td>x</td>\n",
       "      <td>NaN</td>\n",
       "      <td>NaN</td>\n",
       "      <td>NaN</td>\n",
       "      <td>NaN</td>\n",
       "    </tr>\n",
       "    <tr>\n",
       "      <th>42</th>\n",
       "      <td>2023-04-04 15:18:20.388</td>\n",
       "      <td>olema@espol.edu.ec</td>\n",
       "      <td>Osmar G. Lema Caicedo</td>\n",
       "      <td>x</td>\n",
       "      <td>x</td>\n",
       "      <td>NaN</td>\n",
       "      <td>NaN</td>\n",
       "      <td>x</td>\n",
       "      <td>NaN</td>\n",
       "      <td>NaN</td>\n",
       "    </tr>\n",
       "    <tr>\n",
       "      <th>43</th>\n",
       "      <td>2023-04-04 16:06:06.836</td>\n",
       "      <td>chbustam@espol.edu.ec</td>\n",
       "      <td>Carlos Hugo Bustamante Torres</td>\n",
       "      <td>x</td>\n",
       "      <td>NaN</td>\n",
       "      <td>x</td>\n",
       "      <td>x</td>\n",
       "      <td>x</td>\n",
       "      <td>NaN</td>\n",
       "      <td>NaN</td>\n",
       "    </tr>\n",
       "    <tr>\n",
       "      <th>44</th>\n",
       "      <td>2023-04-04 16:12:09.213</td>\n",
       "      <td>luisanch@espol.edu.ec</td>\n",
       "      <td>Luis Sanchez Calderon</td>\n",
       "      <td>NaN</td>\n",
       "      <td>NaN</td>\n",
       "      <td>NaN</td>\n",
       "      <td>NaN</td>\n",
       "      <td>x</td>\n",
       "      <td>NaN</td>\n",
       "      <td>NaN</td>\n",
       "    </tr>\n",
       "    <tr>\n",
       "      <th>45</th>\n",
       "      <td>2023-04-04 16:13:34.684</td>\n",
       "      <td>cholmoli@espol.edu.ec</td>\n",
       "      <td>MOLINA POW CHON LONG JOSUE ALEJANDRO</td>\n",
       "      <td>NaN</td>\n",
       "      <td>NaN</td>\n",
       "      <td>x</td>\n",
       "      <td>x</td>\n",
       "      <td>NaN</td>\n",
       "      <td>NaN</td>\n",
       "      <td>NaN</td>\n",
       "    </tr>\n",
       "    <tr>\n",
       "      <th>46</th>\n",
       "      <td>2023-04-05 08:47:05.151</td>\n",
       "      <td>jabrione@espol.edu.ec</td>\n",
       "      <td>Johnny Arián Briones Escalante</td>\n",
       "      <td>x</td>\n",
       "      <td>NaN</td>\n",
       "      <td>NaN</td>\n",
       "      <td>NaN</td>\n",
       "      <td>x</td>\n",
       "      <td>NaN</td>\n",
       "      <td>NaN</td>\n",
       "    </tr>\n",
       "    <tr>\n",
       "      <th>47</th>\n",
       "      <td>2023-04-05 09:54:17.241</td>\n",
       "      <td>mccastil@espol.edu.ec</td>\n",
       "      <td>María Cecibel Castillo Olvera</td>\n",
       "      <td>NaN</td>\n",
       "      <td>x</td>\n",
       "      <td>NaN</td>\n",
       "      <td>NaN</td>\n",
       "      <td>x</td>\n",
       "      <td>NaN</td>\n",
       "      <td>NaN</td>\n",
       "    </tr>\n",
       "    <tr>\n",
       "      <th>48</th>\n",
       "      <td>2023-04-05 11:13:08.102</td>\n",
       "      <td>mirlopez@espol.edu.ec</td>\n",
       "      <td>Mónica López Moncada</td>\n",
       "      <td>NaN</td>\n",
       "      <td>x</td>\n",
       "      <td>NaN</td>\n",
       "      <td>NaN</td>\n",
       "      <td>NaN</td>\n",
       "      <td>NaN</td>\n",
       "      <td>NaN</td>\n",
       "    </tr>\n",
       "    <tr>\n",
       "      <th>49</th>\n",
       "      <td>2023-04-05 12:23:16.181</td>\n",
       "      <td>kataesco@espol.edu.ec</td>\n",
       "      <td>Katherine Tatiana Escobar Pesantes</td>\n",
       "      <td>NaN</td>\n",
       "      <td>NaN</td>\n",
       "      <td>NaN</td>\n",
       "      <td>x</td>\n",
       "      <td>NaN</td>\n",
       "      <td>NaN</td>\n",
       "      <td>NaN</td>\n",
       "    </tr>\n",
       "    <tr>\n",
       "      <th>50</th>\n",
       "      <td>2023-04-06 14:24:22.212</td>\n",
       "      <td>crsavazq@espol.edu.ec</td>\n",
       "      <td>CRISTIAN ALFONSO SALAS VÁZQUEZ</td>\n",
       "      <td>X</td>\n",
       "      <td>X</td>\n",
       "      <td>NaN</td>\n",
       "      <td>NaN</td>\n",
       "      <td>X</td>\n",
       "      <td>NaN</td>\n",
       "      <td>NaN</td>\n",
       "    </tr>\n",
       "    <tr>\n",
       "      <th>51</th>\n",
       "      <td>2023-04-06 14:26:15.914</td>\n",
       "      <td>whurtare@espol.edu.ec</td>\n",
       "      <td>Walter Hurtares Orrala</td>\n",
       "      <td>NaN</td>\n",
       "      <td>NaN</td>\n",
       "      <td>NaN</td>\n",
       "      <td>NaN</td>\n",
       "      <td>X</td>\n",
       "      <td>NaN</td>\n",
       "      <td>NaN</td>\n",
       "    </tr>\n",
       "  </tbody>\n",
       "</table>\n",
       "</div>"
      ],
      "text/plain": [
       "            Marca temporal Dirección de correo electrónico  \\\n",
       "0  2023-03-31 13:51:37.715           cgoyburo@espol.edu.ec   \n",
       "1  2023-03-31 13:55:33.574           dvelaste@espol.edu.ec   \n",
       "2  2023-03-31 13:55:34.843               dpaz@espol.edu.ec   \n",
       "3  2023-03-31 13:58:01.143           nlagasca@espol.edu.ec   \n",
       "4  2023-03-31 13:58:17.832           fetorres@espol.edu.ec   \n",
       "5  2023-03-31 13:58:24.426             mmulas@espol.edu.ec   \n",
       "6  2023-03-31 14:00:45.818            ogarces@espol.edu.ec   \n",
       "7  2023-03-31 14:03:05.350           pestolay@espol.edu.ec   \n",
       "8  2023-03-31 14:03:53.063           fpcarrio@espol.edu.ec   \n",
       "9  2023-03-31 14:09:00.103           angnmedi@espol.edu.ec   \n",
       "10 2023-03-31 14:11:46.495           juaedcag@espol.edu.ec   \n",
       "11 2023-03-31 14:16:34.617           mogasant@espol.edu.ec   \n",
       "12 2023-03-31 14:19:05.046           nlgarcia@espol.edu.ec   \n",
       "13 2023-03-31 14:24:20.435           karmavil@espol.edu.ec   \n",
       "14 2023-03-31 14:42:13.097           mogasant@espol.edu.ec   \n",
       "15 2023-03-31 15:12:06.999           dandrade@espol.edu.ec   \n",
       "16 2023-03-31 15:19:08.176           kenjduen@espol.edu.ec   \n",
       "17 2023-03-31 15:20:50.073            mgilces@espol.edu.ec   \n",
       "18 2023-03-31 15:34:55.688           ecolmont@espol.edu.ec   \n",
       "19 2023-03-31 15:40:38.343           gialpena@espol.edu.ec   \n",
       "20 2023-03-31 15:59:55.549           aavaldiv@espol.edu.ec   \n",
       "21 2023-03-31 19:03:57.718            pvilela@espol.edu.ec   \n",
       "22 2023-03-31 19:09:53.913            kftello@espol.edu.ec   \n",
       "23 2023-04-01 08:29:58.851           jonimend@espol.edu.ec   \n",
       "24 2023-04-02 18:07:40.232           pacampov@espol.edu.ec   \n",
       "25 2023-04-03 11:24:27.692           mirlopez@espol.edu.ec   \n",
       "26 2023-04-03 11:46:09.440           anjeclav@espol.edu.ec   \n",
       "27 2023-04-03 12:23:26.419           mivavill@espol.edu.ec   \n",
       "28 2023-04-03 13:58:54.179           mayelord@espol.edu.ec   \n",
       "29 2023-04-03 16:15:56.749           daanarce@espol.edu.ec   \n",
       "30 2023-04-03 18:09:24.095           sebasuar@espol.edu.ec   \n",
       "31 2023-04-04 12:24:43.980           darialta@espol.edu.ec   \n",
       "32 2023-04-04 14:08:02.003            jrreyes@espol.edu.ec   \n",
       "33 2023-04-04 14:09:15.138           Jsmendoz@espol.edu.ec   \n",
       "34 2023-04-04 14:09:16.769           aeguzman@espol.edu.ec   \n",
       "35 2023-04-04 14:10:32.072           jolizamb@espol.edu.ec   \n",
       "36 2023-04-04 14:11:00.885            fsagnay@espol.edu.ec   \n",
       "37 2023-04-04 14:12:58.573            rsayala@espol.edu.ec   \n",
       "38 2023-04-04 14:22:03.034           kmmuthre@espol.edu.ec   \n",
       "39 2023-04-04 14:25:35.116           dfalquez@espol.edu.ec   \n",
       "40 2023-04-04 14:35:32.383          nancyvict593@gmail.com   \n",
       "41 2023-04-04 15:15:00.054           pacampov@espol.edu.ec   \n",
       "42 2023-04-04 15:18:20.388              olema@espol.edu.ec   \n",
       "43 2023-04-04 16:06:06.836           chbustam@espol.edu.ec   \n",
       "44 2023-04-04 16:12:09.213           luisanch@espol.edu.ec   \n",
       "45 2023-04-04 16:13:34.684           cholmoli@espol.edu.ec   \n",
       "46 2023-04-05 08:47:05.151           jabrione@espol.edu.ec   \n",
       "47 2023-04-05 09:54:17.241           mccastil@espol.edu.ec   \n",
       "48 2023-04-05 11:13:08.102           mirlopez@espol.edu.ec   \n",
       "49 2023-04-05 12:23:16.181           kataesco@espol.edu.ec   \n",
       "50 2023-04-06 14:24:22.212           crsavazq@espol.edu.ec   \n",
       "51 2023-04-06 14:26:15.914           whurtare@espol.edu.ec   \n",
       "\n",
       "                         Nombres Completos Capacitaciones  AWC  \\\n",
       "0             Cindy Samanda Goyburo Chávez              x    x   \n",
       "1                Andrés Velástegui Montoya            NaN    x   \n",
       "2            Daniela Margarita Paz Barzola              x    x   \n",
       "3               Nadia José Lagasca Loaiza               x    x   \n",
       "4          Federico Ricardo Torres Negrete              x  NaN   \n",
       "5                           Maurizio Mulas            NaN    x   \n",
       "6                 Daniel Omar Garces Leon             NaN  NaN   \n",
       "7                       Peter Olaya Carbo             NaN    x   \n",
       "8            Freddy Paul Carrión Maldonado              x    x   \n",
       "9                Angie Nicole Medina Toala              x    x   \n",
       "10             Juan Eduardo Caguana Amagua            NaN  NaN   \n",
       "11         Mónica Gabriela Santos Carrasco            NaN  NaN   \n",
       "12        Natividad Leonor Garcia Troncoso            NaN  NaN   \n",
       "13          Karla Maytee Villamar Marazita              x    x   \n",
       "14         Mónica Gabriela Santos Carrasco            NaN    x   \n",
       "15            Deysi Albania Andrade Granda            NaN  NaN   \n",
       "16                      Jairo Dueñas Tovar              x  NaN   \n",
       "17            Mary Joseph Gilces Cajamarca            NaN  NaN   \n",
       "18               Enrique Colmont Villacres            NaN    x   \n",
       "19         Gina Alejandra Peña Villacreses              x    x   \n",
       "20                  Angel Valdiviezo Ajila            NaN    x   \n",
       "21  Paulina Elizabeth Vilela Govea, Ph. D.              x    x   \n",
       "22               Ken Francisco Tello Ayala            NaN    x   \n",
       "23             Jonathan Israel Mendez Ruiz              x    x   \n",
       "24          Paulo Andrés Campoverde Muñoz             NaN    x   \n",
       "25                    Mónica López Moncada            NaN  NaN   \n",
       "26              Angel Jesus Clavijo Rivera            NaN    x   \n",
       "27     Michelle Vanessa Villacís Verdesoto            NaN  NaN   \n",
       "28         Maylin Elizabeth Ordoñez Obando              x    x   \n",
       "29       DANILO ANDRES ARCENTALES BASTIDAS            NaN  NaN   \n",
       "30          Sebastián Alonso Suárez Zamora            NaN  NaN   \n",
       "31          David Ricardo Altamirano Moran            NaN  NaN   \n",
       "32                              José Reyes              x  NaN   \n",
       "33                          Jorge Mendoza             NaN  NaN   \n",
       "34         ANDRÉS EDUARDO GUZMÁN VELÁSQUEZ            NaN    x   \n",
       "35     Johanna Lisseth Zambrano Anchundia               x  NaN   \n",
       "36                         Fernando Sagnay            NaN    x   \n",
       "37                       René Ayala Lomas             NaN  NaN   \n",
       "38                         Mishelle Muthre            NaN    x   \n",
       "39            Daniel Andrés Falquez Torres            NaN  NaN   \n",
       "40                             Nancy Zumba              x  NaN   \n",
       "41           Paulo Andrés Campoverde Muñoz            NaN    x   \n",
       "42                   Osmar G. Lema Caicedo              x    x   \n",
       "43          Carlos Hugo Bustamante Torres               x  NaN   \n",
       "44                   Luis Sanchez Calderon            NaN  NaN   \n",
       "45    MOLINA POW CHON LONG JOSUE ALEJANDRO            NaN  NaN   \n",
       "46          Johnny Arián Briones Escalante              x  NaN   \n",
       "47           María Cecibel Castillo Olvera            NaN    x   \n",
       "48                    Mónica López Moncada            NaN    x   \n",
       "49      Katherine Tatiana Escobar Pesantes            NaN  NaN   \n",
       "50          CRISTIAN ALFONSO SALAS VÁZQUEZ              X    X   \n",
       "51                  Walter Hurtares Orrala            NaN  NaN   \n",
       "\n",
       "   Bienestar Psicológico Herramientas para Generar Bienestar Python  \\\n",
       "0                      x                                   x      x   \n",
       "1                    NaN                                 NaN      x   \n",
       "2                      x                                   x      x   \n",
       "3                      x                                   x      x   \n",
       "4                      x                                   x      x   \n",
       "5                      x                                   x    NaN   \n",
       "6                      x                                 NaN      x   \n",
       "7                      x                                   x    NaN   \n",
       "8                      x                                   x    NaN   \n",
       "9                      x                                   x      x   \n",
       "10                     x                                   x    NaN   \n",
       "11                     x                                   x    NaN   \n",
       "12                   NaN                                   x    NaN   \n",
       "13                     x                                   x      x   \n",
       "14                   NaN                                 NaN    NaN   \n",
       "15                   NaN                                   x    NaN   \n",
       "16                   NaN                                   x      x   \n",
       "17                   NaN                                   x    NaN   \n",
       "18                     x                                   x      x   \n",
       "19                   NaN                                   x      x   \n",
       "20                   NaN                                 NaN      x   \n",
       "21                     x                                   x      x   \n",
       "22                   NaN                                 NaN      x   \n",
       "23                   NaN                                 NaN    NaN   \n",
       "24                   NaN                                 NaN      x   \n",
       "25                   NaN                                   x      x   \n",
       "26                     x                                   x      x   \n",
       "27                     x                                   x      x   \n",
       "28                     x                                 NaN      x   \n",
       "29                   NaN                                 NaN      x   \n",
       "30                     x                                   x      x   \n",
       "31                     X                                   X    NaN   \n",
       "32                   NaN                                 NaN      x   \n",
       "33                     x                                 NaN    NaN   \n",
       "34                   NaN                                 NaN      x   \n",
       "35                   NaN                                 NaN    NaN   \n",
       "36                   NaN                                 NaN    NaN   \n",
       "37                     x                                   x      x   \n",
       "38                   NaN                                 NaN    NaN   \n",
       "39                   NaN                                 NaN      x   \n",
       "40                   NaN                                 NaN    NaN   \n",
       "41                     x                                 NaN    NaN   \n",
       "42                   NaN                                 NaN      x   \n",
       "43                     x                                   x      x   \n",
       "44                   NaN                                 NaN      x   \n",
       "45                     x                                   x    NaN   \n",
       "46                   NaN                                 NaN      x   \n",
       "47                   NaN                                 NaN      x   \n",
       "48                   NaN                                 NaN    NaN   \n",
       "49                   NaN                                   x    NaN   \n",
       "50                   NaN                                 NaN      X   \n",
       "51                   NaN                                 NaN      X   \n",
       "\n",
       "    Unnamed: 8  Unnamed: 9  \n",
       "0          NaN         NaN  \n",
       "1          NaN         NaN  \n",
       "2          NaN         NaN  \n",
       "3          NaN         NaN  \n",
       "4          NaN         NaN  \n",
       "5          NaN         NaN  \n",
       "6          NaN         NaN  \n",
       "7          NaN         NaN  \n",
       "8          NaN         NaN  \n",
       "9          NaN         NaN  \n",
       "10         NaN         NaN  \n",
       "11         NaN         NaN  \n",
       "12         NaN         NaN  \n",
       "13         NaN         NaN  \n",
       "14         NaN         NaN  \n",
       "15         NaN         NaN  \n",
       "16         NaN         NaN  \n",
       "17         NaN         NaN  \n",
       "18         NaN         NaN  \n",
       "19         NaN         NaN  \n",
       "20         NaN         NaN  \n",
       "21         NaN         NaN  \n",
       "22         NaN         NaN  \n",
       "23         NaN         NaN  \n",
       "24         NaN         NaN  \n",
       "25         NaN         NaN  \n",
       "26         NaN         NaN  \n",
       "27         NaN         NaN  \n",
       "28         NaN         NaN  \n",
       "29         NaN         NaN  \n",
       "30         NaN         NaN  \n",
       "31         NaN         NaN  \n",
       "32         NaN         NaN  \n",
       "33         NaN         NaN  \n",
       "34         NaN         NaN  \n",
       "35         NaN         NaN  \n",
       "36         NaN         NaN  \n",
       "37         NaN         NaN  \n",
       "38         NaN         NaN  \n",
       "39         NaN         NaN  \n",
       "40         NaN         NaN  \n",
       "41         NaN         NaN  \n",
       "42         NaN         NaN  \n",
       "43         NaN         NaN  \n",
       "44         NaN         NaN  \n",
       "45         NaN         NaN  \n",
       "46         NaN         NaN  \n",
       "47         NaN         NaN  \n",
       "48         NaN         NaN  \n",
       "49         NaN         NaN  \n",
       "50         NaN         NaN  \n",
       "51         NaN         NaN  "
      ]
     },
     "execution_count": 86,
     "metadata": {},
     "output_type": "execute_result"
    }
   ],
   "source": [
    "# Import data from FICT Courses\n",
    "\n"
   ]
  },
  {
   "cell_type": "code",
   "execution_count": 87,
   "metadata": {
    "cell_id": "1ca02ad77c224ebf95da2a67bb1093d4",
    "deepnote_cell_type": "code",
    "deepnote_to_be_reexecuted": false,
    "execution_millis": 121,
    "execution_start": 1681998677942,
    "source_hash": "5b3a218f"
   },
   "outputs": [
    {
     "name": "stdout",
     "output_type": "stream",
     "text": [
      "<class 'pandas.core.frame.DataFrame'>\n",
      "RangeIndex: 52 entries, 0 to 51\n",
      "Data columns (total 10 columns):\n",
      " #   Column                               Non-Null Count  Dtype         \n",
      "---  ------                               --------------  -----         \n",
      " 0   Marca temporal                       52 non-null     datetime64[ns]\n",
      " 1   Dirección de correo electrónico      52 non-null     object        \n",
      " 2   Nombres Completos                    52 non-null     object        \n",
      " 3   Capacitaciones                       19 non-null     object        \n",
      " 4   AWC                                  27 non-null     object        \n",
      " 5   Bienestar Psicológico                24 non-null     object        \n",
      " 6   Herramientas para Generar Bienestar  27 non-null     object        \n",
      " 7   Python                               32 non-null     object        \n",
      " 8   Unnamed: 8                           0 non-null      float64       \n",
      " 9   Unnamed: 9                           0 non-null      float64       \n",
      "dtypes: datetime64[ns](1), float64(2), object(7)\n",
      "memory usage: 4.2+ KB\n"
     ]
    }
   ],
   "source": [
    "# Data summary\n"
   ]
  },
  {
   "cell_type": "code",
   "execution_count": 88,
   "metadata": {
    "cell_id": "e78c8786b1924a398cf4e5c0b8684563",
    "deepnote_cell_type": "code",
    "deepnote_to_be_reexecuted": false,
    "execution_millis": 101,
    "execution_start": 1681998677962,
    "source_hash": "9ced075e"
   },
   "outputs": [
    {
     "data": {
      "application/vnd.deepnote.dataframe.v3+json": {
       "column_count": 10,
       "columns": [
        {
         "dtype": "datetime64[ns]",
         "name": "Marca temporal",
         "stats": {
          "histogram": [
           {
            "bin_end": 1680322745534900000,
            "bin_start": 1680270697715000000,
            "count": 23
           },
           {
            "bin_end": 1680374793354800000,
            "bin_start": 1680322745534900000,
            "count": 1
           },
           {
            "bin_end": 1680426841174700000,
            "bin_start": 1680374793354800000,
            "count": 0
           },
           {
            "bin_end": 1680478888994600000,
            "bin_start": 1680426841174700000,
            "count": 1
           },
           {
            "bin_end": 1680530936814499800,
            "bin_start": 1680478888994600000,
            "count": 4
           },
           {
            "bin_end": 1680582984634400000,
            "bin_start": 1680530936814499800,
            "count": 2
           },
           {
            "bin_end": 1680635032454300000,
            "bin_start": 1680582984634400000,
            "count": 15
           },
           {
            "bin_end": 1680687080274199800,
            "bin_start": 1680635032454300000,
            "count": 1
           },
           {
            "bin_end": 1680739128094100000,
            "bin_start": 1680687080274199800,
            "count": 3
           },
           {
            "bin_end": 1680791175914000000,
            "bin_start": 1680739128094100000,
            "count": 2
           }
          ],
          "max": "2023-04-06 14:26:15.914000",
          "min": "2023-03-31 13:51:37.715000",
          "nan_count": 0,
          "unique_count": 52
         }
        },
        {
         "dtype": "object",
         "name": "Correo",
         "stats": {
          "categories": [
           {
            "count": 2,
            "name": "mogasant@espol.edu.ec"
           },
           {
            "count": 2,
            "name": "pacampov@espol.edu.ec"
           },
           {
            "count": 48,
            "name": "47 others"
           }
          ],
          "nan_count": 0,
          "unique_count": 49
         }
        },
        {
         "dtype": "object",
         "name": "Nombres",
         "stats": {
          "categories": [
           {
            "count": 2,
            "name": "Mónica Gabriela Santos Carrasco"
           },
           {
            "count": 2,
            "name": "Mónica López Moncada"
           },
           {
            "count": 48,
            "name": "48 others"
           }
          ],
          "nan_count": 0,
          "unique_count": 50
         }
        },
        {
         "dtype": "object",
         "name": "GIS",
         "stats": {
          "categories": [
           {
            "count": 18,
            "name": "x"
           },
           {
            "count": 1,
            "name": "X"
           },
           {
            "count": 33,
            "name": "Missing"
           }
          ],
          "nan_count": 33,
          "unique_count": 2
         }
        },
        {
         "dtype": "object",
         "name": "AWC",
         "stats": {
          "categories": [
           {
            "count": 26,
            "name": "x"
           },
           {
            "count": 1,
            "name": "X"
           },
           {
            "count": 25,
            "name": "Missing"
           }
          ],
          "nan_count": 25,
          "unique_count": 2
         }
        },
        {
         "dtype": "object",
         "name": "Bienestar Psicológico",
         "stats": {
          "categories": [
           {
            "count": 23,
            "name": "x"
           },
           {
            "count": 1,
            "name": "X"
           },
           {
            "count": 28,
            "name": "Missing"
           }
          ],
          "nan_count": 28,
          "unique_count": 2
         }
        },
        {
         "dtype": "object",
         "name": "Herramientas para Generar Bienestar",
         "stats": {
          "categories": [
           {
            "count": 26,
            "name": "x"
           },
           {
            "count": 1,
            "name": "X"
           },
           {
            "count": 25,
            "name": "Missing"
           }
          ],
          "nan_count": 25,
          "unique_count": 2
         }
        },
        {
         "dtype": "object",
         "name": "Python",
         "stats": {
          "categories": [
           {
            "count": 30,
            "name": "x"
           },
           {
            "count": 2,
            "name": "X"
           },
           {
            "count": 20,
            "name": "Missing"
           }
          ],
          "nan_count": 20,
          "unique_count": 2
         }
        },
        {
         "dtype": "float64",
         "name": "Unnamed: 8",
         "stats": {
          "histogram": [
           {
            "bin_end": 0.1,
            "bin_start": 0,
            "count": 0
           },
           {
            "bin_end": 0.2,
            "bin_start": 0.1,
            "count": 0
           },
           {
            "bin_end": 0.30000000000000004,
            "bin_start": 0.2,
            "count": 0
           },
           {
            "bin_end": 0.4,
            "bin_start": 0.30000000000000004,
            "count": 0
           },
           {
            "bin_end": 0.5,
            "bin_start": 0.4,
            "count": 0
           },
           {
            "bin_end": 0.6000000000000001,
            "bin_start": 0.5,
            "count": 0
           },
           {
            "bin_end": 0.7000000000000001,
            "bin_start": 0.6000000000000001,
            "count": 0
           },
           {
            "bin_end": 0.8,
            "bin_start": 0.7000000000000001,
            "count": 0
           },
           {
            "bin_end": 0.9,
            "bin_start": 0.8,
            "count": 0
           },
           {
            "bin_end": 1,
            "bin_start": 0.9,
            "count": 0
           }
          ],
          "max": null,
          "min": null,
          "nan_count": 52,
          "unique_count": 0
         }
        },
        {
         "dtype": "float64",
         "name": "Unnamed: 9",
         "stats": {
          "histogram": [
           {
            "bin_end": 0.1,
            "bin_start": 0,
            "count": 0
           },
           {
            "bin_end": 0.2,
            "bin_start": 0.1,
            "count": 0
           },
           {
            "bin_end": 0.30000000000000004,
            "bin_start": 0.2,
            "count": 0
           },
           {
            "bin_end": 0.4,
            "bin_start": 0.30000000000000004,
            "count": 0
           },
           {
            "bin_end": 0.5,
            "bin_start": 0.4,
            "count": 0
           },
           {
            "bin_end": 0.6000000000000001,
            "bin_start": 0.5,
            "count": 0
           },
           {
            "bin_end": 0.7000000000000001,
            "bin_start": 0.6000000000000001,
            "count": 0
           },
           {
            "bin_end": 0.8,
            "bin_start": 0.7000000000000001,
            "count": 0
           },
           {
            "bin_end": 0.9,
            "bin_start": 0.8,
            "count": 0
           },
           {
            "bin_end": 1,
            "bin_start": 0.9,
            "count": 0
           }
          ],
          "max": null,
          "min": null,
          "nan_count": 52,
          "unique_count": 0
         }
        },
        {
         "dtype": "int64",
         "name": "_deepnote_index_column"
        }
       ],
       "row_count": 52,
       "rows": [
        {
         "AWC": "x",
         "Bienestar Psicológico": "x",
         "Correo": "cgoyburo@espol.edu.ec",
         "GIS": "x",
         "Herramientas para Generar Bienestar": "x",
         "Marca temporal": "2023-03-31 13:51:37.715000",
         "Nombres": "Cindy Samanda Goyburo Chávez",
         "Python": "x",
         "Unnamed: 8": "nan",
         "Unnamed: 9": "nan",
         "_deepnote_index_column": "0"
        },
        {
         "AWC": "x",
         "Bienestar Psicológico": "nan",
         "Correo": "dvelaste@espol.edu.ec",
         "GIS": "nan",
         "Herramientas para Generar Bienestar": "nan",
         "Marca temporal": "2023-03-31 13:55:33.574000",
         "Nombres": "Andrés Velástegui Montoya",
         "Python": "x",
         "Unnamed: 8": "nan",
         "Unnamed: 9": "nan",
         "_deepnote_index_column": "1"
        },
        {
         "AWC": "x",
         "Bienestar Psicológico": "x",
         "Correo": "dpaz@espol.edu.ec",
         "GIS": "x",
         "Herramientas para Generar Bienestar": "x",
         "Marca temporal": "2023-03-31 13:55:34.843000",
         "Nombres": "Daniela Margarita Paz Barzola",
         "Python": "x",
         "Unnamed: 8": "nan",
         "Unnamed: 9": "nan",
         "_deepnote_index_column": "2"
        },
        {
         "AWC": "x",
         "Bienestar Psicológico": "x",
         "Correo": "nlagasca@espol.edu.ec",
         "GIS": "x",
         "Herramientas para Generar Bienestar": "x",
         "Marca temporal": "2023-03-31 13:58:01.143000",
         "Nombres": "Nadia José Lagasca Loaiza ",
         "Python": "x",
         "Unnamed: 8": "nan",
         "Unnamed: 9": "nan",
         "_deepnote_index_column": "3"
        },
        {
         "AWC": "nan",
         "Bienestar Psicológico": "x",
         "Correo": "fetorres@espol.edu.ec",
         "GIS": "x",
         "Herramientas para Generar Bienestar": "x",
         "Marca temporal": "2023-03-31 13:58:17.832000",
         "Nombres": "Federico Ricardo Torres Negrete",
         "Python": "x",
         "Unnamed: 8": "nan",
         "Unnamed: 9": "nan",
         "_deepnote_index_column": "4"
        },
        {
         "AWC": "x",
         "Bienestar Psicológico": "x",
         "Correo": "mmulas@espol.edu.ec",
         "GIS": "nan",
         "Herramientas para Generar Bienestar": "x",
         "Marca temporal": "2023-03-31 13:58:24.426000",
         "Nombres": "Maurizio Mulas",
         "Python": "nan",
         "Unnamed: 8": "nan",
         "Unnamed: 9": "nan",
         "_deepnote_index_column": "5"
        },
        {
         "AWC": "nan",
         "Bienestar Psicológico": "x",
         "Correo": "ogarces@espol.edu.ec",
         "GIS": "nan",
         "Herramientas para Generar Bienestar": "nan",
         "Marca temporal": "2023-03-31 14:00:45.818000",
         "Nombres": "Daniel Omar Garces Leon ",
         "Python": "x",
         "Unnamed: 8": "nan",
         "Unnamed: 9": "nan",
         "_deepnote_index_column": "6"
        },
        {
         "AWC": "x",
         "Bienestar Psicológico": "x",
         "Correo": "pestolay@espol.edu.ec",
         "GIS": "nan",
         "Herramientas para Generar Bienestar": "x",
         "Marca temporal": "2023-03-31 14:03:05.350000",
         "Nombres": "Peter Olaya Carbo ",
         "Python": "nan",
         "Unnamed: 8": "nan",
         "Unnamed: 9": "nan",
         "_deepnote_index_column": "7"
        },
        {
         "AWC": "x",
         "Bienestar Psicológico": "x",
         "Correo": "fpcarrio@espol.edu.ec",
         "GIS": "x",
         "Herramientas para Generar Bienestar": "x",
         "Marca temporal": "2023-03-31 14:03:53.063000",
         "Nombres": "Freddy Paul Carrión Maldonado",
         "Python": "nan",
         "Unnamed: 8": "nan",
         "Unnamed: 9": "nan",
         "_deepnote_index_column": "8"
        },
        {
         "AWC": "x",
         "Bienestar Psicológico": "x",
         "Correo": "angnmedi@espol.edu.ec",
         "GIS": "x",
         "Herramientas para Generar Bienestar": "x",
         "Marca temporal": "2023-03-31 14:09:00.103000",
         "Nombres": "Angie Nicole Medina Toala",
         "Python": "x",
         "Unnamed: 8": "nan",
         "Unnamed: 9": "nan",
         "_deepnote_index_column": "9"
        }
       ]
      },
      "text/html": [
       "<div>\n",
       "<style scoped>\n",
       "    .dataframe tbody tr th:only-of-type {\n",
       "        vertical-align: middle;\n",
       "    }\n",
       "\n",
       "    .dataframe tbody tr th {\n",
       "        vertical-align: top;\n",
       "    }\n",
       "\n",
       "    .dataframe thead th {\n",
       "        text-align: right;\n",
       "    }\n",
       "</style>\n",
       "<table border=\"1\" class=\"dataframe\">\n",
       "  <thead>\n",
       "    <tr style=\"text-align: right;\">\n",
       "      <th></th>\n",
       "      <th>Marca temporal</th>\n",
       "      <th>Correo</th>\n",
       "      <th>Nombres</th>\n",
       "      <th>GIS</th>\n",
       "      <th>AWC</th>\n",
       "      <th>Bienestar Psicológico</th>\n",
       "      <th>Herramientas para Generar Bienestar</th>\n",
       "      <th>Python</th>\n",
       "      <th>Unnamed: 8</th>\n",
       "      <th>Unnamed: 9</th>\n",
       "    </tr>\n",
       "  </thead>\n",
       "  <tbody>\n",
       "    <tr>\n",
       "      <th>0</th>\n",
       "      <td>2023-03-31 13:51:37.715</td>\n",
       "      <td>cgoyburo@espol.edu.ec</td>\n",
       "      <td>Cindy Samanda Goyburo Chávez</td>\n",
       "      <td>x</td>\n",
       "      <td>x</td>\n",
       "      <td>x</td>\n",
       "      <td>x</td>\n",
       "      <td>x</td>\n",
       "      <td>NaN</td>\n",
       "      <td>NaN</td>\n",
       "    </tr>\n",
       "    <tr>\n",
       "      <th>1</th>\n",
       "      <td>2023-03-31 13:55:33.574</td>\n",
       "      <td>dvelaste@espol.edu.ec</td>\n",
       "      <td>Andrés Velástegui Montoya</td>\n",
       "      <td>NaN</td>\n",
       "      <td>x</td>\n",
       "      <td>NaN</td>\n",
       "      <td>NaN</td>\n",
       "      <td>x</td>\n",
       "      <td>NaN</td>\n",
       "      <td>NaN</td>\n",
       "    </tr>\n",
       "    <tr>\n",
       "      <th>2</th>\n",
       "      <td>2023-03-31 13:55:34.843</td>\n",
       "      <td>dpaz@espol.edu.ec</td>\n",
       "      <td>Daniela Margarita Paz Barzola</td>\n",
       "      <td>x</td>\n",
       "      <td>x</td>\n",
       "      <td>x</td>\n",
       "      <td>x</td>\n",
       "      <td>x</td>\n",
       "      <td>NaN</td>\n",
       "      <td>NaN</td>\n",
       "    </tr>\n",
       "    <tr>\n",
       "      <th>3</th>\n",
       "      <td>2023-03-31 13:58:01.143</td>\n",
       "      <td>nlagasca@espol.edu.ec</td>\n",
       "      <td>Nadia José Lagasca Loaiza</td>\n",
       "      <td>x</td>\n",
       "      <td>x</td>\n",
       "      <td>x</td>\n",
       "      <td>x</td>\n",
       "      <td>x</td>\n",
       "      <td>NaN</td>\n",
       "      <td>NaN</td>\n",
       "    </tr>\n",
       "    <tr>\n",
       "      <th>4</th>\n",
       "      <td>2023-03-31 13:58:17.832</td>\n",
       "      <td>fetorres@espol.edu.ec</td>\n",
       "      <td>Federico Ricardo Torres Negrete</td>\n",
       "      <td>x</td>\n",
       "      <td>NaN</td>\n",
       "      <td>x</td>\n",
       "      <td>x</td>\n",
       "      <td>x</td>\n",
       "      <td>NaN</td>\n",
       "      <td>NaN</td>\n",
       "    </tr>\n",
       "    <tr>\n",
       "      <th>5</th>\n",
       "      <td>2023-03-31 13:58:24.426</td>\n",
       "      <td>mmulas@espol.edu.ec</td>\n",
       "      <td>Maurizio Mulas</td>\n",
       "      <td>NaN</td>\n",
       "      <td>x</td>\n",
       "      <td>x</td>\n",
       "      <td>x</td>\n",
       "      <td>NaN</td>\n",
       "      <td>NaN</td>\n",
       "      <td>NaN</td>\n",
       "    </tr>\n",
       "    <tr>\n",
       "      <th>6</th>\n",
       "      <td>2023-03-31 14:00:45.818</td>\n",
       "      <td>ogarces@espol.edu.ec</td>\n",
       "      <td>Daniel Omar Garces Leon</td>\n",
       "      <td>NaN</td>\n",
       "      <td>NaN</td>\n",
       "      <td>x</td>\n",
       "      <td>NaN</td>\n",
       "      <td>x</td>\n",
       "      <td>NaN</td>\n",
       "      <td>NaN</td>\n",
       "    </tr>\n",
       "    <tr>\n",
       "      <th>7</th>\n",
       "      <td>2023-03-31 14:03:05.350</td>\n",
       "      <td>pestolay@espol.edu.ec</td>\n",
       "      <td>Peter Olaya Carbo</td>\n",
       "      <td>NaN</td>\n",
       "      <td>x</td>\n",
       "      <td>x</td>\n",
       "      <td>x</td>\n",
       "      <td>NaN</td>\n",
       "      <td>NaN</td>\n",
       "      <td>NaN</td>\n",
       "    </tr>\n",
       "    <tr>\n",
       "      <th>8</th>\n",
       "      <td>2023-03-31 14:03:53.063</td>\n",
       "      <td>fpcarrio@espol.edu.ec</td>\n",
       "      <td>Freddy Paul Carrión Maldonado</td>\n",
       "      <td>x</td>\n",
       "      <td>x</td>\n",
       "      <td>x</td>\n",
       "      <td>x</td>\n",
       "      <td>NaN</td>\n",
       "      <td>NaN</td>\n",
       "      <td>NaN</td>\n",
       "    </tr>\n",
       "    <tr>\n",
       "      <th>9</th>\n",
       "      <td>2023-03-31 14:09:00.103</td>\n",
       "      <td>angnmedi@espol.edu.ec</td>\n",
       "      <td>Angie Nicole Medina Toala</td>\n",
       "      <td>x</td>\n",
       "      <td>x</td>\n",
       "      <td>x</td>\n",
       "      <td>x</td>\n",
       "      <td>x</td>\n",
       "      <td>NaN</td>\n",
       "      <td>NaN</td>\n",
       "    </tr>\n",
       "    <tr>\n",
       "      <th>10</th>\n",
       "      <td>2023-03-31 14:11:46.495</td>\n",
       "      <td>juaedcag@espol.edu.ec</td>\n",
       "      <td>Juan Eduardo Caguana Amagua</td>\n",
       "      <td>NaN</td>\n",
       "      <td>NaN</td>\n",
       "      <td>x</td>\n",
       "      <td>x</td>\n",
       "      <td>NaN</td>\n",
       "      <td>NaN</td>\n",
       "      <td>NaN</td>\n",
       "    </tr>\n",
       "    <tr>\n",
       "      <th>11</th>\n",
       "      <td>2023-03-31 14:16:34.617</td>\n",
       "      <td>mogasant@espol.edu.ec</td>\n",
       "      <td>Mónica Gabriela Santos Carrasco</td>\n",
       "      <td>NaN</td>\n",
       "      <td>NaN</td>\n",
       "      <td>x</td>\n",
       "      <td>x</td>\n",
       "      <td>NaN</td>\n",
       "      <td>NaN</td>\n",
       "      <td>NaN</td>\n",
       "    </tr>\n",
       "    <tr>\n",
       "      <th>12</th>\n",
       "      <td>2023-03-31 14:19:05.046</td>\n",
       "      <td>nlgarcia@espol.edu.ec</td>\n",
       "      <td>Natividad Leonor Garcia Troncoso</td>\n",
       "      <td>NaN</td>\n",
       "      <td>NaN</td>\n",
       "      <td>NaN</td>\n",
       "      <td>x</td>\n",
       "      <td>NaN</td>\n",
       "      <td>NaN</td>\n",
       "      <td>NaN</td>\n",
       "    </tr>\n",
       "    <tr>\n",
       "      <th>13</th>\n",
       "      <td>2023-03-31 14:24:20.435</td>\n",
       "      <td>karmavil@espol.edu.ec</td>\n",
       "      <td>Karla Maytee Villamar Marazita</td>\n",
       "      <td>x</td>\n",
       "      <td>x</td>\n",
       "      <td>x</td>\n",
       "      <td>x</td>\n",
       "      <td>x</td>\n",
       "      <td>NaN</td>\n",
       "      <td>NaN</td>\n",
       "    </tr>\n",
       "    <tr>\n",
       "      <th>14</th>\n",
       "      <td>2023-03-31 14:42:13.097</td>\n",
       "      <td>mogasant@espol.edu.ec</td>\n",
       "      <td>Mónica Gabriela Santos Carrasco</td>\n",
       "      <td>NaN</td>\n",
       "      <td>x</td>\n",
       "      <td>NaN</td>\n",
       "      <td>NaN</td>\n",
       "      <td>NaN</td>\n",
       "      <td>NaN</td>\n",
       "      <td>NaN</td>\n",
       "    </tr>\n",
       "    <tr>\n",
       "      <th>15</th>\n",
       "      <td>2023-03-31 15:12:06.999</td>\n",
       "      <td>dandrade@espol.edu.ec</td>\n",
       "      <td>Deysi Albania Andrade Granda</td>\n",
       "      <td>NaN</td>\n",
       "      <td>NaN</td>\n",
       "      <td>NaN</td>\n",
       "      <td>x</td>\n",
       "      <td>NaN</td>\n",
       "      <td>NaN</td>\n",
       "      <td>NaN</td>\n",
       "    </tr>\n",
       "    <tr>\n",
       "      <th>16</th>\n",
       "      <td>2023-03-31 15:19:08.176</td>\n",
       "      <td>kenjduen@espol.edu.ec</td>\n",
       "      <td>Jairo Dueñas Tovar</td>\n",
       "      <td>x</td>\n",
       "      <td>NaN</td>\n",
       "      <td>NaN</td>\n",
       "      <td>x</td>\n",
       "      <td>x</td>\n",
       "      <td>NaN</td>\n",
       "      <td>NaN</td>\n",
       "    </tr>\n",
       "    <tr>\n",
       "      <th>17</th>\n",
       "      <td>2023-03-31 15:20:50.073</td>\n",
       "      <td>mgilces@espol.edu.ec</td>\n",
       "      <td>Mary Joseph Gilces Cajamarca</td>\n",
       "      <td>NaN</td>\n",
       "      <td>NaN</td>\n",
       "      <td>NaN</td>\n",
       "      <td>x</td>\n",
       "      <td>NaN</td>\n",
       "      <td>NaN</td>\n",
       "      <td>NaN</td>\n",
       "    </tr>\n",
       "    <tr>\n",
       "      <th>18</th>\n",
       "      <td>2023-03-31 15:34:55.688</td>\n",
       "      <td>ecolmont@espol.edu.ec</td>\n",
       "      <td>Enrique Colmont Villacres</td>\n",
       "      <td>NaN</td>\n",
       "      <td>x</td>\n",
       "      <td>x</td>\n",
       "      <td>x</td>\n",
       "      <td>x</td>\n",
       "      <td>NaN</td>\n",
       "      <td>NaN</td>\n",
       "    </tr>\n",
       "    <tr>\n",
       "      <th>19</th>\n",
       "      <td>2023-03-31 15:40:38.343</td>\n",
       "      <td>gialpena@espol.edu.ec</td>\n",
       "      <td>Gina Alejandra Peña Villacreses</td>\n",
       "      <td>x</td>\n",
       "      <td>x</td>\n",
       "      <td>NaN</td>\n",
       "      <td>x</td>\n",
       "      <td>x</td>\n",
       "      <td>NaN</td>\n",
       "      <td>NaN</td>\n",
       "    </tr>\n",
       "    <tr>\n",
       "      <th>20</th>\n",
       "      <td>2023-03-31 15:59:55.549</td>\n",
       "      <td>aavaldiv@espol.edu.ec</td>\n",
       "      <td>Angel Valdiviezo Ajila</td>\n",
       "      <td>NaN</td>\n",
       "      <td>x</td>\n",
       "      <td>NaN</td>\n",
       "      <td>NaN</td>\n",
       "      <td>x</td>\n",
       "      <td>NaN</td>\n",
       "      <td>NaN</td>\n",
       "    </tr>\n",
       "    <tr>\n",
       "      <th>21</th>\n",
       "      <td>2023-03-31 19:03:57.718</td>\n",
       "      <td>pvilela@espol.edu.ec</td>\n",
       "      <td>Paulina Elizabeth Vilela Govea, Ph. D.</td>\n",
       "      <td>x</td>\n",
       "      <td>x</td>\n",
       "      <td>x</td>\n",
       "      <td>x</td>\n",
       "      <td>x</td>\n",
       "      <td>NaN</td>\n",
       "      <td>NaN</td>\n",
       "    </tr>\n",
       "    <tr>\n",
       "      <th>22</th>\n",
       "      <td>2023-03-31 19:09:53.913</td>\n",
       "      <td>kftello@espol.edu.ec</td>\n",
       "      <td>Ken Francisco Tello Ayala</td>\n",
       "      <td>NaN</td>\n",
       "      <td>x</td>\n",
       "      <td>NaN</td>\n",
       "      <td>NaN</td>\n",
       "      <td>x</td>\n",
       "      <td>NaN</td>\n",
       "      <td>NaN</td>\n",
       "    </tr>\n",
       "    <tr>\n",
       "      <th>23</th>\n",
       "      <td>2023-04-01 08:29:58.851</td>\n",
       "      <td>jonimend@espol.edu.ec</td>\n",
       "      <td>Jonathan Israel Mendez Ruiz</td>\n",
       "      <td>x</td>\n",
       "      <td>x</td>\n",
       "      <td>NaN</td>\n",
       "      <td>NaN</td>\n",
       "      <td>NaN</td>\n",
       "      <td>NaN</td>\n",
       "      <td>NaN</td>\n",
       "    </tr>\n",
       "    <tr>\n",
       "      <th>24</th>\n",
       "      <td>2023-04-02 18:07:40.232</td>\n",
       "      <td>pacampov@espol.edu.ec</td>\n",
       "      <td>Paulo Andrés Campoverde Muñoz</td>\n",
       "      <td>NaN</td>\n",
       "      <td>x</td>\n",
       "      <td>NaN</td>\n",
       "      <td>NaN</td>\n",
       "      <td>x</td>\n",
       "      <td>NaN</td>\n",
       "      <td>NaN</td>\n",
       "    </tr>\n",
       "    <tr>\n",
       "      <th>25</th>\n",
       "      <td>2023-04-03 11:24:27.692</td>\n",
       "      <td>mirlopez@espol.edu.ec</td>\n",
       "      <td>Mónica López Moncada</td>\n",
       "      <td>NaN</td>\n",
       "      <td>NaN</td>\n",
       "      <td>NaN</td>\n",
       "      <td>x</td>\n",
       "      <td>x</td>\n",
       "      <td>NaN</td>\n",
       "      <td>NaN</td>\n",
       "    </tr>\n",
       "    <tr>\n",
       "      <th>26</th>\n",
       "      <td>2023-04-03 11:46:09.440</td>\n",
       "      <td>anjeclav@espol.edu.ec</td>\n",
       "      <td>Angel Jesus Clavijo Rivera</td>\n",
       "      <td>NaN</td>\n",
       "      <td>x</td>\n",
       "      <td>x</td>\n",
       "      <td>x</td>\n",
       "      <td>x</td>\n",
       "      <td>NaN</td>\n",
       "      <td>NaN</td>\n",
       "    </tr>\n",
       "    <tr>\n",
       "      <th>27</th>\n",
       "      <td>2023-04-03 12:23:26.419</td>\n",
       "      <td>mivavill@espol.edu.ec</td>\n",
       "      <td>Michelle Vanessa Villacís Verdesoto</td>\n",
       "      <td>NaN</td>\n",
       "      <td>NaN</td>\n",
       "      <td>x</td>\n",
       "      <td>x</td>\n",
       "      <td>x</td>\n",
       "      <td>NaN</td>\n",
       "      <td>NaN</td>\n",
       "    </tr>\n",
       "    <tr>\n",
       "      <th>28</th>\n",
       "      <td>2023-04-03 13:58:54.179</td>\n",
       "      <td>mayelord@espol.edu.ec</td>\n",
       "      <td>Maylin Elizabeth Ordoñez Obando</td>\n",
       "      <td>x</td>\n",
       "      <td>x</td>\n",
       "      <td>x</td>\n",
       "      <td>NaN</td>\n",
       "      <td>x</td>\n",
       "      <td>NaN</td>\n",
       "      <td>NaN</td>\n",
       "    </tr>\n",
       "    <tr>\n",
       "      <th>29</th>\n",
       "      <td>2023-04-03 16:15:56.749</td>\n",
       "      <td>daanarce@espol.edu.ec</td>\n",
       "      <td>DANILO ANDRES ARCENTALES BASTIDAS</td>\n",
       "      <td>NaN</td>\n",
       "      <td>NaN</td>\n",
       "      <td>NaN</td>\n",
       "      <td>NaN</td>\n",
       "      <td>x</td>\n",
       "      <td>NaN</td>\n",
       "      <td>NaN</td>\n",
       "    </tr>\n",
       "    <tr>\n",
       "      <th>30</th>\n",
       "      <td>2023-04-03 18:09:24.095</td>\n",
       "      <td>sebasuar@espol.edu.ec</td>\n",
       "      <td>Sebastián Alonso Suárez Zamora</td>\n",
       "      <td>NaN</td>\n",
       "      <td>NaN</td>\n",
       "      <td>x</td>\n",
       "      <td>x</td>\n",
       "      <td>x</td>\n",
       "      <td>NaN</td>\n",
       "      <td>NaN</td>\n",
       "    </tr>\n",
       "    <tr>\n",
       "      <th>31</th>\n",
       "      <td>2023-04-04 12:24:43.980</td>\n",
       "      <td>darialta@espol.edu.ec</td>\n",
       "      <td>David Ricardo Altamirano Moran</td>\n",
       "      <td>NaN</td>\n",
       "      <td>NaN</td>\n",
       "      <td>X</td>\n",
       "      <td>X</td>\n",
       "      <td>NaN</td>\n",
       "      <td>NaN</td>\n",
       "      <td>NaN</td>\n",
       "    </tr>\n",
       "    <tr>\n",
       "      <th>32</th>\n",
       "      <td>2023-04-04 14:08:02.003</td>\n",
       "      <td>jrreyes@espol.edu.ec</td>\n",
       "      <td>José Reyes</td>\n",
       "      <td>x</td>\n",
       "      <td>NaN</td>\n",
       "      <td>NaN</td>\n",
       "      <td>NaN</td>\n",
       "      <td>x</td>\n",
       "      <td>NaN</td>\n",
       "      <td>NaN</td>\n",
       "    </tr>\n",
       "    <tr>\n",
       "      <th>33</th>\n",
       "      <td>2023-04-04 14:09:15.138</td>\n",
       "      <td>Jsmendoz@espol.edu.ec</td>\n",
       "      <td>Jorge Mendoza</td>\n",
       "      <td>NaN</td>\n",
       "      <td>NaN</td>\n",
       "      <td>x</td>\n",
       "      <td>NaN</td>\n",
       "      <td>NaN</td>\n",
       "      <td>NaN</td>\n",
       "      <td>NaN</td>\n",
       "    </tr>\n",
       "    <tr>\n",
       "      <th>34</th>\n",
       "      <td>2023-04-04 14:09:16.769</td>\n",
       "      <td>aeguzman@espol.edu.ec</td>\n",
       "      <td>ANDRÉS EDUARDO GUZMÁN VELÁSQUEZ</td>\n",
       "      <td>NaN</td>\n",
       "      <td>x</td>\n",
       "      <td>NaN</td>\n",
       "      <td>NaN</td>\n",
       "      <td>x</td>\n",
       "      <td>NaN</td>\n",
       "      <td>NaN</td>\n",
       "    </tr>\n",
       "    <tr>\n",
       "      <th>35</th>\n",
       "      <td>2023-04-04 14:10:32.072</td>\n",
       "      <td>jolizamb@espol.edu.ec</td>\n",
       "      <td>Johanna Lisseth Zambrano Anchundia</td>\n",
       "      <td>x</td>\n",
       "      <td>NaN</td>\n",
       "      <td>NaN</td>\n",
       "      <td>NaN</td>\n",
       "      <td>NaN</td>\n",
       "      <td>NaN</td>\n",
       "      <td>NaN</td>\n",
       "    </tr>\n",
       "    <tr>\n",
       "      <th>36</th>\n",
       "      <td>2023-04-04 14:11:00.885</td>\n",
       "      <td>fsagnay@espol.edu.ec</td>\n",
       "      <td>Fernando Sagnay</td>\n",
       "      <td>NaN</td>\n",
       "      <td>x</td>\n",
       "      <td>NaN</td>\n",
       "      <td>NaN</td>\n",
       "      <td>NaN</td>\n",
       "      <td>NaN</td>\n",
       "      <td>NaN</td>\n",
       "    </tr>\n",
       "    <tr>\n",
       "      <th>37</th>\n",
       "      <td>2023-04-04 14:12:58.573</td>\n",
       "      <td>rsayala@espol.edu.ec</td>\n",
       "      <td>René Ayala Lomas</td>\n",
       "      <td>NaN</td>\n",
       "      <td>NaN</td>\n",
       "      <td>x</td>\n",
       "      <td>x</td>\n",
       "      <td>x</td>\n",
       "      <td>NaN</td>\n",
       "      <td>NaN</td>\n",
       "    </tr>\n",
       "    <tr>\n",
       "      <th>38</th>\n",
       "      <td>2023-04-04 14:22:03.034</td>\n",
       "      <td>kmmuthre@espol.edu.ec</td>\n",
       "      <td>Mishelle Muthre</td>\n",
       "      <td>NaN</td>\n",
       "      <td>x</td>\n",
       "      <td>NaN</td>\n",
       "      <td>NaN</td>\n",
       "      <td>NaN</td>\n",
       "      <td>NaN</td>\n",
       "      <td>NaN</td>\n",
       "    </tr>\n",
       "    <tr>\n",
       "      <th>39</th>\n",
       "      <td>2023-04-04 14:25:35.116</td>\n",
       "      <td>dfalquez@espol.edu.ec</td>\n",
       "      <td>Daniel Andrés Falquez Torres</td>\n",
       "      <td>NaN</td>\n",
       "      <td>NaN</td>\n",
       "      <td>NaN</td>\n",
       "      <td>NaN</td>\n",
       "      <td>x</td>\n",
       "      <td>NaN</td>\n",
       "      <td>NaN</td>\n",
       "    </tr>\n",
       "    <tr>\n",
       "      <th>40</th>\n",
       "      <td>2023-04-04 14:35:32.383</td>\n",
       "      <td>nancyvict593@gmail.com</td>\n",
       "      <td>Nancy Zumba</td>\n",
       "      <td>x</td>\n",
       "      <td>NaN</td>\n",
       "      <td>NaN</td>\n",
       "      <td>NaN</td>\n",
       "      <td>NaN</td>\n",
       "      <td>NaN</td>\n",
       "      <td>NaN</td>\n",
       "    </tr>\n",
       "    <tr>\n",
       "      <th>41</th>\n",
       "      <td>2023-04-04 15:15:00.054</td>\n",
       "      <td>pacampov@espol.edu.ec</td>\n",
       "      <td>Paulo Andrés Campoverde Muñoz</td>\n",
       "      <td>NaN</td>\n",
       "      <td>x</td>\n",
       "      <td>x</td>\n",
       "      <td>NaN</td>\n",
       "      <td>NaN</td>\n",
       "      <td>NaN</td>\n",
       "      <td>NaN</td>\n",
       "    </tr>\n",
       "    <tr>\n",
       "      <th>42</th>\n",
       "      <td>2023-04-04 15:18:20.388</td>\n",
       "      <td>olema@espol.edu.ec</td>\n",
       "      <td>Osmar G. Lema Caicedo</td>\n",
       "      <td>x</td>\n",
       "      <td>x</td>\n",
       "      <td>NaN</td>\n",
       "      <td>NaN</td>\n",
       "      <td>x</td>\n",
       "      <td>NaN</td>\n",
       "      <td>NaN</td>\n",
       "    </tr>\n",
       "    <tr>\n",
       "      <th>43</th>\n",
       "      <td>2023-04-04 16:06:06.836</td>\n",
       "      <td>chbustam@espol.edu.ec</td>\n",
       "      <td>Carlos Hugo Bustamante Torres</td>\n",
       "      <td>x</td>\n",
       "      <td>NaN</td>\n",
       "      <td>x</td>\n",
       "      <td>x</td>\n",
       "      <td>x</td>\n",
       "      <td>NaN</td>\n",
       "      <td>NaN</td>\n",
       "    </tr>\n",
       "    <tr>\n",
       "      <th>44</th>\n",
       "      <td>2023-04-04 16:12:09.213</td>\n",
       "      <td>luisanch@espol.edu.ec</td>\n",
       "      <td>Luis Sanchez Calderon</td>\n",
       "      <td>NaN</td>\n",
       "      <td>NaN</td>\n",
       "      <td>NaN</td>\n",
       "      <td>NaN</td>\n",
       "      <td>x</td>\n",
       "      <td>NaN</td>\n",
       "      <td>NaN</td>\n",
       "    </tr>\n",
       "    <tr>\n",
       "      <th>45</th>\n",
       "      <td>2023-04-04 16:13:34.684</td>\n",
       "      <td>cholmoli@espol.edu.ec</td>\n",
       "      <td>MOLINA POW CHON LONG JOSUE ALEJANDRO</td>\n",
       "      <td>NaN</td>\n",
       "      <td>NaN</td>\n",
       "      <td>x</td>\n",
       "      <td>x</td>\n",
       "      <td>NaN</td>\n",
       "      <td>NaN</td>\n",
       "      <td>NaN</td>\n",
       "    </tr>\n",
       "    <tr>\n",
       "      <th>46</th>\n",
       "      <td>2023-04-05 08:47:05.151</td>\n",
       "      <td>jabrione@espol.edu.ec</td>\n",
       "      <td>Johnny Arián Briones Escalante</td>\n",
       "      <td>x</td>\n",
       "      <td>NaN</td>\n",
       "      <td>NaN</td>\n",
       "      <td>NaN</td>\n",
       "      <td>x</td>\n",
       "      <td>NaN</td>\n",
       "      <td>NaN</td>\n",
       "    </tr>\n",
       "    <tr>\n",
       "      <th>47</th>\n",
       "      <td>2023-04-05 09:54:17.241</td>\n",
       "      <td>mccastil@espol.edu.ec</td>\n",
       "      <td>María Cecibel Castillo Olvera</td>\n",
       "      <td>NaN</td>\n",
       "      <td>x</td>\n",
       "      <td>NaN</td>\n",
       "      <td>NaN</td>\n",
       "      <td>x</td>\n",
       "      <td>NaN</td>\n",
       "      <td>NaN</td>\n",
       "    </tr>\n",
       "    <tr>\n",
       "      <th>48</th>\n",
       "      <td>2023-04-05 11:13:08.102</td>\n",
       "      <td>mirlopez@espol.edu.ec</td>\n",
       "      <td>Mónica López Moncada</td>\n",
       "      <td>NaN</td>\n",
       "      <td>x</td>\n",
       "      <td>NaN</td>\n",
       "      <td>NaN</td>\n",
       "      <td>NaN</td>\n",
       "      <td>NaN</td>\n",
       "      <td>NaN</td>\n",
       "    </tr>\n",
       "    <tr>\n",
       "      <th>49</th>\n",
       "      <td>2023-04-05 12:23:16.181</td>\n",
       "      <td>kataesco@espol.edu.ec</td>\n",
       "      <td>Katherine Tatiana Escobar Pesantes</td>\n",
       "      <td>NaN</td>\n",
       "      <td>NaN</td>\n",
       "      <td>NaN</td>\n",
       "      <td>x</td>\n",
       "      <td>NaN</td>\n",
       "      <td>NaN</td>\n",
       "      <td>NaN</td>\n",
       "    </tr>\n",
       "    <tr>\n",
       "      <th>50</th>\n",
       "      <td>2023-04-06 14:24:22.212</td>\n",
       "      <td>crsavazq@espol.edu.ec</td>\n",
       "      <td>CRISTIAN ALFONSO SALAS VÁZQUEZ</td>\n",
       "      <td>X</td>\n",
       "      <td>X</td>\n",
       "      <td>NaN</td>\n",
       "      <td>NaN</td>\n",
       "      <td>X</td>\n",
       "      <td>NaN</td>\n",
       "      <td>NaN</td>\n",
       "    </tr>\n",
       "    <tr>\n",
       "      <th>51</th>\n",
       "      <td>2023-04-06 14:26:15.914</td>\n",
       "      <td>whurtare@espol.edu.ec</td>\n",
       "      <td>Walter Hurtares Orrala</td>\n",
       "      <td>NaN</td>\n",
       "      <td>NaN</td>\n",
       "      <td>NaN</td>\n",
       "      <td>NaN</td>\n",
       "      <td>X</td>\n",
       "      <td>NaN</td>\n",
       "      <td>NaN</td>\n",
       "    </tr>\n",
       "  </tbody>\n",
       "</table>\n",
       "</div>"
      ],
      "text/plain": [
       "            Marca temporal                  Correo  \\\n",
       "0  2023-03-31 13:51:37.715   cgoyburo@espol.edu.ec   \n",
       "1  2023-03-31 13:55:33.574   dvelaste@espol.edu.ec   \n",
       "2  2023-03-31 13:55:34.843       dpaz@espol.edu.ec   \n",
       "3  2023-03-31 13:58:01.143   nlagasca@espol.edu.ec   \n",
       "4  2023-03-31 13:58:17.832   fetorres@espol.edu.ec   \n",
       "5  2023-03-31 13:58:24.426     mmulas@espol.edu.ec   \n",
       "6  2023-03-31 14:00:45.818    ogarces@espol.edu.ec   \n",
       "7  2023-03-31 14:03:05.350   pestolay@espol.edu.ec   \n",
       "8  2023-03-31 14:03:53.063   fpcarrio@espol.edu.ec   \n",
       "9  2023-03-31 14:09:00.103   angnmedi@espol.edu.ec   \n",
       "10 2023-03-31 14:11:46.495   juaedcag@espol.edu.ec   \n",
       "11 2023-03-31 14:16:34.617   mogasant@espol.edu.ec   \n",
       "12 2023-03-31 14:19:05.046   nlgarcia@espol.edu.ec   \n",
       "13 2023-03-31 14:24:20.435   karmavil@espol.edu.ec   \n",
       "14 2023-03-31 14:42:13.097   mogasant@espol.edu.ec   \n",
       "15 2023-03-31 15:12:06.999   dandrade@espol.edu.ec   \n",
       "16 2023-03-31 15:19:08.176   kenjduen@espol.edu.ec   \n",
       "17 2023-03-31 15:20:50.073    mgilces@espol.edu.ec   \n",
       "18 2023-03-31 15:34:55.688   ecolmont@espol.edu.ec   \n",
       "19 2023-03-31 15:40:38.343   gialpena@espol.edu.ec   \n",
       "20 2023-03-31 15:59:55.549   aavaldiv@espol.edu.ec   \n",
       "21 2023-03-31 19:03:57.718    pvilela@espol.edu.ec   \n",
       "22 2023-03-31 19:09:53.913    kftello@espol.edu.ec   \n",
       "23 2023-04-01 08:29:58.851   jonimend@espol.edu.ec   \n",
       "24 2023-04-02 18:07:40.232   pacampov@espol.edu.ec   \n",
       "25 2023-04-03 11:24:27.692   mirlopez@espol.edu.ec   \n",
       "26 2023-04-03 11:46:09.440   anjeclav@espol.edu.ec   \n",
       "27 2023-04-03 12:23:26.419   mivavill@espol.edu.ec   \n",
       "28 2023-04-03 13:58:54.179   mayelord@espol.edu.ec   \n",
       "29 2023-04-03 16:15:56.749   daanarce@espol.edu.ec   \n",
       "30 2023-04-03 18:09:24.095   sebasuar@espol.edu.ec   \n",
       "31 2023-04-04 12:24:43.980   darialta@espol.edu.ec   \n",
       "32 2023-04-04 14:08:02.003    jrreyes@espol.edu.ec   \n",
       "33 2023-04-04 14:09:15.138   Jsmendoz@espol.edu.ec   \n",
       "34 2023-04-04 14:09:16.769   aeguzman@espol.edu.ec   \n",
       "35 2023-04-04 14:10:32.072   jolizamb@espol.edu.ec   \n",
       "36 2023-04-04 14:11:00.885    fsagnay@espol.edu.ec   \n",
       "37 2023-04-04 14:12:58.573    rsayala@espol.edu.ec   \n",
       "38 2023-04-04 14:22:03.034   kmmuthre@espol.edu.ec   \n",
       "39 2023-04-04 14:25:35.116   dfalquez@espol.edu.ec   \n",
       "40 2023-04-04 14:35:32.383  nancyvict593@gmail.com   \n",
       "41 2023-04-04 15:15:00.054   pacampov@espol.edu.ec   \n",
       "42 2023-04-04 15:18:20.388      olema@espol.edu.ec   \n",
       "43 2023-04-04 16:06:06.836   chbustam@espol.edu.ec   \n",
       "44 2023-04-04 16:12:09.213   luisanch@espol.edu.ec   \n",
       "45 2023-04-04 16:13:34.684   cholmoli@espol.edu.ec   \n",
       "46 2023-04-05 08:47:05.151   jabrione@espol.edu.ec   \n",
       "47 2023-04-05 09:54:17.241   mccastil@espol.edu.ec   \n",
       "48 2023-04-05 11:13:08.102   mirlopez@espol.edu.ec   \n",
       "49 2023-04-05 12:23:16.181   kataesco@espol.edu.ec   \n",
       "50 2023-04-06 14:24:22.212   crsavazq@espol.edu.ec   \n",
       "51 2023-04-06 14:26:15.914   whurtare@espol.edu.ec   \n",
       "\n",
       "                                   Nombres  GIS  AWC Bienestar Psicológico  \\\n",
       "0             Cindy Samanda Goyburo Chávez    x    x                     x   \n",
       "1                Andrés Velástegui Montoya  NaN    x                   NaN   \n",
       "2            Daniela Margarita Paz Barzola    x    x                     x   \n",
       "3               Nadia José Lagasca Loaiza     x    x                     x   \n",
       "4          Federico Ricardo Torres Negrete    x  NaN                     x   \n",
       "5                           Maurizio Mulas  NaN    x                     x   \n",
       "6                 Daniel Omar Garces Leon   NaN  NaN                     x   \n",
       "7                       Peter Olaya Carbo   NaN    x                     x   \n",
       "8            Freddy Paul Carrión Maldonado    x    x                     x   \n",
       "9                Angie Nicole Medina Toala    x    x                     x   \n",
       "10             Juan Eduardo Caguana Amagua  NaN  NaN                     x   \n",
       "11         Mónica Gabriela Santos Carrasco  NaN  NaN                     x   \n",
       "12        Natividad Leonor Garcia Troncoso  NaN  NaN                   NaN   \n",
       "13          Karla Maytee Villamar Marazita    x    x                     x   \n",
       "14         Mónica Gabriela Santos Carrasco  NaN    x                   NaN   \n",
       "15            Deysi Albania Andrade Granda  NaN  NaN                   NaN   \n",
       "16                      Jairo Dueñas Tovar    x  NaN                   NaN   \n",
       "17            Mary Joseph Gilces Cajamarca  NaN  NaN                   NaN   \n",
       "18               Enrique Colmont Villacres  NaN    x                     x   \n",
       "19         Gina Alejandra Peña Villacreses    x    x                   NaN   \n",
       "20                  Angel Valdiviezo Ajila  NaN    x                   NaN   \n",
       "21  Paulina Elizabeth Vilela Govea, Ph. D.    x    x                     x   \n",
       "22               Ken Francisco Tello Ayala  NaN    x                   NaN   \n",
       "23             Jonathan Israel Mendez Ruiz    x    x                   NaN   \n",
       "24          Paulo Andrés Campoverde Muñoz   NaN    x                   NaN   \n",
       "25                    Mónica López Moncada  NaN  NaN                   NaN   \n",
       "26              Angel Jesus Clavijo Rivera  NaN    x                     x   \n",
       "27     Michelle Vanessa Villacís Verdesoto  NaN  NaN                     x   \n",
       "28         Maylin Elizabeth Ordoñez Obando    x    x                     x   \n",
       "29       DANILO ANDRES ARCENTALES BASTIDAS  NaN  NaN                   NaN   \n",
       "30          Sebastián Alonso Suárez Zamora  NaN  NaN                     x   \n",
       "31          David Ricardo Altamirano Moran  NaN  NaN                     X   \n",
       "32                              José Reyes    x  NaN                   NaN   \n",
       "33                          Jorge Mendoza   NaN  NaN                     x   \n",
       "34         ANDRÉS EDUARDO GUZMÁN VELÁSQUEZ  NaN    x                   NaN   \n",
       "35     Johanna Lisseth Zambrano Anchundia     x  NaN                   NaN   \n",
       "36                         Fernando Sagnay  NaN    x                   NaN   \n",
       "37                       René Ayala Lomas   NaN  NaN                     x   \n",
       "38                         Mishelle Muthre  NaN    x                   NaN   \n",
       "39            Daniel Andrés Falquez Torres  NaN  NaN                   NaN   \n",
       "40                             Nancy Zumba    x  NaN                   NaN   \n",
       "41           Paulo Andrés Campoverde Muñoz  NaN    x                     x   \n",
       "42                   Osmar G. Lema Caicedo    x    x                   NaN   \n",
       "43          Carlos Hugo Bustamante Torres     x  NaN                     x   \n",
       "44                   Luis Sanchez Calderon  NaN  NaN                   NaN   \n",
       "45    MOLINA POW CHON LONG JOSUE ALEJANDRO  NaN  NaN                     x   \n",
       "46          Johnny Arián Briones Escalante    x  NaN                   NaN   \n",
       "47           María Cecibel Castillo Olvera  NaN    x                   NaN   \n",
       "48                    Mónica López Moncada  NaN    x                   NaN   \n",
       "49      Katherine Tatiana Escobar Pesantes  NaN  NaN                   NaN   \n",
       "50          CRISTIAN ALFONSO SALAS VÁZQUEZ    X    X                   NaN   \n",
       "51                  Walter Hurtares Orrala  NaN  NaN                   NaN   \n",
       "\n",
       "   Herramientas para Generar Bienestar Python  Unnamed: 8  Unnamed: 9  \n",
       "0                                    x      x         NaN         NaN  \n",
       "1                                  NaN      x         NaN         NaN  \n",
       "2                                    x      x         NaN         NaN  \n",
       "3                                    x      x         NaN         NaN  \n",
       "4                                    x      x         NaN         NaN  \n",
       "5                                    x    NaN         NaN         NaN  \n",
       "6                                  NaN      x         NaN         NaN  \n",
       "7                                    x    NaN         NaN         NaN  \n",
       "8                                    x    NaN         NaN         NaN  \n",
       "9                                    x      x         NaN         NaN  \n",
       "10                                   x    NaN         NaN         NaN  \n",
       "11                                   x    NaN         NaN         NaN  \n",
       "12                                   x    NaN         NaN         NaN  \n",
       "13                                   x      x         NaN         NaN  \n",
       "14                                 NaN    NaN         NaN         NaN  \n",
       "15                                   x    NaN         NaN         NaN  \n",
       "16                                   x      x         NaN         NaN  \n",
       "17                                   x    NaN         NaN         NaN  \n",
       "18                                   x      x         NaN         NaN  \n",
       "19                                   x      x         NaN         NaN  \n",
       "20                                 NaN      x         NaN         NaN  \n",
       "21                                   x      x         NaN         NaN  \n",
       "22                                 NaN      x         NaN         NaN  \n",
       "23                                 NaN    NaN         NaN         NaN  \n",
       "24                                 NaN      x         NaN         NaN  \n",
       "25                                   x      x         NaN         NaN  \n",
       "26                                   x      x         NaN         NaN  \n",
       "27                                   x      x         NaN         NaN  \n",
       "28                                 NaN      x         NaN         NaN  \n",
       "29                                 NaN      x         NaN         NaN  \n",
       "30                                   x      x         NaN         NaN  \n",
       "31                                   X    NaN         NaN         NaN  \n",
       "32                                 NaN      x         NaN         NaN  \n",
       "33                                 NaN    NaN         NaN         NaN  \n",
       "34                                 NaN      x         NaN         NaN  \n",
       "35                                 NaN    NaN         NaN         NaN  \n",
       "36                                 NaN    NaN         NaN         NaN  \n",
       "37                                   x      x         NaN         NaN  \n",
       "38                                 NaN    NaN         NaN         NaN  \n",
       "39                                 NaN      x         NaN         NaN  \n",
       "40                                 NaN    NaN         NaN         NaN  \n",
       "41                                 NaN    NaN         NaN         NaN  \n",
       "42                                 NaN      x         NaN         NaN  \n",
       "43                                   x      x         NaN         NaN  \n",
       "44                                 NaN      x         NaN         NaN  \n",
       "45                                   x    NaN         NaN         NaN  \n",
       "46                                 NaN      x         NaN         NaN  \n",
       "47                                 NaN      x         NaN         NaN  \n",
       "48                                 NaN    NaN         NaN         NaN  \n",
       "49                                   x    NaN         NaN         NaN  \n",
       "50                                 NaN      X         NaN         NaN  \n",
       "51                                 NaN      X         NaN         NaN  "
      ]
     },
     "execution_count": 88,
     "metadata": {},
     "output_type": "execute_result"
    }
   ],
   "source": [
    "# Rename columns\n"
   ]
  },
  {
   "cell_type": "code",
   "execution_count": 89,
   "metadata": {
    "cell_id": "a2717e69ae234bd9a6007ce8acc9e7bf",
    "deepnote_cell_type": "code",
    "deepnote_to_be_reexecuted": false,
    "execution_millis": 59,
    "execution_start": 1681998678005,
    "source_hash": "fc034fd"
   },
   "outputs": [
    {
     "data": {
      "application/vnd.deepnote.dataframe.v3+json": {
       "column_count": 7,
       "columns": [
        {
         "dtype": "object",
         "name": "Correo",
         "stats": {
          "categories": [
           {
            "count": 2,
            "name": "mogasant@espol.edu.ec"
           },
           {
            "count": 2,
            "name": "pacampov@espol.edu.ec"
           },
           {
            "count": 48,
            "name": "47 others"
           }
          ],
          "nan_count": 0,
          "unique_count": 49
         }
        },
        {
         "dtype": "object",
         "name": "Nombres",
         "stats": {
          "categories": [
           {
            "count": 2,
            "name": "Mónica Gabriela Santos Carrasco"
           },
           {
            "count": 2,
            "name": "Mónica López Moncada"
           },
           {
            "count": 48,
            "name": "48 others"
           }
          ],
          "nan_count": 0,
          "unique_count": 50
         }
        },
        {
         "dtype": "object",
         "name": "GIS",
         "stats": {
          "categories": [
           {
            "count": 18,
            "name": "x"
           },
           {
            "count": 1,
            "name": "X"
           },
           {
            "count": 33,
            "name": "Missing"
           }
          ],
          "nan_count": 33,
          "unique_count": 2
         }
        },
        {
         "dtype": "object",
         "name": "AWC",
         "stats": {
          "categories": [
           {
            "count": 26,
            "name": "x"
           },
           {
            "count": 1,
            "name": "X"
           },
           {
            "count": 25,
            "name": "Missing"
           }
          ],
          "nan_count": 25,
          "unique_count": 2
         }
        },
        {
         "dtype": "object",
         "name": "Bienestar Psicológico",
         "stats": {
          "categories": [
           {
            "count": 23,
            "name": "x"
           },
           {
            "count": 1,
            "name": "X"
           },
           {
            "count": 28,
            "name": "Missing"
           }
          ],
          "nan_count": 28,
          "unique_count": 2
         }
        },
        {
         "dtype": "object",
         "name": "Herramientas para Generar Bienestar",
         "stats": {
          "categories": [
           {
            "count": 26,
            "name": "x"
           },
           {
            "count": 1,
            "name": "X"
           },
           {
            "count": 25,
            "name": "Missing"
           }
          ],
          "nan_count": 25,
          "unique_count": 2
         }
        },
        {
         "dtype": "object",
         "name": "Python",
         "stats": {
          "categories": [
           {
            "count": 30,
            "name": "x"
           },
           {
            "count": 2,
            "name": "X"
           },
           {
            "count": 20,
            "name": "Missing"
           }
          ],
          "nan_count": 20,
          "unique_count": 2
         }
        },
        {
         "dtype": "int64",
         "name": "_deepnote_index_column"
        }
       ],
       "row_count": 52,
       "rows": [
        {
         "AWC": "x",
         "Bienestar Psicológico": "x",
         "Correo": "cgoyburo@espol.edu.ec",
         "GIS": "x",
         "Herramientas para Generar Bienestar": "x",
         "Nombres": "Cindy Samanda Goyburo Chávez",
         "Python": "x",
         "_deepnote_index_column": "0"
        },
        {
         "AWC": "x",
         "Bienestar Psicológico": "nan",
         "Correo": "dvelaste@espol.edu.ec",
         "GIS": "nan",
         "Herramientas para Generar Bienestar": "nan",
         "Nombres": "Andrés Velástegui Montoya",
         "Python": "x",
         "_deepnote_index_column": "1"
        },
        {
         "AWC": "x",
         "Bienestar Psicológico": "x",
         "Correo": "dpaz@espol.edu.ec",
         "GIS": "x",
         "Herramientas para Generar Bienestar": "x",
         "Nombres": "Daniela Margarita Paz Barzola",
         "Python": "x",
         "_deepnote_index_column": "2"
        },
        {
         "AWC": "x",
         "Bienestar Psicológico": "x",
         "Correo": "nlagasca@espol.edu.ec",
         "GIS": "x",
         "Herramientas para Generar Bienestar": "x",
         "Nombres": "Nadia José Lagasca Loaiza ",
         "Python": "x",
         "_deepnote_index_column": "3"
        },
        {
         "AWC": "nan",
         "Bienestar Psicológico": "x",
         "Correo": "fetorres@espol.edu.ec",
         "GIS": "x",
         "Herramientas para Generar Bienestar": "x",
         "Nombres": "Federico Ricardo Torres Negrete",
         "Python": "x",
         "_deepnote_index_column": "4"
        },
        {
         "AWC": "x",
         "Bienestar Psicológico": "x",
         "Correo": "mmulas@espol.edu.ec",
         "GIS": "nan",
         "Herramientas para Generar Bienestar": "x",
         "Nombres": "Maurizio Mulas",
         "Python": "nan",
         "_deepnote_index_column": "5"
        },
        {
         "AWC": "nan",
         "Bienestar Psicológico": "x",
         "Correo": "ogarces@espol.edu.ec",
         "GIS": "nan",
         "Herramientas para Generar Bienestar": "nan",
         "Nombres": "Daniel Omar Garces Leon ",
         "Python": "x",
         "_deepnote_index_column": "6"
        },
        {
         "AWC": "x",
         "Bienestar Psicológico": "x",
         "Correo": "pestolay@espol.edu.ec",
         "GIS": "nan",
         "Herramientas para Generar Bienestar": "x",
         "Nombres": "Peter Olaya Carbo ",
         "Python": "nan",
         "_deepnote_index_column": "7"
        },
        {
         "AWC": "x",
         "Bienestar Psicológico": "x",
         "Correo": "fpcarrio@espol.edu.ec",
         "GIS": "x",
         "Herramientas para Generar Bienestar": "x",
         "Nombres": "Freddy Paul Carrión Maldonado",
         "Python": "nan",
         "_deepnote_index_column": "8"
        },
        {
         "AWC": "x",
         "Bienestar Psicológico": "x",
         "Correo": "angnmedi@espol.edu.ec",
         "GIS": "x",
         "Herramientas para Generar Bienestar": "x",
         "Nombres": "Angie Nicole Medina Toala",
         "Python": "x",
         "_deepnote_index_column": "9"
        }
       ]
      },
      "text/html": [
       "<div>\n",
       "<style scoped>\n",
       "    .dataframe tbody tr th:only-of-type {\n",
       "        vertical-align: middle;\n",
       "    }\n",
       "\n",
       "    .dataframe tbody tr th {\n",
       "        vertical-align: top;\n",
       "    }\n",
       "\n",
       "    .dataframe thead th {\n",
       "        text-align: right;\n",
       "    }\n",
       "</style>\n",
       "<table border=\"1\" class=\"dataframe\">\n",
       "  <thead>\n",
       "    <tr style=\"text-align: right;\">\n",
       "      <th></th>\n",
       "      <th>Correo</th>\n",
       "      <th>Nombres</th>\n",
       "      <th>GIS</th>\n",
       "      <th>AWC</th>\n",
       "      <th>Bienestar Psicológico</th>\n",
       "      <th>Herramientas para Generar Bienestar</th>\n",
       "      <th>Python</th>\n",
       "    </tr>\n",
       "  </thead>\n",
       "  <tbody>\n",
       "    <tr>\n",
       "      <th>0</th>\n",
       "      <td>cgoyburo@espol.edu.ec</td>\n",
       "      <td>Cindy Samanda Goyburo Chávez</td>\n",
       "      <td>x</td>\n",
       "      <td>x</td>\n",
       "      <td>x</td>\n",
       "      <td>x</td>\n",
       "      <td>x</td>\n",
       "    </tr>\n",
       "    <tr>\n",
       "      <th>1</th>\n",
       "      <td>dvelaste@espol.edu.ec</td>\n",
       "      <td>Andrés Velástegui Montoya</td>\n",
       "      <td>NaN</td>\n",
       "      <td>x</td>\n",
       "      <td>NaN</td>\n",
       "      <td>NaN</td>\n",
       "      <td>x</td>\n",
       "    </tr>\n",
       "    <tr>\n",
       "      <th>2</th>\n",
       "      <td>dpaz@espol.edu.ec</td>\n",
       "      <td>Daniela Margarita Paz Barzola</td>\n",
       "      <td>x</td>\n",
       "      <td>x</td>\n",
       "      <td>x</td>\n",
       "      <td>x</td>\n",
       "      <td>x</td>\n",
       "    </tr>\n",
       "    <tr>\n",
       "      <th>3</th>\n",
       "      <td>nlagasca@espol.edu.ec</td>\n",
       "      <td>Nadia José Lagasca Loaiza</td>\n",
       "      <td>x</td>\n",
       "      <td>x</td>\n",
       "      <td>x</td>\n",
       "      <td>x</td>\n",
       "      <td>x</td>\n",
       "    </tr>\n",
       "    <tr>\n",
       "      <th>4</th>\n",
       "      <td>fetorres@espol.edu.ec</td>\n",
       "      <td>Federico Ricardo Torres Negrete</td>\n",
       "      <td>x</td>\n",
       "      <td>NaN</td>\n",
       "      <td>x</td>\n",
       "      <td>x</td>\n",
       "      <td>x</td>\n",
       "    </tr>\n",
       "    <tr>\n",
       "      <th>5</th>\n",
       "      <td>mmulas@espol.edu.ec</td>\n",
       "      <td>Maurizio Mulas</td>\n",
       "      <td>NaN</td>\n",
       "      <td>x</td>\n",
       "      <td>x</td>\n",
       "      <td>x</td>\n",
       "      <td>NaN</td>\n",
       "    </tr>\n",
       "    <tr>\n",
       "      <th>6</th>\n",
       "      <td>ogarces@espol.edu.ec</td>\n",
       "      <td>Daniel Omar Garces Leon</td>\n",
       "      <td>NaN</td>\n",
       "      <td>NaN</td>\n",
       "      <td>x</td>\n",
       "      <td>NaN</td>\n",
       "      <td>x</td>\n",
       "    </tr>\n",
       "    <tr>\n",
       "      <th>7</th>\n",
       "      <td>pestolay@espol.edu.ec</td>\n",
       "      <td>Peter Olaya Carbo</td>\n",
       "      <td>NaN</td>\n",
       "      <td>x</td>\n",
       "      <td>x</td>\n",
       "      <td>x</td>\n",
       "      <td>NaN</td>\n",
       "    </tr>\n",
       "    <tr>\n",
       "      <th>8</th>\n",
       "      <td>fpcarrio@espol.edu.ec</td>\n",
       "      <td>Freddy Paul Carrión Maldonado</td>\n",
       "      <td>x</td>\n",
       "      <td>x</td>\n",
       "      <td>x</td>\n",
       "      <td>x</td>\n",
       "      <td>NaN</td>\n",
       "    </tr>\n",
       "    <tr>\n",
       "      <th>9</th>\n",
       "      <td>angnmedi@espol.edu.ec</td>\n",
       "      <td>Angie Nicole Medina Toala</td>\n",
       "      <td>x</td>\n",
       "      <td>x</td>\n",
       "      <td>x</td>\n",
       "      <td>x</td>\n",
       "      <td>x</td>\n",
       "    </tr>\n",
       "    <tr>\n",
       "      <th>10</th>\n",
       "      <td>juaedcag@espol.edu.ec</td>\n",
       "      <td>Juan Eduardo Caguana Amagua</td>\n",
       "      <td>NaN</td>\n",
       "      <td>NaN</td>\n",
       "      <td>x</td>\n",
       "      <td>x</td>\n",
       "      <td>NaN</td>\n",
       "    </tr>\n",
       "    <tr>\n",
       "      <th>11</th>\n",
       "      <td>mogasant@espol.edu.ec</td>\n",
       "      <td>Mónica Gabriela Santos Carrasco</td>\n",
       "      <td>NaN</td>\n",
       "      <td>NaN</td>\n",
       "      <td>x</td>\n",
       "      <td>x</td>\n",
       "      <td>NaN</td>\n",
       "    </tr>\n",
       "    <tr>\n",
       "      <th>12</th>\n",
       "      <td>nlgarcia@espol.edu.ec</td>\n",
       "      <td>Natividad Leonor Garcia Troncoso</td>\n",
       "      <td>NaN</td>\n",
       "      <td>NaN</td>\n",
       "      <td>NaN</td>\n",
       "      <td>x</td>\n",
       "      <td>NaN</td>\n",
       "    </tr>\n",
       "    <tr>\n",
       "      <th>13</th>\n",
       "      <td>karmavil@espol.edu.ec</td>\n",
       "      <td>Karla Maytee Villamar Marazita</td>\n",
       "      <td>x</td>\n",
       "      <td>x</td>\n",
       "      <td>x</td>\n",
       "      <td>x</td>\n",
       "      <td>x</td>\n",
       "    </tr>\n",
       "    <tr>\n",
       "      <th>14</th>\n",
       "      <td>mogasant@espol.edu.ec</td>\n",
       "      <td>Mónica Gabriela Santos Carrasco</td>\n",
       "      <td>NaN</td>\n",
       "      <td>x</td>\n",
       "      <td>NaN</td>\n",
       "      <td>NaN</td>\n",
       "      <td>NaN</td>\n",
       "    </tr>\n",
       "    <tr>\n",
       "      <th>15</th>\n",
       "      <td>dandrade@espol.edu.ec</td>\n",
       "      <td>Deysi Albania Andrade Granda</td>\n",
       "      <td>NaN</td>\n",
       "      <td>NaN</td>\n",
       "      <td>NaN</td>\n",
       "      <td>x</td>\n",
       "      <td>NaN</td>\n",
       "    </tr>\n",
       "    <tr>\n",
       "      <th>16</th>\n",
       "      <td>kenjduen@espol.edu.ec</td>\n",
       "      <td>Jairo Dueñas Tovar</td>\n",
       "      <td>x</td>\n",
       "      <td>NaN</td>\n",
       "      <td>NaN</td>\n",
       "      <td>x</td>\n",
       "      <td>x</td>\n",
       "    </tr>\n",
       "    <tr>\n",
       "      <th>17</th>\n",
       "      <td>mgilces@espol.edu.ec</td>\n",
       "      <td>Mary Joseph Gilces Cajamarca</td>\n",
       "      <td>NaN</td>\n",
       "      <td>NaN</td>\n",
       "      <td>NaN</td>\n",
       "      <td>x</td>\n",
       "      <td>NaN</td>\n",
       "    </tr>\n",
       "    <tr>\n",
       "      <th>18</th>\n",
       "      <td>ecolmont@espol.edu.ec</td>\n",
       "      <td>Enrique Colmont Villacres</td>\n",
       "      <td>NaN</td>\n",
       "      <td>x</td>\n",
       "      <td>x</td>\n",
       "      <td>x</td>\n",
       "      <td>x</td>\n",
       "    </tr>\n",
       "    <tr>\n",
       "      <th>19</th>\n",
       "      <td>gialpena@espol.edu.ec</td>\n",
       "      <td>Gina Alejandra Peña Villacreses</td>\n",
       "      <td>x</td>\n",
       "      <td>x</td>\n",
       "      <td>NaN</td>\n",
       "      <td>x</td>\n",
       "      <td>x</td>\n",
       "    </tr>\n",
       "    <tr>\n",
       "      <th>20</th>\n",
       "      <td>aavaldiv@espol.edu.ec</td>\n",
       "      <td>Angel Valdiviezo Ajila</td>\n",
       "      <td>NaN</td>\n",
       "      <td>x</td>\n",
       "      <td>NaN</td>\n",
       "      <td>NaN</td>\n",
       "      <td>x</td>\n",
       "    </tr>\n",
       "    <tr>\n",
       "      <th>21</th>\n",
       "      <td>pvilela@espol.edu.ec</td>\n",
       "      <td>Paulina Elizabeth Vilela Govea, Ph. D.</td>\n",
       "      <td>x</td>\n",
       "      <td>x</td>\n",
       "      <td>x</td>\n",
       "      <td>x</td>\n",
       "      <td>x</td>\n",
       "    </tr>\n",
       "    <tr>\n",
       "      <th>22</th>\n",
       "      <td>kftello@espol.edu.ec</td>\n",
       "      <td>Ken Francisco Tello Ayala</td>\n",
       "      <td>NaN</td>\n",
       "      <td>x</td>\n",
       "      <td>NaN</td>\n",
       "      <td>NaN</td>\n",
       "      <td>x</td>\n",
       "    </tr>\n",
       "    <tr>\n",
       "      <th>23</th>\n",
       "      <td>jonimend@espol.edu.ec</td>\n",
       "      <td>Jonathan Israel Mendez Ruiz</td>\n",
       "      <td>x</td>\n",
       "      <td>x</td>\n",
       "      <td>NaN</td>\n",
       "      <td>NaN</td>\n",
       "      <td>NaN</td>\n",
       "    </tr>\n",
       "    <tr>\n",
       "      <th>24</th>\n",
       "      <td>pacampov@espol.edu.ec</td>\n",
       "      <td>Paulo Andrés Campoverde Muñoz</td>\n",
       "      <td>NaN</td>\n",
       "      <td>x</td>\n",
       "      <td>NaN</td>\n",
       "      <td>NaN</td>\n",
       "      <td>x</td>\n",
       "    </tr>\n",
       "    <tr>\n",
       "      <th>25</th>\n",
       "      <td>mirlopez@espol.edu.ec</td>\n",
       "      <td>Mónica López Moncada</td>\n",
       "      <td>NaN</td>\n",
       "      <td>NaN</td>\n",
       "      <td>NaN</td>\n",
       "      <td>x</td>\n",
       "      <td>x</td>\n",
       "    </tr>\n",
       "    <tr>\n",
       "      <th>26</th>\n",
       "      <td>anjeclav@espol.edu.ec</td>\n",
       "      <td>Angel Jesus Clavijo Rivera</td>\n",
       "      <td>NaN</td>\n",
       "      <td>x</td>\n",
       "      <td>x</td>\n",
       "      <td>x</td>\n",
       "      <td>x</td>\n",
       "    </tr>\n",
       "    <tr>\n",
       "      <th>27</th>\n",
       "      <td>mivavill@espol.edu.ec</td>\n",
       "      <td>Michelle Vanessa Villacís Verdesoto</td>\n",
       "      <td>NaN</td>\n",
       "      <td>NaN</td>\n",
       "      <td>x</td>\n",
       "      <td>x</td>\n",
       "      <td>x</td>\n",
       "    </tr>\n",
       "    <tr>\n",
       "      <th>28</th>\n",
       "      <td>mayelord@espol.edu.ec</td>\n",
       "      <td>Maylin Elizabeth Ordoñez Obando</td>\n",
       "      <td>x</td>\n",
       "      <td>x</td>\n",
       "      <td>x</td>\n",
       "      <td>NaN</td>\n",
       "      <td>x</td>\n",
       "    </tr>\n",
       "    <tr>\n",
       "      <th>29</th>\n",
       "      <td>daanarce@espol.edu.ec</td>\n",
       "      <td>DANILO ANDRES ARCENTALES BASTIDAS</td>\n",
       "      <td>NaN</td>\n",
       "      <td>NaN</td>\n",
       "      <td>NaN</td>\n",
       "      <td>NaN</td>\n",
       "      <td>x</td>\n",
       "    </tr>\n",
       "    <tr>\n",
       "      <th>30</th>\n",
       "      <td>sebasuar@espol.edu.ec</td>\n",
       "      <td>Sebastián Alonso Suárez Zamora</td>\n",
       "      <td>NaN</td>\n",
       "      <td>NaN</td>\n",
       "      <td>x</td>\n",
       "      <td>x</td>\n",
       "      <td>x</td>\n",
       "    </tr>\n",
       "    <tr>\n",
       "      <th>31</th>\n",
       "      <td>darialta@espol.edu.ec</td>\n",
       "      <td>David Ricardo Altamirano Moran</td>\n",
       "      <td>NaN</td>\n",
       "      <td>NaN</td>\n",
       "      <td>X</td>\n",
       "      <td>X</td>\n",
       "      <td>NaN</td>\n",
       "    </tr>\n",
       "    <tr>\n",
       "      <th>32</th>\n",
       "      <td>jrreyes@espol.edu.ec</td>\n",
       "      <td>José Reyes</td>\n",
       "      <td>x</td>\n",
       "      <td>NaN</td>\n",
       "      <td>NaN</td>\n",
       "      <td>NaN</td>\n",
       "      <td>x</td>\n",
       "    </tr>\n",
       "    <tr>\n",
       "      <th>33</th>\n",
       "      <td>Jsmendoz@espol.edu.ec</td>\n",
       "      <td>Jorge Mendoza</td>\n",
       "      <td>NaN</td>\n",
       "      <td>NaN</td>\n",
       "      <td>x</td>\n",
       "      <td>NaN</td>\n",
       "      <td>NaN</td>\n",
       "    </tr>\n",
       "    <tr>\n",
       "      <th>34</th>\n",
       "      <td>aeguzman@espol.edu.ec</td>\n",
       "      <td>ANDRÉS EDUARDO GUZMÁN VELÁSQUEZ</td>\n",
       "      <td>NaN</td>\n",
       "      <td>x</td>\n",
       "      <td>NaN</td>\n",
       "      <td>NaN</td>\n",
       "      <td>x</td>\n",
       "    </tr>\n",
       "    <tr>\n",
       "      <th>35</th>\n",
       "      <td>jolizamb@espol.edu.ec</td>\n",
       "      <td>Johanna Lisseth Zambrano Anchundia</td>\n",
       "      <td>x</td>\n",
       "      <td>NaN</td>\n",
       "      <td>NaN</td>\n",
       "      <td>NaN</td>\n",
       "      <td>NaN</td>\n",
       "    </tr>\n",
       "    <tr>\n",
       "      <th>36</th>\n",
       "      <td>fsagnay@espol.edu.ec</td>\n",
       "      <td>Fernando Sagnay</td>\n",
       "      <td>NaN</td>\n",
       "      <td>x</td>\n",
       "      <td>NaN</td>\n",
       "      <td>NaN</td>\n",
       "      <td>NaN</td>\n",
       "    </tr>\n",
       "    <tr>\n",
       "      <th>37</th>\n",
       "      <td>rsayala@espol.edu.ec</td>\n",
       "      <td>René Ayala Lomas</td>\n",
       "      <td>NaN</td>\n",
       "      <td>NaN</td>\n",
       "      <td>x</td>\n",
       "      <td>x</td>\n",
       "      <td>x</td>\n",
       "    </tr>\n",
       "    <tr>\n",
       "      <th>38</th>\n",
       "      <td>kmmuthre@espol.edu.ec</td>\n",
       "      <td>Mishelle Muthre</td>\n",
       "      <td>NaN</td>\n",
       "      <td>x</td>\n",
       "      <td>NaN</td>\n",
       "      <td>NaN</td>\n",
       "      <td>NaN</td>\n",
       "    </tr>\n",
       "    <tr>\n",
       "      <th>39</th>\n",
       "      <td>dfalquez@espol.edu.ec</td>\n",
       "      <td>Daniel Andrés Falquez Torres</td>\n",
       "      <td>NaN</td>\n",
       "      <td>NaN</td>\n",
       "      <td>NaN</td>\n",
       "      <td>NaN</td>\n",
       "      <td>x</td>\n",
       "    </tr>\n",
       "    <tr>\n",
       "      <th>40</th>\n",
       "      <td>nancyvict593@gmail.com</td>\n",
       "      <td>Nancy Zumba</td>\n",
       "      <td>x</td>\n",
       "      <td>NaN</td>\n",
       "      <td>NaN</td>\n",
       "      <td>NaN</td>\n",
       "      <td>NaN</td>\n",
       "    </tr>\n",
       "    <tr>\n",
       "      <th>41</th>\n",
       "      <td>pacampov@espol.edu.ec</td>\n",
       "      <td>Paulo Andrés Campoverde Muñoz</td>\n",
       "      <td>NaN</td>\n",
       "      <td>x</td>\n",
       "      <td>x</td>\n",
       "      <td>NaN</td>\n",
       "      <td>NaN</td>\n",
       "    </tr>\n",
       "    <tr>\n",
       "      <th>42</th>\n",
       "      <td>olema@espol.edu.ec</td>\n",
       "      <td>Osmar G. Lema Caicedo</td>\n",
       "      <td>x</td>\n",
       "      <td>x</td>\n",
       "      <td>NaN</td>\n",
       "      <td>NaN</td>\n",
       "      <td>x</td>\n",
       "    </tr>\n",
       "    <tr>\n",
       "      <th>43</th>\n",
       "      <td>chbustam@espol.edu.ec</td>\n",
       "      <td>Carlos Hugo Bustamante Torres</td>\n",
       "      <td>x</td>\n",
       "      <td>NaN</td>\n",
       "      <td>x</td>\n",
       "      <td>x</td>\n",
       "      <td>x</td>\n",
       "    </tr>\n",
       "    <tr>\n",
       "      <th>44</th>\n",
       "      <td>luisanch@espol.edu.ec</td>\n",
       "      <td>Luis Sanchez Calderon</td>\n",
       "      <td>NaN</td>\n",
       "      <td>NaN</td>\n",
       "      <td>NaN</td>\n",
       "      <td>NaN</td>\n",
       "      <td>x</td>\n",
       "    </tr>\n",
       "    <tr>\n",
       "      <th>45</th>\n",
       "      <td>cholmoli@espol.edu.ec</td>\n",
       "      <td>MOLINA POW CHON LONG JOSUE ALEJANDRO</td>\n",
       "      <td>NaN</td>\n",
       "      <td>NaN</td>\n",
       "      <td>x</td>\n",
       "      <td>x</td>\n",
       "      <td>NaN</td>\n",
       "    </tr>\n",
       "    <tr>\n",
       "      <th>46</th>\n",
       "      <td>jabrione@espol.edu.ec</td>\n",
       "      <td>Johnny Arián Briones Escalante</td>\n",
       "      <td>x</td>\n",
       "      <td>NaN</td>\n",
       "      <td>NaN</td>\n",
       "      <td>NaN</td>\n",
       "      <td>x</td>\n",
       "    </tr>\n",
       "    <tr>\n",
       "      <th>47</th>\n",
       "      <td>mccastil@espol.edu.ec</td>\n",
       "      <td>María Cecibel Castillo Olvera</td>\n",
       "      <td>NaN</td>\n",
       "      <td>x</td>\n",
       "      <td>NaN</td>\n",
       "      <td>NaN</td>\n",
       "      <td>x</td>\n",
       "    </tr>\n",
       "    <tr>\n",
       "      <th>48</th>\n",
       "      <td>mirlopez@espol.edu.ec</td>\n",
       "      <td>Mónica López Moncada</td>\n",
       "      <td>NaN</td>\n",
       "      <td>x</td>\n",
       "      <td>NaN</td>\n",
       "      <td>NaN</td>\n",
       "      <td>NaN</td>\n",
       "    </tr>\n",
       "    <tr>\n",
       "      <th>49</th>\n",
       "      <td>kataesco@espol.edu.ec</td>\n",
       "      <td>Katherine Tatiana Escobar Pesantes</td>\n",
       "      <td>NaN</td>\n",
       "      <td>NaN</td>\n",
       "      <td>NaN</td>\n",
       "      <td>x</td>\n",
       "      <td>NaN</td>\n",
       "    </tr>\n",
       "    <tr>\n",
       "      <th>50</th>\n",
       "      <td>crsavazq@espol.edu.ec</td>\n",
       "      <td>CRISTIAN ALFONSO SALAS VÁZQUEZ</td>\n",
       "      <td>X</td>\n",
       "      <td>X</td>\n",
       "      <td>NaN</td>\n",
       "      <td>NaN</td>\n",
       "      <td>X</td>\n",
       "    </tr>\n",
       "    <tr>\n",
       "      <th>51</th>\n",
       "      <td>whurtare@espol.edu.ec</td>\n",
       "      <td>Walter Hurtares Orrala</td>\n",
       "      <td>NaN</td>\n",
       "      <td>NaN</td>\n",
       "      <td>NaN</td>\n",
       "      <td>NaN</td>\n",
       "      <td>X</td>\n",
       "    </tr>\n",
       "  </tbody>\n",
       "</table>\n",
       "</div>"
      ],
      "text/plain": [
       "                    Correo                                 Nombres  GIS  AWC  \\\n",
       "0    cgoyburo@espol.edu.ec            Cindy Samanda Goyburo Chávez    x    x   \n",
       "1    dvelaste@espol.edu.ec               Andrés Velástegui Montoya  NaN    x   \n",
       "2        dpaz@espol.edu.ec           Daniela Margarita Paz Barzola    x    x   \n",
       "3    nlagasca@espol.edu.ec              Nadia José Lagasca Loaiza     x    x   \n",
       "4    fetorres@espol.edu.ec         Federico Ricardo Torres Negrete    x  NaN   \n",
       "5      mmulas@espol.edu.ec                          Maurizio Mulas  NaN    x   \n",
       "6     ogarces@espol.edu.ec                Daniel Omar Garces Leon   NaN  NaN   \n",
       "7    pestolay@espol.edu.ec                      Peter Olaya Carbo   NaN    x   \n",
       "8    fpcarrio@espol.edu.ec           Freddy Paul Carrión Maldonado    x    x   \n",
       "9    angnmedi@espol.edu.ec               Angie Nicole Medina Toala    x    x   \n",
       "10   juaedcag@espol.edu.ec             Juan Eduardo Caguana Amagua  NaN  NaN   \n",
       "11   mogasant@espol.edu.ec         Mónica Gabriela Santos Carrasco  NaN  NaN   \n",
       "12   nlgarcia@espol.edu.ec        Natividad Leonor Garcia Troncoso  NaN  NaN   \n",
       "13   karmavil@espol.edu.ec          Karla Maytee Villamar Marazita    x    x   \n",
       "14   mogasant@espol.edu.ec         Mónica Gabriela Santos Carrasco  NaN    x   \n",
       "15   dandrade@espol.edu.ec            Deysi Albania Andrade Granda  NaN  NaN   \n",
       "16   kenjduen@espol.edu.ec                      Jairo Dueñas Tovar    x  NaN   \n",
       "17    mgilces@espol.edu.ec            Mary Joseph Gilces Cajamarca  NaN  NaN   \n",
       "18   ecolmont@espol.edu.ec               Enrique Colmont Villacres  NaN    x   \n",
       "19   gialpena@espol.edu.ec         Gina Alejandra Peña Villacreses    x    x   \n",
       "20   aavaldiv@espol.edu.ec                  Angel Valdiviezo Ajila  NaN    x   \n",
       "21    pvilela@espol.edu.ec  Paulina Elizabeth Vilela Govea, Ph. D.    x    x   \n",
       "22    kftello@espol.edu.ec               Ken Francisco Tello Ayala  NaN    x   \n",
       "23   jonimend@espol.edu.ec             Jonathan Israel Mendez Ruiz    x    x   \n",
       "24   pacampov@espol.edu.ec          Paulo Andrés Campoverde Muñoz   NaN    x   \n",
       "25   mirlopez@espol.edu.ec                    Mónica López Moncada  NaN  NaN   \n",
       "26   anjeclav@espol.edu.ec              Angel Jesus Clavijo Rivera  NaN    x   \n",
       "27   mivavill@espol.edu.ec     Michelle Vanessa Villacís Verdesoto  NaN  NaN   \n",
       "28   mayelord@espol.edu.ec         Maylin Elizabeth Ordoñez Obando    x    x   \n",
       "29   daanarce@espol.edu.ec       DANILO ANDRES ARCENTALES BASTIDAS  NaN  NaN   \n",
       "30   sebasuar@espol.edu.ec          Sebastián Alonso Suárez Zamora  NaN  NaN   \n",
       "31   darialta@espol.edu.ec          David Ricardo Altamirano Moran  NaN  NaN   \n",
       "32    jrreyes@espol.edu.ec                              José Reyes    x  NaN   \n",
       "33   Jsmendoz@espol.edu.ec                          Jorge Mendoza   NaN  NaN   \n",
       "34   aeguzman@espol.edu.ec         ANDRÉS EDUARDO GUZMÁN VELÁSQUEZ  NaN    x   \n",
       "35   jolizamb@espol.edu.ec     Johanna Lisseth Zambrano Anchundia     x  NaN   \n",
       "36    fsagnay@espol.edu.ec                         Fernando Sagnay  NaN    x   \n",
       "37    rsayala@espol.edu.ec                       René Ayala Lomas   NaN  NaN   \n",
       "38   kmmuthre@espol.edu.ec                         Mishelle Muthre  NaN    x   \n",
       "39   dfalquez@espol.edu.ec            Daniel Andrés Falquez Torres  NaN  NaN   \n",
       "40  nancyvict593@gmail.com                             Nancy Zumba    x  NaN   \n",
       "41   pacampov@espol.edu.ec           Paulo Andrés Campoverde Muñoz  NaN    x   \n",
       "42      olema@espol.edu.ec                   Osmar G. Lema Caicedo    x    x   \n",
       "43   chbustam@espol.edu.ec          Carlos Hugo Bustamante Torres     x  NaN   \n",
       "44   luisanch@espol.edu.ec                   Luis Sanchez Calderon  NaN  NaN   \n",
       "45   cholmoli@espol.edu.ec    MOLINA POW CHON LONG JOSUE ALEJANDRO  NaN  NaN   \n",
       "46   jabrione@espol.edu.ec          Johnny Arián Briones Escalante    x  NaN   \n",
       "47   mccastil@espol.edu.ec           María Cecibel Castillo Olvera  NaN    x   \n",
       "48   mirlopez@espol.edu.ec                    Mónica López Moncada  NaN    x   \n",
       "49   kataesco@espol.edu.ec      Katherine Tatiana Escobar Pesantes  NaN  NaN   \n",
       "50   crsavazq@espol.edu.ec          CRISTIAN ALFONSO SALAS VÁZQUEZ    X    X   \n",
       "51   whurtare@espol.edu.ec                  Walter Hurtares Orrala  NaN  NaN   \n",
       "\n",
       "   Bienestar Psicológico Herramientas para Generar Bienestar Python  \n",
       "0                      x                                   x      x  \n",
       "1                    NaN                                 NaN      x  \n",
       "2                      x                                   x      x  \n",
       "3                      x                                   x      x  \n",
       "4                      x                                   x      x  \n",
       "5                      x                                   x    NaN  \n",
       "6                      x                                 NaN      x  \n",
       "7                      x                                   x    NaN  \n",
       "8                      x                                   x    NaN  \n",
       "9                      x                                   x      x  \n",
       "10                     x                                   x    NaN  \n",
       "11                     x                                   x    NaN  \n",
       "12                   NaN                                   x    NaN  \n",
       "13                     x                                   x      x  \n",
       "14                   NaN                                 NaN    NaN  \n",
       "15                   NaN                                   x    NaN  \n",
       "16                   NaN                                   x      x  \n",
       "17                   NaN                                   x    NaN  \n",
       "18                     x                                   x      x  \n",
       "19                   NaN                                   x      x  \n",
       "20                   NaN                                 NaN      x  \n",
       "21                     x                                   x      x  \n",
       "22                   NaN                                 NaN      x  \n",
       "23                   NaN                                 NaN    NaN  \n",
       "24                   NaN                                 NaN      x  \n",
       "25                   NaN                                   x      x  \n",
       "26                     x                                   x      x  \n",
       "27                     x                                   x      x  \n",
       "28                     x                                 NaN      x  \n",
       "29                   NaN                                 NaN      x  \n",
       "30                     x                                   x      x  \n",
       "31                     X                                   X    NaN  \n",
       "32                   NaN                                 NaN      x  \n",
       "33                     x                                 NaN    NaN  \n",
       "34                   NaN                                 NaN      x  \n",
       "35                   NaN                                 NaN    NaN  \n",
       "36                   NaN                                 NaN    NaN  \n",
       "37                     x                                   x      x  \n",
       "38                   NaN                                 NaN    NaN  \n",
       "39                   NaN                                 NaN      x  \n",
       "40                   NaN                                 NaN    NaN  \n",
       "41                     x                                 NaN    NaN  \n",
       "42                   NaN                                 NaN      x  \n",
       "43                     x                                   x      x  \n",
       "44                   NaN                                 NaN      x  \n",
       "45                     x                                   x    NaN  \n",
       "46                   NaN                                 NaN      x  \n",
       "47                   NaN                                 NaN      x  \n",
       "48                   NaN                                 NaN    NaN  \n",
       "49                   NaN                                   x    NaN  \n",
       "50                   NaN                                 NaN      X  \n",
       "51                   NaN                                 NaN      X  "
      ]
     },
     "execution_count": 89,
     "metadata": {},
     "output_type": "execute_result"
    }
   ],
   "source": [
    "# Drop unnecessary columns\n",
    "\n"
   ]
  },
  {
   "cell_type": "code",
   "execution_count": 90,
   "metadata": {
    "cell_id": "9801df0ef9cc437c85596687daeba0e2",
    "deepnote_cell_type": "code",
    "deepnote_to_be_reexecuted": false,
    "execution_millis": 47,
    "execution_start": 1681998678031,
    "source_hash": "24459d43"
   },
   "outputs": [
    {
     "data": {
      "application/vnd.deepnote.dataframe.v3+json": {
       "column_count": 7,
       "columns": [
        {
         "dtype": "object",
         "name": "Correo",
         "stats": {
          "categories": [
           {
            "count": 2,
            "name": "mogasant@espol.edu.ec"
           },
           {
            "count": 2,
            "name": "pacampov@espol.edu.ec"
           },
           {
            "count": 48,
            "name": "47 others"
           }
          ],
          "nan_count": 0,
          "unique_count": 49
         }
        },
        {
         "dtype": "object",
         "name": "Nombres",
         "stats": {
          "categories": [
           {
            "count": 2,
            "name": "Mónica Gabriela Santos Carrasco"
           },
           {
            "count": 2,
            "name": "Mónica López Moncada"
           },
           {
            "count": 48,
            "name": "48 others"
           }
          ],
          "nan_count": 0,
          "unique_count": 50
         }
        },
        {
         "dtype": "object",
         "name": "GIS",
         "stats": {
          "categories": [
           {
            "count": 33,
            "name": "unregistered"
           },
           {
            "count": 19,
            "name": "registered"
           }
          ],
          "nan_count": 0,
          "unique_count": 2
         }
        },
        {
         "dtype": "object",
         "name": "AWC",
         "stats": {
          "categories": [
           {
            "count": 27,
            "name": "registered"
           },
           {
            "count": 25,
            "name": "unregistered"
           }
          ],
          "nan_count": 0,
          "unique_count": 2
         }
        },
        {
         "dtype": "object",
         "name": "Bienestar Psicológico",
         "stats": {
          "categories": [
           {
            "count": 28,
            "name": "unregistered"
           },
           {
            "count": 24,
            "name": "registered"
           }
          ],
          "nan_count": 0,
          "unique_count": 2
         }
        },
        {
         "dtype": "object",
         "name": "Herramientas para Generar Bienestar",
         "stats": {
          "categories": [
           {
            "count": 27,
            "name": "registered"
           },
           {
            "count": 25,
            "name": "unregistered"
           }
          ],
          "nan_count": 0,
          "unique_count": 2
         }
        },
        {
         "dtype": "object",
         "name": "Python",
         "stats": {
          "categories": [
           {
            "count": 32,
            "name": "registered"
           },
           {
            "count": 20,
            "name": "unregistered"
           }
          ],
          "nan_count": 0,
          "unique_count": 2
         }
        },
        {
         "dtype": "int64",
         "name": "_deepnote_index_column"
        }
       ],
       "row_count": 52,
       "rows": [
        {
         "AWC": "registered",
         "Bienestar Psicológico": "registered",
         "Correo": "cgoyburo@espol.edu.ec",
         "GIS": "registered",
         "Herramientas para Generar Bienestar": "registered",
         "Nombres": "Cindy Samanda Goyburo Chávez",
         "Python": "registered",
         "_deepnote_index_column": "0"
        },
        {
         "AWC": "registered",
         "Bienestar Psicológico": "unregistered",
         "Correo": "dvelaste@espol.edu.ec",
         "GIS": "unregistered",
         "Herramientas para Generar Bienestar": "unregistered",
         "Nombres": "Andrés Velástegui Montoya",
         "Python": "registered",
         "_deepnote_index_column": "1"
        },
        {
         "AWC": "registered",
         "Bienestar Psicológico": "registered",
         "Correo": "dpaz@espol.edu.ec",
         "GIS": "registered",
         "Herramientas para Generar Bienestar": "registered",
         "Nombres": "Daniela Margarita Paz Barzola",
         "Python": "registered",
         "_deepnote_index_column": "2"
        },
        {
         "AWC": "registered",
         "Bienestar Psicológico": "registered",
         "Correo": "nlagasca@espol.edu.ec",
         "GIS": "registered",
         "Herramientas para Generar Bienestar": "registered",
         "Nombres": "Nadia José Lagasca Loaiza ",
         "Python": "registered",
         "_deepnote_index_column": "3"
        },
        {
         "AWC": "unregistered",
         "Bienestar Psicológico": "registered",
         "Correo": "fetorres@espol.edu.ec",
         "GIS": "registered",
         "Herramientas para Generar Bienestar": "registered",
         "Nombres": "Federico Ricardo Torres Negrete",
         "Python": "registered",
         "_deepnote_index_column": "4"
        },
        {
         "AWC": "registered",
         "Bienestar Psicológico": "registered",
         "Correo": "mmulas@espol.edu.ec",
         "GIS": "unregistered",
         "Herramientas para Generar Bienestar": "registered",
         "Nombres": "Maurizio Mulas",
         "Python": "unregistered",
         "_deepnote_index_column": "5"
        },
        {
         "AWC": "unregistered",
         "Bienestar Psicológico": "registered",
         "Correo": "ogarces@espol.edu.ec",
         "GIS": "unregistered",
         "Herramientas para Generar Bienestar": "unregistered",
         "Nombres": "Daniel Omar Garces Leon ",
         "Python": "registered",
         "_deepnote_index_column": "6"
        },
        {
         "AWC": "registered",
         "Bienestar Psicológico": "registered",
         "Correo": "pestolay@espol.edu.ec",
         "GIS": "unregistered",
         "Herramientas para Generar Bienestar": "registered",
         "Nombres": "Peter Olaya Carbo ",
         "Python": "unregistered",
         "_deepnote_index_column": "7"
        },
        {
         "AWC": "registered",
         "Bienestar Psicológico": "registered",
         "Correo": "fpcarrio@espol.edu.ec",
         "GIS": "registered",
         "Herramientas para Generar Bienestar": "registered",
         "Nombres": "Freddy Paul Carrión Maldonado",
         "Python": "unregistered",
         "_deepnote_index_column": "8"
        },
        {
         "AWC": "registered",
         "Bienestar Psicológico": "registered",
         "Correo": "angnmedi@espol.edu.ec",
         "GIS": "registered",
         "Herramientas para Generar Bienestar": "registered",
         "Nombres": "Angie Nicole Medina Toala",
         "Python": "registered",
         "_deepnote_index_column": "9"
        }
       ]
      },
      "text/html": [
       "<div>\n",
       "<style scoped>\n",
       "    .dataframe tbody tr th:only-of-type {\n",
       "        vertical-align: middle;\n",
       "    }\n",
       "\n",
       "    .dataframe tbody tr th {\n",
       "        vertical-align: top;\n",
       "    }\n",
       "\n",
       "    .dataframe thead th {\n",
       "        text-align: right;\n",
       "    }\n",
       "</style>\n",
       "<table border=\"1\" class=\"dataframe\">\n",
       "  <thead>\n",
       "    <tr style=\"text-align: right;\">\n",
       "      <th></th>\n",
       "      <th>Correo</th>\n",
       "      <th>Nombres</th>\n",
       "      <th>GIS</th>\n",
       "      <th>AWC</th>\n",
       "      <th>Bienestar Psicológico</th>\n",
       "      <th>Herramientas para Generar Bienestar</th>\n",
       "      <th>Python</th>\n",
       "    </tr>\n",
       "  </thead>\n",
       "  <tbody>\n",
       "    <tr>\n",
       "      <th>0</th>\n",
       "      <td>cgoyburo@espol.edu.ec</td>\n",
       "      <td>Cindy Samanda Goyburo Chávez</td>\n",
       "      <td>registered</td>\n",
       "      <td>registered</td>\n",
       "      <td>registered</td>\n",
       "      <td>registered</td>\n",
       "      <td>registered</td>\n",
       "    </tr>\n",
       "    <tr>\n",
       "      <th>1</th>\n",
       "      <td>dvelaste@espol.edu.ec</td>\n",
       "      <td>Andrés Velástegui Montoya</td>\n",
       "      <td>unregistered</td>\n",
       "      <td>registered</td>\n",
       "      <td>unregistered</td>\n",
       "      <td>unregistered</td>\n",
       "      <td>registered</td>\n",
       "    </tr>\n",
       "    <tr>\n",
       "      <th>2</th>\n",
       "      <td>dpaz@espol.edu.ec</td>\n",
       "      <td>Daniela Margarita Paz Barzola</td>\n",
       "      <td>registered</td>\n",
       "      <td>registered</td>\n",
       "      <td>registered</td>\n",
       "      <td>registered</td>\n",
       "      <td>registered</td>\n",
       "    </tr>\n",
       "    <tr>\n",
       "      <th>3</th>\n",
       "      <td>nlagasca@espol.edu.ec</td>\n",
       "      <td>Nadia José Lagasca Loaiza</td>\n",
       "      <td>registered</td>\n",
       "      <td>registered</td>\n",
       "      <td>registered</td>\n",
       "      <td>registered</td>\n",
       "      <td>registered</td>\n",
       "    </tr>\n",
       "    <tr>\n",
       "      <th>4</th>\n",
       "      <td>fetorres@espol.edu.ec</td>\n",
       "      <td>Federico Ricardo Torres Negrete</td>\n",
       "      <td>registered</td>\n",
       "      <td>unregistered</td>\n",
       "      <td>registered</td>\n",
       "      <td>registered</td>\n",
       "      <td>registered</td>\n",
       "    </tr>\n",
       "    <tr>\n",
       "      <th>5</th>\n",
       "      <td>mmulas@espol.edu.ec</td>\n",
       "      <td>Maurizio Mulas</td>\n",
       "      <td>unregistered</td>\n",
       "      <td>registered</td>\n",
       "      <td>registered</td>\n",
       "      <td>registered</td>\n",
       "      <td>unregistered</td>\n",
       "    </tr>\n",
       "    <tr>\n",
       "      <th>6</th>\n",
       "      <td>ogarces@espol.edu.ec</td>\n",
       "      <td>Daniel Omar Garces Leon</td>\n",
       "      <td>unregistered</td>\n",
       "      <td>unregistered</td>\n",
       "      <td>registered</td>\n",
       "      <td>unregistered</td>\n",
       "      <td>registered</td>\n",
       "    </tr>\n",
       "    <tr>\n",
       "      <th>7</th>\n",
       "      <td>pestolay@espol.edu.ec</td>\n",
       "      <td>Peter Olaya Carbo</td>\n",
       "      <td>unregistered</td>\n",
       "      <td>registered</td>\n",
       "      <td>registered</td>\n",
       "      <td>registered</td>\n",
       "      <td>unregistered</td>\n",
       "    </tr>\n",
       "    <tr>\n",
       "      <th>8</th>\n",
       "      <td>fpcarrio@espol.edu.ec</td>\n",
       "      <td>Freddy Paul Carrión Maldonado</td>\n",
       "      <td>registered</td>\n",
       "      <td>registered</td>\n",
       "      <td>registered</td>\n",
       "      <td>registered</td>\n",
       "      <td>unregistered</td>\n",
       "    </tr>\n",
       "    <tr>\n",
       "      <th>9</th>\n",
       "      <td>angnmedi@espol.edu.ec</td>\n",
       "      <td>Angie Nicole Medina Toala</td>\n",
       "      <td>registered</td>\n",
       "      <td>registered</td>\n",
       "      <td>registered</td>\n",
       "      <td>registered</td>\n",
       "      <td>registered</td>\n",
       "    </tr>\n",
       "    <tr>\n",
       "      <th>10</th>\n",
       "      <td>juaedcag@espol.edu.ec</td>\n",
       "      <td>Juan Eduardo Caguana Amagua</td>\n",
       "      <td>unregistered</td>\n",
       "      <td>unregistered</td>\n",
       "      <td>registered</td>\n",
       "      <td>registered</td>\n",
       "      <td>unregistered</td>\n",
       "    </tr>\n",
       "    <tr>\n",
       "      <th>11</th>\n",
       "      <td>mogasant@espol.edu.ec</td>\n",
       "      <td>Mónica Gabriela Santos Carrasco</td>\n",
       "      <td>unregistered</td>\n",
       "      <td>unregistered</td>\n",
       "      <td>registered</td>\n",
       "      <td>registered</td>\n",
       "      <td>unregistered</td>\n",
       "    </tr>\n",
       "    <tr>\n",
       "      <th>12</th>\n",
       "      <td>nlgarcia@espol.edu.ec</td>\n",
       "      <td>Natividad Leonor Garcia Troncoso</td>\n",
       "      <td>unregistered</td>\n",
       "      <td>unregistered</td>\n",
       "      <td>unregistered</td>\n",
       "      <td>registered</td>\n",
       "      <td>unregistered</td>\n",
       "    </tr>\n",
       "    <tr>\n",
       "      <th>13</th>\n",
       "      <td>karmavil@espol.edu.ec</td>\n",
       "      <td>Karla Maytee Villamar Marazita</td>\n",
       "      <td>registered</td>\n",
       "      <td>registered</td>\n",
       "      <td>registered</td>\n",
       "      <td>registered</td>\n",
       "      <td>registered</td>\n",
       "    </tr>\n",
       "    <tr>\n",
       "      <th>14</th>\n",
       "      <td>mogasant@espol.edu.ec</td>\n",
       "      <td>Mónica Gabriela Santos Carrasco</td>\n",
       "      <td>unregistered</td>\n",
       "      <td>registered</td>\n",
       "      <td>unregistered</td>\n",
       "      <td>unregistered</td>\n",
       "      <td>unregistered</td>\n",
       "    </tr>\n",
       "    <tr>\n",
       "      <th>15</th>\n",
       "      <td>dandrade@espol.edu.ec</td>\n",
       "      <td>Deysi Albania Andrade Granda</td>\n",
       "      <td>unregistered</td>\n",
       "      <td>unregistered</td>\n",
       "      <td>unregistered</td>\n",
       "      <td>registered</td>\n",
       "      <td>unregistered</td>\n",
       "    </tr>\n",
       "    <tr>\n",
       "      <th>16</th>\n",
       "      <td>kenjduen@espol.edu.ec</td>\n",
       "      <td>Jairo Dueñas Tovar</td>\n",
       "      <td>registered</td>\n",
       "      <td>unregistered</td>\n",
       "      <td>unregistered</td>\n",
       "      <td>registered</td>\n",
       "      <td>registered</td>\n",
       "    </tr>\n",
       "    <tr>\n",
       "      <th>17</th>\n",
       "      <td>mgilces@espol.edu.ec</td>\n",
       "      <td>Mary Joseph Gilces Cajamarca</td>\n",
       "      <td>unregistered</td>\n",
       "      <td>unregistered</td>\n",
       "      <td>unregistered</td>\n",
       "      <td>registered</td>\n",
       "      <td>unregistered</td>\n",
       "    </tr>\n",
       "    <tr>\n",
       "      <th>18</th>\n",
       "      <td>ecolmont@espol.edu.ec</td>\n",
       "      <td>Enrique Colmont Villacres</td>\n",
       "      <td>unregistered</td>\n",
       "      <td>registered</td>\n",
       "      <td>registered</td>\n",
       "      <td>registered</td>\n",
       "      <td>registered</td>\n",
       "    </tr>\n",
       "    <tr>\n",
       "      <th>19</th>\n",
       "      <td>gialpena@espol.edu.ec</td>\n",
       "      <td>Gina Alejandra Peña Villacreses</td>\n",
       "      <td>registered</td>\n",
       "      <td>registered</td>\n",
       "      <td>unregistered</td>\n",
       "      <td>registered</td>\n",
       "      <td>registered</td>\n",
       "    </tr>\n",
       "    <tr>\n",
       "      <th>20</th>\n",
       "      <td>aavaldiv@espol.edu.ec</td>\n",
       "      <td>Angel Valdiviezo Ajila</td>\n",
       "      <td>unregistered</td>\n",
       "      <td>registered</td>\n",
       "      <td>unregistered</td>\n",
       "      <td>unregistered</td>\n",
       "      <td>registered</td>\n",
       "    </tr>\n",
       "    <tr>\n",
       "      <th>21</th>\n",
       "      <td>pvilela@espol.edu.ec</td>\n",
       "      <td>Paulina Elizabeth Vilela Govea, Ph. D.</td>\n",
       "      <td>registered</td>\n",
       "      <td>registered</td>\n",
       "      <td>registered</td>\n",
       "      <td>registered</td>\n",
       "      <td>registered</td>\n",
       "    </tr>\n",
       "    <tr>\n",
       "      <th>22</th>\n",
       "      <td>kftello@espol.edu.ec</td>\n",
       "      <td>Ken Francisco Tello Ayala</td>\n",
       "      <td>unregistered</td>\n",
       "      <td>registered</td>\n",
       "      <td>unregistered</td>\n",
       "      <td>unregistered</td>\n",
       "      <td>registered</td>\n",
       "    </tr>\n",
       "    <tr>\n",
       "      <th>23</th>\n",
       "      <td>jonimend@espol.edu.ec</td>\n",
       "      <td>Jonathan Israel Mendez Ruiz</td>\n",
       "      <td>registered</td>\n",
       "      <td>registered</td>\n",
       "      <td>unregistered</td>\n",
       "      <td>unregistered</td>\n",
       "      <td>unregistered</td>\n",
       "    </tr>\n",
       "    <tr>\n",
       "      <th>24</th>\n",
       "      <td>pacampov@espol.edu.ec</td>\n",
       "      <td>Paulo Andrés Campoverde Muñoz</td>\n",
       "      <td>unregistered</td>\n",
       "      <td>registered</td>\n",
       "      <td>unregistered</td>\n",
       "      <td>unregistered</td>\n",
       "      <td>registered</td>\n",
       "    </tr>\n",
       "    <tr>\n",
       "      <th>25</th>\n",
       "      <td>mirlopez@espol.edu.ec</td>\n",
       "      <td>Mónica López Moncada</td>\n",
       "      <td>unregistered</td>\n",
       "      <td>unregistered</td>\n",
       "      <td>unregistered</td>\n",
       "      <td>registered</td>\n",
       "      <td>registered</td>\n",
       "    </tr>\n",
       "    <tr>\n",
       "      <th>26</th>\n",
       "      <td>anjeclav@espol.edu.ec</td>\n",
       "      <td>Angel Jesus Clavijo Rivera</td>\n",
       "      <td>unregistered</td>\n",
       "      <td>registered</td>\n",
       "      <td>registered</td>\n",
       "      <td>registered</td>\n",
       "      <td>registered</td>\n",
       "    </tr>\n",
       "    <tr>\n",
       "      <th>27</th>\n",
       "      <td>mivavill@espol.edu.ec</td>\n",
       "      <td>Michelle Vanessa Villacís Verdesoto</td>\n",
       "      <td>unregistered</td>\n",
       "      <td>unregistered</td>\n",
       "      <td>registered</td>\n",
       "      <td>registered</td>\n",
       "      <td>registered</td>\n",
       "    </tr>\n",
       "    <tr>\n",
       "      <th>28</th>\n",
       "      <td>mayelord@espol.edu.ec</td>\n",
       "      <td>Maylin Elizabeth Ordoñez Obando</td>\n",
       "      <td>registered</td>\n",
       "      <td>registered</td>\n",
       "      <td>registered</td>\n",
       "      <td>unregistered</td>\n",
       "      <td>registered</td>\n",
       "    </tr>\n",
       "    <tr>\n",
       "      <th>29</th>\n",
       "      <td>daanarce@espol.edu.ec</td>\n",
       "      <td>DANILO ANDRES ARCENTALES BASTIDAS</td>\n",
       "      <td>unregistered</td>\n",
       "      <td>unregistered</td>\n",
       "      <td>unregistered</td>\n",
       "      <td>unregistered</td>\n",
       "      <td>registered</td>\n",
       "    </tr>\n",
       "    <tr>\n",
       "      <th>30</th>\n",
       "      <td>sebasuar@espol.edu.ec</td>\n",
       "      <td>Sebastián Alonso Suárez Zamora</td>\n",
       "      <td>unregistered</td>\n",
       "      <td>unregistered</td>\n",
       "      <td>registered</td>\n",
       "      <td>registered</td>\n",
       "      <td>registered</td>\n",
       "    </tr>\n",
       "    <tr>\n",
       "      <th>31</th>\n",
       "      <td>darialta@espol.edu.ec</td>\n",
       "      <td>David Ricardo Altamirano Moran</td>\n",
       "      <td>unregistered</td>\n",
       "      <td>unregistered</td>\n",
       "      <td>registered</td>\n",
       "      <td>registered</td>\n",
       "      <td>unregistered</td>\n",
       "    </tr>\n",
       "    <tr>\n",
       "      <th>32</th>\n",
       "      <td>jrreyes@espol.edu.ec</td>\n",
       "      <td>José Reyes</td>\n",
       "      <td>registered</td>\n",
       "      <td>unregistered</td>\n",
       "      <td>unregistered</td>\n",
       "      <td>unregistered</td>\n",
       "      <td>registered</td>\n",
       "    </tr>\n",
       "    <tr>\n",
       "      <th>33</th>\n",
       "      <td>Jsmendoz@espol.edu.ec</td>\n",
       "      <td>Jorge Mendoza</td>\n",
       "      <td>unregistered</td>\n",
       "      <td>unregistered</td>\n",
       "      <td>registered</td>\n",
       "      <td>unregistered</td>\n",
       "      <td>unregistered</td>\n",
       "    </tr>\n",
       "    <tr>\n",
       "      <th>34</th>\n",
       "      <td>aeguzman@espol.edu.ec</td>\n",
       "      <td>ANDRÉS EDUARDO GUZMÁN VELÁSQUEZ</td>\n",
       "      <td>unregistered</td>\n",
       "      <td>registered</td>\n",
       "      <td>unregistered</td>\n",
       "      <td>unregistered</td>\n",
       "      <td>registered</td>\n",
       "    </tr>\n",
       "    <tr>\n",
       "      <th>35</th>\n",
       "      <td>jolizamb@espol.edu.ec</td>\n",
       "      <td>Johanna Lisseth Zambrano Anchundia</td>\n",
       "      <td>registered</td>\n",
       "      <td>unregistered</td>\n",
       "      <td>unregistered</td>\n",
       "      <td>unregistered</td>\n",
       "      <td>unregistered</td>\n",
       "    </tr>\n",
       "    <tr>\n",
       "      <th>36</th>\n",
       "      <td>fsagnay@espol.edu.ec</td>\n",
       "      <td>Fernando Sagnay</td>\n",
       "      <td>unregistered</td>\n",
       "      <td>registered</td>\n",
       "      <td>unregistered</td>\n",
       "      <td>unregistered</td>\n",
       "      <td>unregistered</td>\n",
       "    </tr>\n",
       "    <tr>\n",
       "      <th>37</th>\n",
       "      <td>rsayala@espol.edu.ec</td>\n",
       "      <td>René Ayala Lomas</td>\n",
       "      <td>unregistered</td>\n",
       "      <td>unregistered</td>\n",
       "      <td>registered</td>\n",
       "      <td>registered</td>\n",
       "      <td>registered</td>\n",
       "    </tr>\n",
       "    <tr>\n",
       "      <th>38</th>\n",
       "      <td>kmmuthre@espol.edu.ec</td>\n",
       "      <td>Mishelle Muthre</td>\n",
       "      <td>unregistered</td>\n",
       "      <td>registered</td>\n",
       "      <td>unregistered</td>\n",
       "      <td>unregistered</td>\n",
       "      <td>unregistered</td>\n",
       "    </tr>\n",
       "    <tr>\n",
       "      <th>39</th>\n",
       "      <td>dfalquez@espol.edu.ec</td>\n",
       "      <td>Daniel Andrés Falquez Torres</td>\n",
       "      <td>unregistered</td>\n",
       "      <td>unregistered</td>\n",
       "      <td>unregistered</td>\n",
       "      <td>unregistered</td>\n",
       "      <td>registered</td>\n",
       "    </tr>\n",
       "    <tr>\n",
       "      <th>40</th>\n",
       "      <td>nancyvict593@gmail.com</td>\n",
       "      <td>Nancy Zumba</td>\n",
       "      <td>registered</td>\n",
       "      <td>unregistered</td>\n",
       "      <td>unregistered</td>\n",
       "      <td>unregistered</td>\n",
       "      <td>unregistered</td>\n",
       "    </tr>\n",
       "    <tr>\n",
       "      <th>41</th>\n",
       "      <td>pacampov@espol.edu.ec</td>\n",
       "      <td>Paulo Andrés Campoverde Muñoz</td>\n",
       "      <td>unregistered</td>\n",
       "      <td>registered</td>\n",
       "      <td>registered</td>\n",
       "      <td>unregistered</td>\n",
       "      <td>unregistered</td>\n",
       "    </tr>\n",
       "    <tr>\n",
       "      <th>42</th>\n",
       "      <td>olema@espol.edu.ec</td>\n",
       "      <td>Osmar G. Lema Caicedo</td>\n",
       "      <td>registered</td>\n",
       "      <td>registered</td>\n",
       "      <td>unregistered</td>\n",
       "      <td>unregistered</td>\n",
       "      <td>registered</td>\n",
       "    </tr>\n",
       "    <tr>\n",
       "      <th>43</th>\n",
       "      <td>chbustam@espol.edu.ec</td>\n",
       "      <td>Carlos Hugo Bustamante Torres</td>\n",
       "      <td>registered</td>\n",
       "      <td>unregistered</td>\n",
       "      <td>registered</td>\n",
       "      <td>registered</td>\n",
       "      <td>registered</td>\n",
       "    </tr>\n",
       "    <tr>\n",
       "      <th>44</th>\n",
       "      <td>luisanch@espol.edu.ec</td>\n",
       "      <td>Luis Sanchez Calderon</td>\n",
       "      <td>unregistered</td>\n",
       "      <td>unregistered</td>\n",
       "      <td>unregistered</td>\n",
       "      <td>unregistered</td>\n",
       "      <td>registered</td>\n",
       "    </tr>\n",
       "    <tr>\n",
       "      <th>45</th>\n",
       "      <td>cholmoli@espol.edu.ec</td>\n",
       "      <td>MOLINA POW CHON LONG JOSUE ALEJANDRO</td>\n",
       "      <td>unregistered</td>\n",
       "      <td>unregistered</td>\n",
       "      <td>registered</td>\n",
       "      <td>registered</td>\n",
       "      <td>unregistered</td>\n",
       "    </tr>\n",
       "    <tr>\n",
       "      <th>46</th>\n",
       "      <td>jabrione@espol.edu.ec</td>\n",
       "      <td>Johnny Arián Briones Escalante</td>\n",
       "      <td>registered</td>\n",
       "      <td>unregistered</td>\n",
       "      <td>unregistered</td>\n",
       "      <td>unregistered</td>\n",
       "      <td>registered</td>\n",
       "    </tr>\n",
       "    <tr>\n",
       "      <th>47</th>\n",
       "      <td>mccastil@espol.edu.ec</td>\n",
       "      <td>María Cecibel Castillo Olvera</td>\n",
       "      <td>unregistered</td>\n",
       "      <td>registered</td>\n",
       "      <td>unregistered</td>\n",
       "      <td>unregistered</td>\n",
       "      <td>registered</td>\n",
       "    </tr>\n",
       "    <tr>\n",
       "      <th>48</th>\n",
       "      <td>mirlopez@espol.edu.ec</td>\n",
       "      <td>Mónica López Moncada</td>\n",
       "      <td>unregistered</td>\n",
       "      <td>registered</td>\n",
       "      <td>unregistered</td>\n",
       "      <td>unregistered</td>\n",
       "      <td>unregistered</td>\n",
       "    </tr>\n",
       "    <tr>\n",
       "      <th>49</th>\n",
       "      <td>kataesco@espol.edu.ec</td>\n",
       "      <td>Katherine Tatiana Escobar Pesantes</td>\n",
       "      <td>unregistered</td>\n",
       "      <td>unregistered</td>\n",
       "      <td>unregistered</td>\n",
       "      <td>registered</td>\n",
       "      <td>unregistered</td>\n",
       "    </tr>\n",
       "    <tr>\n",
       "      <th>50</th>\n",
       "      <td>crsavazq@espol.edu.ec</td>\n",
       "      <td>CRISTIAN ALFONSO SALAS VÁZQUEZ</td>\n",
       "      <td>registered</td>\n",
       "      <td>registered</td>\n",
       "      <td>unregistered</td>\n",
       "      <td>unregistered</td>\n",
       "      <td>registered</td>\n",
       "    </tr>\n",
       "    <tr>\n",
       "      <th>51</th>\n",
       "      <td>whurtare@espol.edu.ec</td>\n",
       "      <td>Walter Hurtares Orrala</td>\n",
       "      <td>unregistered</td>\n",
       "      <td>unregistered</td>\n",
       "      <td>unregistered</td>\n",
       "      <td>unregistered</td>\n",
       "      <td>registered</td>\n",
       "    </tr>\n",
       "  </tbody>\n",
       "</table>\n",
       "</div>"
      ],
      "text/plain": [
       "                    Correo                                 Nombres  \\\n",
       "0    cgoyburo@espol.edu.ec            Cindy Samanda Goyburo Chávez   \n",
       "1    dvelaste@espol.edu.ec               Andrés Velástegui Montoya   \n",
       "2        dpaz@espol.edu.ec           Daniela Margarita Paz Barzola   \n",
       "3    nlagasca@espol.edu.ec              Nadia José Lagasca Loaiza    \n",
       "4    fetorres@espol.edu.ec         Federico Ricardo Torres Negrete   \n",
       "5      mmulas@espol.edu.ec                          Maurizio Mulas   \n",
       "6     ogarces@espol.edu.ec                Daniel Omar Garces Leon    \n",
       "7    pestolay@espol.edu.ec                      Peter Olaya Carbo    \n",
       "8    fpcarrio@espol.edu.ec           Freddy Paul Carrión Maldonado   \n",
       "9    angnmedi@espol.edu.ec               Angie Nicole Medina Toala   \n",
       "10   juaedcag@espol.edu.ec             Juan Eduardo Caguana Amagua   \n",
       "11   mogasant@espol.edu.ec         Mónica Gabriela Santos Carrasco   \n",
       "12   nlgarcia@espol.edu.ec        Natividad Leonor Garcia Troncoso   \n",
       "13   karmavil@espol.edu.ec          Karla Maytee Villamar Marazita   \n",
       "14   mogasant@espol.edu.ec         Mónica Gabriela Santos Carrasco   \n",
       "15   dandrade@espol.edu.ec            Deysi Albania Andrade Granda   \n",
       "16   kenjduen@espol.edu.ec                      Jairo Dueñas Tovar   \n",
       "17    mgilces@espol.edu.ec            Mary Joseph Gilces Cajamarca   \n",
       "18   ecolmont@espol.edu.ec               Enrique Colmont Villacres   \n",
       "19   gialpena@espol.edu.ec         Gina Alejandra Peña Villacreses   \n",
       "20   aavaldiv@espol.edu.ec                  Angel Valdiviezo Ajila   \n",
       "21    pvilela@espol.edu.ec  Paulina Elizabeth Vilela Govea, Ph. D.   \n",
       "22    kftello@espol.edu.ec               Ken Francisco Tello Ayala   \n",
       "23   jonimend@espol.edu.ec             Jonathan Israel Mendez Ruiz   \n",
       "24   pacampov@espol.edu.ec          Paulo Andrés Campoverde Muñoz    \n",
       "25   mirlopez@espol.edu.ec                    Mónica López Moncada   \n",
       "26   anjeclav@espol.edu.ec              Angel Jesus Clavijo Rivera   \n",
       "27   mivavill@espol.edu.ec     Michelle Vanessa Villacís Verdesoto   \n",
       "28   mayelord@espol.edu.ec         Maylin Elizabeth Ordoñez Obando   \n",
       "29   daanarce@espol.edu.ec       DANILO ANDRES ARCENTALES BASTIDAS   \n",
       "30   sebasuar@espol.edu.ec          Sebastián Alonso Suárez Zamora   \n",
       "31   darialta@espol.edu.ec          David Ricardo Altamirano Moran   \n",
       "32    jrreyes@espol.edu.ec                              José Reyes   \n",
       "33   Jsmendoz@espol.edu.ec                          Jorge Mendoza    \n",
       "34   aeguzman@espol.edu.ec         ANDRÉS EDUARDO GUZMÁN VELÁSQUEZ   \n",
       "35   jolizamb@espol.edu.ec     Johanna Lisseth Zambrano Anchundia    \n",
       "36    fsagnay@espol.edu.ec                         Fernando Sagnay   \n",
       "37    rsayala@espol.edu.ec                       René Ayala Lomas    \n",
       "38   kmmuthre@espol.edu.ec                         Mishelle Muthre   \n",
       "39   dfalquez@espol.edu.ec            Daniel Andrés Falquez Torres   \n",
       "40  nancyvict593@gmail.com                             Nancy Zumba   \n",
       "41   pacampov@espol.edu.ec           Paulo Andrés Campoverde Muñoz   \n",
       "42      olema@espol.edu.ec                   Osmar G. Lema Caicedo   \n",
       "43   chbustam@espol.edu.ec          Carlos Hugo Bustamante Torres    \n",
       "44   luisanch@espol.edu.ec                   Luis Sanchez Calderon   \n",
       "45   cholmoli@espol.edu.ec    MOLINA POW CHON LONG JOSUE ALEJANDRO   \n",
       "46   jabrione@espol.edu.ec          Johnny Arián Briones Escalante   \n",
       "47   mccastil@espol.edu.ec           María Cecibel Castillo Olvera   \n",
       "48   mirlopez@espol.edu.ec                    Mónica López Moncada   \n",
       "49   kataesco@espol.edu.ec      Katherine Tatiana Escobar Pesantes   \n",
       "50   crsavazq@espol.edu.ec          CRISTIAN ALFONSO SALAS VÁZQUEZ   \n",
       "51   whurtare@espol.edu.ec                  Walter Hurtares Orrala   \n",
       "\n",
       "             GIS           AWC Bienestar Psicológico  \\\n",
       "0     registered    registered            registered   \n",
       "1   unregistered    registered          unregistered   \n",
       "2     registered    registered            registered   \n",
       "3     registered    registered            registered   \n",
       "4     registered  unregistered            registered   \n",
       "5   unregistered    registered            registered   \n",
       "6   unregistered  unregistered            registered   \n",
       "7   unregistered    registered            registered   \n",
       "8     registered    registered            registered   \n",
       "9     registered    registered            registered   \n",
       "10  unregistered  unregistered            registered   \n",
       "11  unregistered  unregistered            registered   \n",
       "12  unregistered  unregistered          unregistered   \n",
       "13    registered    registered            registered   \n",
       "14  unregistered    registered          unregistered   \n",
       "15  unregistered  unregistered          unregistered   \n",
       "16    registered  unregistered          unregistered   \n",
       "17  unregistered  unregistered          unregistered   \n",
       "18  unregistered    registered            registered   \n",
       "19    registered    registered          unregistered   \n",
       "20  unregistered    registered          unregistered   \n",
       "21    registered    registered            registered   \n",
       "22  unregistered    registered          unregistered   \n",
       "23    registered    registered          unregistered   \n",
       "24  unregistered    registered          unregistered   \n",
       "25  unregistered  unregistered          unregistered   \n",
       "26  unregistered    registered            registered   \n",
       "27  unregistered  unregistered            registered   \n",
       "28    registered    registered            registered   \n",
       "29  unregistered  unregistered          unregistered   \n",
       "30  unregistered  unregistered            registered   \n",
       "31  unregistered  unregistered            registered   \n",
       "32    registered  unregistered          unregistered   \n",
       "33  unregistered  unregistered            registered   \n",
       "34  unregistered    registered          unregistered   \n",
       "35    registered  unregistered          unregistered   \n",
       "36  unregistered    registered          unregistered   \n",
       "37  unregistered  unregistered            registered   \n",
       "38  unregistered    registered          unregistered   \n",
       "39  unregistered  unregistered          unregistered   \n",
       "40    registered  unregistered          unregistered   \n",
       "41  unregistered    registered            registered   \n",
       "42    registered    registered          unregistered   \n",
       "43    registered  unregistered            registered   \n",
       "44  unregistered  unregistered          unregistered   \n",
       "45  unregistered  unregistered            registered   \n",
       "46    registered  unregistered          unregistered   \n",
       "47  unregistered    registered          unregistered   \n",
       "48  unregistered    registered          unregistered   \n",
       "49  unregistered  unregistered          unregistered   \n",
       "50    registered    registered          unregistered   \n",
       "51  unregistered  unregistered          unregistered   \n",
       "\n",
       "   Herramientas para Generar Bienestar        Python  \n",
       "0                           registered    registered  \n",
       "1                         unregistered    registered  \n",
       "2                           registered    registered  \n",
       "3                           registered    registered  \n",
       "4                           registered    registered  \n",
       "5                           registered  unregistered  \n",
       "6                         unregistered    registered  \n",
       "7                           registered  unregistered  \n",
       "8                           registered  unregistered  \n",
       "9                           registered    registered  \n",
       "10                          registered  unregistered  \n",
       "11                          registered  unregistered  \n",
       "12                          registered  unregistered  \n",
       "13                          registered    registered  \n",
       "14                        unregistered  unregistered  \n",
       "15                          registered  unregistered  \n",
       "16                          registered    registered  \n",
       "17                          registered  unregistered  \n",
       "18                          registered    registered  \n",
       "19                          registered    registered  \n",
       "20                        unregistered    registered  \n",
       "21                          registered    registered  \n",
       "22                        unregistered    registered  \n",
       "23                        unregistered  unregistered  \n",
       "24                        unregistered    registered  \n",
       "25                          registered    registered  \n",
       "26                          registered    registered  \n",
       "27                          registered    registered  \n",
       "28                        unregistered    registered  \n",
       "29                        unregistered    registered  \n",
       "30                          registered    registered  \n",
       "31                          registered  unregistered  \n",
       "32                        unregistered    registered  \n",
       "33                        unregistered  unregistered  \n",
       "34                        unregistered    registered  \n",
       "35                        unregistered  unregistered  \n",
       "36                        unregistered  unregistered  \n",
       "37                          registered    registered  \n",
       "38                        unregistered  unregistered  \n",
       "39                        unregistered    registered  \n",
       "40                        unregistered  unregistered  \n",
       "41                        unregistered  unregistered  \n",
       "42                        unregistered    registered  \n",
       "43                          registered    registered  \n",
       "44                        unregistered    registered  \n",
       "45                          registered  unregistered  \n",
       "46                        unregistered    registered  \n",
       "47                        unregistered    registered  \n",
       "48                        unregistered  unregistered  \n",
       "49                          registered  unregistered  \n",
       "50                        unregistered    registered  \n",
       "51                        unregistered    registered  "
      ]
     },
     "execution_count": 90,
     "metadata": {},
     "output_type": "execute_result"
    }
   ],
   "source": [
    "# Change x values to registered\n",
    "\n"
   ]
  },
  {
   "cell_type": "code",
   "execution_count": 91,
   "metadata": {
    "cell_id": "a2b6496491284391a4ec0cdaf368e99b",
    "deepnote_cell_type": "code",
    "deepnote_to_be_reexecuted": false,
    "execution_millis": 81,
    "execution_start": 1681998678076,
    "source_hash": "3b5872e8"
   },
   "outputs": [
    {
     "data": {
      "text/plain": [
       "unregistered    33\n",
       "registered      19\n",
       "Name: GIS, dtype: int64"
      ]
     },
     "execution_count": 91,
     "metadata": {},
     "output_type": "execute_result"
    }
   ],
   "source": [
    "# Show results from GIS Course\n"
   ]
  },
  {
   "cell_type": "code",
   "execution_count": 92,
   "metadata": {
    "cell_id": "5bb4ed8b3b6846038cc58c406f384142",
    "deepnote_cell_type": "code",
    "deepnote_to_be_reexecuted": false,
    "execution_millis": 83,
    "execution_start": 1681998678079,
    "source_hash": "8b07f666"
   },
   "outputs": [
    {
     "data": {
      "text/plain": [
       "registered      32\n",
       "unregistered    20\n",
       "Name: Python, dtype: int64"
      ]
     },
     "execution_count": 92,
     "metadata": {},
     "output_type": "execute_result"
    }
   ],
   "source": [
    "# Show results from Python Course\n"
   ]
  },
  {
   "cell_type": "code",
   "execution_count": 93,
   "metadata": {
    "cell_id": "385210a864b8474681773bb4764238c2",
    "deepnote_cell_type": "code",
    "deepnote_to_be_reexecuted": false,
    "execution_millis": 83,
    "execution_start": 1681998678080,
    "source_hash": "cc4b9cf9"
   },
   "outputs": [
    {
     "data": {
      "application/vnd.deepnote.dataframe.v3+json": {
       "column_count": 3,
       "columns": [
        {
         "dtype": "object",
         "name": "Nombres",
         "stats": {
          "categories": [
           {
            "count": 10,
            "name": "Mónica Gabriela Santos Carrasco"
           },
           {
            "count": 10,
            "name": "Mónica López Moncada"
           },
           {
            "count": 240,
            "name": "48 others"
           }
          ],
          "nan_count": 0,
          "unique_count": 50
         }
        },
        {
         "dtype": "object",
         "name": "Course",
         "stats": {
          "categories": [
           {
            "count": 52,
            "name": "GIS"
           },
           {
            "count": 52,
            "name": "AWC"
           },
           {
            "count": 156,
            "name": "3 others"
           }
          ],
          "nan_count": 0,
          "unique_count": 5
         }
        },
        {
         "dtype": "object",
         "name": "Answer",
         "stats": {
          "categories": [
           {
            "count": 131,
            "name": "unregistered"
           },
           {
            "count": 129,
            "name": "registered"
           }
          ],
          "nan_count": 0,
          "unique_count": 2
         }
        },
        {
         "dtype": "int64",
         "name": "_deepnote_index_column"
        }
       ],
       "row_count": 260,
       "rows": [
        {
         "Answer": "registered",
         "Course": "GIS",
         "Nombres": "Cindy Samanda Goyburo Chávez",
         "_deepnote_index_column": "0"
        },
        {
         "Answer": "unregistered",
         "Course": "GIS",
         "Nombres": "Andrés Velástegui Montoya",
         "_deepnote_index_column": "1"
        },
        {
         "Answer": "registered",
         "Course": "GIS",
         "Nombres": "Daniela Margarita Paz Barzola",
         "_deepnote_index_column": "2"
        },
        {
         "Answer": "registered",
         "Course": "GIS",
         "Nombres": "Nadia José Lagasca Loaiza ",
         "_deepnote_index_column": "3"
        },
        {
         "Answer": "registered",
         "Course": "GIS",
         "Nombres": "Federico Ricardo Torres Negrete",
         "_deepnote_index_column": "4"
        },
        {
         "Answer": "unregistered",
         "Course": "GIS",
         "Nombres": "Maurizio Mulas",
         "_deepnote_index_column": "5"
        },
        {
         "Answer": "unregistered",
         "Course": "GIS",
         "Nombres": "Daniel Omar Garces Leon ",
         "_deepnote_index_column": "6"
        },
        {
         "Answer": "unregistered",
         "Course": "GIS",
         "Nombres": "Peter Olaya Carbo ",
         "_deepnote_index_column": "7"
        },
        {
         "Answer": "registered",
         "Course": "GIS",
         "Nombres": "Freddy Paul Carrión Maldonado",
         "_deepnote_index_column": "8"
        },
        {
         "Answer": "registered",
         "Course": "GIS",
         "Nombres": "Angie Nicole Medina Toala",
         "_deepnote_index_column": "9"
        }
       ]
      },
      "text/html": [
       "<div>\n",
       "<style scoped>\n",
       "    .dataframe tbody tr th:only-of-type {\n",
       "        vertical-align: middle;\n",
       "    }\n",
       "\n",
       "    .dataframe tbody tr th {\n",
       "        vertical-align: top;\n",
       "    }\n",
       "\n",
       "    .dataframe thead th {\n",
       "        text-align: right;\n",
       "    }\n",
       "</style>\n",
       "<table border=\"1\" class=\"dataframe\">\n",
       "  <thead>\n",
       "    <tr style=\"text-align: right;\">\n",
       "      <th></th>\n",
       "      <th>Nombres</th>\n",
       "      <th>Course</th>\n",
       "      <th>Answer</th>\n",
       "    </tr>\n",
       "  </thead>\n",
       "  <tbody>\n",
       "    <tr>\n",
       "      <th>0</th>\n",
       "      <td>Cindy Samanda Goyburo Chávez</td>\n",
       "      <td>GIS</td>\n",
       "      <td>registered</td>\n",
       "    </tr>\n",
       "    <tr>\n",
       "      <th>1</th>\n",
       "      <td>Andrés Velástegui Montoya</td>\n",
       "      <td>GIS</td>\n",
       "      <td>unregistered</td>\n",
       "    </tr>\n",
       "    <tr>\n",
       "      <th>2</th>\n",
       "      <td>Daniela Margarita Paz Barzola</td>\n",
       "      <td>GIS</td>\n",
       "      <td>registered</td>\n",
       "    </tr>\n",
       "    <tr>\n",
       "      <th>3</th>\n",
       "      <td>Nadia José Lagasca Loaiza</td>\n",
       "      <td>GIS</td>\n",
       "      <td>registered</td>\n",
       "    </tr>\n",
       "    <tr>\n",
       "      <th>4</th>\n",
       "      <td>Federico Ricardo Torres Negrete</td>\n",
       "      <td>GIS</td>\n",
       "      <td>registered</td>\n",
       "    </tr>\n",
       "    <tr>\n",
       "      <th>...</th>\n",
       "      <td>...</td>\n",
       "      <td>...</td>\n",
       "      <td>...</td>\n",
       "    </tr>\n",
       "    <tr>\n",
       "      <th>255</th>\n",
       "      <td>María Cecibel Castillo Olvera</td>\n",
       "      <td>Python</td>\n",
       "      <td>registered</td>\n",
       "    </tr>\n",
       "    <tr>\n",
       "      <th>256</th>\n",
       "      <td>Mónica López Moncada</td>\n",
       "      <td>Python</td>\n",
       "      <td>unregistered</td>\n",
       "    </tr>\n",
       "    <tr>\n",
       "      <th>257</th>\n",
       "      <td>Katherine Tatiana Escobar Pesantes</td>\n",
       "      <td>Python</td>\n",
       "      <td>unregistered</td>\n",
       "    </tr>\n",
       "    <tr>\n",
       "      <th>258</th>\n",
       "      <td>CRISTIAN ALFONSO SALAS VÁZQUEZ</td>\n",
       "      <td>Python</td>\n",
       "      <td>registered</td>\n",
       "    </tr>\n",
       "    <tr>\n",
       "      <th>259</th>\n",
       "      <td>Walter Hurtares Orrala</td>\n",
       "      <td>Python</td>\n",
       "      <td>registered</td>\n",
       "    </tr>\n",
       "  </tbody>\n",
       "</table>\n",
       "<p>260 rows × 3 columns</p>\n",
       "</div>"
      ],
      "text/plain": [
       "                                Nombres  Course        Answer\n",
       "0          Cindy Samanda Goyburo Chávez     GIS    registered\n",
       "1             Andrés Velástegui Montoya     GIS  unregistered\n",
       "2         Daniela Margarita Paz Barzola     GIS    registered\n",
       "3            Nadia José Lagasca Loaiza      GIS    registered\n",
       "4       Federico Ricardo Torres Negrete     GIS    registered\n",
       "..                                  ...     ...           ...\n",
       "255       María Cecibel Castillo Olvera  Python    registered\n",
       "256                Mónica López Moncada  Python  unregistered\n",
       "257  Katherine Tatiana Escobar Pesantes  Python  unregistered\n",
       "258      CRISTIAN ALFONSO SALAS VÁZQUEZ  Python    registered\n",
       "259              Walter Hurtares Orrala  Python    registered\n",
       "\n",
       "[260 rows x 3 columns]"
      ]
     },
     "execution_count": 93,
     "metadata": {},
     "output_type": "execute_result"
    }
   ],
   "source": [
    "# Convert to only one column all the courses\n",
    "\n"
   ]
  },
  {
   "cell_type": "code",
   "execution_count": 94,
   "metadata": {
    "cell_id": "d2870b0f71fb4ee0ac18c1f0e52f97d6",
    "deepnote_cell_type": "code",
    "deepnote_to_be_reexecuted": false,
    "execution_millis": 64,
    "execution_start": 1681998678099,
    "source_hash": "a04b44a4"
   },
   "outputs": [
    {
     "data": {
      "application/vnd.deepnote.dataframe.v3+json": {
       "column_count": 3,
       "columns": [
        {
         "dtype": "object",
         "name": "Nombres",
         "stats": {
          "categories": [
           {
            "count": 1,
            "name": "Cindy Samanda Goyburo Chávez"
           },
           {
            "count": 1,
            "name": "Daniela Margarita Paz Barzola"
           },
           {
            "count": 17,
            "name": "17 others"
           }
          ],
          "nan_count": 0,
          "unique_count": 19
         }
        },
        {
         "dtype": "object",
         "name": "Course",
         "stats": {
          "categories": [
           {
            "count": 19,
            "name": "GIS"
           }
          ],
          "nan_count": 0,
          "unique_count": 1
         }
        },
        {
         "dtype": "object",
         "name": "Answer",
         "stats": {
          "categories": [
           {
            "count": 19,
            "name": "registered"
           }
          ],
          "nan_count": 0,
          "unique_count": 1
         }
        },
        {
         "dtype": "int64",
         "name": "_deepnote_index_column"
        }
       ],
       "row_count": 19,
       "rows": [
        {
         "Answer": "registered",
         "Course": "GIS",
         "Nombres": "Cindy Samanda Goyburo Chávez",
         "_deepnote_index_column": "0"
        },
        {
         "Answer": "registered",
         "Course": "GIS",
         "Nombres": "Daniela Margarita Paz Barzola",
         "_deepnote_index_column": "2"
        },
        {
         "Answer": "registered",
         "Course": "GIS",
         "Nombres": "Nadia José Lagasca Loaiza ",
         "_deepnote_index_column": "3"
        },
        {
         "Answer": "registered",
         "Course": "GIS",
         "Nombres": "Federico Ricardo Torres Negrete",
         "_deepnote_index_column": "4"
        },
        {
         "Answer": "registered",
         "Course": "GIS",
         "Nombres": "Freddy Paul Carrión Maldonado",
         "_deepnote_index_column": "8"
        },
        {
         "Answer": "registered",
         "Course": "GIS",
         "Nombres": "Angie Nicole Medina Toala",
         "_deepnote_index_column": "9"
        },
        {
         "Answer": "registered",
         "Course": "GIS",
         "Nombres": "Karla Maytee Villamar Marazita",
         "_deepnote_index_column": "13"
        },
        {
         "Answer": "registered",
         "Course": "GIS",
         "Nombres": "Jairo Dueñas Tovar",
         "_deepnote_index_column": "16"
        },
        {
         "Answer": "registered",
         "Course": "GIS",
         "Nombres": "Gina Alejandra Peña Villacreses",
         "_deepnote_index_column": "19"
        },
        {
         "Answer": "registered",
         "Course": "GIS",
         "Nombres": "Paulina Elizabeth Vilela Govea, Ph. D.",
         "_deepnote_index_column": "21"
        }
       ]
      },
      "text/html": [
       "<div>\n",
       "<style scoped>\n",
       "    .dataframe tbody tr th:only-of-type {\n",
       "        vertical-align: middle;\n",
       "    }\n",
       "\n",
       "    .dataframe tbody tr th {\n",
       "        vertical-align: top;\n",
       "    }\n",
       "\n",
       "    .dataframe thead th {\n",
       "        text-align: right;\n",
       "    }\n",
       "</style>\n",
       "<table border=\"1\" class=\"dataframe\">\n",
       "  <thead>\n",
       "    <tr style=\"text-align: right;\">\n",
       "      <th></th>\n",
       "      <th>Nombres</th>\n",
       "      <th>Course</th>\n",
       "      <th>Answer</th>\n",
       "    </tr>\n",
       "  </thead>\n",
       "  <tbody>\n",
       "    <tr>\n",
       "      <th>0</th>\n",
       "      <td>Cindy Samanda Goyburo Chávez</td>\n",
       "      <td>GIS</td>\n",
       "      <td>registered</td>\n",
       "    </tr>\n",
       "    <tr>\n",
       "      <th>2</th>\n",
       "      <td>Daniela Margarita Paz Barzola</td>\n",
       "      <td>GIS</td>\n",
       "      <td>registered</td>\n",
       "    </tr>\n",
       "    <tr>\n",
       "      <th>3</th>\n",
       "      <td>Nadia José Lagasca Loaiza</td>\n",
       "      <td>GIS</td>\n",
       "      <td>registered</td>\n",
       "    </tr>\n",
       "    <tr>\n",
       "      <th>4</th>\n",
       "      <td>Federico Ricardo Torres Negrete</td>\n",
       "      <td>GIS</td>\n",
       "      <td>registered</td>\n",
       "    </tr>\n",
       "    <tr>\n",
       "      <th>8</th>\n",
       "      <td>Freddy Paul Carrión Maldonado</td>\n",
       "      <td>GIS</td>\n",
       "      <td>registered</td>\n",
       "    </tr>\n",
       "    <tr>\n",
       "      <th>9</th>\n",
       "      <td>Angie Nicole Medina Toala</td>\n",
       "      <td>GIS</td>\n",
       "      <td>registered</td>\n",
       "    </tr>\n",
       "    <tr>\n",
       "      <th>13</th>\n",
       "      <td>Karla Maytee Villamar Marazita</td>\n",
       "      <td>GIS</td>\n",
       "      <td>registered</td>\n",
       "    </tr>\n",
       "    <tr>\n",
       "      <th>16</th>\n",
       "      <td>Jairo Dueñas Tovar</td>\n",
       "      <td>GIS</td>\n",
       "      <td>registered</td>\n",
       "    </tr>\n",
       "    <tr>\n",
       "      <th>19</th>\n",
       "      <td>Gina Alejandra Peña Villacreses</td>\n",
       "      <td>GIS</td>\n",
       "      <td>registered</td>\n",
       "    </tr>\n",
       "    <tr>\n",
       "      <th>21</th>\n",
       "      <td>Paulina Elizabeth Vilela Govea, Ph. D.</td>\n",
       "      <td>GIS</td>\n",
       "      <td>registered</td>\n",
       "    </tr>\n",
       "    <tr>\n",
       "      <th>23</th>\n",
       "      <td>Jonathan Israel Mendez Ruiz</td>\n",
       "      <td>GIS</td>\n",
       "      <td>registered</td>\n",
       "    </tr>\n",
       "    <tr>\n",
       "      <th>28</th>\n",
       "      <td>Maylin Elizabeth Ordoñez Obando</td>\n",
       "      <td>GIS</td>\n",
       "      <td>registered</td>\n",
       "    </tr>\n",
       "    <tr>\n",
       "      <th>32</th>\n",
       "      <td>José Reyes</td>\n",
       "      <td>GIS</td>\n",
       "      <td>registered</td>\n",
       "    </tr>\n",
       "    <tr>\n",
       "      <th>35</th>\n",
       "      <td>Johanna Lisseth Zambrano Anchundia</td>\n",
       "      <td>GIS</td>\n",
       "      <td>registered</td>\n",
       "    </tr>\n",
       "    <tr>\n",
       "      <th>40</th>\n",
       "      <td>Nancy Zumba</td>\n",
       "      <td>GIS</td>\n",
       "      <td>registered</td>\n",
       "    </tr>\n",
       "    <tr>\n",
       "      <th>42</th>\n",
       "      <td>Osmar G. Lema Caicedo</td>\n",
       "      <td>GIS</td>\n",
       "      <td>registered</td>\n",
       "    </tr>\n",
       "    <tr>\n",
       "      <th>43</th>\n",
       "      <td>Carlos Hugo Bustamante Torres</td>\n",
       "      <td>GIS</td>\n",
       "      <td>registered</td>\n",
       "    </tr>\n",
       "    <tr>\n",
       "      <th>46</th>\n",
       "      <td>Johnny Arián Briones Escalante</td>\n",
       "      <td>GIS</td>\n",
       "      <td>registered</td>\n",
       "    </tr>\n",
       "    <tr>\n",
       "      <th>50</th>\n",
       "      <td>CRISTIAN ALFONSO SALAS VÁZQUEZ</td>\n",
       "      <td>GIS</td>\n",
       "      <td>registered</td>\n",
       "    </tr>\n",
       "  </tbody>\n",
       "</table>\n",
       "</div>"
      ],
      "text/plain": [
       "                                   Nombres Course      Answer\n",
       "0             Cindy Samanda Goyburo Chávez    GIS  registered\n",
       "2            Daniela Margarita Paz Barzola    GIS  registered\n",
       "3               Nadia José Lagasca Loaiza     GIS  registered\n",
       "4          Federico Ricardo Torres Negrete    GIS  registered\n",
       "8            Freddy Paul Carrión Maldonado    GIS  registered\n",
       "9                Angie Nicole Medina Toala    GIS  registered\n",
       "13          Karla Maytee Villamar Marazita    GIS  registered\n",
       "16                      Jairo Dueñas Tovar    GIS  registered\n",
       "19         Gina Alejandra Peña Villacreses    GIS  registered\n",
       "21  Paulina Elizabeth Vilela Govea, Ph. D.    GIS  registered\n",
       "23             Jonathan Israel Mendez Ruiz    GIS  registered\n",
       "28         Maylin Elizabeth Ordoñez Obando    GIS  registered\n",
       "32                              José Reyes    GIS  registered\n",
       "35     Johanna Lisseth Zambrano Anchundia     GIS  registered\n",
       "40                             Nancy Zumba    GIS  registered\n",
       "42                   Osmar G. Lema Caicedo    GIS  registered\n",
       "43          Carlos Hugo Bustamante Torres     GIS  registered\n",
       "46          Johnny Arián Briones Escalante    GIS  registered\n",
       "50          CRISTIAN ALFONSO SALAS VÁZQUEZ    GIS  registered"
      ]
     },
     "execution_count": 94,
     "metadata": {},
     "output_type": "execute_result"
    }
   ],
   "source": [
    "# People registered in GIS Course\n"
   ]
  },
  {
   "cell_type": "code",
   "execution_count": 95,
   "metadata": {
    "cell_id": "b962b5564e5c4402b44b5dc688d33146",
    "deepnote_cell_type": "code",
    "deepnote_to_be_reexecuted": false,
    "execution_millis": 6,
    "execution_start": 1681998678180,
    "source_hash": "e07c9baf"
   },
   "outputs": [],
   "source": [
    "# Save dataframe as a csv file\n",
    "\n"
   ]
  }
 ],
 "metadata": {
  "deepnote": {},
  "deepnote_execution_queue": [],
  "deepnote_full_width": false,
  "deepnote_notebook_id": "437b76c321c540ea8d2dba4ef9938725",
  "deepnote_persisted_session": {
   "createdAt": "2023-04-20T14:30:38.614Z"
  },
  "kernelspec": {
   "display_name": "Python 3 (ipykernel)",
   "language": "python",
   "name": "python3"
  },
  "language_info": {
   "codemirror_mode": {
    "name": "ipython",
    "version": 3
   },
   "file_extension": ".py",
   "mimetype": "text/x-python",
   "name": "python",
   "nbconvert_exporter": "python",
   "pygments_lexer": "ipython3",
   "version": "3.10.6"
  }
 },
 "nbformat": 4,
 "nbformat_minor": 4
}
